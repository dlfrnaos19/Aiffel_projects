{
  "nbformat": 4,
  "nbformat_minor": 0,
  "metadata": {
    "colab": {
      "name": "[E-7].ipynb",
      "private_outputs": true,
      "provenance": []
    },
    "kernelspec": {
      "name": "python3",
      "display_name": "Python 3"
    },
    "language_info": {
      "name": "python"
    }
  },
  "cells": [
    {
      "cell_type": "code",
      "source": [
        "!pip install pillow==4.1.1\n",
        "%reload_ext autoreload\n",
        "%autoreload"
      ],
      "metadata": {
        "id": "8tJvggzn9q5O"
      },
      "execution_count": null,
      "outputs": []
    },
    {
      "cell_type": "code",
      "execution_count": null,
      "metadata": {
        "id": "_gYPQnES5QA4"
      },
      "outputs": [],
      "source": [
        "import os\n",
        "import urllib\n",
        "import cv2\n",
        "import numpy as np\n",
        "from pixellib.semantic import semantic_segmentation\n",
        "from matplotlib import pyplot as plt"
      ]
    },
    {
      "cell_type": "markdown",
      "source": [
        "## 이미지 준비 거대고양이"
      ],
      "metadata": {
        "id": "8pENRHcX5XkT"
      }
    },
    {
      "cell_type": "code",
      "source": [
        "img_path = '/content/tiger.jpg'\n",
        "img_orig = cv2.imread(img_path)\n",
        "\n",
        "print(img_orig.shape)\n",
        "plt.imshow(cv2.cvtColor(img_orig, cv2.COLOR_BGR2RGB))\n",
        "plt.show()"
      ],
      "metadata": {
        "id": "zPI4rO_Q5RnO"
      },
      "execution_count": null,
      "outputs": []
    },
    {
      "cell_type": "markdown",
      "source": [
        "## 학습된 모델 다운로드"
      ],
      "metadata": {
        "id": "wxeqVeSv5Uzt"
      }
    },
    {
      "cell_type": "code",
      "source": [
        "import requests\n",
        "model_dir = '/content'\n",
        "model_file = os.path.join(model_dir, 'deeplabv3_xception_tf_dim_ordering_tf_kernels.h5')\n",
        "model_url = 'https://github.com/ayoolaolafenwa/PixelLib/releases/download/1.1/deeplabv3_xception_tf_dim_ordering_tf_kernels.h5'"
      ],
      "metadata": {
        "id": "_VbrxFU75Rk9"
      },
      "execution_count": null,
      "outputs": []
    },
    {
      "cell_type": "code",
      "source": [
        "res = requests.get(model_url)\n",
        "with open(model_file, 'wb') as model:\n",
        "    model.write(res.content)"
      ],
      "metadata": {
        "id": "ZWgV0yno5Ri1"
      },
      "execution_count": null,
      "outputs": []
    },
    {
      "cell_type": "code",
      "source": [
        "model = semantic_segmentation()\n",
        "model.load_pascalvoc_model(model_file)"
      ],
      "metadata": {
        "id": "azzkruc-5Rgt"
      },
      "execution_count": null,
      "outputs": []
    },
    {
      "cell_type": "code",
      "source": [
        "segvalues, output = model.segmentAsPascalvoc(img_path)"
      ],
      "metadata": {
        "id": "NxC_hZN45ReE"
      },
      "execution_count": null,
      "outputs": []
    },
    {
      "cell_type": "code",
      "source": [
        "# 사전 학습된 모델의 레이블 클래스\n",
        "LABEL_NAMES = [\n",
        "    'background', 'aeroplane', 'bicycle', 'bird', 'boat', 'bottle', 'bus',\n",
        "    'car', 'cat', 'chair', 'cow', 'diningtable', 'dog', 'horse', 'motorbike',\n",
        "    'person', 'pottedplant', 'sheep', 'sofa', 'train', 'tv'\n",
        "]\n",
        "len(LABEL_NAMES)"
      ],
      "metadata": {
        "id": "laNTnrT75Rb2"
      },
      "execution_count": null,
      "outputs": []
    },
    {
      "cell_type": "code",
      "source": [
        "plt.imshow(output)\n",
        "plt.show()"
      ],
      "metadata": {
        "id": "i1F-x7ar5RZa"
      },
      "execution_count": null,
      "outputs": []
    },
    {
      "cell_type": "code",
      "source": [
        "# 예측한 모델 값\n",
        "segvalues"
      ],
      "metadata": {
        "id": "OwFMf-Es5RW3"
      },
      "execution_count": null,
      "outputs": []
    },
    {
      "cell_type": "code",
      "source": [
        "# 예측한 레이블들\n",
        "for class_id in segvalues['class_ids']:\n",
        "    print(LABEL_NAMES[class_id])"
      ],
      "metadata": {
        "id": "hpLMZ4IP5RUW"
      },
      "execution_count": null,
      "outputs": []
    },
    {
      "cell_type": "code",
      "source": [
        "colormap = np.zeros((256,3), dtype=int)\n",
        "ind = np.arange(256, dtype=int)\n",
        "\n",
        "for shift in reversed(range(8)):\n",
        "    for channel in range(3):\n",
        "        colormap[:, channel] |= ((ind >> channel) & 1)  << shift\n",
        "    ind >>= 3\n",
        "\n",
        "colormap[:20]"
      ],
      "metadata": {
        "id": "YARIxQbO5RR1"
      },
      "execution_count": null,
      "outputs": []
    },
    {
      "cell_type": "code",
      "source": [
        "LABEL_NAMES"
      ],
      "metadata": {
        "id": "DmqSLApn5RPf"
      },
      "execution_count": null,
      "outputs": []
    },
    {
      "cell_type": "code",
      "source": [
        "colormap[8]"
      ],
      "metadata": {
        "id": "hiTxRqYq5RNL"
      },
      "execution_count": null,
      "outputs": []
    },
    {
      "cell_type": "code",
      "source": [
        "seg_color = (0,0,64)"
      ],
      "metadata": {
        "id": "ZHqEEZ0o5RK4"
      },
      "execution_count": null,
      "outputs": []
    },
    {
      "cell_type": "markdown",
      "source": [
        "## 이미지 추출 확인"
      ],
      "metadata": {
        "id": "uOjktE0i5iVl"
      }
    },
    {
      "cell_type": "code",
      "source": [
        "seg_map = np.all(output==seg_color, axis=-1)\n",
        "print(seg_map.shape)\n",
        "plt.imshow(seg_map, cmap='gray')\n",
        "plt.show()"
      ],
      "metadata": {
        "id": "HhM2aocb5RIV"
      },
      "execution_count": null,
      "outputs": []
    },
    {
      "cell_type": "markdown",
      "source": [
        "## 원본과 겹쳐보기"
      ],
      "metadata": {
        "id": "LJKGsKl65l6e"
      }
    },
    {
      "cell_type": "code",
      "source": [
        "img_show = img_orig.copy()\n",
        "# True, False인 값을 255와 0으로\n",
        "img_mask = seg_map.astype(np.uint8) * 255\n",
        "# 255와 0을 적당한 색으로 변경\n",
        "color_mask = cv2.applyColorMap(img_mask, cv2.COLORMAP_JET)\n",
        "# 원본 이미지와 마스트 합성 원본0.6, 마스트0.4\n",
        "img_show = cv2.addWeighted(img_show, 0.6, color_mask, 0.4, 0.0)\n",
        "plt.imshow(cv2.cvtColor(img_show, cv2.COLOR_BGR2RGB))\n",
        "plt.show()"
      ],
      "metadata": {
        "id": "wLbzPkl95kGj"
      },
      "execution_count": null,
      "outputs": []
    },
    {
      "cell_type": "markdown",
      "source": [
        "## 배경 흐리게 하기"
      ],
      "metadata": {
        "id": "WOuiYHOO5q0I"
      }
    },
    {
      "cell_type": "code",
      "source": [
        "img_orig_blur = cv2.blur(img_orig,(30,30))\n",
        "plt.imshow(cv2.cvtColor(img_orig_blur, cv2.COLOR_BGR2RGB))\n",
        "plt.show()"
      ],
      "metadata": {
        "id": "y2e1w-Ec5kEW"
      },
      "execution_count": null,
      "outputs": []
    },
    {
      "cell_type": "code",
      "source": [
        "# 기존에 마스킹된 이미지\n",
        "img_mask_color = cv2.cvtColor(img_mask, cv2.COLOR_GRAY2BGR)\n",
        "plt.imshow(img_mask_color)"
      ],
      "metadata": {
        "id": "7fua8yGz5kB6"
      },
      "execution_count": null,
      "outputs": []
    },
    {
      "cell_type": "code",
      "source": [
        "# 백그라운드와 반전\n",
        "img_bg_mask = cv2.bitwise_not(img_mask_color)\n",
        "plt.imshow(img_bg_mask)"
      ],
      "metadata": {
        "id": "v59ye-MX5j_l"
      },
      "execution_count": null,
      "outputs": []
    },
    {
      "cell_type": "code",
      "source": [
        "# 기존 블러된 이미지와 결합 img_bg_mask값이 0\n",
        "img_bg_blur = cv2.bitwise_and(img_orig_blur, img_bg_mask)\n",
        "plt.imshow(img_bg_blur)"
      ],
      "metadata": {
        "id": "qHYy89li5j87"
      },
      "execution_count": null,
      "outputs": []
    },
    {
      "cell_type": "markdown",
      "source": [
        "## 이미지 합성"
      ],
      "metadata": {
        "id": "lI192OyL5v_s"
      }
    },
    {
      "cell_type": "code",
      "source": [
        "img_concat = np.where(img_mask_color==255, img_orig, img_bg_blur)\n",
        "plt.imshow(cv2.cvtColor(img_concat, cv2.COLOR_BGR2RGB))\n",
        "plt.show()"
      ],
      "metadata": {
        "id": "7VNi3llY5ufM"
      },
      "execution_count": null,
      "outputs": []
    },
    {
      "cell_type": "markdown",
      "source": [
        "![tiger_problem.jpg](data:image/jpeg;base64,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)"
      ],
      "metadata": {
        "id": "eQ8apsw550KF"
      }
    },
    {
      "cell_type": "code",
      "source": [
        ""
      ],
      "metadata": {
        "id": "z6JXNR9cHHje"
      },
      "execution_count": null,
      "outputs": []
    }
  ]
}