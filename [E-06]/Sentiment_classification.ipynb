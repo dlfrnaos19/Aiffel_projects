{
 "cells": [
  {
   "cell_type": "markdown",
   "metadata": {
    "id": "cA8ATy2kMVLl"
   },
   "source": [
    "## Data Preprocess"
   ]
  },
  {
   "cell_type": "code",
   "execution_count": 1,
   "metadata": {
    "colab": {
     "base_uri": "https://localhost:8080/"
    },
    "id": "GjzErsiRm-_J",
    "outputId": "a140e9e8-d9e2-4900-b0c2-af0433f596c5"
   },
   "outputs": [
    {
     "data": {
      "text/plain": [
       "['i', 'feel', 'hungry']"
      ]
     },
     "execution_count": 1,
     "metadata": {},
     "output_type": "execute_result"
    }
   ],
   "source": [
    "sentences = ['i feel hungry', 'i eat lunch', 'now i feel happy']\n",
    "\n",
    "word_list = 'i feel hungry'.split()\n",
    "word_list"
   ]
  },
  {
   "cell_type": "code",
   "execution_count": 2,
   "metadata": {
    "id": "qMzLLGtptdsY"
   },
   "outputs": [],
   "source": [
    "# Data dictionary\n",
    "words = ['<PAD>','<BOS>','<UNK>','i','feel','hungry','eat','lunch','now','happy']\n",
    "index_to_word = {i:words[i] for i in range(len(words))}"
   ]
  },
  {
   "cell_type": "code",
   "execution_count": 3,
   "metadata": {
    "colab": {
     "base_uri": "https://localhost:8080/"
    },
    "id": "DteyjpwlugJk",
    "outputId": "1f2a2288-8907-474f-b23c-e30772745af4"
   },
   "outputs": [
    {
     "data": {
      "text/plain": [
       "{0: '<PAD>',\n",
       " 1: '<BOS>',\n",
       " 2: '<UNK>',\n",
       " 3: 'i',\n",
       " 4: 'feel',\n",
       " 5: 'hungry',\n",
       " 6: 'eat',\n",
       " 7: 'lunch',\n",
       " 8: 'now',\n",
       " 9: 'happy'}"
      ]
     },
     "execution_count": 3,
     "metadata": {},
     "output_type": "execute_result"
    }
   ],
   "source": [
    "index_to_word"
   ]
  },
  {
   "cell_type": "code",
   "execution_count": 4,
   "metadata": {
    "id": "qllBvNgRuMOv"
   },
   "outputs": [],
   "source": [
    "# word to index \n",
    "word_to_index = {word:index for index, word in index_to_word.items()}"
   ]
  },
  {
   "cell_type": "code",
   "execution_count": 5,
   "metadata": {
    "colab": {
     "base_uri": "https://localhost:8080/"
    },
    "id": "QEz36hh3ueam",
    "outputId": "bb3c1888-ef02-4fea-c0d6-2ab8d7b0a8b7"
   },
   "outputs": [
    {
     "data": {
      "text/plain": [
       "4"
      ]
     },
     "execution_count": 5,
     "metadata": {},
     "output_type": "execute_result"
    }
   ],
   "source": [
    "word_to_index['feel']"
   ]
  },
  {
   "cell_type": "code",
   "execution_count": 6,
   "metadata": {
    "colab": {
     "base_uri": "https://localhost:8080/"
    },
    "id": "9oNgu7Ydu8cn",
    "outputId": "7a09edb3-559b-4652-e80a-0b0326a4f069"
   },
   "outputs": [
    {
     "name": "stdout",
     "output_type": "stream",
     "text": [
      "[1, 3, 6, 7]\n"
     ]
    }
   ],
   "source": [
    "def get_encoded_sentence(sentence, word_to_index):\n",
    "    return [word_to_index['<BOS>']] + [word_to_index[word] if word in word_to_index else word_to_index['<UNK>'] for word in sentence.split()]\n",
    "\n",
    "print(get_encoded_sentence('i eat lunch', word_to_index))"
   ]
  },
  {
   "cell_type": "code",
   "execution_count": 7,
   "metadata": {
    "colab": {
     "base_uri": "https://localhost:8080/"
    },
    "id": "vyWSNlKKwA3A",
    "outputId": "5612e62b-8490-4b34-a69f-3ca0a0d34844"
   },
   "outputs": [
    {
     "data": {
      "text/plain": [
       "[[1, 3, 4, 5], [1, 3, 6, 7], [1, 8, 3, 4, 9]]"
      ]
     },
     "execution_count": 7,
     "metadata": {},
     "output_type": "execute_result"
    }
   ],
   "source": [
    "def get_encoded_sentences(sentences, word_to_index):\n",
    "    return [get_encoded_sentence(sentence, word_to_index) for sentence in sentences]\n",
    "\n",
    "encoded_sentences = get_encoded_sentences(sentences, word_to_index)\n",
    "encoded_sentences "
   ]
  },
  {
   "cell_type": "code",
   "execution_count": 8,
   "metadata": {
    "colab": {
     "base_uri": "https://localhost:8080/"
    },
    "id": "wHJ2Z7n4yoUT",
    "outputId": "ed224353-bbfc-48ca-e4e8-e3365c941033"
   },
   "outputs": [
    {
     "name": "stdout",
     "output_type": "stream",
     "text": [
      "i feel hungry\n"
     ]
    }
   ],
   "source": [
    "def get_decoded_sentence(encoded_sentence, index_to_word):\n",
    "    return ' '.join(index_to_word[index] if index in index_to_word else '<UNK>' for index in encoded_sentence[1:])\n",
    "\n",
    "print(get_decoded_sentence([1, 3, 4, 5], index_to_word))"
   ]
  },
  {
   "cell_type": "code",
   "execution_count": 9,
   "metadata": {
    "colab": {
     "base_uri": "https://localhost:8080/"
    },
    "id": "NSzzj1vU0NUm",
    "outputId": "23c1e90d-cee3-4645-9e16-76d1d4609f9e"
   },
   "outputs": [
    {
     "name": "stdout",
     "output_type": "stream",
     "text": [
      "['i feel hungry', 'i eat lunch', 'now i feel happy']\n"
     ]
    }
   ],
   "source": [
    "def get_decoded_sentences(encoded_sentences, index_to_word):\n",
    "    return [get_decoded_sentence(sentence, index_to_word) for sentence in encoded_sentences]\n",
    "\n",
    "print(get_decoded_sentences(encoded_sentences, index_to_word))"
   ]
  },
  {
   "cell_type": "code",
   "execution_count": 10,
   "metadata": {
    "colab": {
     "base_uri": "https://localhost:8080/"
    },
    "id": "sUK-QtgA63Vm",
    "outputId": "28a8e050-2838-48b1-bc8d-c7cd9e3d7ede"
   },
   "outputs": [
    {
     "name": "stdout",
     "output_type": "stream",
     "text": [
      "tf.Tensor(\n",
      "[[[ 0.02402927  0.00186527 -0.01492419 -0.0032333 ]\n",
      "  [-0.01008184  0.0279021   0.04592328  0.04250694]\n",
      "  [ 0.01906487 -0.02347385 -0.00398097  0.0068688 ]\n",
      "  [-0.01566767  0.02748873 -0.0074115   0.00467551]\n",
      "  [ 0.01768601  0.00323699 -0.0182179  -0.03781128]]\n",
      "\n",
      " [[ 0.02402927  0.00186527 -0.01492419 -0.0032333 ]\n",
      "  [-0.01008184  0.0279021   0.04592328  0.04250694]\n",
      "  [-0.00700132  0.02881706 -0.01739694 -0.00442203]\n",
      "  [ 0.00743074 -0.02404797 -0.03063752  0.03033907]\n",
      "  [ 0.01768601  0.00323699 -0.0182179  -0.03781128]]\n",
      "\n",
      " [[ 0.02402927  0.00186527 -0.01492419 -0.0032333 ]\n",
      "  [ 0.03530974 -0.03338586 -0.02736717 -0.00962646]\n",
      "  [-0.01008184  0.0279021   0.04592328  0.04250694]\n",
      "  [ 0.01906487 -0.02347385 -0.00398097  0.0068688 ]\n",
      "  [-0.02055052  0.03847177 -0.028807   -0.02220799]]], shape=(3, 5, 4), dtype=float32)\n"
     ]
    }
   ],
   "source": [
    "import numpy as np\n",
    "import tensorflow as tf\n",
    "import os\n",
    "\n",
    "vocab_size = len(word_to_index)\n",
    "word_vector_dim = 4\n",
    "embedding = tf.keras.layers.Embedding(input_dim=vocab_size, output_dim=word_vector_dim, mask_zero=True)\n",
    "\n",
    "raw_inputs = np.array(get_encoded_sentences(sentences, word_to_index), dtype='object')\n",
    "raw_inputs = tf.keras.preprocessing.sequence.pad_sequences(raw_inputs,\n",
    "                                                           value=word_to_index['<PAD>'],\n",
    "                                                           padding='post',\n",
    "                                                           maxlen=5)\n",
    "output = embedding(raw_inputs)\n",
    "print(output)"
   ]
  },
  {
   "cell_type": "markdown",
   "metadata": {
    "id": "MuBv6XhBMP2q"
   },
   "source": [
    "## Define Models"
   ]
  },
  {
   "cell_type": "code",
   "execution_count": 11,
   "metadata": {
    "colab": {
     "base_uri": "https://localhost:8080/"
    },
    "id": "Fc3BkYvJ_aIC",
    "outputId": "de286d89-9a13-4b0d-d85e-47a2e9535691"
   },
   "outputs": [
    {
     "name": "stdout",
     "output_type": "stream",
     "text": [
      "Model: \"sequential\"\n",
      "_________________________________________________________________\n",
      "Layer (type)                 Output Shape              Param #   \n",
      "=================================================================\n",
      "embedding_1 (Embedding)      (None, None, 4)           40        \n",
      "_________________________________________________________________\n",
      "lstm (LSTM)                  (None, 8)                 416       \n",
      "_________________________________________________________________\n",
      "dense (Dense)                (None, 8)                 72        \n",
      "_________________________________________________________________\n",
      "dense_1 (Dense)              (None, 1)                 9         \n",
      "=================================================================\n",
      "Total params: 537\n",
      "Trainable params: 537\n",
      "Non-trainable params: 0\n",
      "_________________________________________________________________\n"
     ]
    }
   ],
   "source": [
    "vocab_size = 10\n",
    "word_vector_dim = 4\n",
    "\n",
    "model = tf.keras.Sequential()\n",
    "model.add(tf.keras.layers.Embedding(vocab_size, word_vector_dim, input_shape=(None,)))\n",
    "model.add(tf.keras.layers.LSTM(8)) # LSTM state 벡터의 차원수는 8\n",
    "model.add(tf.keras.layers.Dense(8,activation='relu'))\n",
    "model.add(tf.keras.layers.Dense(1, activation='sigmoid')) # 긍부정 1dim\n",
    "\n",
    "model.summary()"
   ]
  },
  {
   "cell_type": "code",
   "execution_count": 12,
   "metadata": {
    "colab": {
     "base_uri": "https://localhost:8080/"
    },
    "id": "ODZWCeHhKgbb",
    "outputId": "064def96-8d93-4b9a-fc9d-e223cade3318"
   },
   "outputs": [
    {
     "name": "stdout",
     "output_type": "stream",
     "text": [
      "Model: \"sequential_1\"\n",
      "_________________________________________________________________\n",
      "Layer (type)                 Output Shape              Param #   \n",
      "=================================================================\n",
      "embedding_2 (Embedding)      (None, None, 4)           40        \n",
      "_________________________________________________________________\n",
      "conv1d (Conv1D)              (None, None, 16)          464       \n",
      "_________________________________________________________________\n",
      "max_pooling1d (MaxPooling1D) (None, None, 16)          0         \n",
      "_________________________________________________________________\n",
      "conv1d_1 (Conv1D)            (None, None, 16)          1808      \n",
      "_________________________________________________________________\n",
      "global_max_pooling1d (Global (None, 16)                0         \n",
      "_________________________________________________________________\n",
      "dense_2 (Dense)              (None, 8)                 136       \n",
      "_________________________________________________________________\n",
      "dense_3 (Dense)              (None, 1)                 9         \n",
      "=================================================================\n",
      "Total params: 2,457\n",
      "Trainable params: 2,457\n",
      "Non-trainable params: 0\n",
      "_________________________________________________________________\n"
     ]
    }
   ],
   "source": [
    "vocab_size = 10\n",
    "word_vector_dim = 4\n",
    "\n",
    "model = tf.keras.Sequential()\n",
    "model.add(tf.keras.layers.Embedding(vocab_size, word_vector_dim, input_shape=(None,)))\n",
    "model.add(tf.keras.layers.Conv1D(16, 7, activation='relu'))\n",
    "model.add(tf.keras.layers.MaxPool1D(5))\n",
    "model.add(tf.keras.layers.Conv1D(16, 7, activation='relu'))\n",
    "model.add(tf.keras.layers.GlobalMaxPooling1D())\n",
    "model.add(tf.keras.layers.Dense(8, activation='relu'))\n",
    "model.add(tf.keras.layers.Dense(1, activation='sigmoid'))\n",
    "\n",
    "model.summary()"
   ]
  },
  {
   "cell_type": "code",
   "execution_count": 13,
   "metadata": {
    "colab": {
     "base_uri": "https://localhost:8080/"
    },
    "id": "60z9MN1ZLOn6",
    "outputId": "5c78b05c-1b7e-4816-8f8a-0e293be05326"
   },
   "outputs": [
    {
     "name": "stdout",
     "output_type": "stream",
     "text": [
      "Model: \"sequential_2\"\n",
      "_________________________________________________________________\n",
      "Layer (type)                 Output Shape              Param #   \n",
      "=================================================================\n",
      "embedding_3 (Embedding)      (None, None, 4)           40        \n",
      "_________________________________________________________________\n",
      "global_max_pooling1d_1 (Glob (None, 4)                 0         \n",
      "_________________________________________________________________\n",
      "dense_4 (Dense)              (None, 8)                 40        \n",
      "_________________________________________________________________\n",
      "dense_5 (Dense)              (None, 1)                 9         \n",
      "=================================================================\n",
      "Total params: 89\n",
      "Trainable params: 89\n",
      "Non-trainable params: 0\n",
      "_________________________________________________________________\n"
     ]
    }
   ],
   "source": [
    "vocab_size = 10\n",
    "word_vector_dim = 4\n",
    "\n",
    "model = tf.keras.Sequential()\n",
    "model.add(tf.keras.layers.Embedding(vocab_size, word_vector_dim, input_shape=(None,)))\n",
    "model.add(tf.keras.layers.GlobalMaxPooling1D())\n",
    "model.add(tf.keras.layers.Dense(8, activation='relu'))\n",
    "model.add(tf.keras.layers.Dense(1, activation='sigmoid'))\n",
    "\n",
    "model.summary()"
   ]
  },
  {
   "cell_type": "markdown",
   "metadata": {
    "id": "QDo8Dxj1L7k8"
   },
   "source": [
    "## IMDB data set\n",
    "50000개의 리뷰 중 절반인 25000개가 훈련용  \n",
    "나머지 25000개는 테스트 데이터"
   ]
  },
  {
   "cell_type": "markdown",
   "metadata": {
    "id": "UBPh_2VlM6JW"
   },
   "source": [
    "imdb.load_data에서 num_words=10000를 지정하면 개수만큼의 word_to_index  \n",
    " 딕셔너리가 생성된 형태로 데이터셋이 생성됨"
   ]
  },
  {
   "cell_type": "code",
   "execution_count": 14,
   "metadata": {
    "colab": {
     "base_uri": "https://localhost:8080/"
    },
    "id": "O98JJM5nLxor",
    "outputId": "63e78051-d55d-4273-a405-139ce91059b2"
   },
   "outputs": [
    {
     "name": "stdout",
     "output_type": "stream",
     "text": [
      "Downloading data from https://storage.googleapis.com/tensorflow/tf-keras-datasets/imdb.npz\n",
      "17465344/17464789 [==============================] - 0s 0us/step\n",
      "17473536/17464789 [==============================] - 0s 0us/step\n",
      "train sample: 25000, test sample: 25000,\n"
     ]
    }
   ],
   "source": [
    "imdb = tf.keras.datasets.imdb\n",
    "\n",
    "(x_train, y_train), (x_test, y_test) = imdb.load_data(num_words=10000)\n",
    "print(f\"train sample: {len(x_train)}, test sample: {len(x_test)},\")"
   ]
  },
  {
   "cell_type": "code",
   "execution_count": 15,
   "metadata": {
    "colab": {
     "base_uri": "https://localhost:8080/"
    },
    "id": "D6C6DT4WM1EB",
    "outputId": "047e165a-4b3c-4500-de7e-d034998bbd6a"
   },
   "outputs": [
    {
     "name": "stdout",
     "output_type": "stream",
     "text": [
      "[1, 14, 22, 16, 43, 530, 973, 1622, 1385, 65, 458, 4468, 66, 3941, 4, 173, 36, 256, 5, 25, 100, 43, 838, 112, 50, 670, 2, 9, 35, 480, 284, 5, 150, 4, 172, 112, 167, 2, 336, 385, 39, 4, 172, 4536, 1111, 17, 546, 38, 13, 447, 4, 192, 50, 16, 6, 147, 2025, 19, 14, 22, 4, 1920, 4613, 469, 4, 22, 71, 87, 12, 16, 43, 530, 38, 76, 15, 13, 1247, 4, 22, 17, 515, 17, 12, 16, 626, 18, 2, 5, 62, 386, 12, 8, 316, 8, 106, 5, 4, 2223, 5244, 16, 480, 66, 3785, 33, 4, 130, 12, 16, 38, 619, 5, 25, 124, 51, 36, 135, 48, 25, 1415, 33, 6, 22, 12, 215, 28, 77, 52, 5, 14, 407, 16, 82, 2, 8, 4, 107, 117, 5952, 15, 256, 4, 2, 7, 3766, 5, 723, 36, 71, 43, 530, 476, 26, 400, 317, 46, 7, 4, 2, 1029, 13, 104, 88, 4, 381, 15, 297, 98, 32, 2071, 56, 26, 141, 6, 194, 7486, 18, 4, 226, 22, 21, 134, 476, 26, 480, 5, 144, 30, 5535, 18, 51, 36, 28, 224, 92, 25, 104, 4, 226, 65, 16, 38, 1334, 88, 12, 16, 283, 5, 16, 4472, 113, 103, 32, 15, 16, 5345, 19, 178, 32]\n",
      "1\n",
      "218\n",
      "189\n"
     ]
    }
   ],
   "source": [
    "print(x_train[0], y_train[0], len(x_train[0]), len(x_train[1]), sep='\\n')"
   ]
  },
  {
   "cell_type": "code",
   "execution_count": 16,
   "metadata": {
    "colab": {
     "base_uri": "https://localhost:8080/"
    },
    "id": "eREJRl1mNb1l",
    "outputId": "ba019daf-31a8-4572-f956-43cd25702d50"
   },
   "outputs": [
    {
     "name": "stdout",
     "output_type": "stream",
     "text": [
      "Downloading data from https://storage.googleapis.com/tensorflow/tf-keras-datasets/imdb_word_index.json\n",
      "1646592/1641221 [==============================] - 0s 0us/step\n",
      "1654784/1641221 [==============================] - 0s 0us/step\n",
      "the 1\n"
     ]
    }
   ],
   "source": [
    "word_to_index = imdb.get_word_index()\n",
    "index_to_word = {index:word for word, index in word_to_index.items()}\n",
    "print(index_to_word[1], word_to_index['the'])"
   ]
  },
  {
   "cell_type": "code",
   "execution_count": 17,
   "metadata": {
    "colab": {
     "base_uri": "https://localhost:8080/"
    },
    "id": "ZhoLXp6kNrfY",
    "outputId": "506c4afc-53e5-4682-b243-11673e0b58aa"
   },
   "outputs": [
    {
     "name": "stdout",
     "output_type": "stream",
     "text": [
      "<BOS> 4 the\n"
     ]
    }
   ],
   "source": [
    "word_to_index = {k:(v+3) for k,v in word_to_index.items()}\n",
    "\n",
    "word_to_index[\"<PAD>\"] = 0\n",
    "word_to_index[\"<BOS>\"] = 1\n",
    "word_to_index[\"<UNK>\"] = 2\n",
    "word_to_index['<UNUSED>'] = 3\n",
    "\n",
    "index_to_word = {index:word for word, index in word_to_index.items()}\n",
    "print(index_to_word[1], word_to_index['the'], index_to_word[4])"
   ]
  },
  {
   "cell_type": "code",
   "execution_count": 18,
   "metadata": {
    "colab": {
     "base_uri": "https://localhost:8080/"
    },
    "id": "VEYMitY-Oko6",
    "outputId": "14d80e70-54ae-4d0b-d8df-f7639b1e1780"
   },
   "outputs": [
    {
     "name": "stdout",
     "output_type": "stream",
     "text": [
      "this film was just brilliant casting location scenery story direction everyone's really suited the part they played and you could just imagine being there robert <UNK> is an amazing actor and now the same being director <UNK> father came from the same scottish island as myself so i loved the fact there was a real connection with this film the witty remarks throughout the film were great it was just brilliant so much that i bought the film as soon as it was released for <UNK> and would recommend it to everyone to watch and the fly fishing was amazing really cried at the end it was so sad and you know what they say if you cry at a film it must have been good and this definitely was also <UNK> to the two little boy's that played the <UNK> of norman and paul they were just brilliant children are often left out of the <UNK> list i think because the stars that play them all grown up are such a big profile for the whole film but these children are amazing and should be praised for what they have done don't you think the whole story was so lovely because it was true and was someone's life after all that was shared with us all\n",
      "1\n"
     ]
    }
   ],
   "source": [
    "print(get_decoded_sentence(x_train[0], index_to_word))\n",
    "print(y_train[0])"
   ]
  },
  {
   "cell_type": "markdown",
   "metadata": {
    "id": "u4Ab0H-lUkXE"
   },
   "source": [
    "문장을 pad_sequence를 통해 길이를 통일시켜야 하는데 이때\n",
    "문장의 최대길이, maxlen의 설정도 전체 모델 성능의 영향을 미침"
   ]
  },
  {
   "cell_type": "code",
   "execution_count": 19,
   "metadata": {
    "colab": {
     "base_uri": "https://localhost:8080/",
     "height": 248
    },
    "id": "AvFbja_uOrOh",
    "outputId": "d5508c03-ed43-4593-d845-badfcb76ddc7"
   },
   "outputs": [
    {
     "name": "stdout",
     "output_type": "stream",
     "text": [
      "문장길이 평균:  234.75892\n",
      "문장길이 최대:  2494\n",
      "문장길이 표준편차  172.91149458735703\n",
      "pad_sequences maxlen :  580\n",
      "전체 문장의 0.94536%가 maxlen 설정값 이내에 포함됩니다\n"
     ]
    }
   ],
   "source": [
    "total_data_text = list(x_train) + list(x_test)\n",
    "\n",
    "num_tokens = [len(tokens) for tokens in total_data_text]\n",
    "num_tokens = np.array(num_tokens)\n",
    "print(\"문장길이 평균: \", np.mean(num_tokens))\n",
    "print(\"문장길이 최대: \", np.max(num_tokens))\n",
    "print(\"문장길이 표준편차 \", np.std(num_tokens))\n",
    "\n",
    "max_tokens = np.mean(num_tokens) + 2 * np.std(num_tokens)\n",
    "maxlen = int(max_tokens)\n",
    "print('pad_sequences maxlen : ', maxlen)\n",
    "print(f'전체 문장의 {np.sum(num_tokens < max_tokens) / len(num_tokens)}%가 maxlen 설정값 이내에 포함됩니다')"
   ]
  },
  {
   "cell_type": "markdown",
   "metadata": {
    "id": "kuOLsHLLU2L4"
   },
   "source": [
    "padding의 방식에서도 앞(pre)와 뒤(post)중 어느쪽으로 하냐에 따라 RNN을 이용한   딥러닝 적용시 성능 차이가 발생하게됨"
   ]
  },
  {
   "cell_type": "code",
   "execution_count": 20,
   "metadata": {
    "colab": {
     "base_uri": "https://localhost:8080/"
    },
    "id": "YUJ4vEh3UWuf",
    "outputId": "67485db6-d991-4d83-8fae-cb5d24cff00e"
   },
   "outputs": [
    {
     "name": "stdout",
     "output_type": "stream",
     "text": [
      "(25000, 580)\n"
     ]
    }
   ],
   "source": [
    "x_train = tf.keras.preprocessing.sequence.pad_sequences(x_train,\n",
    "                                                        value=word_to_index[\"<PAD>\"],\n",
    "                                                        padding='pre',\n",
    "                                                        maxlen=maxlen)\n",
    "x_test = tf.keras.preprocessing.sequence.pad_sequences(x_test,\n",
    "                                                       value=word_to_index[\"<PAD>\"],\n",
    "                                                       padding='pre',\n",
    "                                                       maxlen=maxlen)\n",
    "print(x_train.shape)"
   ]
  },
  {
   "cell_type": "markdown",
   "metadata": {
    "id": "1d-h94w2ZMJG"
   },
   "source": [
    "## Model Define(LSTM)"
   ]
  },
  {
   "cell_type": "code",
   "execution_count": 21,
   "metadata": {
    "colab": {
     "base_uri": "https://localhost:8080/"
    },
    "id": "nnPc8gQWVkj9",
    "outputId": "8b804970-3522-452c-a7c1-18333e44d597"
   },
   "outputs": [
    {
     "name": "stdout",
     "output_type": "stream",
     "text": [
      "Model: \"sequential_3\"\n",
      "_________________________________________________________________\n",
      "Layer (type)                 Output Shape              Param #   \n",
      "=================================================================\n",
      "embedding_4 (Embedding)      (None, None, 16)          160000    \n",
      "_________________________________________________________________\n",
      "lstm_1 (LSTM)                (None, 16)                2112      \n",
      "_________________________________________________________________\n",
      "dense_6 (Dense)              (None, 64)                1088      \n",
      "_________________________________________________________________\n",
      "dense_7 (Dense)              (None, 32)                2080      \n",
      "_________________________________________________________________\n",
      "dense_8 (Dense)              (None, 1)                 33        \n",
      "=================================================================\n",
      "Total params: 165,313\n",
      "Trainable params: 165,313\n",
      "Non-trainable params: 0\n",
      "_________________________________________________________________\n"
     ]
    }
   ],
   "source": [
    "vocab_size = 10000\n",
    "word_vector_dim = 16\n",
    "\n",
    "model = tf.keras.Sequential()\n",
    "model.add(tf.keras.layers.Embedding(vocab_size, word_vector_dim, input_shape=(None,)))\n",
    "model.add(tf.keras.layers.LSTM(16))\n",
    "model.add(tf.keras.layers.Dense(64, activation='relu'))\n",
    "model.add(tf.keras.layers.Dense(32, activation='relu'))\n",
    "model.add(tf.keras.layers.Dense(1, activation='sigmoid'))\n",
    "\n",
    "model.summary()"
   ]
  },
  {
   "cell_type": "markdown",
   "metadata": {
    "id": "mKSxN9J2ZP-V"
   },
   "source": [
    "## Split Dataset"
   ]
  },
  {
   "cell_type": "code",
   "execution_count": 22,
   "metadata": {
    "colab": {
     "base_uri": "https://localhost:8080/"
    },
    "id": "lk3r6ZaLZGhu",
    "outputId": "43b124ed-820b-44a6-81c1-8dc7f4587d0f"
   },
   "outputs": [
    {
     "name": "stdout",
     "output_type": "stream",
     "text": [
      "(15000, 580)\n",
      "(15000,)\n"
     ]
    }
   ],
   "source": [
    "# validation 분리\n",
    "x_val = x_train[:10000]\n",
    "y_val = y_train[:10000]\n",
    "\n",
    "# validation 제외 train set\n",
    "partial_x_train = x_train[10000:]\n",
    "partial_y_train = y_train[10000:]\n",
    "\n",
    "print(partial_x_train.shape)\n",
    "print(partial_y_train.shape)"
   ]
  },
  {
   "cell_type": "markdown",
   "metadata": {
    "id": "Xw7OuRaJbXIL"
   },
   "source": [
    "## Train Model"
   ]
  },
  {
   "cell_type": "code",
   "execution_count": 23,
   "metadata": {
    "colab": {
     "base_uri": "https://localhost:8080/"
    },
    "id": "-qK4oXxIZqlQ",
    "outputId": "38e448b3-8711-4c66-80d8-a8d61a63e64b"
   },
   "outputs": [
    {
     "name": "stdout",
     "output_type": "stream",
     "text": [
      "Epoch 1/20\n",
      "30/30 [==============================] - 5s 48ms/step - loss: 0.6896 - accuracy: 0.5903 - val_loss: 0.6746 - val_accuracy: 0.7136\n",
      "Epoch 2/20\n",
      "30/30 [==============================] - 1s 30ms/step - loss: 0.5696 - accuracy: 0.7797 - val_loss: 0.4400 - val_accuracy: 0.8453\n",
      "Epoch 3/20\n",
      "30/30 [==============================] - 1s 29ms/step - loss: 0.3463 - accuracy: 0.8755 - val_loss: 0.3455 - val_accuracy: 0.8587\n",
      "Epoch 4/20\n",
      "30/30 [==============================] - 1s 31ms/step - loss: 0.2425 - accuracy: 0.9102 - val_loss: 0.3379 - val_accuracy: 0.8641\n",
      "Epoch 5/20\n",
      "30/30 [==============================] - 1s 30ms/step - loss: 0.1767 - accuracy: 0.9417 - val_loss: 0.3448 - val_accuracy: 0.8637\n",
      "Epoch 6/20\n",
      "30/30 [==============================] - 1s 30ms/step - loss: 0.1353 - accuracy: 0.9589 - val_loss: 0.3696 - val_accuracy: 0.8660\n",
      "Epoch 7/20\n",
      "30/30 [==============================] - 1s 29ms/step - loss: 0.1089 - accuracy: 0.9689 - val_loss: 0.4243 - val_accuracy: 0.8630\n",
      "Epoch 8/20\n",
      "30/30 [==============================] - 1s 29ms/step - loss: 0.0919 - accuracy: 0.9739 - val_loss: 0.4412 - val_accuracy: 0.8650\n",
      "Epoch 9/20\n",
      "30/30 [==============================] - 1s 30ms/step - loss: 0.0685 - accuracy: 0.9833 - val_loss: 0.4899 - val_accuracy: 0.8619\n",
      "Epoch 10/20\n",
      "30/30 [==============================] - 1s 30ms/step - loss: 0.0522 - accuracy: 0.9887 - val_loss: 0.5164 - val_accuracy: 0.8602\n",
      "Epoch 11/20\n",
      "30/30 [==============================] - 1s 30ms/step - loss: 0.0451 - accuracy: 0.9901 - val_loss: 0.5381 - val_accuracy: 0.8600\n",
      "Epoch 12/20\n",
      "30/30 [==============================] - 1s 30ms/step - loss: 0.0363 - accuracy: 0.9919 - val_loss: 0.5691 - val_accuracy: 0.8564\n",
      "Epoch 13/20\n",
      "30/30 [==============================] - 1s 30ms/step - loss: 0.0313 - accuracy: 0.9940 - val_loss: 0.6108 - val_accuracy: 0.8550\n",
      "Epoch 14/20\n",
      "30/30 [==============================] - 1s 30ms/step - loss: 0.0250 - accuracy: 0.9952 - val_loss: 0.6473 - val_accuracy: 0.8578\n",
      "Epoch 15/20\n",
      "30/30 [==============================] - 1s 30ms/step - loss: 0.0192 - accuracy: 0.9969 - val_loss: 0.6730 - val_accuracy: 0.8532\n",
      "Epoch 16/20\n",
      "30/30 [==============================] - 1s 30ms/step - loss: 0.0158 - accuracy: 0.9977 - val_loss: 0.7163 - val_accuracy: 0.8545\n",
      "Epoch 17/20\n",
      "30/30 [==============================] - 1s 30ms/step - loss: 0.0175 - accuracy: 0.9963 - val_loss: 0.7675 - val_accuracy: 0.8443\n",
      "Epoch 18/20\n",
      "30/30 [==============================] - 1s 29ms/step - loss: 0.0211 - accuracy: 0.9944 - val_loss: 0.7580 - val_accuracy: 0.8459\n",
      "Epoch 19/20\n",
      "30/30 [==============================] - 1s 30ms/step - loss: 0.0281 - accuracy: 0.9923 - val_loss: 0.7636 - val_accuracy: 0.8423\n",
      "Epoch 20/20\n",
      "30/30 [==============================] - 1s 29ms/step - loss: 0.0225 - accuracy: 0.9937 - val_loss: 0.7884 - val_accuracy: 0.8477\n"
     ]
    }
   ],
   "source": [
    "model.compile(optimizer='adam',\n",
    "              loss='binary_crossentropy',\n",
    "              metrics=['accuracy'])\n",
    "\n",
    "epochs=20\n",
    "\n",
    "history = model.fit(partial_x_train,\n",
    "                    partial_y_train,\n",
    "                    epochs=epochs,\n",
    "                    batch_size=512,\n",
    "                    validation_data=(x_val, y_val),\n",
    "                    verbose=1)"
   ]
  },
  {
   "cell_type": "code",
   "execution_count": 24,
   "metadata": {
    "colab": {
     "base_uri": "https://localhost:8080/"
    },
    "id": "1F4OGIYzaZY2",
    "outputId": "668264f3-2287-4a29-c082-e12f5f9a5237"
   },
   "outputs": [
    {
     "name": "stdout",
     "output_type": "stream",
     "text": [
      "782/782 - 5s - loss: 0.8652 - accuracy: 0.8345\n",
      "[0.8652198314666748, 0.8344799876213074]\n"
     ]
    }
   ],
   "source": [
    "results = model.evaluate(x_test, y_test, verbose=2)\n",
    "print(results)"
   ]
  },
  {
   "cell_type": "code",
   "execution_count": 25,
   "metadata": {
    "colab": {
     "base_uri": "https://localhost:8080/"
    },
    "id": "ceIkwabRaeKX",
    "outputId": "9123610b-da6b-4e34-e20a-76811658c321"
   },
   "outputs": [
    {
     "name": "stdout",
     "output_type": "stream",
     "text": [
      "dict_keys(['loss', 'accuracy', 'val_loss', 'val_accuracy'])\n"
     ]
    }
   ],
   "source": [
    "history_dict = history.history\n",
    "print(history_dict.keys())"
   ]
  },
  {
   "cell_type": "markdown",
   "metadata": {
    "id": "jGLvt7SlbbH7"
   },
   "source": [
    "## Visualize Model Evaluation"
   ]
  },
  {
   "cell_type": "markdown",
   "metadata": {
    "id": "e_k99R1bbigs"
   },
   "source": [
    "과적합 되는 현상이 확인됨\n",
    "Loss의 관점"
   ]
  },
  {
   "cell_type": "code",
   "execution_count": 26,
   "metadata": {
    "colab": {
     "base_uri": "https://localhost:8080/",
     "height": 295
    },
    "id": "LoBwqQbgaufa",
    "outputId": "a7632f59-0073-4e15-fb28-95dab6791836"
   },
   "outputs": [
    {
     "data": {
      "image/png": "[encoded data removed]",
      "text/plain": [
       "<Figure size 432x288 with 1 Axes>"
      ]
     },
     "metadata": {
      "needs_background": "light"
     },
     "output_type": "display_data"
    }
   ],
   "source": [
    "import matplotlib.pyplot as plt\n",
    "\n",
    "acc = history_dict['accuracy']\n",
    "val_acc = history_dict['val_accuracy']\n",
    "loss = history_dict['loss']\n",
    "val_loss = history_dict['val_loss']\n",
    "\n",
    "epochs = range(1, len(acc) +1)\n",
    "\n",
    "plt.plot(epochs, loss, 'bo', label='Training loss')\n",
    "plt.plot(epochs, val_loss, 'b', label='Validation loss')\n",
    "plt.title('Training and validation loss')\n",
    "plt.xlabel('Epochs')\n",
    "plt.ylabel('Loss')\n",
    "plt.legend()\n",
    "plt.show()"
   ]
  },
  {
   "cell_type": "markdown",
   "metadata": {
    "id": "FdSri6QRb3ZI"
   },
   "source": [
    "bo = blue dot  \n",
    "b = blue line  \n",
    "정확도 관점"
   ]
  },
  {
   "cell_type": "code",
   "execution_count": 27,
   "metadata": {
    "colab": {
     "base_uri": "https://localhost:8080/",
     "height": 295
    },
    "id": "8k67JdsVbNA_",
    "outputId": "6e656bf7-8a85-4700-d6f3-1473f158fe86"
   },
   "outputs": [
    {
     "data": {
      "image/png": "[encoded data removed]",
      "text/plain": [
       "<Figure size 432x288 with 1 Axes>"
      ]
     },
     "metadata": {
      "needs_background": "light"
     },
     "output_type": "display_data"
    }
   ],
   "source": [
    "plt.clf()\n",
    "\n",
    "plt.plot(epochs, acc, 'bo', label='Training acc')\n",
    "plt.plot(epochs, val_acc, 'b', label='Validation acc')\n",
    "plt.title('Training and validation accuracy')\n",
    "plt.xlabel('Epochs')\n",
    "plt.ylabel('Accuracy')\n",
    "plt.legend()\n",
    "\n",
    "plt.show()"
   ]
  },
  {
   "cell_type": "code",
   "execution_count": 28,
   "metadata": {
    "colab": {
     "base_uri": "https://localhost:8080/"
    },
    "id": "Jeq9Hr9Hb2VW",
    "outputId": "eff5da21-042b-4806-8eb3-9e80c9e60000"
   },
   "outputs": [
    {
     "name": "stdout",
     "output_type": "stream",
     "text": [
      "Requirement already satisfied: gensim in /opt/conda/lib/python3.9/site-packages (3.8.3)\n",
      "Requirement already satisfied: smart-open>=1.8.1 in /opt/conda/lib/python3.9/site-packages (from gensim) (5.2.1)\n",
      "Requirement already satisfied: six>=1.5.0 in /opt/conda/lib/python3.9/site-packages (from gensim) (1.16.0)\n",
      "Requirement already satisfied: scipy>=0.18.1 in /opt/conda/lib/python3.9/site-packages (from gensim) (1.7.3)\n",
      "Requirement already satisfied: numpy>=1.11.3 in /opt/conda/lib/python3.9/site-packages (from gensim) (1.21.4)\n",
      "\u001b[33mWARNING: Running pip as the 'root' user can result in broken permissions and conflicting behaviour with the system package manager. It is recommended to use a virtual environment instead: https://pip.pypa.io/warnings/venv\u001b[0m\n"
     ]
    }
   ],
   "source": [
    "!mkdir ./data\n",
    "!pip install gensim"
   ]
  },
  {
   "cell_type": "code",
   "execution_count": 29,
   "metadata": {
    "colab": {
     "base_uri": "https://localhost:8080/"
    },
    "id": "GSS8PoqccgMW",
    "outputId": "32c5c5c6-35a1-4d46-ab0d-8701e7054aea"
   },
   "outputs": [
    {
     "name": "stdout",
     "output_type": "stream",
     "text": [
      "(10000, 16)\n"
     ]
    }
   ],
   "source": [
    "embedding_layer = model.layers[0]\n",
    "weights = embedding_layer.get_weights()[0]\n",
    "print(weights.shape)"
   ]
  },
  {
   "cell_type": "markdown",
   "metadata": {
    "id": "chTGY3nidfEM"
   },
   "source": [
    "##Save Trained Parameter "
   ]
  },
  {
   "cell_type": "code",
   "execution_count": 30,
   "metadata": {
    "id": "yniqDxzKc1Sd"
   },
   "outputs": [],
   "source": [
    "word2vec_file_path = os.path.join(os.getcwd(), 'data/word2vec.txt')\n",
    "with open(word2vec_file_path, 'w') as f:\n",
    "    f.write(f'{vocab_size-4} {word_vector_dim}\\n')\n",
    "    # 단어 개수 중 특수토큰 제외하고 워드 벡터를 파일에 기록\n",
    "    vectors = model.get_weights()[0]\n",
    "    for i in range(4, vocab_size):\n",
    "        f.write(f\"{index_to_word[i]} {' '.join(map(str,list(vectors[i,:])))}\\n\")"
   ]
  },
  {
   "cell_type": "markdown",
   "metadata": {
    "id": "q2JmtvOcgEEp"
   },
   "source": [
    "## Gensim\n",
    "Load Keyed Vector"
   ]
  },
  {
   "cell_type": "code",
   "execution_count": 31,
   "metadata": {
    "colab": {
     "base_uri": "https://localhost:8080/"
    },
    "id": "mOTZf82jfrlO",
    "outputId": "e8372e07-45b9-490c-e984-cbf4927205fa"
   },
   "outputs": [
    {
     "data": {
      "text/plain": [
       "array([ 0.04747226,  0.00916724,  0.01663195, -0.03837691,  0.01542726,\n",
       "       -0.02202088, -0.01096718,  0.03983332, -0.05059833, -0.01619511,\n",
       "        0.02192338, -0.05075467,  0.01721585,  0.02703262, -0.01678072,\n",
       "        0.04615448], dtype=float32)"
      ]
     },
     "execution_count": 31,
     "metadata": {},
     "output_type": "execute_result"
    }
   ],
   "source": [
    "from gensim.models.keyedvectors import Word2VecKeyedVectors\n",
    "\n",
    "word_vectors = Word2VecKeyedVectors.load_word2vec_format(word2vec_file_path, binary=False)\n",
    "vector = word_vectors['computer']\n",
    "vector"
   ]
  },
  {
   "cell_type": "code",
   "execution_count": 32,
   "metadata": {
    "colab": {
     "base_uri": "https://localhost:8080/"
    },
    "id": "oO_ZbfY_f8fD",
    "outputId": "e2fc7a17-db62-44b1-8caa-16ddb52f3c95"
   },
   "outputs": [
    {
     "data": {
      "text/plain": [
       "[('towns', 0.9120420217514038),\n",
       " ('upbeat', 0.869189977645874),\n",
       " ('zorro', 0.8682690858840942),\n",
       " ('killer', 0.8677477836608887),\n",
       " ('crisp', 0.8672412633895874),\n",
       " ('lung', 0.8591021299362183),\n",
       " ('creation', 0.8582161664962769),\n",
       " ('dynamics', 0.855837345123291),\n",
       " ('stance', 0.8538647890090942),\n",
       " ('widescreen', 0.8483147621154785)]"
      ]
     },
     "execution_count": 32,
     "metadata": {},
     "output_type": "execute_result"
    }
   ],
   "source": [
    "word_vectors.similar_by_word(\"love\")"
   ]
  },
  {
   "cell_type": "code",
   "execution_count": 33,
   "metadata": {
    "colab": {
     "base_uri": "https://localhost:8080/"
    },
    "id": "LhJG6QgXhvnq",
    "outputId": "5d570244-b145-4d62-911c-39e962ce80f0"
   },
   "outputs": [
    {
     "name": "stdout",
     "output_type": "stream",
     "text": [
      "--2022-01-20 11:41:11--  https://s3.amazonaws.com/dl4j-distribution/GoogleNews-vectors-negative300.bin.gz\n",
      "Resolving s3.amazonaws.com (s3.amazonaws.com)... 52.217.226.232\n",
      "Connecting to s3.amazonaws.com (s3.amazonaws.com)|52.217.226.232|:443... connected.\n",
      "HTTP request sent, awaiting response... 416 Requested Range Not Satisfiable\n",
      "\n",
      "    The file is already fully retrieved; nothing to do.\n",
      "\n"
     ]
    }
   ],
   "source": [
    "# Get Word Vector from Google\n",
    "!wget -c \"https://s3.amazonaws.com/dl4j-distribution/GoogleNews-vectors-negative300.bin.gz\""
   ]
  },
  {
   "cell_type": "code",
   "execution_count": 35,
   "metadata": {
    "colab": {
     "base_uri": "https://localhost:8080/"
    },
    "id": "2PkaG65WgSHz",
    "outputId": "0e16d8e2-8ffd-4f78-e67c-f3ec3c45c763"
   },
   "outputs": [
    {
     "data": {
      "text/plain": [
       "array([ 1.07421875e-01, -2.01171875e-01,  1.23046875e-01,  2.11914062e-01,\n",
       "       -9.13085938e-02,  2.16796875e-01, -1.31835938e-01,  8.30078125e-02,\n",
       "        2.02148438e-01,  4.78515625e-02,  3.66210938e-02, -2.45361328e-02,\n",
       "        2.39257812e-02, -1.60156250e-01, -2.61230469e-02,  9.71679688e-02,\n",
       "       -6.34765625e-02,  1.84570312e-01,  1.70898438e-01, -1.63085938e-01,\n",
       "       -1.09375000e-01,  1.49414062e-01, -4.65393066e-04,  9.61914062e-02,\n",
       "        1.68945312e-01,  2.60925293e-03,  8.93554688e-02,  6.49414062e-02,\n",
       "        3.56445312e-02, -6.93359375e-02, -1.46484375e-01, -1.21093750e-01,\n",
       "       -2.27539062e-01,  2.45361328e-02, -1.24511719e-01, -3.18359375e-01,\n",
       "       -2.20703125e-01,  1.30859375e-01,  3.66210938e-02, -3.63769531e-02,\n",
       "       -1.13281250e-01,  1.95312500e-01,  9.76562500e-02,  1.26953125e-01,\n",
       "        6.59179688e-02,  6.93359375e-02,  1.02539062e-02,  1.75781250e-01,\n",
       "       -1.68945312e-01,  1.21307373e-03, -2.98828125e-01, -1.15234375e-01,\n",
       "        5.66406250e-02, -1.77734375e-01, -2.08984375e-01,  1.76757812e-01,\n",
       "        2.38037109e-02, -2.57812500e-01, -4.46777344e-02,  1.88476562e-01,\n",
       "        5.51757812e-02,  5.02929688e-02, -1.06933594e-01,  1.89453125e-01,\n",
       "       -1.16210938e-01,  8.49609375e-02, -1.71875000e-01,  2.45117188e-01,\n",
       "       -1.73828125e-01, -8.30078125e-03,  4.56542969e-02, -1.61132812e-02,\n",
       "        1.86523438e-01, -6.05468750e-02, -4.17480469e-02,  1.82617188e-01,\n",
       "        2.20703125e-01, -1.22558594e-01, -2.55126953e-02, -3.08593750e-01,\n",
       "        9.13085938e-02,  1.60156250e-01,  1.70898438e-01,  1.19628906e-01,\n",
       "        7.08007812e-02, -2.64892578e-02, -3.08837891e-02,  4.06250000e-01,\n",
       "       -1.01562500e-01,  5.71289062e-02, -7.26318359e-03, -9.17968750e-02,\n",
       "       -1.50390625e-01, -2.55859375e-01,  2.16796875e-01, -3.63769531e-02,\n",
       "        2.24609375e-01,  8.00781250e-02,  1.56250000e-01,  5.27343750e-02,\n",
       "        1.50390625e-01, -1.14746094e-01, -8.64257812e-02,  1.19140625e-01,\n",
       "       -7.17773438e-02,  2.73437500e-01, -1.64062500e-01,  7.29370117e-03,\n",
       "        4.21875000e-01, -1.12792969e-01, -1.35742188e-01, -1.31835938e-01,\n",
       "       -1.37695312e-01, -7.66601562e-02,  6.25000000e-02,  4.98046875e-02,\n",
       "       -1.91406250e-01, -6.03027344e-02,  2.27539062e-01,  5.88378906e-02,\n",
       "       -3.24218750e-01,  5.41992188e-02, -1.35742188e-01,  8.17871094e-03,\n",
       "       -5.24902344e-02, -1.74713135e-03, -9.81445312e-02, -2.86865234e-02,\n",
       "        3.61328125e-02,  2.15820312e-01,  5.98144531e-02, -3.08593750e-01,\n",
       "       -2.27539062e-01,  2.61718750e-01,  9.86328125e-02, -5.07812500e-02,\n",
       "        1.78222656e-02,  1.31835938e-01, -5.35156250e-01, -1.81640625e-01,\n",
       "        1.38671875e-01, -3.10546875e-01, -9.71679688e-02,  1.31835938e-01,\n",
       "       -1.16210938e-01,  7.03125000e-02,  2.85156250e-01,  3.51562500e-02,\n",
       "       -1.01562500e-01, -3.75976562e-02,  1.41601562e-01,  1.42578125e-01,\n",
       "       -5.68847656e-02,  2.65625000e-01, -2.09960938e-01,  9.64355469e-03,\n",
       "       -6.68945312e-02, -4.83398438e-02, -6.10351562e-02,  2.45117188e-01,\n",
       "       -9.66796875e-02,  1.78222656e-02, -1.27929688e-01, -4.78515625e-02,\n",
       "       -7.26318359e-03,  1.79687500e-01,  2.78320312e-02, -2.10937500e-01,\n",
       "       -1.43554688e-01, -1.27929688e-01,  1.73339844e-02, -3.60107422e-03,\n",
       "       -2.04101562e-01,  3.63159180e-03, -1.19628906e-01, -6.15234375e-02,\n",
       "        5.93261719e-02, -3.23486328e-03, -1.70898438e-01, -3.14941406e-02,\n",
       "       -8.88671875e-02, -2.89062500e-01,  3.44238281e-02, -1.87500000e-01,\n",
       "        2.94921875e-01,  1.58203125e-01, -1.19628906e-01,  7.61718750e-02,\n",
       "        6.39648438e-02, -4.68750000e-02, -6.83593750e-02,  1.21459961e-02,\n",
       "       -1.44531250e-01,  4.54101562e-02,  3.68652344e-02,  3.88671875e-01,\n",
       "        1.45507812e-01, -2.55859375e-01, -4.46777344e-02, -1.33789062e-01,\n",
       "       -1.38671875e-01,  6.59179688e-02,  1.37695312e-01,  1.14746094e-01,\n",
       "        2.03125000e-01, -4.78515625e-02,  1.80664062e-02, -8.54492188e-02,\n",
       "       -2.48046875e-01, -3.39843750e-01, -2.83203125e-02,  1.05468750e-01,\n",
       "       -2.14843750e-01, -8.74023438e-02,  7.12890625e-02,  1.87500000e-01,\n",
       "       -1.12304688e-01,  2.73437500e-01, -3.26171875e-01, -1.77734375e-01,\n",
       "       -4.24804688e-02, -2.69531250e-01,  6.64062500e-02, -6.88476562e-02,\n",
       "       -1.99218750e-01, -7.03125000e-02, -2.43164062e-01, -3.66210938e-02,\n",
       "       -7.37304688e-02, -1.77734375e-01,  9.17968750e-02, -1.25000000e-01,\n",
       "       -1.65039062e-01, -3.57421875e-01, -2.85156250e-01, -1.66992188e-01,\n",
       "        1.97265625e-01, -1.53320312e-01,  2.31933594e-02,  2.06054688e-01,\n",
       "        1.80664062e-01, -2.74658203e-02, -1.92382812e-01, -9.61914062e-02,\n",
       "       -1.06811523e-02, -4.73632812e-02,  6.54296875e-02, -1.25732422e-02,\n",
       "        1.78222656e-02, -8.00781250e-02, -2.59765625e-01,  9.37500000e-02,\n",
       "       -7.81250000e-02,  4.68750000e-02, -2.22167969e-02,  1.86767578e-02,\n",
       "        3.11279297e-02,  1.04980469e-02, -1.69921875e-01,  2.58789062e-02,\n",
       "       -3.41796875e-02, -1.44042969e-02, -5.46875000e-02, -8.78906250e-02,\n",
       "        1.96838379e-03,  2.23632812e-01, -1.36718750e-01,  1.75781250e-01,\n",
       "       -1.63085938e-01,  1.87500000e-01,  3.44238281e-02, -5.63964844e-02,\n",
       "       -2.27689743e-05,  4.27246094e-02,  5.81054688e-02, -1.07910156e-01,\n",
       "       -3.88183594e-02, -2.69531250e-01,  3.34472656e-02,  9.81445312e-02,\n",
       "        5.63964844e-02,  2.23632812e-01, -5.49316406e-02,  1.46484375e-01,\n",
       "        5.93261719e-02, -2.19726562e-01,  6.39648438e-02,  1.66015625e-02,\n",
       "        4.56542969e-02,  3.26171875e-01, -3.80859375e-01,  1.70898438e-01,\n",
       "        5.66406250e-02, -1.04492188e-01,  1.38671875e-01, -1.57226562e-01,\n",
       "        3.23486328e-03, -4.80957031e-02, -2.48046875e-01, -6.20117188e-02],\n",
       "      dtype=float32)"
      ]
     },
     "execution_count": 35,
     "metadata": {},
     "output_type": "execute_result"
    }
   ],
   "source": [
    "from gensim.models import KeyedVectors\n",
    "\n",
    "word2vec_path = 'GoogleNews-vectors-negative300.bin.gz'\n",
    "word2vec = KeyedVectors.load_word2vec_format(word2vec_path, binary=True, limit=1000000)\n",
    "vector = word2vec['computer']\n",
    "vector"
   ]
  },
  {
   "cell_type": "code",
   "execution_count": 36,
   "metadata": {
    "colab": {
     "base_uri": "https://localhost:8080/"
    },
    "id": "NtA7M9stiFtS",
    "outputId": "2b6834a6-9108-417d-ac6e-70b732062178"
   },
   "outputs": [
    {
     "data": {
      "text/plain": [
       "[('loved', 0.6907792091369629),\n",
       " ('adore', 0.6816873550415039),\n",
       " ('loves', 0.6618633270263672),\n",
       " ('passion', 0.6100709438323975),\n",
       " ('hate', 0.600395679473877),\n",
       " ('loving', 0.5886635780334473),\n",
       " ('affection', 0.5664337873458862),\n",
       " ('undying_love', 0.5547305345535278),\n",
       " ('absolutely_adore', 0.5536839962005615),\n",
       " ('adores', 0.5440906882286072)]"
      ]
     },
     "execution_count": 36,
     "metadata": {},
     "output_type": "execute_result"
    }
   ],
   "source": [
    "word2vec.similar_by_word(\"love\")"
   ]
  },
  {
   "cell_type": "code",
   "execution_count": 37,
   "metadata": {
    "id": "jyexf8jAjehZ"
   },
   "outputs": [],
   "source": [
    "vocav_size = 10000 # 어휘 사전 크기\n",
    "word_vector_dim = 300 # 워드 벡터의 차원수\n",
    "embedding_matrix = np.random.rand(vocab_size, word_vector_dim)\n",
    "\n",
    "# embedding_matrix에 word2vec 워드벡터 단어를 카피\n",
    "for i in range(4, vocab_size):\n",
    "    if index_to_word[i] in word2vec:\n",
    "        embedding_matrix[i] = word2vec[index_to_word[i]]\n"
   ]
  },
  {
   "cell_type": "code",
   "execution_count": 38,
   "metadata": {
    "colab": {
     "base_uri": "https://localhost:8080/"
    },
    "id": "VXkvaKzll4Xd",
    "outputId": "42381e8d-d881-4e83-eb0e-22a760d2f512"
   },
   "outputs": [
    {
     "name": "stdout",
     "output_type": "stream",
     "text": [
      "Model: \"sequential_4\"\n",
      "_________________________________________________________________\n",
      "Layer (type)                 Output Shape              Param #   \n",
      "=================================================================\n",
      "embedding_5 (Embedding)      (None, 580, 300)          3000000   \n",
      "_________________________________________________________________\n",
      "lstm_2 (LSTM)                (None, 512)               1665024   \n",
      "_________________________________________________________________\n",
      "dense_9 (Dense)              (None, 512)               262656    \n",
      "_________________________________________________________________\n",
      "dense_10 (Dense)             (None, 128)               65664     \n",
      "_________________________________________________________________\n",
      "dense_11 (Dense)             (None, 32)                4128      \n",
      "_________________________________________________________________\n",
      "dense_12 (Dense)             (None, 1)                 33        \n",
      "=================================================================\n",
      "Total params: 4,997,505\n",
      "Trainable params: 4,997,505\n",
      "Non-trainable params: 0\n",
      "_________________________________________________________________\n"
     ]
    }
   ],
   "source": [
    "from tensorflow.keras.initializers import Constant\n",
    "\n",
    "vocab_size = 10000\n",
    "word_vector_dim = 300\n",
    "\n",
    "# model\n",
    "\n",
    "model = tf.keras.Sequential()\n",
    "model.add(tf.keras.layers.Embedding(\n",
    "    vocab_size, word_vector_dim,\n",
    "    embeddings_initializer=Constant(embedding_matrix), # 카피한 임베딩 활용\n",
    "    input_length=maxlen,\n",
    "    trainable=True, # True를 주면 fine tuning\n",
    "))\n",
    "model.add(tf.keras.layers.LSTM(512))\n",
    "model.add(tf.keras.layers.Dense(512, activation='relu'))\n",
    "model.add(tf.keras.layers.Dense(128, activation='relu'))\n",
    "model.add(tf.keras.layers.Dense(32, activation='relu'))\n",
    "model.add(tf.keras.layers.Dense(1, activation='sigmoid'))\n",
    "\n",
    "model.summary()"
   ]
  },
  {
   "cell_type": "code",
   "execution_count": 39,
   "metadata": {
    "colab": {
     "base_uri": "https://localhost:8080/"
    },
    "id": "9XR0J2rengk2",
    "outputId": "8cd8775c-a76e-4ea4-ffbf-10715724445f"
   },
   "outputs": [
    {
     "name": "stdout",
     "output_type": "stream",
     "text": [
      "Epoch 1/5\n",
      "30/30 [==============================] - 45s 1s/step - loss: 0.7552 - accuracy: 0.6044 - val_loss: 0.6004 - val_accuracy: 0.6549\n",
      "Epoch 2/5\n",
      "30/30 [==============================] - 41s 1s/step - loss: 0.6099 - accuracy: 0.7057 - val_loss: 0.5446 - val_accuracy: 0.7333\n",
      "Epoch 3/5\n",
      "30/30 [==============================] - 42s 1s/step - loss: 0.5197 - accuracy: 0.7464 - val_loss: 0.5138 - val_accuracy: 0.7616\n",
      "Epoch 4/5\n",
      "30/30 [==============================] - 41s 1s/step - loss: 0.3592 - accuracy: 0.8473 - val_loss: 0.3686 - val_accuracy: 0.8387\n",
      "Epoch 5/5\n",
      "30/30 [==============================] - 41s 1s/step - loss: 0.2559 - accuracy: 0.8981 - val_loss: 0.3416 - val_accuracy: 0.8534\n"
     ]
    }
   ],
   "source": [
    "model.compile(\n",
    "    optimizer='adam',\n",
    "    loss='binary_crossentropy',\n",
    "    metrics=['accuracy']\n",
    ")\n",
    "\n",
    "epochs=5\n",
    "\n",
    "history = model.fit(\n",
    "    partial_x_train,\n",
    "    partial_y_train,\n",
    "    epochs=epochs,\n",
    "    batch_size=512,\n",
    "    validation_data=(x_val,y_val),\n",
    "    verbose=1\n",
    ")"
   ]
  },
  {
   "cell_type": "code",
   "execution_count": 40,
   "metadata": {
    "colab": {
     "base_uri": "https://localhost:8080/"
    },
    "id": "IPth7vRZoFdf",
    "outputId": "610db833-6b3f-4c06-8483-25e4ee2a62fe"
   },
   "outputs": [
    {
     "name": "stdout",
     "output_type": "stream",
     "text": [
      "782/782 - 28s - loss: 0.3447 - accuracy: 0.8514\n",
      "[0.3446733057498932, 0.851360023021698]\n"
     ]
    }
   ],
   "source": [
    "results = model.evaluate(x_test, y_test, verbose=2)\n",
    "print(results)"
   ]
  },
  {
   "cell_type": "markdown",
   "metadata": {
    "id": "MCaVUO7K5CtS"
   },
   "source": [
    "## Naver Movie Review Sentiment Classification"
   ]
  },
  {
   "cell_type": "code",
   "execution_count": null,
   "metadata": {
    "id": "kj55FAw298hB"
   },
   "outputs": [],
   "source": [
    "!git clone https://github.com/e9t/nsmc.git"
   ]
  },
  {
   "cell_type": "markdown",
   "metadata": {
    "id": "IbqTBJKR5Ite"
   },
   "source": [
    "### Create Data_loader"
   ]
  },
  {
   "cell_type": "code",
   "execution_count": 41,
   "metadata": {
    "colab": {
     "base_uri": "https://localhost:8080/",
     "height": 206
    },
    "id": "lvvrcsuB4hoh",
    "outputId": "11f11163-e99f-44a7-e5de-c1bd094a4189",
    "scrolled": true
   },
   "outputs": [
    {
     "data": {
      "text/html": [
       "<div>\n",
       "<style scoped>\n",
       "    .dataframe tbody tr th:only-of-type {\n",
       "        vertical-align: middle;\n",
       "    }\n",
       "\n",
       "    .dataframe tbody tr th {\n",
       "        vertical-align: top;\n",
       "    }\n",
       "\n",
       "    .dataframe thead th {\n",
       "        text-align: right;\n",
       "    }\n",
       "</style>\n",
       "<table border=\"1\" class=\"dataframe\">\n",
       "  <thead>\n",
       "    <tr style=\"text-align: right;\">\n",
       "      <th></th>\n",
       "      <th>id</th>\n",
       "      <th>document</th>\n",
       "      <th>label</th>\n",
       "    </tr>\n",
       "  </thead>\n",
       "  <tbody>\n",
       "    <tr>\n",
       "      <th>0</th>\n",
       "      <td>9976970</td>\n",
       "      <td>아 더빙.. 진짜 짜증나네요 목소리</td>\n",
       "      <td>0</td>\n",
       "    </tr>\n",
       "    <tr>\n",
       "      <th>1</th>\n",
       "      <td>3819312</td>\n",
       "      <td>흠...포스터보고 초딩영화줄....오버연기조차 가볍지 않구나</td>\n",
       "      <td>1</td>\n",
       "    </tr>\n",
       "    <tr>\n",
       "      <th>2</th>\n",
       "      <td>10265843</td>\n",
       "      <td>너무재밓었다그래서보는것을추천한다</td>\n",
       "      <td>0</td>\n",
       "    </tr>\n",
       "    <tr>\n",
       "      <th>3</th>\n",
       "      <td>9045019</td>\n",
       "      <td>교도소 이야기구먼 ..솔직히 재미는 없다..평점 조정</td>\n",
       "      <td>0</td>\n",
       "    </tr>\n",
       "    <tr>\n",
       "      <th>4</th>\n",
       "      <td>6483659</td>\n",
       "      <td>사이몬페그의 익살스런 연기가 돋보였던 영화!스파이더맨에서 늙어보이기만 했던 커스틴 ...</td>\n",
       "      <td>1</td>\n",
       "    </tr>\n",
       "  </tbody>\n",
       "</table>\n",
       "</div>"
      ],
      "text/plain": [
       "         id                                           document  label\n",
       "0   9976970                                아 더빙.. 진짜 짜증나네요 목소리      0\n",
       "1   3819312                  흠...포스터보고 초딩영화줄....오버연기조차 가볍지 않구나      1\n",
       "2  10265843                                  너무재밓었다그래서보는것을추천한다      0\n",
       "3   9045019                      교도소 이야기구먼 ..솔직히 재미는 없다..평점 조정      0\n",
       "4   6483659  사이몬페그의 익살스런 연기가 돋보였던 영화!스파이더맨에서 늙어보이기만 했던 커스틴 ...      1"
      ]
     },
     "execution_count": 41,
     "metadata": {},
     "output_type": "execute_result"
    }
   ],
   "source": [
    "import pandas as pd\n",
    "\n",
    "train_df = pd.read_table('ratings_train.txt')\n",
    "test_df = pd.read_table('ratings_test.txt')\n",
    "train_df.head()"
   ]
  },
  {
   "cell_type": "code",
   "execution_count": null,
   "metadata": {
    "id": "0pG9yVUv-HA4"
   },
   "outputs": [],
   "source": [
    "!apt install yum"
   ]
  },
  {
   "cell_type": "code",
   "execution_count": null,
   "metadata": {
    "colab": {
     "base_uri": "https://localhost:8080/"
    },
    "id": "GjLtLtFW-iYx",
    "outputId": "6fda533c-7f38-4d41-e56d-821e7dcffb3e"
   },
   "outputs": [],
   "source": [
    "!yum install gcc-c++ java-1.8.0-openjdk-devel python3 python3-devel python3-pip make diffutils\n",
    "!yum install curl git"
   ]
  },
  {
   "cell_type": "code",
   "execution_count": null,
   "metadata": {
    "id": "IZzfXCff9uIp"
   },
   "outputs": [],
   "source": [
    "!bash <(curl -s https://raw.githubusercontent.com/konlpy/konlpy/master/scripts/mecab.sh)"
   ]
  },
  {
   "cell_type": "code",
   "execution_count": null,
   "metadata": {
    "colab": {
     "base_uri": "https://localhost:8080/"
    },
    "id": "Pne9oaqZHspY",
    "outputId": "4c207a2b-4210-40c5-a439-df202a8a4577"
   },
   "outputs": [],
   "source": [
    "!pip install konlpy"
   ]
  },
  {
   "cell_type": "code",
   "execution_count": 42,
   "metadata": {
    "id": "vczWr_pZ4tlR"
   },
   "outputs": [],
   "source": [
    "from konlpy.tag import Mecab\n",
    "import numpy as np\n",
    "from collections import Counter\n",
    "\n",
    "tokenizer = Mecab()\n",
    "stopwords = [\"의\",\"가\",\"이\",\"은\",\"들\",\"는\",\"는\",\"좀\",\"잘\",\"걍\",\"과\",\"도\",\"를\",\"으로\",\"자\",\"에\",\"와\",\"한\",\"하다\"]\n",
    "\n"
   ]
  },
  {
   "cell_type": "markdown",
   "metadata": {},
   "source": [
    "위의 갑작스러운 명령어들은 코랩환경에서 동작하기 위한 시도였다  \n",
    "Mecab을 쓰기위해서 제반 개발환경이 여러가지가 필요하다는 걸 깨닫게 되었는데  \n",
    "이로인해 사전에 개발환경부터가 개발의 시작이라는 걸 명심하게 되었다  "
   ]
  },
  {
   "cell_type": "markdown",
   "metadata": {
    "id": "coUF3RIF8PLM"
   },
   "source": [
    "### 결측치 제거"
   ]
  },
  {
   "cell_type": "code",
   "execution_count": 43,
   "metadata": {
    "colab": {
     "base_uri": "https://localhost:8080/"
    },
    "id": "HCVAeRVi5u5A",
    "outputId": "e475f4d0-4be5-40ed-c30a-97378ea2440e"
   },
   "outputs": [
    {
     "data": {
      "text/plain": [
       "id          0\n",
       "document    5\n",
       "label       0\n",
       "dtype: int64"
      ]
     },
     "execution_count": 43,
     "metadata": {},
     "output_type": "execute_result"
    }
   ],
   "source": [
    "train_df.isnull().sum()"
   ]
  },
  {
   "cell_type": "code",
   "execution_count": 44,
   "metadata": {
    "colab": {
     "base_uri": "https://localhost:8080/",
     "height": 206
    },
    "id": "AZkWXKje5_87",
    "outputId": "5b519b24-09dc-422e-906a-5c02b345da55"
   },
   "outputs": [
    {
     "data": {
      "text/html": [
       "<div>\n",
       "<style scoped>\n",
       "    .dataframe tbody tr th:only-of-type {\n",
       "        vertical-align: middle;\n",
       "    }\n",
       "\n",
       "    .dataframe tbody tr th {\n",
       "        vertical-align: top;\n",
       "    }\n",
       "\n",
       "    .dataframe thead th {\n",
       "        text-align: right;\n",
       "    }\n",
       "</style>\n",
       "<table border=\"1\" class=\"dataframe\">\n",
       "  <thead>\n",
       "    <tr style=\"text-align: right;\">\n",
       "      <th></th>\n",
       "      <th>id</th>\n",
       "      <th>document</th>\n",
       "      <th>label</th>\n",
       "    </tr>\n",
       "  </thead>\n",
       "  <tbody>\n",
       "    <tr>\n",
       "      <th>25857</th>\n",
       "      <td>2172111</td>\n",
       "      <td>NaN</td>\n",
       "      <td>1</td>\n",
       "    </tr>\n",
       "    <tr>\n",
       "      <th>55737</th>\n",
       "      <td>6369843</td>\n",
       "      <td>NaN</td>\n",
       "      <td>1</td>\n",
       "    </tr>\n",
       "    <tr>\n",
       "      <th>110014</th>\n",
       "      <td>1034280</td>\n",
       "      <td>NaN</td>\n",
       "      <td>0</td>\n",
       "    </tr>\n",
       "    <tr>\n",
       "      <th>126782</th>\n",
       "      <td>5942978</td>\n",
       "      <td>NaN</td>\n",
       "      <td>0</td>\n",
       "    </tr>\n",
       "    <tr>\n",
       "      <th>140721</th>\n",
       "      <td>1034283</td>\n",
       "      <td>NaN</td>\n",
       "      <td>0</td>\n",
       "    </tr>\n",
       "  </tbody>\n",
       "</table>\n",
       "</div>"
      ],
      "text/plain": [
       "             id document  label\n",
       "25857   2172111      NaN      1\n",
       "55737   6369843      NaN      1\n",
       "110014  1034280      NaN      0\n",
       "126782  5942978      NaN      0\n",
       "140721  1034283      NaN      0"
      ]
     },
     "execution_count": 44,
     "metadata": {},
     "output_type": "execute_result"
    }
   ],
   "source": [
    "train_df[train_df.document.isnull()]"
   ]
  },
  {
   "cell_type": "code",
   "execution_count": 45,
   "metadata": {
    "id": "N6zNZyyc8clR"
   },
   "outputs": [],
   "source": [
    "train_df.dropna(axis=0, inplace=True)"
   ]
  },
  {
   "cell_type": "code",
   "execution_count": 46,
   "metadata": {
    "colab": {
     "base_uri": "https://localhost:8080/"
    },
    "id": "Aa8UJ_718jMQ",
    "outputId": "e3bef53c-b8c5-4415-abdf-fa5be4e0c216"
   },
   "outputs": [
    {
     "data": {
      "text/plain": [
       "id          0\n",
       "document    3\n",
       "label       0\n",
       "dtype: int64"
      ]
     },
     "execution_count": 46,
     "metadata": {},
     "output_type": "execute_result"
    }
   ],
   "source": [
    "test_df.isnull().sum()"
   ]
  },
  {
   "cell_type": "code",
   "execution_count": 47,
   "metadata": {
    "colab": {
     "base_uri": "https://localhost:8080/",
     "height": 143
    },
    "id": "Yr9sM7mH8lOe",
    "outputId": "7956b2df-a032-4520-ff1d-d42f6b77d5a9"
   },
   "outputs": [
    {
     "data": {
      "text/html": [
       "<div>\n",
       "<style scoped>\n",
       "    .dataframe tbody tr th:only-of-type {\n",
       "        vertical-align: middle;\n",
       "    }\n",
       "\n",
       "    .dataframe tbody tr th {\n",
       "        vertical-align: top;\n",
       "    }\n",
       "\n",
       "    .dataframe thead th {\n",
       "        text-align: right;\n",
       "    }\n",
       "</style>\n",
       "<table border=\"1\" class=\"dataframe\">\n",
       "  <thead>\n",
       "    <tr style=\"text-align: right;\">\n",
       "      <th></th>\n",
       "      <th>id</th>\n",
       "      <th>document</th>\n",
       "      <th>label</th>\n",
       "    </tr>\n",
       "  </thead>\n",
       "  <tbody>\n",
       "    <tr>\n",
       "      <th>5746</th>\n",
       "      <td>402110</td>\n",
       "      <td>NaN</td>\n",
       "      <td>1</td>\n",
       "    </tr>\n",
       "    <tr>\n",
       "      <th>7899</th>\n",
       "      <td>5026896</td>\n",
       "      <td>NaN</td>\n",
       "      <td>0</td>\n",
       "    </tr>\n",
       "    <tr>\n",
       "      <th>27097</th>\n",
       "      <td>511097</td>\n",
       "      <td>NaN</td>\n",
       "      <td>1</td>\n",
       "    </tr>\n",
       "  </tbody>\n",
       "</table>\n",
       "</div>"
      ],
      "text/plain": [
       "            id document  label\n",
       "5746    402110      NaN      1\n",
       "7899   5026896      NaN      0\n",
       "27097   511097      NaN      1"
      ]
     },
     "execution_count": 47,
     "metadata": {},
     "output_type": "execute_result"
    }
   ],
   "source": [
    "test_df[test_df.document.isnull()]"
   ]
  },
  {
   "cell_type": "code",
   "execution_count": 48,
   "metadata": {
    "id": "n0X9Q9CZ8qRe"
   },
   "outputs": [],
   "source": [
    "test_df.dropna(axis=0, inplace=True)"
   ]
  },
  {
   "cell_type": "markdown",
   "metadata": {
    "id": "dH-o50n98wxD"
   },
   "source": [
    "중복 데이터 확인 및 제거"
   ]
  },
  {
   "cell_type": "code",
   "execution_count": 49,
   "metadata": {
    "colab": {
     "base_uri": "https://localhost:8080/"
    },
    "id": "YtQ4aDFr8uAe",
    "outputId": "73eda667-61a8-4df3-92d8-a7e1b589910e"
   },
   "outputs": [
    {
     "data": {
      "text/plain": [
       "0"
      ]
     },
     "execution_count": 49,
     "metadata": {},
     "output_type": "execute_result"
    }
   ],
   "source": [
    "train_df.duplicated().sum()"
   ]
  },
  {
   "cell_type": "code",
   "execution_count": 50,
   "metadata": {
    "colab": {
     "base_uri": "https://localhost:8080/"
    },
    "id": "KD7iA2Dq87nH",
    "outputId": "4302e6f3-88ce-474b-e547-6a6b77f4874f"
   },
   "outputs": [
    {
     "data": {
      "text/plain": [
       "0"
      ]
     },
     "execution_count": 50,
     "metadata": {},
     "output_type": "execute_result"
    }
   ],
   "source": [
    "test_df.duplicated().sum()"
   ]
  },
  {
   "cell_type": "markdown",
   "metadata": {
    "id": "oXwOsgATBEc4"
   },
   "source": [
    "### 특수문자 제거"
   ]
  },
  {
   "cell_type": "code",
   "execution_count": 51,
   "metadata": {
    "id": "f76B3tBzBGso"
   },
   "outputs": [],
   "source": [
    "import re\n",
    "def clean_text(sentence):\n",
    "  text_rmv = re.sub('[-=+,#/\\?:^.@*\\\"※~ㆍ!』‘|\\(\\)\\[\\]`\\'…》\\”\\“\\’·]', ' ', sentence)\n",
    "  return text_rmv"
   ]
  },
  {
   "cell_type": "code",
   "execution_count": 52,
   "metadata": {
    "id": "Eowj3qBSBD6j"
   },
   "outputs": [],
   "source": [
    "train_df['document'] = train_df['document'].apply(clean_text)\n",
    "test_df['document'] = test_df['document'].apply(clean_text)"
   ]
  },
  {
   "cell_type": "markdown",
   "metadata": {},
   "source": [
    ". , 표시등 특수문자가 다소 들어가있어서 토크나이징을 방해했기 때문에  \n",
    "인터넷에 특수문자를 없애는 정규표현식을 찾아서 제거하게 되었다  \n",
    "딱 배운건 아니지만 다른 사람이 짜둔걸 가져오면서 자주 봤다보니 사용법에도 조금씩 익숙해지는 듯 하다"
   ]
  },
  {
   "cell_type": "markdown",
   "metadata": {
    "id": "GrgMRkam9hoh"
   },
   "source": [
    "### 토크나이징"
   ]
  },
  {
   "cell_type": "code",
   "execution_count": 53,
   "metadata": {
    "colab": {
     "base_uri": "https://localhost:8080/"
    },
    "id": "BZ18JyNM89yH",
    "outputId": "74fc7dde-5379-4b96-e826-9c0c9fb8dee3"
   },
   "outputs": [
    {
     "data": {
      "text/plain": [
       "['아', '더', '빙', '진짜', '짜증', '나', '네요', '목소리']"
      ]
     },
     "execution_count": 53,
     "metadata": {},
     "output_type": "execute_result"
    }
   ],
   "source": [
    "tokenizer.morphs(train_df.document[0])"
   ]
  },
  {
   "cell_type": "code",
   "execution_count": 54,
   "metadata": {
    "id": "SdgczUbsDDHi"
   },
   "outputs": [],
   "source": [
    "train_df['tokenized'] = train_df['document'].apply(lambda x: tokenizer.morphs(x))\n",
    "test_df['tokenized'] = test_df['document'].apply(lambda x: tokenizer.morphs(x))"
   ]
  },
  {
   "cell_type": "markdown",
   "metadata": {
    "id": "HZEt2chQDpab"
   },
   "source": [
    "불용어 제거"
   ]
  },
  {
   "cell_type": "code",
   "execution_count": 55,
   "metadata": {
    "id": "h-BZt55oLPhT"
   },
   "outputs": [],
   "source": [
    "train_df['removed'] = train_df['tokenized'].apply(lambda x: [word for word in x if not word in stopwords])"
   ]
  },
  {
   "cell_type": "code",
   "execution_count": 56,
   "metadata": {
    "id": "sFwl1FaXKvTK"
   },
   "outputs": [],
   "source": [
    "test_df['removed'] = test_df['tokenized'].apply(lambda x: [word for word in x if not word in stopwords])"
   ]
  },
  {
   "cell_type": "code",
   "execution_count": 57,
   "metadata": {
    "id": "qxWLpB2_M4Tk"
   },
   "outputs": [],
   "source": [
    "train_word = []\n",
    "for i in train_df[['removed']].itertuples():\n",
    "    train_temp = [j for j in i.removed]\n",
    "    train_word.append(train_temp)\n",
    "test_word = []\n",
    "for i in test_df[['removed']].itertuples():\n",
    "    test_temp = [j for j in i.removed]\n",
    "    test_word.append(test_temp)"
   ]
  },
  {
   "cell_type": "markdown",
   "metadata": {},
   "source": [
    "pandas 활용 하는 능력을 키울겸 데이터프레임 안에서 기존의 코드와  \n",
    "비슷하게 따라가보고자 노력했다\n",
    "덕분에 전처리에 다소 시간은 더 걸렸지만 숙련도가 높아질수록 더 좋은 효과를 볼 수 있으리라 본다"
   ]
  },
  {
   "cell_type": "markdown",
   "metadata": {
    "id": "UNfsKWf6RGtl"
   },
   "source": [
    "vocab 만들기"
   ]
  },
  {
   "cell_type": "code",
   "execution_count": 58,
   "metadata": {
    "id": "SPO_EaiBNopD"
   },
   "outputs": [],
   "source": [
    "words = np.concatenate(train_word).tolist()\n",
    "counter = Counter(words)\n",
    "counter = counter.most_common(10000-4)"
   ]
  },
  {
   "cell_type": "code",
   "execution_count": 59,
   "metadata": {
    "colab": {
     "base_uri": "https://localhost:8080/"
    },
    "id": "eiWAvBYhPMVR",
    "outputId": "c18667fb-ee9a-40e0-fe60-1a990227a3f1"
   },
   "outputs": [
    {
     "data": {
      "text/plain": [
       "[('영화', 57651),\n",
       " ('다', 55378),\n",
       " ('고', 47281),\n",
       " ('하', 44716),\n",
       " ('을', 29907),\n",
       " ('보', 25571),\n",
       " ('게', 22189),\n",
       " ('지', 19053),\n",
       " ('있', 16750),\n",
       " ('없', 15872)]"
      ]
     },
     "execution_count": 59,
     "metadata": {},
     "output_type": "execute_result"
    }
   ],
   "source": [
    "counter[:10]"
   ]
  },
  {
   "cell_type": "code",
   "execution_count": 60,
   "metadata": {
    "colab": {
     "base_uri": "https://localhost:8080/"
    },
    "id": "EMxlTW_GPfuZ",
    "outputId": "eca75ab7-1fce-4c9a-9874-f08b40f329d1"
   },
   "outputs": [
    {
     "data": {
      "text/plain": [
       "['<PAD>', '<BOS<', '<UNK>', '<UNUSED>', '영화', '다', '고', '하', '을', '보']"
      ]
     },
     "execution_count": 60,
     "metadata": {},
     "output_type": "execute_result"
    }
   ],
   "source": [
    "vocab=[\"<PAD>\",\"<BOS<\",\"<UNK>\",\"<UNUSED>\"] + [key for key, _ in counter]\n",
    "vocab[:10]"
   ]
  },
  {
   "cell_type": "code",
   "execution_count": 61,
   "metadata": {
    "colab": {
     "base_uri": "https://localhost:8080/"
    },
    "id": "E-MfqYveX94u",
    "outputId": "4cc4a063-3217-4543-a4ef-e006a7391a57"
   },
   "outputs": [
    {
     "data": {
      "text/plain": [
       "10000"
      ]
     },
     "execution_count": 61,
     "metadata": {},
     "output_type": "execute_result"
    }
   ],
   "source": [
    "len(vocab)"
   ]
  },
  {
   "cell_type": "markdown",
   "metadata": {
    "id": "rdkmYDHnRQJy"
   },
   "source": [
    "Word to index"
   ]
  },
  {
   "cell_type": "code",
   "execution_count": 62,
   "metadata": {
    "colab": {
     "base_uri": "https://localhost:8080/"
    },
    "id": "dut9Skd_PnlA",
    "outputId": "4f9e4f62-44ea-417b-8b52-4d2f56017068"
   },
   "outputs": [
    {
     "data": {
      "text/plain": [
       "{'<PAD>': 0,\n",
       " '<BOS<': 1,\n",
       " '<UNK>': 2,\n",
       " '<UNUSED>': 3,\n",
       " '영화': 4,\n",
       " '다': 5,\n",
       " '고': 6,\n",
       " '하': 7,\n",
       " '을': 8,\n",
       " '보': 9,\n",
       " '게': 10,\n",
       " '지': 11,\n",
       " '있': 12,\n",
       " '없': 13,\n",
       " '좋': 14,\n",
       " '나': 15,\n",
       " '었': 16,\n",
       " '만': 17,\n",
       " '는데': 18,\n",
       " '너무': 19,\n",
       " '봤': 20,\n",
       " '적': 21,\n",
       " '안': 22,\n",
       " '정말': 23,\n",
       " '로': 24,\n",
       " '음': 25,\n",
       " '것': 26,\n",
       " '아': 27,\n",
       " '네요': 28,\n",
       " '재밌': 29,\n",
       " '어': 30,\n",
       " '점': 31,\n",
       " '지만': 32,\n",
       " '같': 33,\n",
       " '진짜': 34,\n",
       " '에서': 35,\n",
       " '했': 36,\n",
       " '기': 37,\n",
       " '네': 38,\n",
       " '않': 39,\n",
       " '거': 40,\n",
       " '았': 41,\n",
       " '수': 42,\n",
       " '되': 43,\n",
       " '면': 44,\n",
       " 'ㅋㅋ': 45,\n",
       " '인': 46,\n",
       " '말': 47,\n",
       " '연기': 48,\n",
       " '최고': 49,\n",
       " '주': 50,\n",
       " '내': 51,\n",
       " '평점': 52,\n",
       " '이런': 53,\n",
       " '던': 54,\n",
       " '어요': 55,\n",
       " '할': 56,\n",
       " '왜': 57,\n",
       " '1': 58,\n",
       " '겠': 59,\n",
       " '스토리': 60,\n",
       " '해': 61,\n",
       " '습니다': 62,\n",
       " 'ㅋㅋㅋ': 63,\n",
       " '듯': 64,\n",
       " '아니': 65,\n",
       " '드라마': 66,\n",
       " '생각': 67,\n",
       " '더': 68,\n",
       " '그': 69,\n",
       " '싶': 70,\n",
       " '사람': 71,\n",
       " '감동': 72,\n",
       " '때': 73,\n",
       " '배우': 74,\n",
       " '함': 75,\n",
       " '본': 76,\n",
       " '까지': 77,\n",
       " '뭐': 78,\n",
       " '알': 79,\n",
       " '볼': 80,\n",
       " '만들': 81,\n",
       " '내용': 82,\n",
       " '보다': 83,\n",
       " '라': 84,\n",
       " '감독': 85,\n",
       " '재미': 86,\n",
       " '그냥': 87,\n",
       " '시간': 88,\n",
       " '재미있': 89,\n",
       " '지루': 90,\n",
       " '중': 91,\n",
       " '년': 92,\n",
       " '잼': 93,\n",
       " '10': 94,\n",
       " '재미없': 95,\n",
       " '였': 96,\n",
       " '쓰레기': 97,\n",
       " '사랑': 98,\n",
       " '못': 99,\n",
       " '냐': 100,\n",
       " '서': 101,\n",
       " '라고': 102,\n",
       " '2': 103,\n",
       " '니': 104,\n",
       " '면서': 105,\n",
       " '번': 106,\n",
       " '다시': 107,\n",
       " '나오': 108,\n",
       " '야': 109,\n",
       " '하나': 110,\n",
       " '작품': 111,\n",
       " '이거': 112,\n",
       " '줄': 113,\n",
       " '해서': 114,\n",
       " '개': 115,\n",
       " '남': 116,\n",
       " '정도': 117,\n",
       " '마지막': 118,\n",
       " '끝': 119,\n",
       " '이건': 120,\n",
       " '액션': 121,\n",
       " '임': 122,\n",
       " 'ㅋ': 123,\n",
       " '3': 124,\n",
       " '기대': 125,\n",
       " '입니다': 126,\n",
       " '건': 127,\n",
       " '라는': 128,\n",
       " '완전': 129,\n",
       " '분': 130,\n",
       " '다는': 131,\n",
       " '참': 132,\n",
       " '많': 133,\n",
       " '아깝': 134,\n",
       " '처음': 135,\n",
       " '장면': 136,\n",
       " '대': 137,\n",
       " '다가': 138,\n",
       " '으면': 139,\n",
       " '지금': 140,\n",
       " '모르': 141,\n",
       " '이렇게': 142,\n",
       " '편': 143,\n",
       " '일': 144,\n",
       " '이게': 145,\n",
       " '돈': 146,\n",
       " '최악': 147,\n",
       " '성': 148,\n",
       " '느낌': 149,\n",
       " '이야기': 150,\n",
       " '시': 151,\n",
       " '별로': 152,\n",
       " '된': 153,\n",
       " '봐도': 154,\n",
       " '님': 155,\n",
       " '어서': 156,\n",
       " '애': 157,\n",
       " '넘': 158,\n",
       " 'ㅠㅠ': 159,\n",
       " '전': 160,\n",
       " '인데': 161,\n",
       " '다고': 162,\n",
       " '이해': 163,\n",
       " '명작': 164,\n",
       " '걸': 165,\n",
       " '난': 166,\n",
       " '그리고': 167,\n",
       " '역시': 168,\n",
       " '여자': 169,\n",
       " '이상': 170,\n",
       " '또': 171,\n",
       " '한국': 172,\n",
       " '는지': 173,\n",
       " '에게': 174,\n",
       " '많이': 175,\n",
       " '부터': 176,\n",
       " '주인공': 177,\n",
       " '받': 178,\n",
       " '합니다': 179,\n",
       " '두': 180,\n",
       " '살': 181,\n",
       " '요': 182,\n",
       " '우리': 183,\n",
       " '괜찮': 184,\n",
       " '만든': 185,\n",
       " '길': 186,\n",
       " '엔': 187,\n",
       " '기억': 188,\n",
       " '한다': 189,\n",
       " 'ㅎㅎ': 190,\n",
       " '연출': 191,\n",
       " ';;': 192,\n",
       " '때문': 193,\n",
       " '이나': 194,\n",
       " '저': 195,\n",
       " '재': 196,\n",
       " '꼭': 197,\n",
       " '며': 198,\n",
       " '랑': 199,\n",
       " '현실': 200,\n",
       " '긴': 201,\n",
       " 'ㅡㅡ': 202,\n",
       " '무슨': 203,\n",
       " '마음': 204,\n",
       " '내내': 205,\n",
       " '굿': 206,\n",
       " '결말': 207,\n",
       " '죽': 208,\n",
       " '남자': 209,\n",
       " '전개': 210,\n",
       " '세요': 211,\n",
       " '소재': 212,\n",
       " '속': 213,\n",
       " '데': 214,\n",
       " '짱': 215,\n",
       " '인생': 216,\n",
       " '공포': 217,\n",
       " '다른': 218,\n",
       " '아서': 219,\n",
       " '씨': 220,\n",
       " '짜증': 221,\n",
       " '아요': 222,\n",
       " '뿐': 223,\n",
       " '필요': 224,\n",
       " '별': 225,\n",
       " '유치': 226,\n",
       " '은데': 227,\n",
       " '가장': 228,\n",
       " '아이': 229,\n",
       " '오': 230,\n",
       " '음악': 231,\n",
       " '낮': 232,\n",
       " '일본': 233,\n",
       " '반전': 234,\n",
       " '수준': 235,\n",
       " '매력': 236,\n",
       " '다니': 237,\n",
       " '밋': 238,\n",
       " '웃': 239,\n",
       " '인지': 240,\n",
       " '가슴': 241,\n",
       " '맞': 242,\n",
       " '없이': 243,\n",
       " '원작': 244,\n",
       " '높': 245,\n",
       " 'ㄷ': 246,\n",
       " '인간': 247,\n",
       " 'ㅠ': 248,\n",
       " ';': 249,\n",
       " '만드': 250,\n",
       " '노': 251,\n",
       " '급': 252,\n",
       " '눈물': 253,\n",
       " '준': 254,\n",
       " '보여': 255,\n",
       " '찍': 256,\n",
       " '인가': 257,\n",
       " '용': 258,\n",
       " '코미디': 259,\n",
       " '신': 260,\n",
       " '마': 261,\n",
       " '여': 262,\n",
       " '쓰': 263,\n",
       " '추천': 264,\n",
       " '화': 265,\n",
       " '모든': 266,\n",
       " '아직': 267,\n",
       " '5': 268,\n",
       " '처럼': 269,\n",
       " '아닌': 270,\n",
       " '눈': 271,\n",
       " '자체': 272,\n",
       " '4': 273,\n",
       " '울': 274,\n",
       " '대박': 275,\n",
       " '몰입': 276,\n",
       " '란': 277,\n",
       " '몇': 278,\n",
       " '실망': 279,\n",
       " '스럽': 280,\n",
       " '을까': 281,\n",
       " '는다': 282,\n",
       " '대한': 283,\n",
       " '그런': 284,\n",
       " '죠': 285,\n",
       " '솔직히': 286,\n",
       " 'ㅎ': 287,\n",
       " '캐릭터': 288,\n",
       " '아주': 289,\n",
       " '모두': 290,\n",
       " '가족': 291,\n",
       " '건지': 292,\n",
       " '여운': 293,\n",
       " '전혀': 294,\n",
       " '연기력': 295,\n",
       " '후': 296,\n",
       " '다면': 297,\n",
       " '될': 298,\n",
       " '뭔가': 299,\n",
       " '그래도': 300,\n",
       " '시리즈': 301,\n",
       " '나라': 302,\n",
       " '근데': 303,\n",
       " '작': 304,\n",
       " '표현': 305,\n",
       " '모습': 306,\n",
       " '계속': 307,\n",
       " '공감': 308,\n",
       " '먹': 309,\n",
       " '비': 310,\n",
       " '제목': 311,\n",
       " '7': 312,\n",
       " '이랑': 313,\n",
       " '극장': 314,\n",
       " '치': 315,\n",
       " '이걸': 316,\n",
       " '바': 317,\n",
       " '진': 318,\n",
       " '그렇': 319,\n",
       " '대사': 320,\n",
       " '0': 321,\n",
       " 'OO': 322,\n",
       " '부분': 323,\n",
       " '개봉': 324,\n",
       " '대단': 325,\n",
       " '어디': 326,\n",
       " '된다': 327,\n",
       " '기분': 328,\n",
       " '작가': 329,\n",
       " '아쉽': 330,\n",
       " '타임': 331,\n",
       " '제': 332,\n",
       " '진심': 333,\n",
       " '구': 334,\n",
       " '놓': 335,\n",
       " '보이': 336,\n",
       " '해도': 337,\n",
       " '봐야': 338,\n",
       " '웃기': 339,\n",
       " '물': 340,\n",
       " '막장': 341,\n",
       " '_': 342,\n",
       " '삶': 343,\n",
       " '친구': 344,\n",
       " '잔잔': 345,\n",
       " '이제': 346,\n",
       " '씬': 347,\n",
       " '조금': 348,\n",
       " '억지': 349,\n",
       " '가지': 350,\n",
       " '영상': 351,\n",
       " '찾': 352,\n",
       " '딱': 353,\n",
       " '요즘': 354,\n",
       " '라도': 355,\n",
       " '스릴러': 356,\n",
       " '같이': 357,\n",
       " '싫': 358,\n",
       " '8': 359,\n",
       " '믿': 360,\n",
       " '아까운': 361,\n",
       " '나왔': 362,\n",
       " '중간': 363,\n",
       " '점수': 364,\n",
       " '긴장감': 365,\n",
       " '부족': 366,\n",
       " '개인': 367,\n",
       " '제대로': 368,\n",
       " '이유': 369,\n",
       " '노래': 370,\n",
       " '만큼': 371,\n",
       " '시작': 372,\n",
       " '라면': 373,\n",
       " '어떻게': 374,\n",
       " '잇': 375,\n",
       " '구나': 376,\n",
       " '한테': 377,\n",
       " '특히': 378,\n",
       " '아름다운': 379,\n",
       " '날': 380,\n",
       " '제일': 381,\n",
       " '려고': 382,\n",
       " '시대': 383,\n",
       " '니까': 384,\n",
       " 'ㅜㅜ': 385,\n",
       " '엔딩': 386,\n",
       " '당시': 387,\n",
       " '명': 388,\n",
       " '나름': 389,\n",
       " '무섭': 390,\n",
       " '해요': 391,\n",
       " '이것': 392,\n",
       " '나온': 393,\n",
       " '팬': 394,\n",
       " '오랜만': 395,\n",
       " '9': 396,\n",
       " '봐': 397,\n",
       " '사': 398,\n",
       " '차라리': 399,\n",
       " '절대': 400,\n",
       " '세상': 401,\n",
       " '세': 402,\n",
       " '못하': 403,\n",
       " '의미': 404,\n",
       " '봄': 405,\n",
       " '욕': 406,\n",
       " '따뜻': 407,\n",
       " '던데': 408,\n",
       " '감': 409,\n",
       " '강추': 410,\n",
       " '훌륭': 411,\n",
       " '너무나': 412,\n",
       " 'ㅡ': 413,\n",
       " '됨': 414,\n",
       " '느끼': 415,\n",
       " '빼': 416,\n",
       " '해야': 417,\n",
       " '드': 418,\n",
       " '뻔': 419,\n",
       " '글': 420,\n",
       " '도대체': 421,\n",
       " '♥': 422,\n",
       " '마다': 423,\n",
       " '답답': 424,\n",
       " '어야': 425,\n",
       " '놈': 426,\n",
       " '전쟁': 427,\n",
       " '수작': 428,\n",
       " '설정': 429,\n",
       " '무엇': 430,\n",
       " '흥미': 431,\n",
       " '그저': 432,\n",
       " '감정': 433,\n",
       " '준다': 434,\n",
       " '만화': 435,\n",
       " '미국': 436,\n",
       " '행복': 437,\n",
       " '신선': 438,\n",
       " '허접': 439,\n",
       " '앞': 440,\n",
       " '형': 441,\n",
       " '관객': 442,\n",
       " '배경': 443,\n",
       " '시절': 444,\n",
       " '어도': 445,\n",
       " '6': 446,\n",
       " '사실': 447,\n",
       " '군': 448,\n",
       " '웃음': 449,\n",
       " 'OOO': 450,\n",
       " '엄청': 451,\n",
       " '초반': 452,\n",
       " '답': 453,\n",
       " '추억': 454,\n",
       " '더라': 455,\n",
       " '질': 456,\n",
       " '자신': 457,\n",
       " '류': 458,\n",
       " '캐스팅': 459,\n",
       " '라니': 460,\n",
       " '멋있': 461,\n",
       " '시나리오': 462,\n",
       " '첨': 463,\n",
       " '슬프': 464,\n",
       " '어색': 465,\n",
       " '정신': 466,\n",
       " '머': 467,\n",
       " '소름': 468,\n",
       " '밖에': 469,\n",
       " '분위기': 470,\n",
       " '멋진': 471,\n",
       " '힘들': 472,\n",
       " '간': 473,\n",
       " '오늘': 474,\n",
       " '잡': 475,\n",
       " '졸작': 476,\n",
       " '어이없': 477,\n",
       " '집': 478,\n",
       " '봐서': 479,\n",
       " '킬링': 480,\n",
       " '위해': 481,\n",
       " '구성': 482,\n",
       " '엄마': 483,\n",
       " '함께': 484,\n",
       " '이딴': 485,\n",
       " '문제': 486,\n",
       " '잊': 487,\n",
       " '등': 488,\n",
       " '유쾌': 489,\n",
       " '스러운': 490,\n",
       " '소리': 491,\n",
       " '결국': 492,\n",
       " '낫': 493,\n",
       " '뭘': 494,\n",
       " '어떤': 495,\n",
       " '뭔': 496,\n",
       " '한데': 497,\n",
       " '역사': 498,\n",
       " '20': 499,\n",
       " '제발': 500,\n",
       " '포스터': 501,\n",
       " '아무리': 502,\n",
       " '코믹': 503,\n",
       " '완벽': 504,\n",
       " '맘': 505,\n",
       " '애니메이션': 506,\n",
       " '러': 507,\n",
       " '얼마나': 508,\n",
       " '주연': 509,\n",
       " '원': 510,\n",
       " '후회': 511,\n",
       " '버리': 512,\n",
       " '나요': 513,\n",
       " '진부': 514,\n",
       " '뻔한': 515,\n",
       " '나올': 516,\n",
       " '장난': 517,\n",
       " '어릴': 518,\n",
       " '보단': 519,\n",
       " '됐': 520,\n",
       " '책': 521,\n",
       " '출연': 522,\n",
       " '큰': 523,\n",
       " '더니': 524,\n",
       " '난다': 525,\n",
       " '개연': 526,\n",
       " '영화관': 527,\n",
       " '밖': 528,\n",
       " '극': 529,\n",
       " '둘': 530,\n",
       " 'ㅅ': 531,\n",
       " '줬': 532,\n",
       " '보고': 533,\n",
       " '충격': 534,\n",
       " '여기': 535,\n",
       " '아름답': 536,\n",
       " ';;;': 537,\n",
       " '평가': 538,\n",
       " '잔인': 539,\n",
       " '얘기': 540,\n",
       " '예술': 541,\n",
       " '매우': 542,\n",
       " '갈수록': 543,\n",
       " '꺼': 544,\n",
       " '든': 545,\n",
       " '위한': 546,\n",
       " '불': 547,\n",
       " '이리': 548,\n",
       " '자기': 549,\n",
       " '읽': 550,\n",
       " '이후': 551,\n",
       " '얼굴': 552,\n",
       " '꽤': 553,\n",
       " '티비': 554,\n",
       " '이쁘': 555,\n",
       " '낭비': 556,\n",
       " '옛날': 557,\n",
       " '봐라': 558,\n",
       " '별점': 559,\n",
       " '깊': 560,\n",
       " '못한': 561,\n",
       " '반': 562,\n",
       " '텐데': 563,\n",
       " '불쌍': 564,\n",
       " '겟': 565,\n",
       " '시청': 566,\n",
       " '순수': 567,\n",
       " '라서': 568,\n",
       " '으나': 569,\n",
       " '건가': 570,\n",
       " '언제': 571,\n",
       " '애니': 572,\n",
       " '배': 573,\n",
       " '비디오': 574,\n",
       " '엇': 575,\n",
       " '머리': 576,\n",
       " '장르': 577,\n",
       " '미': 578,\n",
       " '생각나': 579,\n",
       " '그래서': 580,\n",
       " '다운': 581,\n",
       " '주제': 582,\n",
       " '하지만': 583,\n",
       " '다큐': 584,\n",
       " '그렇게': 585,\n",
       " '궁금': 586,\n",
       " '아님': 587,\n",
       " '다음': 588,\n",
       " '시키': 589,\n",
       " '누구': 590,\n",
       " '동안': 591,\n",
       " '예전': 592,\n",
       " '그만': 593,\n",
       " '뒤': 594,\n",
       " '진정': 595,\n",
       " '크': 596,\n",
       " '상황': 597,\n",
       " '인상': 598,\n",
       " '그러': 599,\n",
       " '감사': 600,\n",
       " '미친': 601,\n",
       " '스릴': 602,\n",
       " '이름': 603,\n",
       " '아무': 604,\n",
       " '시즌': 605,\n",
       " '너': 606,\n",
       " 'B': 607,\n",
       " '오래': 608,\n",
       " '본다': 609,\n",
       " '집중': 610,\n",
       " '어느': 611,\n",
       " '로맨스': 612,\n",
       " '약간': 613,\n",
       " '나와서': 614,\n",
       " '평': 615,\n",
       " '까': 616,\n",
       " '방송': 617,\n",
       " '마세요': 618,\n",
       " '그나마': 619,\n",
       " '식': 620,\n",
       " '짜리': 621,\n",
       " '꿈': 622,\n",
       " '걸작': 623,\n",
       " '소설': 624,\n",
       " '여주인공': 625,\n",
       " '존나': 626,\n",
       " '그대로': 627,\n",
       " '인물': 628,\n",
       " '났': 629,\n",
       " '그것': 630,\n",
       " '케': 631,\n",
       " '회': 632,\n",
       " '떨어지': 633,\n",
       " '힘': 634,\n",
       " '몰': 635,\n",
       " '에요': 636,\n",
       " '죽이': 637,\n",
       " '실화': 638,\n",
       " '만점': 639,\n",
       " '해라': 640,\n",
       " '대체': 641,\n",
       " '훨씬': 642,\n",
       " '짓': 643,\n",
       " '사회': 644,\n",
       " '누가': 645,\n",
       " '전체': 646,\n",
       " '발연기': 647,\n",
       " '무': 648,\n",
       " '비슷': 649,\n",
       " '엉성': 650,\n",
       " '30': 651,\n",
       " '막': 652,\n",
       " '왔': 653,\n",
       " 'ㅜ': 654,\n",
       " 'CG': 655,\n",
       " '귀엽': 656,\n",
       " '햇': 657,\n",
       " '중국': 658,\n",
       " '여주': 659,\n",
       " '단': 660,\n",
       " '초딩': 661,\n",
       " '영상미': 662,\n",
       " '입': 663,\n",
       " '비교': 664,\n",
       " '끝나': 665,\n",
       " '감성': 666,\n",
       " '네이버': 667,\n",
       " '세계': 668,\n",
       " '꿀': 669,\n",
       " '여배우': 670,\n",
       " '구만': 671,\n",
       " '망': 672,\n",
       " '는가': 673,\n",
       " '더럽': 674,\n",
       " '느껴': 675,\n",
       " 'ㅎㅎㅎ': 676,\n",
       " '나이': 677,\n",
       " '순간': 678,\n",
       " '려는': 679,\n",
       " '상': 680,\n",
       " '대해': 681,\n",
       " '쯤': 682,\n",
       " '어렸': 683,\n",
       " '생': 684,\n",
       " '첫': 685,\n",
       " '돋': 686,\n",
       " '가능': 687,\n",
       " '어설픈': 688,\n",
       " '판': 689,\n",
       " '갔': 690,\n",
       " '학교': 691,\n",
       " '100': 692,\n",
       " '성룡': 693,\n",
       " '셨': 694,\n",
       " '아들': 695,\n",
       " '졸': 696,\n",
       " '혼자': 697,\n",
       " '느낄': 698,\n",
       " '멋지': 699,\n",
       " '아야': 700,\n",
       " '지루함': 701,\n",
       " '타': 702,\n",
       " '어린': 703,\n",
       " '바로': 704,\n",
       " '교훈': 705,\n",
       " '굳': 706,\n",
       " '잘못': 707,\n",
       " '한마디': 708,\n",
       " '맛': 709,\n",
       " '나가': 710,\n",
       " '티': 711,\n",
       " '판타지': 712,\n",
       " '길래': 713,\n",
       " '딸': 714,\n",
       " '당신': 715,\n",
       " '화려': 716,\n",
       " '끌': 717,\n",
       " '존': 718,\n",
       " '잠': 719,\n",
       " '차': 720,\n",
       " '땜': 721,\n",
       " '달': 722,\n",
       " '맨': 723,\n",
       " '똥': 724,\n",
       " '영': 725,\n",
       " '빨리': 726,\n",
       " '목소리': 727,\n",
       " '삼류': 728,\n",
       " '든다': 729,\n",
       " '%': 730,\n",
       " '나온다': 731,\n",
       " '초': 732,\n",
       " '거의': 733,\n",
       " '듣': 734,\n",
       " '전부': 735,\n",
       " '봤었': 736,\n",
       " 'ㅉㅉ': 737,\n",
       " '독특': 738,\n",
       " '아까움': 739,\n",
       " '건데': 740,\n",
       " '가치': 741,\n",
       " '다르': 742,\n",
       " '위': 743,\n",
       " '어른': 744,\n",
       " '>': 745,\n",
       " '한번': 746,\n",
       " '률': 747,\n",
       " '상당히': 748,\n",
       " '씩': 749,\n",
       " '90': 750,\n",
       " '다만': 751,\n",
       " '질질': 752,\n",
       " '아버지': 753,\n",
       " '넣': 754,\n",
       " '갑자기': 755,\n",
       " '스타일': 756,\n",
       " '줄거리': 757,\n",
       " '평론가': 758,\n",
       " '군요': 759,\n",
       " '이번': 760,\n",
       " '당': 761,\n",
       " '그러나': 762,\n",
       " '여러': 763,\n",
       " 'ㅂ': 764,\n",
       " '허무': 765,\n",
       " '의도': 766,\n",
       " '저런': 767,\n",
       " '존재': 768,\n",
       " '밑': 769,\n",
       " '대로': 770,\n",
       " '에선': 771,\n",
       " '째': 772,\n",
       " '각본': 773,\n",
       " '성우': 774,\n",
       " '이러': 775,\n",
       " '예상': 776,\n",
       " '으면서': 777,\n",
       " '버린': 778,\n",
       " '너무너무': 779,\n",
       " '화면': 780,\n",
       " '그녀': 781,\n",
       " '부': 782,\n",
       " 'ㄱ': 783,\n",
       " '떠나': 784,\n",
       " '비해': 785,\n",
       " '자연': 786,\n",
       " '예쁘': 787,\n",
       " '굉장히': 788,\n",
       " '그런지': 789,\n",
       " '담': 790,\n",
       " '스': 791,\n",
       " '평범': 792,\n",
       " '슬픈': 793,\n",
       " '관람': 794,\n",
       " '복수': 795,\n",
       " '줌': 796,\n",
       " '뻔하': 797,\n",
       " '일단': 798,\n",
       " '만나': 799,\n",
       " '단순': 800,\n",
       " '새로운': 801,\n",
       " '댓글': 802,\n",
       " '중요': 803,\n",
       " '돼': 804,\n",
       " '낸': 805,\n",
       " '갖': 806,\n",
       " '피': 807,\n",
       " '극장판': 808,\n",
       " '거나': 809,\n",
       " '앗': 810,\n",
       " '제작': 811,\n",
       " '한편': 812,\n",
       " '못했': 813,\n",
       " '버렸': 814,\n",
       " '만족': 815,\n",
       " '쉽': 816,\n",
       " '선택': 817,\n",
       " '쓴': 818,\n",
       " 'TV': 819,\n",
       " '진행': 820,\n",
       " '아빠': 821,\n",
       " '요소': 822,\n",
       " '불편': 823,\n",
       " '항상': 824,\n",
       " '거기': 825,\n",
       " '한다는': 826,\n",
       " '나옴': 827,\n",
       " '연출력': 828,\n",
       " '지나': 829,\n",
       " '그때': 830,\n",
       " '잃': 831,\n",
       " '에로': 832,\n",
       " '롭': 833,\n",
       " '탄탄': 834,\n",
       " '예요': 835,\n",
       " '흥행': 836,\n",
       " '한심': 837,\n",
       " '려': 838,\n",
       " '물론': 839,\n",
       " '발': 840,\n",
       " '산': 841,\n",
       " '삼': 842,\n",
       " '이하': 843,\n",
       " '관계': 844,\n",
       " '전형': 845,\n",
       " '조': 846,\n",
       " '따라': 847,\n",
       " '역대': 848,\n",
       " '점점': 849,\n",
       " '편집': 850,\n",
       " '짧': 851,\n",
       " '총': 852,\n",
       " '멜': 853,\n",
       " '법': 854,\n",
       " '충분히': 855,\n",
       " '안타깝': 856,\n",
       " '던가': 857,\n",
       " '따': 858,\n",
       " '에겐': 859,\n",
       " '아닌가': 860,\n",
       " '화이팅': 861,\n",
       " '식상': 862,\n",
       " 'tv': 863,\n",
       " '80': 864,\n",
       " '김': 865,\n",
       " '자꾸': 866,\n",
       " '훈훈': 867,\n",
       " '미안': 868,\n",
       " '도록': 869,\n",
       " '아까워': 870,\n",
       " '게임': 871,\n",
       " '장': 872,\n",
       " '잖아': 873,\n",
       " '몰랐': 874,\n",
       " '원래': 875,\n",
       " '곳': 876,\n",
       " '그게': 877,\n",
       " '구요': 878,\n",
       " '자극': 879,\n",
       " '몸': 880,\n",
       " '손': 881,\n",
       " '풀': 882,\n",
       " '나쁜': 883,\n",
       " '어쩔': 884,\n",
       " '사건': 885,\n",
       " '설명': 886,\n",
       " '뭔지': 887,\n",
       " '똑같': 888,\n",
       " '간다': 889,\n",
       " '어울리': 890,\n",
       " '귀신': 891,\n",
       " '팔': 892,\n",
       " '그래픽': 893,\n",
       " '짐': 894,\n",
       " '과거': 895,\n",
       " '노력': 896,\n",
       " '황당': 897,\n",
       " '도저히': 898,\n",
       " '상상': 899,\n",
       " '빠': 900,\n",
       " '개그': 901,\n",
       " '짜': 902,\n",
       " '조차': 903,\n",
       " '닿': 904,\n",
       " '됬': 905,\n",
       " '죽음': 906,\n",
       " '아프': 907,\n",
       " '듬': 908,\n",
       " '프랑스': 909,\n",
       " '코메디': 910,\n",
       " '무조건': 911,\n",
       " '미치': 912,\n",
       " '홍콩': 913,\n",
       " '취향': 914,\n",
       " '속편': 915,\n",
       " '했었': 916,\n",
       " '중반': 917,\n",
       " '역': 918,\n",
       " '무비': 919,\n",
       " '짱짱': 920,\n",
       " '빠져': 921,\n",
       " '소중': 922,\n",
       " '헐': 923,\n",
       " '프로': 924,\n",
       " '멋': 925,\n",
       " 'good': 926,\n",
       " '더빙': 927,\n",
       " '간만에': 928,\n",
       " '병맛': 929,\n",
       " '아쉬운': 930,\n",
       " '나쁘': 931,\n",
       " '좋아하': 932,\n",
       " '특유': 933,\n",
       " '괜히': 934,\n",
       " '빠지': 935,\n",
       " '척': 936,\n",
       " '리': 937,\n",
       " '넘치': 938,\n",
       " '빙': 939,\n",
       " '상영': 940,\n",
       " '진지': 941,\n",
       " '쳐': 942,\n",
       " '더욱': 943,\n",
       " '유명': 944,\n",
       " '끝내': 945,\n",
       " '결혼': 946,\n",
       " '참신': 947,\n",
       " '전설': 948,\n",
       " '또한': 949,\n",
       " 'ost': 950,\n",
       " '엄청난': 951,\n",
       " '심리': 952,\n",
       " '무서운': 953,\n",
       " '숨': 954,\n",
       " '희망': 955,\n",
       " '오히려': 956,\n",
       " '예고편': 957,\n",
       " '별루': 958,\n",
       " '후반부': 959,\n",
       " '왕': 960,\n",
       " '아저씨': 961,\n",
       " '비추': 962,\n",
       " '틀': 963,\n",
       " '고자': 964,\n",
       " '심하': 965,\n",
       " '바보': 966,\n",
       " '연기자': 967,\n",
       " 'ㄴ': 968,\n",
       " '쩔': 969,\n",
       " '♡': 970,\n",
       " '촬영': 971,\n",
       " '천재': 972,\n",
       " '최근': 973,\n",
       " '소녀': 974,\n",
       " '느꼈': 975,\n",
       " '아도': 976,\n",
       " '이란': 977,\n",
       " '로맨틱': 978,\n",
       " '조연': 979,\n",
       " '그리': 980,\n",
       " '으니': 981,\n",
       " '억지로': 982,\n",
       " '가볍': 983,\n",
       " '는구나': 984,\n",
       " '마무리': 985,\n",
       " 'SF': 986,\n",
       " '표정': 987,\n",
       " '새끼': 988,\n",
       " '현재': 989,\n",
       " '전편': 990,\n",
       " '어라': 991,\n",
       " '온': 992,\n",
       " '대작': 993,\n",
       " '아무것': 994,\n",
       " '흠': 995,\n",
       " '동화': 996,\n",
       " '힘든': 997,\n",
       " '저질': 998,\n",
       " '로서': 999,\n",
       " ...}"
      ]
     },
     "execution_count": 62,
     "metadata": {},
     "output_type": "execute_result"
    }
   ],
   "source": [
    "word_to_index = {word:index for index, word in enumerate(vocab)}\n",
    "word_to_index"
   ]
  },
  {
   "cell_type": "code",
   "execution_count": 63,
   "metadata": {
    "id": "KyXt00H_P2gh"
   },
   "outputs": [],
   "source": [
    "def wordlist_to_indexlist(wordlist):\n",
    "    return [word_to_index[word] if word in word_to_index else word_to_index[\"<UNK>\"] for word in wordlist]"
   ]
  },
  {
   "cell_type": "code",
   "execution_count": 64,
   "metadata": {
    "id": "Q3jpfinsQNcw"
   },
   "outputs": [],
   "source": [
    "X_train = list(map(wordlist_to_indexlist, train_word))\n",
    "X_test = list(map(wordlist_to_indexlist, test_word))"
   ]
  },
  {
   "cell_type": "code",
   "execution_count": 65,
   "metadata": {
    "id": "eWSsiTWDQ4S1"
   },
   "outputs": [],
   "source": [
    "y_train = np.array(list(train_df['label']))\n",
    "y_test = np.array(list(test_df['label']))"
   ]
  },
  {
   "cell_type": "code",
   "execution_count": 66,
   "metadata": {
    "id": "BV2ajKBOQ-6a"
   },
   "outputs": [],
   "source": [
    "index_to_word = {index:word for word,index in word_to_index.items()}"
   ]
  },
  {
   "cell_type": "code",
   "execution_count": 67,
   "metadata": {
    "id": "gkous4fPQcOo"
   },
   "outputs": [],
   "source": [
    "# 문장과 딕셔너리를 함께주면 단어 인덱스 리스트 벡터로 변환\n",
    "# 모든 문장은 BOS로 시작\n",
    "def get_encoded_sentence(sentence, word_to_index):\n",
    "    return [word_to_index['<BOS>']]+[word_to_index[word] if word in word_to_index else word_to_index['<UNK>'] for word in sentence.split()]"
   ]
  },
  {
   "cell_type": "code",
   "execution_count": 68,
   "metadata": {
    "id": "e5MLzRqNR4Ev"
   },
   "outputs": [],
   "source": [
    "def get_encoded_sentences(sentences, word_to_index):\n",
    "    return [get_encoded_sentence(sentence, word_to_index) for sentence in sentences]"
   ]
  },
  {
   "cell_type": "code",
   "execution_count": 69,
   "metadata": {
    "id": "FCl8oIBiSTZn"
   },
   "outputs": [],
   "source": [
    "def get_decoded_sentence(encoded_sentence, index_to_word):\n",
    "    return \" \".join(index_to_word[index] if index in index_to_word else '<UNK>' for index in encoded_sentence[1:])"
   ]
  },
  {
   "cell_type": "code",
   "execution_count": 70,
   "metadata": {
    "id": "rOn3htrgSknf"
   },
   "outputs": [],
   "source": [
    "def get_decoded_sentences(encoded_sentences, index_to_word):\n",
    "    return [get_decoded_sentence(sentence,index_to_word) for sentence in encoded_sentences]"
   ]
  },
  {
   "cell_type": "code",
   "execution_count": 71,
   "metadata": {
    "id": "mspeRcKjTc8C"
   },
   "outputs": [],
   "source": [
    "X = get_decoded_sentences(X_train, index_to_word)"
   ]
  },
  {
   "cell_type": "code",
   "execution_count": 72,
   "metadata": {
    "id": "D5FoUQXzURdJ"
   },
   "outputs": [],
   "source": [
    "X_t = get_decoded_sentences(X_test, index_to_word)"
   ]
  },
  {
   "cell_type": "code",
   "execution_count": 73,
   "metadata": {
    "id": "9q0l2P50T-eD"
   },
   "outputs": [],
   "source": [
    "total_data_text = X + X_t"
   ]
  },
  {
   "cell_type": "code",
   "execution_count": 74,
   "metadata": {
    "colab": {
     "base_uri": "https://localhost:8080/"
    },
    "id": "lEnX7JV5S7z_",
    "outputId": "1b2ff60b-c990-485e-9a7a-51e46707e65c",
    "scrolled": true
   },
   "outputs": [
    {
     "name": "stdout",
     "output_type": "stream",
     "text": [
      "문장길이 평균:  34.59880895235809\n",
      "문장길이 최대:  318\n",
      "문장길이 표준편차  32.62034964052177\n",
      "pad_sequences maxlen :  99\n",
      "전체 문장의 0.9344173766950677%가 maxlen 설정값 이내에 포함됩니다\n"
     ]
    }
   ],
   "source": [
    "num_tokens = [len(tokens) for tokens in total_data_text]\n",
    "num_tokens = np.array(num_tokens)\n",
    "print(\"문장길이 평균: \", np.mean(num_tokens))\n",
    "print(\"문장길이 최대: \", np.max(num_tokens))\n",
    "print(\"문장길이 표준편차 \", np.std(num_tokens))\n",
    "\n",
    "max_tokens = np.mean(num_tokens) + 2 * np.std(num_tokens)\n",
    "maxlen = int(max_tokens)\n",
    "print('pad_sequences maxlen : ', maxlen)\n",
    "print(f'전체 문장의 {np.sum(num_tokens < max_tokens) / len(num_tokens)}%가 maxlen 설정값 이내에 포함됩니다')"
   ]
  },
  {
   "cell_type": "markdown",
   "metadata": {},
   "source": [
    "시각화보단 덜하지만 직관적으로 데이터의 상태를 볼 수 있어 좋았고 계산과 함께  \n",
    "파라미터화 시켜두면 추가적인 고민 없이 계속 코딩을 진행하기에 좋을 것 같다"
   ]
  },
  {
   "cell_type": "code",
   "execution_count": 75,
   "metadata": {
    "id": "Tb_0ZWrXVxbu"
   },
   "outputs": [],
   "source": [
    "import tensorflow as tf"
   ]
  },
  {
   "cell_type": "code",
   "execution_count": 76,
   "metadata": {
    "colab": {
     "base_uri": "https://localhost:8080/"
    },
    "id": "msXQ74ArVcwl",
    "outputId": "311ae148-e377-441e-ac89-961f606cbc82"
   },
   "outputs": [
    {
     "name": "stdout",
     "output_type": "stream",
     "text": [
      "(149995, 99)\n"
     ]
    }
   ],
   "source": [
    "X_train = tf.keras.preprocessing.sequence.pad_sequences(X_train,\n",
    "                                                        value=word_to_index[\"<PAD>\"],\n",
    "                                                        padding='pre',\n",
    "                                                        maxlen=maxlen)\n",
    "X_test = tf.keras.preprocessing.sequence.pad_sequences(X_test,\n",
    "                                                       value=word_to_index[\"<PAD>\"],\n",
    "                                                       padding='pre',\n",
    "                                                       maxlen=maxlen)\n",
    "print(X_train.shape)"
   ]
  },
  {
   "cell_type": "markdown",
   "metadata": {
    "id": "PntYoybCZsWp"
   },
   "source": [
    "## Model 1"
   ]
  },
  {
   "cell_type": "code",
   "execution_count": 77,
   "metadata": {
    "colab": {
     "base_uri": "https://localhost:8080/"
    },
    "id": "7C8v4hpsVvyx",
    "outputId": "e9e4db6d-aa4b-4595-f0fb-59fc6510a540"
   },
   "outputs": [
    {
     "name": "stdout",
     "output_type": "stream",
     "text": [
      "(29995, 99)\n",
      "(29995,)\n",
      "Epoch 1/10\n",
      "59/59 [==============================] - 4s 52ms/step - loss: 0.6215 - accuracy: 0.6927 - val_loss: 0.4754 - val_accuracy: 0.7852\n",
      "Epoch 2/10\n",
      "59/59 [==============================] - 3s 45ms/step - loss: 0.3872 - accuracy: 0.8335 - val_loss: 0.3885 - val_accuracy: 0.8270\n",
      "Epoch 3/10\n",
      "59/59 [==============================] - 3s 45ms/step - loss: 0.3021 - accuracy: 0.8796 - val_loss: 0.3937 - val_accuracy: 0.8277\n",
      "Epoch 4/10\n",
      "59/59 [==============================] - 3s 46ms/step - loss: 0.2626 - accuracy: 0.9001 - val_loss: 0.4102 - val_accuracy: 0.8264\n",
      "Epoch 5/10\n",
      "59/59 [==============================] - 3s 46ms/step - loss: 0.2312 - accuracy: 0.9135 - val_loss: 0.4433 - val_accuracy: 0.8217\n",
      "Epoch 6/10\n",
      "59/59 [==============================] - 3s 47ms/step - loss: 0.2045 - accuracy: 0.9254 - val_loss: 0.4686 - val_accuracy: 0.8178\n",
      "Epoch 7/10\n",
      "59/59 [==============================] - 3s 47ms/step - loss: 0.1785 - accuracy: 0.9358 - val_loss: 0.5095 - val_accuracy: 0.8135\n",
      "Epoch 8/10\n",
      "59/59 [==============================] - 3s 47ms/step - loss: 0.1600 - accuracy: 0.9419 - val_loss: 0.5680 - val_accuracy: 0.8053\n",
      "Epoch 9/10\n",
      "59/59 [==============================] - 3s 47ms/step - loss: 0.1380 - accuracy: 0.9497 - val_loss: 0.6754 - val_accuracy: 0.8089\n",
      "Epoch 10/10\n",
      "59/59 [==============================] - 3s 47ms/step - loss: 0.1205 - accuracy: 0.9553 - val_loss: 0.6814 - val_accuracy: 0.8069\n",
      "1563/1563 - 4s - loss: 0.6878 - accuracy: 0.8033\n",
      "[0.68781977891922, 0.8032681941986084]\n",
      "dict_keys(['loss', 'accuracy', 'val_loss', 'val_accuracy'])\n"
     ]
    }
   ],
   "source": [
    "vocab_size = len(vocab)\n",
    "word_vector_dim = 99\n",
    "\n",
    "model = tf.keras.Sequential()\n",
    "model.add(tf.keras.layers.Embedding(vocab_size, word_vector_dim, input_shape=(None,)))\n",
    "model.add(tf.keras.layers.LSTM(99))\n",
    "model.add(tf.keras.layers.Dense(128, activation='relu'))\n",
    "model.add(tf.keras.layers.Dense(64, activation='relu'))\n",
    "model.add(tf.keras.layers.Dense(1, activation='sigmoid'))\n",
    "\n",
    "\n",
    "# validation 분리\n",
    "X_val = X_train[:120000]\n",
    "y_val = y_train[:120000]\n",
    "\n",
    "# validation 제외 train set\n",
    "partial_x_train = X_train[120000:]\n",
    "partial_y_train = y_train[120000:]\n",
    "\n",
    "print(partial_x_train.shape)\n",
    "print(partial_y_train.shape)\n",
    "model.compile(optimizer='adam',\n",
    "              loss='binary_crossentropy',\n",
    "              metrics=['accuracy'])\n",
    "\n",
    "epochs=10\n",
    "\n",
    "history = model.fit(partial_x_train,\n",
    "                    partial_y_train,\n",
    "                    epochs=epochs,\n",
    "                    batch_size=512,\n",
    "                    validation_data=(X_val, y_val),\n",
    "                    verbose=1)\n",
    "results = model.evaluate(X_test, y_test, verbose=2)\n",
    "print(results)\n",
    "history_dict = history.history\n",
    "print(history_dict.keys())"
   ]
  },
  {
   "cell_type": "code",
   "execution_count": 78,
   "metadata": {
    "colab": {
     "base_uri": "https://localhost:8080/",
     "height": 295
    },
    "id": "jNUUoW-6ZHQF",
    "outputId": "11b81450-057e-49cb-81c1-e36de0eb999f",
    "scrolled": true
   },
   "outputs": [
    {
     "data": {
      "image/png": "[encoded data removed]",
      "text/plain": [
       "<Figure size 432x288 with 1 Axes>"
      ]
     },
     "metadata": {
      "needs_background": "light"
     },
     "output_type": "display_data"
    }
   ],
   "source": [
    "import matplotlib.pyplot as plt\n",
    "\n",
    "acc = history_dict['accuracy']\n",
    "val_acc = history_dict['val_accuracy']\n",
    "loss = history_dict['loss']\n",
    "val_loss = history_dict['val_loss']\n",
    "\n",
    "epochs = range(1, len(acc) +1)\n",
    "\n",
    "plt.plot(epochs, loss, 'bo', label='Training loss')\n",
    "plt.plot(epochs, val_loss, 'b', label='Validation loss')\n",
    "plt.title('Training and validation loss')\n",
    "plt.xlabel('Epochs')\n",
    "plt.ylabel('Loss')\n",
    "plt.legend()\n",
    "plt.show()"
   ]
  },
  {
   "cell_type": "markdown",
   "metadata": {},
   "source": [
    "LSTM과 함게 랜덤하게 파라미터를 구성하였는데 조금의 에포크 이후로 과적합되는 현상이  \n",
    "발생하였다 레이어 구성에 대해서 이론적인 지식이 더 필요함"
   ]
  },
  {
   "cell_type": "markdown",
   "metadata": {
    "id": "3Iql4mz3ZzUU"
   },
   "source": [
    "## Model 2"
   ]
  },
  {
   "cell_type": "code",
   "execution_count": 79,
   "metadata": {
    "colab": {
     "base_uri": "https://localhost:8080/"
    },
    "id": "KU5AHOmyZwXt",
    "outputId": "3a2ebaca-c78d-4876-a607-67896c4f71e2"
   },
   "outputs": [
    {
     "name": "stdout",
     "output_type": "stream",
     "text": [
      "(29995, 99)\n",
      "(29995,)\n",
      "Epoch 1/20\n",
      "59/59 [==============================] - 3s 28ms/step - loss: 0.6877 - accuracy: 0.5582 - val_loss: 0.6608 - val_accuracy: 0.6612\n",
      "Epoch 2/20\n",
      "59/59 [==============================] - 1s 16ms/step - loss: 0.5463 - accuracy: 0.7380 - val_loss: 0.4976 - val_accuracy: 0.7438\n",
      "Epoch 3/20\n",
      "59/59 [==============================] - 1s 16ms/step - loss: 0.4089 - accuracy: 0.8023 - val_loss: 0.4942 - val_accuracy: 0.7491\n",
      "Epoch 4/20\n",
      "59/59 [==============================] - 1s 15ms/step - loss: 0.3424 - accuracy: 0.8421 - val_loss: 0.5193 - val_accuracy: 0.7483\n",
      "Epoch 5/20\n",
      "59/59 [==============================] - 1s 15ms/step - loss: 0.2863 - accuracy: 0.8688 - val_loss: 0.5609 - val_accuracy: 0.7448\n",
      "Epoch 6/20\n",
      "59/59 [==============================] - 1s 15ms/step - loss: 0.2386 - accuracy: 0.8892 - val_loss: 0.6017 - val_accuracy: 0.7418\n",
      "Epoch 7/20\n",
      "59/59 [==============================] - 1s 15ms/step - loss: 0.1972 - accuracy: 0.9067 - val_loss: 0.6565 - val_accuracy: 0.7373\n",
      "Epoch 8/20\n",
      "59/59 [==============================] - 1s 15ms/step - loss: 0.1689 - accuracy: 0.9164 - val_loss: 0.7103 - val_accuracy: 0.7363\n",
      "Epoch 9/20\n",
      "59/59 [==============================] - 1s 15ms/step - loss: 0.1477 - accuracy: 0.9240 - val_loss: 0.7782 - val_accuracy: 0.7330\n",
      "Epoch 10/20\n",
      "59/59 [==============================] - 1s 15ms/step - loss: 0.1327 - accuracy: 0.9293 - val_loss: 0.8403 - val_accuracy: 0.7314\n",
      "Epoch 11/20\n",
      "59/59 [==============================] - 1s 15ms/step - loss: 0.1250 - accuracy: 0.9323 - val_loss: 0.9011 - val_accuracy: 0.7315\n",
      "Epoch 12/20\n",
      "59/59 [==============================] - 1s 15ms/step - loss: 0.1164 - accuracy: 0.9320 - val_loss: 0.9373 - val_accuracy: 0.7300\n",
      "Epoch 13/20\n",
      "59/59 [==============================] - 1s 16ms/step - loss: 0.1105 - accuracy: 0.9357 - val_loss: 0.9859 - val_accuracy: 0.7277\n",
      "Epoch 14/20\n",
      "59/59 [==============================] - 1s 15ms/step - loss: 0.1074 - accuracy: 0.9365 - val_loss: 1.0415 - val_accuracy: 0.7294\n",
      "Epoch 15/20\n",
      "59/59 [==============================] - 1s 15ms/step - loss: 0.1038 - accuracy: 0.9382 - val_loss: 1.0656 - val_accuracy: 0.7278\n",
      "Epoch 16/20\n",
      "59/59 [==============================] - 1s 15ms/step - loss: 0.1034 - accuracy: 0.9360 - val_loss: 1.0996 - val_accuracy: 0.7276\n",
      "Epoch 17/20\n",
      "59/59 [==============================] - 1s 15ms/step - loss: 0.1004 - accuracy: 0.9397 - val_loss: 1.1594 - val_accuracy: 0.7243\n",
      "Epoch 18/20\n",
      "59/59 [==============================] - 1s 15ms/step - loss: 0.0982 - accuracy: 0.9386 - val_loss: 1.1840 - val_accuracy: 0.7270\n",
      "Epoch 19/20\n",
      "59/59 [==============================] - 1s 15ms/step - loss: 0.0968 - accuracy: 0.9385 - val_loss: 1.2183 - val_accuracy: 0.7259\n",
      "Epoch 20/20\n",
      "59/59 [==============================] - 1s 15ms/step - loss: 0.0949 - accuracy: 0.9410 - val_loss: 1.2985 - val_accuracy: 0.7243\n",
      "1563/1563 - 3s - loss: 1.3201 - accuracy: 0.7225\n",
      "[1.3201183080673218, 0.7224833369255066]\n",
      "dict_keys(['loss', 'accuracy', 'val_loss', 'val_accuracy'])\n"
     ]
    }
   ],
   "source": [
    "vocab_size = len(vocab)\n",
    "word_vector_dim = 99\n",
    "\n",
    "model = tf.keras.Sequential()\n",
    "model.add(tf.keras.layers.Embedding(vocab_size, word_vector_dim, input_shape=(None,)))\n",
    "model.add(tf.keras.layers.Conv1D(16, 7, activation='relu'))\n",
    "model.add(tf.keras.layers.MaxPool1D(5))\n",
    "model.add(tf.keras.layers.Conv1D(16, 7, activation='relu'))\n",
    "model.add(tf.keras.layers.GlobalMaxPooling1D())\n",
    "model.add(tf.keras.layers.Dense(8, activation='relu'))\n",
    "model.add(tf.keras.layers.Dense(1, activation='sigmoid'))\n",
    "\n",
    "\n",
    "# validation 분리\n",
    "X_val = X_train[:120000]\n",
    "y_val = y_train[:120000]\n",
    "\n",
    "# validation 제외 train set\n",
    "partial_x_train = X_train[120000:]\n",
    "partial_y_train = y_train[120000:]\n",
    "\n",
    "print(partial_x_train.shape)\n",
    "print(partial_y_train.shape)\n",
    "model.compile(optimizer='adam',\n",
    "              loss='binary_crossentropy',\n",
    "              metrics=['accuracy'])\n",
    "\n",
    "epochs=20\n",
    "\n",
    "history = model.fit(partial_x_train,\n",
    "                    partial_y_train,\n",
    "                    epochs=epochs,\n",
    "                    batch_size=512,\n",
    "                    validation_data=(X_val, y_val),\n",
    "                    verbose=1)\n",
    "results = model.evaluate(X_test, y_test, verbose=2)\n",
    "print(results)\n",
    "history_dict = history.history\n",
    "print(history_dict.keys())"
   ]
  },
  {
   "cell_type": "code",
   "execution_count": 81,
   "metadata": {
    "colab": {
     "base_uri": "https://localhost:8080/",
     "height": 295
    },
    "id": "u7iotQjjZxwB",
    "outputId": "42ef4ee5-51c3-4dac-e946-f2b549bea555",
    "scrolled": true
   },
   "outputs": [
    {
     "data": {
      "image/png": "[encoded data removed]",
      "text/plain": [
       "<Figure size 432x288 with 1 Axes>"
      ]
     },
     "metadata": {
      "needs_background": "light"
     },
     "output_type": "display_data"
    }
   ],
   "source": [
    "acc = history_dict['accuracy']\n",
    "val_acc = history_dict['val_accuracy']\n",
    "loss = history_dict['loss']\n",
    "val_loss = history_dict['val_loss']\n",
    "\n",
    "epochs = range(1, len(acc) +1)\n",
    "\n",
    "plt.plot(epochs, loss, 'bo', label='Training loss')\n",
    "plt.plot(epochs, val_loss, 'b', label='Validation loss')\n",
    "plt.title('Training and validation loss')\n",
    "plt.xlabel('Epochs')\n",
    "plt.ylabel('Loss')\n",
    "plt.legend()\n",
    "plt.show()"
   ]
  },
  {
   "cell_type": "markdown",
   "metadata": {},
   "source": [
    "CNN처럼 구성한 내용인데 역시 적은 에포크 이후에 바로 과적합이 되어버렸다  \n",
    "모델을 바꾸는 선에서의 개선은 쉽지 않아 보인다"
   ]
  },
  {
   "cell_type": "markdown",
   "metadata": {
    "id": "T0sQXCddbTD2"
   },
   "source": [
    "## Model 3"
   ]
  },
  {
   "cell_type": "code",
   "execution_count": 82,
   "metadata": {
    "colab": {
     "base_uri": "https://localhost:8080/"
    },
    "id": "x2-nwDDpafgE",
    "outputId": "bf916eea-59f6-4f90-a700-72aeb944093b"
   },
   "outputs": [
    {
     "name": "stdout",
     "output_type": "stream",
     "text": [
      "(29995, 99)\n",
      "(29995,)\n",
      "Epoch 1/10\n",
      "59/59 [==============================] - 4s 42ms/step - loss: 0.6635 - accuracy: 0.5865 - val_loss: 0.5390 - val_accuracy: 0.7250\n",
      "Epoch 2/10\n",
      "59/59 [==============================] - 2s 31ms/step - loss: 0.4715 - accuracy: 0.7624 - val_loss: 0.4845 - val_accuracy: 0.7533\n",
      "Epoch 3/10\n",
      "59/59 [==============================] - 2s 31ms/step - loss: 0.3837 - accuracy: 0.8175 - val_loss: 0.5012 - val_accuracy: 0.7514\n",
      "Epoch 4/10\n",
      "59/59 [==============================] - 2s 31ms/step - loss: 0.3272 - accuracy: 0.8463 - val_loss: 0.5445 - val_accuracy: 0.7463\n",
      "Epoch 5/10\n",
      "59/59 [==============================] - 2s 31ms/step - loss: 0.2711 - accuracy: 0.8731 - val_loss: 0.6050 - val_accuracy: 0.7424\n",
      "Epoch 6/10\n",
      "59/59 [==============================] - 2s 31ms/step - loss: 0.2224 - accuracy: 0.8937 - val_loss: 0.6744 - val_accuracy: 0.7357\n",
      "Epoch 7/10\n",
      "59/59 [==============================] - 2s 31ms/step - loss: 0.1847 - accuracy: 0.9099 - val_loss: 0.7716 - val_accuracy: 0.7324\n",
      "Epoch 8/10\n",
      "59/59 [==============================] - 2s 31ms/step - loss: 0.1568 - accuracy: 0.9189 - val_loss: 0.8764 - val_accuracy: 0.7297\n",
      "Epoch 9/10\n",
      "59/59 [==============================] - 2s 31ms/step - loss: 0.1391 - accuracy: 0.9272 - val_loss: 0.9580 - val_accuracy: 0.7247\n",
      "Epoch 10/10\n",
      "59/59 [==============================] - 2s 31ms/step - loss: 0.1254 - accuracy: 0.9304 - val_loss: 1.0442 - val_accuracy: 0.7255\n",
      "1563/1563 - 3s - loss: 1.0485 - accuracy: 0.7234\n",
      "[1.048534631729126, 0.7234033942222595]\n",
      "dict_keys(['loss', 'accuracy', 'val_loss', 'val_accuracy'])\n"
     ]
    }
   ],
   "source": [
    "vocab_size = len(vocab)\n",
    "word_vector_dim = 99\n",
    "\n",
    "model = tf.keras.Sequential()\n",
    "model.add(tf.keras.layers.Embedding(vocab_size, word_vector_dim, input_shape=(None,)))\n",
    "model.add(tf.keras.layers.Conv1D(99, 7, activation='relu'))\n",
    "model.add(tf.keras.layers.MaxPool1D(5))\n",
    "model.add(tf.keras.layers.Conv1D(99, 7, activation='relu'))\n",
    "model.add(tf.keras.layers.GlobalMaxPooling1D())\n",
    "model.add(tf.keras.layers.Dense(8, activation='relu'))\n",
    "model.add(tf.keras.layers.Dense(1, activation='sigmoid'))\n",
    "\n",
    "\n",
    "# validation 분리\n",
    "X_val = X_train[:120000]\n",
    "y_val = y_train[:120000]\n",
    "\n",
    "# validation 제외 train set\n",
    "partial_x_train = X_train[120000:]\n",
    "partial_y_train = y_train[120000:]\n",
    "\n",
    "print(partial_x_train.shape)\n",
    "print(partial_y_train.shape)\n",
    "model.compile(optimizer='adam',\n",
    "              loss='binary_crossentropy',\n",
    "              metrics=['accuracy'])\n",
    "\n",
    "epochs=10\n",
    "\n",
    "history = model.fit(partial_x_train,\n",
    "                    partial_y_train,\n",
    "                    epochs=epochs,\n",
    "                    batch_size=512,\n",
    "                    validation_data=(X_val, y_val),\n",
    "                    verbose=1)\n",
    "results = model.evaluate(X_test, y_test, verbose=2)\n",
    "print(results)\n",
    "history_dict = history.history\n",
    "print(history_dict.keys())"
   ]
  },
  {
   "cell_type": "code",
   "execution_count": 83,
   "metadata": {
    "colab": {
     "base_uri": "https://localhost:8080/",
     "height": 295
    },
    "id": "u5m-LOKHbFOA",
    "outputId": "3025c11b-ee0b-46f0-a07e-9dae298bc590"
   },
   "outputs": [
    {
     "data": {
      "image/png": "[encoded data removed]",
      "text/plain": [
       "<Figure size 432x288 with 1 Axes>"
      ]
     },
     "metadata": {
      "needs_background": "light"
     },
     "output_type": "display_data"
    }
   ],
   "source": [
    "acc = history_dict['accuracy']\n",
    "val_acc = history_dict['val_accuracy']\n",
    "loss = history_dict['loss']\n",
    "val_loss = history_dict['val_loss']\n",
    "\n",
    "epochs = range(1, len(acc) +1)\n",
    "\n",
    "plt.plot(epochs, loss, 'bo', label='Training loss')\n",
    "plt.plot(epochs, val_loss, 'b', label='Validation loss')\n",
    "plt.title('Training and validation loss')\n",
    "plt.xlabel('Epochs')\n",
    "plt.ylabel('Loss')\n",
    "plt.legend()\n",
    "plt.show()"
   ]
  },
  {
   "cell_type": "markdown",
   "metadata": {},
   "source": [
    "비슷한 모델에 뉴런의 갯수만 바꿔본 내용이지만 크게 달라지는 것이 없다  \n",
    "데이터 자체가 크게 변한게 없어서 그런지 대체로 비슷한 현상이 발생한다"
   ]
  },
  {
   "cell_type": "markdown",
   "metadata": {
    "id": "ydaJK8VfbdHo"
   },
   "source": [
    "## Model 4"
   ]
  },
  {
   "cell_type": "code",
   "execution_count": 84,
   "metadata": {
    "colab": {
     "base_uri": "https://localhost:8080/"
    },
    "id": "d6164gHGbN2R",
    "outputId": "a5d68c9e-5f0a-4c0a-b13f-138b7b36b192"
   },
   "outputs": [
    {
     "name": "stdout",
     "output_type": "stream",
     "text": [
      "(29995, 99)\n",
      "(29995,)\n",
      "Epoch 1/10\n",
      "59/59 [==============================] - 1s 13ms/step - loss: 0.6658 - accuracy: 0.7370 - val_loss: 0.6130 - val_accuracy: 0.7987\n",
      "Epoch 2/10\n",
      "59/59 [==============================] - 1s 10ms/step - loss: 0.5166 - accuracy: 0.8272 - val_loss: 0.4419 - val_accuracy: 0.8187\n",
      "Epoch 3/10\n",
      "59/59 [==============================] - 1s 10ms/step - loss: 0.3632 - accuracy: 0.8621 - val_loss: 0.3796 - val_accuracy: 0.8311\n",
      "Epoch 4/10\n",
      "59/59 [==============================] - 1s 10ms/step - loss: 0.2900 - accuracy: 0.8880 - val_loss: 0.3689 - val_accuracy: 0.8363\n",
      "Epoch 5/10\n",
      "59/59 [==============================] - 1s 10ms/step - loss: 0.2432 - accuracy: 0.9088 - val_loss: 0.3697 - val_accuracy: 0.8358\n",
      "Epoch 6/10\n",
      "59/59 [==============================] - 1s 10ms/step - loss: 0.2058 - accuracy: 0.9258 - val_loss: 0.3797 - val_accuracy: 0.8360\n",
      "Epoch 7/10\n",
      "59/59 [==============================] - 1s 10ms/step - loss: 0.1740 - accuracy: 0.9404 - val_loss: 0.3911 - val_accuracy: 0.8348\n",
      "Epoch 8/10\n",
      "59/59 [==============================] - 1s 10ms/step - loss: 0.1463 - accuracy: 0.9534 - val_loss: 0.4080 - val_accuracy: 0.8331\n",
      "Epoch 9/10\n",
      "59/59 [==============================] - 1s 10ms/step - loss: 0.1230 - accuracy: 0.9617 - val_loss: 0.4272 - val_accuracy: 0.8311\n",
      "Epoch 10/10\n",
      "59/59 [==============================] - 1s 10ms/step - loss: 0.1034 - accuracy: 0.9693 - val_loss: 0.4490 - val_accuracy: 0.8295\n",
      "1563/1563 - 2s - loss: 0.4537 - accuracy: 0.8282\n",
      "[0.4537319540977478, 0.8281896710395813]\n",
      "dict_keys(['loss', 'accuracy', 'val_loss', 'val_accuracy'])\n"
     ]
    }
   ],
   "source": [
    "vocab_size = len(vocab)\n",
    "word_vector_dim = 99\n",
    "\n",
    "model = tf.keras.Sequential()\n",
    "model.add(tf.keras.layers.Embedding(vocab_size, word_vector_dim, input_shape=(None,)))\n",
    "model.add(tf.keras.layers.GlobalMaxPooling1D())\n",
    "model.add(tf.keras.layers.Dense(8, activation='relu'))\n",
    "model.add(tf.keras.layers.Dense(1, activation='sigmoid'))\n",
    "\n",
    "\n",
    "# validation 분리\n",
    "X_val = X_train[:120000]\n",
    "y_val = y_train[:120000]\n",
    "\n",
    "# validation 제외 train set\n",
    "partial_x_train = X_train[120000:]\n",
    "partial_y_train = y_train[120000:]\n",
    "\n",
    "print(partial_x_train.shape)\n",
    "print(partial_y_train.shape)\n",
    "model.compile(optimizer='adam',\n",
    "              loss='binary_crossentropy',\n",
    "              metrics=['accuracy'])\n",
    "\n",
    "epochs=10\n",
    "\n",
    "history = model.fit(partial_x_train,\n",
    "                    partial_y_train,\n",
    "                    epochs=epochs,\n",
    "                    batch_size=512,\n",
    "                    validation_data=(X_val, y_val),\n",
    "                    verbose=1)\n",
    "results = model.evaluate(X_test, y_test, verbose=2)\n",
    "print(results)\n",
    "history_dict = history.history\n",
    "print(history_dict.keys())"
   ]
  },
  {
   "cell_type": "code",
   "execution_count": 85,
   "metadata": {
    "colab": {
     "base_uri": "https://localhost:8080/",
     "height": 295
    },
    "id": "paz99UgKbn_j",
    "outputId": "73f2d10a-7419-492c-bca7-378cca23e9ed"
   },
   "outputs": [
    {
     "data": {
      "image/png": "[encoded data removed]",
      "text/plain": [
       "<Figure size 432x288 with 1 Axes>"
      ]
     },
     "metadata": {
      "needs_background": "light"
     },
     "output_type": "display_data"
    }
   ],
   "source": [
    "acc = history_dict['accuracy']\n",
    "val_acc = history_dict['val_accuracy']\n",
    "loss = history_dict['loss']\n",
    "val_loss = history_dict['val_loss']\n",
    "\n",
    "epochs = range(1, len(acc) +1)\n",
    "\n",
    "plt.plot(epochs, loss, 'bo', label='Training loss')\n",
    "plt.plot(epochs, val_loss, 'b', label='Validation loss')\n",
    "plt.title('Training and validation loss')\n",
    "plt.xlabel('Epochs')\n",
    "plt.ylabel('Loss')\n",
    "plt.legend()\n",
    "plt.show()"
   ]
  },
  {
   "cell_type": "markdown",
   "metadata": {},
   "source": [
    "정말 간단한 레이어로 구성을 했는데도 사실상 결과가 비슷하게 나온다  \n",
    "성능의 이점은 확실하게 볼 수 있었다"
   ]
  },
  {
   "cell_type": "markdown",
   "metadata": {
    "id": "VsYlBiBfcmfq"
   },
   "source": [
    "### trained layer analytics"
   ]
  },
  {
   "cell_type": "code",
   "execution_count": 86,
   "metadata": {
    "id": "XCyUE0e4c42p"
   },
   "outputs": [],
   "source": [
    "import os"
   ]
  },
  {
   "cell_type": "code",
   "execution_count": 87,
   "metadata": {
    "colab": {
     "base_uri": "https://localhost:8080/"
    },
    "id": "TmL-tHnLcLp5",
    "outputId": "2e0c524f-2906-40e4-ab08-f58f222ea133"
   },
   "outputs": [
    {
     "name": "stdout",
     "output_type": "stream",
     "text": [
      "(10000, 99)\n"
     ]
    }
   ],
   "source": [
    "embedding_layer = model.layers[0]\n",
    "weights = embedding_layer.get_weights()[0]\n",
    "print(weights.shape)\n",
    "word2vec_file_path = 'navermovie.txt'\n",
    "with open(word2vec_file_path, 'w') as f:\n",
    "    f.write(f'{vocab_size-4} {word_vector_dim}\\n')\n",
    "    # 단어 개수 중 특수토큰 제외하고 워드 벡터를 파일에 기록\n",
    "    vectors = model.get_weights()[0]\n",
    "    for i in range(4, vocab_size):\n",
    "        f.write(f\"{index_to_word[i]} {' '.join(map(str,list(vectors[i,:])))}\\n\")\n"
   ]
  },
  {
   "cell_type": "code",
   "execution_count": 88,
   "metadata": {
    "colab": {
     "base_uri": "https://localhost:8080/",
     "height": 211
    },
    "id": "IC9VFbLzc2HB",
    "outputId": "d41b41ca-a287-41b2-f74e-294d5e1bb870",
    "scrolled": true
   },
   "outputs": [],
   "source": [
    "from gensim.models.keyedvectors import Word2VecKeyedVectors\n",
    "word_vectors = Word2VecKeyedVectors.load_word2vec_format(word2vec_file_path, binary=False)"
   ]
  },
  {
   "cell_type": "code",
   "execution_count": 89,
   "metadata": {
    "colab": {
     "base_uri": "https://localhost:8080/"
    },
    "id": "DMt-j95GdF0H",
    "outputId": "df6d23b5-c3a2-4dff-f9e4-f975493df232"
   },
   "outputs": [
    {
     "data": {
      "text/plain": [
       "array([-0.10225441, -0.06343114, -0.07490182, -0.04450472, -0.08622109,\n",
       "       -0.05782482, -0.04036952, -0.07430698, -0.09618952, -0.07585834,\n",
       "       -0.07032312, -0.07263736, -0.07290525, -0.01592419,  0.02611524,\n",
       "       -0.07087156, -0.08133247, -0.09632468, -0.07366094, -0.05733225,\n",
       "       -0.02222209, -0.10437074, -0.01971608, -0.1010703 , -0.06978337,\n",
       "       -0.06170178, -0.07167693, -0.08764325, -0.06125642, -0.05569237,\n",
       "       -0.05442672, -0.07303219, -0.07147165, -0.06885384, -0.08078971,\n",
       "       -0.06996785, -0.07468406, -0.0881625 , -0.07665418, -0.10129523,\n",
       "       -0.00809469, -0.04051515, -0.07594855, -0.0643535 , -0.07568026,\n",
       "       -0.05591517, -0.06408387, -0.07224893, -0.06611771, -0.07120726,\n",
       "       -0.03781758, -0.07509864, -0.10245646, -0.03710039, -0.08496539,\n",
       "       -0.09654107, -0.09508522, -0.05279119, -0.05023041, -0.04622685,\n",
       "       -0.0666201 , -0.06573015, -0.00063159, -0.10388895, -0.01904689,\n",
       "       -0.08434535, -0.04194871, -0.09705003, -0.06210348, -0.07715575,\n",
       "       -0.06935266, -0.0824113 , -0.04014097, -0.10251861, -0.05139462,\n",
       "       -0.07686859, -0.06522061, -0.03954908, -0.05681116, -0.06395184,\n",
       "       -0.04398959, -0.07610455, -0.04924869,  0.34371442, -0.08941689,\n",
       "       -0.07474019, -0.07754044, -0.07615418, -0.04188912, -0.0308988 ,\n",
       "       -0.05849654, -0.04937489, -0.0787566 , -0.11536338, -0.03459005,\n",
       "       -0.06266692, -0.01488717, -0.09243973, -0.06031085], dtype=float32)"
      ]
     },
     "execution_count": 89,
     "metadata": {},
     "output_type": "execute_result"
    }
   ],
   "source": [
    "vector = word_vectors['영화']\n",
    "vector"
   ]
  },
  {
   "cell_type": "code",
   "execution_count": 90,
   "metadata": {
    "colab": {
     "base_uri": "https://localhost:8080/"
    },
    "id": "3RmWIXRJdERd",
    "outputId": "d40ef132-e61f-4d0f-f568-5227573d932c"
   },
   "outputs": [
    {
     "data": {
      "text/plain": [
       "[('상큼', 0.5714950561523438),\n",
       " ('아주', 0.5711156725883484),\n",
       " ('춘', 0.5707631707191467),\n",
       " ('박수', 0.5658369660377502),\n",
       " ('무조건', 0.5491335988044739),\n",
       " ('멋', 0.5478000640869141),\n",
       " ('박보영', 0.5468530654907227),\n",
       " ('백', 0.5444365739822388),\n",
       " ('지나', 0.543109118938446),\n",
       " ('그립', 0.5395556092262268)]"
      ]
     },
     "execution_count": 90,
     "metadata": {},
     "output_type": "execute_result"
    }
   ],
   "source": [
    "word_vectors.similar_by_word(\"사랑\")"
   ]
  },
  {
   "cell_type": "code",
   "execution_count": 91,
   "metadata": {
    "colab": {
     "base_uri": "https://localhost:8080/"
    },
    "id": "8fiA7Rw6dMN6",
    "outputId": "c1161990-9c3e-4d54-8744-23d5beafd897"
   },
   "outputs": [
    {
     "data": {
      "text/plain": [
       "[('아서', 0.5166716575622559),\n",
       " ('개독', 0.48786744475364685),\n",
       " ('아', 0.4565810561180115),\n",
       " ('땜', 0.45479822158813477),\n",
       " ('불', 0.45033034682273865),\n",
       " ('마시', 0.4422617256641388),\n",
       " ('대로', 0.4417199492454529),\n",
       " ('내용', 0.440620481967926),\n",
       " ('이브', 0.4388628900051117),\n",
       " ('보다', 0.437381386756897)]"
      ]
     },
     "execution_count": 91,
     "metadata": {},
     "output_type": "execute_result"
    }
   ],
   "source": [
    "word_vectors.similar_by_word(\"감독\")"
   ]
  },
  {
   "cell_type": "markdown",
   "metadata": {},
   "source": [
    "### 외부 말뭉치 사용해보기"
   ]
  },
  {
   "cell_type": "code",
   "execution_count": 92,
   "metadata": {
    "id": "BeLKfQF_n6zY",
    "scrolled": true
   },
   "outputs": [],
   "source": [
    "import gensim\n",
    "word2vec = gensim.models.Word2Vec.load('ko.bin')"
   ]
  },
  {
   "cell_type": "code",
   "execution_count": 93,
   "metadata": {
    "id": "lJTkLoWetckK"
   },
   "outputs": [],
   "source": [
    "index_to_word = {i:list(word2vec.wv.vocab.keys())[i] for i in range(len(word2vec.wv.vocab.keys()))}"
   ]
  },
  {
   "cell_type": "code",
   "execution_count": 94,
   "metadata": {
    "colab": {
     "base_uri": "https://localhost:8080/"
    },
    "id": "K4gBeZXxuN06",
    "outputId": "ee057b16-48f1-45a9-861e-e432046d59b1"
   },
   "outputs": [
    {
     "data": {
      "text/plain": [
       "30185"
      ]
     },
     "execution_count": 94,
     "metadata": {},
     "output_type": "execute_result"
    }
   ],
   "source": [
    "len(index_to_word)"
   ]
  },
  {
   "cell_type": "markdown",
   "metadata": {
    "id": "0vpaX4Z0xyOE"
   },
   "source": [
    "## Last part Model 1"
   ]
  },
  {
   "cell_type": "code",
   "execution_count": 95,
   "metadata": {
    "id": "IlwusTcb9nQ5"
   },
   "outputs": [],
   "source": [
    "import numpy as np\n",
    "import tensorflow as tf"
   ]
  },
  {
   "cell_type": "code",
   "execution_count": 118,
   "metadata": {
    "colab": {
     "base_uri": "https://localhost:8080/"
    },
    "id": "YH5XRsH8uoHp",
    "outputId": "caca2c6c-6d62-494f-f3bb-bfe238d6e2ff"
   },
   "outputs": [
    {
     "name": "stderr",
     "output_type": "stream",
     "text": [
      "/tmp/ipykernel_4002/3146108534.py:7: DeprecationWarning: Call to deprecated `__contains__` (Method will be removed in 4.0.0, use self.wv.__contains__() instead).\n",
      "  if index_to_word[i] in word2vec:\n",
      "/tmp/ipykernel_4002/3146108534.py:8: DeprecationWarning: Call to deprecated `__getitem__` (Method will be removed in 4.0.0, use self.wv.__getitem__() instead).\n",
      "  embedding_matrix[i] = word2vec[index_to_word[i]]\n"
     ]
    },
    {
     "name": "stdout",
     "output_type": "stream",
     "text": [
      "Model: \"sequential_10\"\n",
      "_________________________________________________________________\n",
      "Layer (type)                 Output Shape              Param #   \n",
      "=================================================================\n",
      "embedding_18 (Embedding)     (None, 99, 200)           6037000   \n",
      "_________________________________________________________________\n",
      "lstm_12 (LSTM)               (None, 512)               1460224   \n",
      "_________________________________________________________________\n",
      "dense_29 (Dense)             (None, 512)               262656    \n",
      "_________________________________________________________________\n",
      "dense_30 (Dense)             (None, 128)               65664     \n",
      "_________________________________________________________________\n",
      "dense_31 (Dense)             (None, 32)                4128      \n",
      "_________________________________________________________________\n",
      "dense_32 (Dense)             (None, 1)                 33        \n",
      "=================================================================\n",
      "Total params: 7,829,705\n",
      "Trainable params: 7,829,705\n",
      "Non-trainable params: 0\n",
      "_________________________________________________________________\n",
      "(29995, 99)\n",
      "(29995,)\n",
      "Epoch 1/5\n",
      "59/59 [==============================] - 21s 340ms/step - loss: 0.5809 - accuracy: 0.6792 - val_loss: 0.4954 - val_accuracy: 0.7585\n",
      "Epoch 2/5\n",
      "59/59 [==============================] - 20s 347ms/step - loss: 0.4240 - accuracy: 0.8053 - val_loss: 0.4353 - val_accuracy: 0.8002\n",
      "Epoch 3/5\n",
      "59/59 [==============================] - 20s 349ms/step - loss: 0.3394 - accuracy: 0.8524 - val_loss: 0.3988 - val_accuracy: 0.8191\n",
      "Epoch 4/5\n",
      "59/59 [==============================] - 20s 344ms/step - loss: 0.2771 - accuracy: 0.8836 - val_loss: 0.4096 - val_accuracy: 0.8228\n",
      "Epoch 5/5\n",
      "59/59 [==============================] - 20s 343ms/step - loss: 0.2249 - accuracy: 0.9085 - val_loss: 0.4394 - val_accuracy: 0.8219\n",
      "1563/1563 - 10s - loss: 0.4473 - accuracy: 0.8170\n",
      "[0.4472614824771881, 0.8169690370559692]\n",
      "dict_keys(['loss', 'accuracy', 'val_loss', 'val_accuracy'])\n"
     ]
    }
   ],
   "source": [
    "vocab_size =len(index_to_word) # 어휘 사전 크기\n",
    "word_vector_dim = word2vec.vector_size # 워드 벡터의 차원수\n",
    "embedding_matrix = np.random.rand(vocab_size, word_vector_dim)\n",
    "\n",
    "# embedding_matrix에 word2vec 워드벡터 단어를 카피\n",
    "for i in range(4, vocab_size):\n",
    "    if index_to_word[i] in word2vec:\n",
    "        embedding_matrix[i] = word2vec[index_to_word[i]]\n",
    "\n",
    "from tensorflow.keras.initializers import Constant\n",
    "# model\n",
    "\n",
    "model = tf.keras.Sequential()\n",
    "model.add(tf.keras.layers.Embedding(\n",
    "    vocab_size, word_vector_dim,\n",
    "    embeddings_initializer=Constant(embedding_matrix), # 카피한 임베딩 활용\n",
    "    input_length=maxlen,\n",
    "    trainable=True, # True를 주면 fine tuning\n",
    "))\n",
    "model.add(tf.keras.layers.LSTM(512))\n",
    "model.add(tf.keras.layers.Dense(512, activation='relu'))\n",
    "model.add(tf.keras.layers.Dense(128, activation='relu'))\n",
    "model.add(tf.keras.layers.Dense(32, activation='relu'))\n",
    "model.add(tf.keras.layers.Dense(1, activation='sigmoid'))\n",
    "\n",
    "model.summary()\n",
    "\n",
    "from keras.callbacks import EarlyStopping\n",
    "early_stopping = EarlyStopping()\n",
    "\n",
    "# validation 분리\n",
    "X_val = X_train[:120000]\n",
    "y_val = y_train[:120000]\n",
    "\n",
    "# validation 제외 train set\n",
    "partial_x_train = X_train[120000:]\n",
    "partial_y_train = y_train[120000:]\n",
    "\n",
    "print(partial_x_train.shape)\n",
    "print(partial_y_train.shape)\n",
    "model.compile(optimizer='adam',\n",
    "              loss='binary_crossentropy',\n",
    "              metrics=['accuracy'])\n",
    "\n",
    "epochs=5\n",
    "\n",
    "history = model.fit(partial_x_train,\n",
    "                    partial_y_train,\n",
    "                    epochs=epochs,\n",
    "                    batch_size=512,\n",
    "                    #callbacks=[early_stopping],\n",
    "                    validation_data=(X_val, y_val),\n",
    "                    verbose=1)\n",
    "results = model.evaluate(X_test, y_test, verbose=2)\n",
    "print(results)\n",
    "history_dict = history.history\n",
    "print(history_dict.keys())\n"
   ]
  },
  {
   "cell_type": "code",
   "execution_count": 119,
   "metadata": {
    "id": "iMEQqM4zw1Qa",
    "scrolled": true
   },
   "outputs": [
    {
     "data": {
      "image/png": "[encoded data removed]",
      "text/plain": [
       "<Figure size 432x288 with 1 Axes>"
      ]
     },
     "metadata": {
      "needs_background": "light"
     },
     "output_type": "display_data"
    }
   ],
   "source": [
    "acc = history_dict['accuracy']\n",
    "val_acc = history_dict['val_accuracy']\n",
    "loss = history_dict['loss']\n",
    "val_loss = history_dict['val_loss']\n",
    "\n",
    "epochs = range(1, len(acc) +1)\n",
    "\n",
    "plt.plot(epochs, loss, 'bo', label='Training loss')\n",
    "plt.plot(epochs, val_loss, 'b', label='Validation loss')\n",
    "plt.title('Training and validation loss')\n",
    "plt.xlabel('Epochs')\n",
    "plt.ylabel('Loss')\n",
    "plt.legend()\n",
    "plt.show()"
   ]
  },
  {
   "cell_type": "markdown",
   "metadata": {},
   "source": [
    "Dense를 대폭 늘렸더니 과적합하는 에포크는 줄었습니다  \n",
    "그러나 Loss 0.4의 영역에서 또 늘어나기 시작합니다"
   ]
  },
  {
   "cell_type": "code",
   "execution_count": 98,
   "metadata": {
    "colab": {
     "base_uri": "https://localhost:8080/"
    },
    "id": "gdnU3Gc62jPQ",
    "outputId": "e66f22be-5fe6-4c59-edcd-82043aab7397"
   },
   "outputs": [
    {
     "data": {
      "text/plain": [
       "30185"
      ]
     },
     "execution_count": 98,
     "metadata": {},
     "output_type": "execute_result"
    }
   ],
   "source": [
    "len(index_to_word)"
   ]
  },
  {
   "cell_type": "code",
   "execution_count": 107,
   "metadata": {},
   "outputs": [],
   "source": [
    "import tensorflow as tf"
   ]
  },
  {
   "cell_type": "code",
   "execution_count": 108,
   "metadata": {},
   "outputs": [
    {
     "data": {
      "text/plain": [
       "<module 'keras.api._v2.keras.layers' from '/opt/conda/lib/python3.9/site-packages/keras/api/_v2/keras/layers/__init__.py'>"
      ]
     },
     "execution_count": 108,
     "metadata": {},
     "output_type": "execute_result"
    }
   ],
   "source": [
    "tf.keras.layers"
   ]
  },
  {
   "cell_type": "code",
   "execution_count": 117,
   "metadata": {
    "colab": {
     "base_uri": "https://localhost:8080/",
     "height": 321
    },
    "id": "Bg_XkJWmx25R",
    "outputId": "023752bc-5389-426a-fefb-26e81a92bf48"
   },
   "outputs": [
    {
     "name": "stderr",
     "output_type": "stream",
     "text": [
      "/tmp/ipykernel_4002/1256664785.py:7: DeprecationWarning: Call to deprecated `__contains__` (Method will be removed in 4.0.0, use self.wv.__contains__() instead).\n",
      "  if index_to_word[i] in word2vec:\n",
      "/tmp/ipykernel_4002/1256664785.py:8: DeprecationWarning: Call to deprecated `__getitem__` (Method will be removed in 4.0.0, use self.wv.__getitem__() instead).\n",
      "  embedding_matrix[i] = word2vec[index_to_word[i]]\n"
     ]
    },
    {
     "name": "stdout",
     "output_type": "stream",
     "text": [
      "Model: \"model_2\"\n",
      "_________________________________________________________________\n",
      "Layer (type)                 Output Shape              Param #   \n",
      "=================================================================\n",
      "input_8 (InputLayer)         [(None, None)]            0         \n",
      "_________________________________________________________________\n",
      "embedding_17 (Embedding)     (None, None, 128)         1280000   \n",
      "_________________________________________________________________\n",
      "bidirectional_5 (Bidirection (None, None, 128)         98816     \n",
      "_________________________________________________________________\n",
      "bidirectional_6 (Bidirection (None, 128)               98816     \n",
      "_________________________________________________________________\n",
      "dense_28 (Dense)             (None, 1)                 129       \n",
      "=================================================================\n",
      "Total params: 1,477,761\n",
      "Trainable params: 1,477,761\n",
      "Non-trainable params: 0\n",
      "_________________________________________________________________\n",
      "(29995, 99)\n",
      "(29995,)\n",
      "Epoch 1/5\n",
      "59/59 - 12s - loss: 0.5634 - accuracy: 0.6998 - val_loss: 0.4165 - val_accuracy: 0.8118\n",
      "Epoch 2/5\n",
      "59/59 - 6s - loss: 0.3452 - accuracy: 0.8522 - val_loss: 0.3862 - val_accuracy: 0.8306\n",
      "Epoch 3/5\n",
      "59/59 - 6s - loss: 0.2835 - accuracy: 0.8880 - val_loss: 0.3873 - val_accuracy: 0.8317\n",
      "Epoch 4/5\n",
      "59/59 - 6s - loss: 0.2473 - accuracy: 0.9056 - val_loss: 0.4115 - val_accuracy: 0.8273\n",
      "Epoch 5/5\n",
      "59/59 - 6s - loss: 0.2157 - accuracy: 0.9202 - val_loss: 0.4448 - val_accuracy: 0.8202\n",
      "1563/1563 - 10s - loss: 0.4503 - accuracy: 0.8178\n",
      "[0.4502573311328888, 0.8178490996360779]\n",
      "dict_keys(['loss', 'accuracy', 'val_loss', 'val_accuracy'])\n"
     ]
    },
    {
     "data": {
      "image/png": "[encoded data removed]",
      "text/plain": [
       "<Figure size 432x288 with 1 Axes>"
      ]
     },
     "metadata": {
      "needs_background": "light"
     },
     "output_type": "display_data"
    }
   ],
   "source": [
    "vocab_size =10000 # 어휘 사전 크기\n",
    "word_vector_dim = word2vec.vector_size # 워드 벡터의 차원수\n",
    "embedding_matrix = np.random.rand(vocab_size, word_vector_dim)\n",
    "\n",
    "# embedding_matrix에 word2vec 워드벡터 단어를 카피\n",
    "for i in range(4, vocab_size):\n",
    "    if index_to_word[i] in word2vec:\n",
    "        embedding_matrix[i] = word2vec[index_to_word[i]]\n",
    "\n",
    "\n",
    "inputs = tf.keras.Input(shape=(None,), dtype=\"int32\")\n",
    "# Embed each integer in a 128-dimensional vector\n",
    "x = tf.keras.layers.Embedding(vocab_size, 128)(inputs)\n",
    "# Add 2 bidirectional LSTMs\n",
    "x = tf.keras.layers.Bidirectional(tf.keras.layers.LSTM(64, return_sequences=True))(x)\n",
    "x = tf.keras.layers.Bidirectional(tf.keras.layers.LSTM(64))(x)\n",
    "# Add a classifier\n",
    "outputs = tf.keras.layers.Dense(1, activation=\"sigmoid\")(x)\n",
    "model = tf.keras.Model(inputs, outputs)\n",
    "\n",
    "model.summary()\n",
    "\n",
    "from keras.callbacks import EarlyStopping\n",
    "early_stopping = EarlyStopping()\n",
    "\n",
    "# validation 분리\n",
    "X_val = X_train[:120000]\n",
    "y_val = y_train[:120000]\n",
    "\n",
    "# validation 제외 train set\n",
    "partial_x_train = X_train[120000:]\n",
    "partial_y_train = y_train[120000:]\n",
    "\n",
    "print(partial_x_train.shape)\n",
    "print(partial_y_train.shape)\n",
    "model.compile(optimizer='adam',\n",
    "              loss='binary_crossentropy',\n",
    "              metrics=['accuracy'])\n",
    "\n",
    "epochs=5\n",
    "\n",
    "history = model.fit(partial_x_train,\n",
    "                    partial_y_train,\n",
    "                    epochs=epochs,\n",
    "                    batch_size=512,\n",
    "                    # callbacks=[early_stopping],\n",
    "                    validation_data=(X_val, y_val),\n",
    "                    verbose=2)\n",
    "results = model.evaluate(X_test, y_test, verbose=2)\n",
    "print(results)\n",
    "history_dict = history.history\n",
    "print(history_dict.keys())\n",
    "acc = history_dict['accuracy']\n",
    "val_acc = history_dict['val_accuracy']\n",
    "loss = history_dict['loss']\n",
    "val_loss = history_dict['val_loss']\n",
    "\n",
    "epochs = range(1, len(acc) +1)\n",
    "\n",
    "plt.plot(epochs, loss, 'bo', label='Training loss')\n",
    "plt.plot(epochs, val_loss, 'b', label='Validation loss')\n",
    "plt.title('Training and validation loss')\n",
    "plt.xlabel('Epochs')\n",
    "plt.ylabel('Loss')\n",
    "plt.legend()\n",
    "plt.show()"
   ]
  },
  {
   "cell_type": "markdown",
   "metadata": {
    "id": "SgGZnAmwzGqz"
   },
   "source": [
    "### 회고\n",
    "마지막 모델은 tensorflow tutorial에 있는 모델을 가져와서 해봤는데요  \n",
    "결국 성능을 더 올리진 못했습니다\n",
    "물론 규제나 더 최신의 네트워크를 기준으로 쌓는다면 좋은 결과가 있었겠지만  \n",
    "말뭉치를 바꾸는 조건하에서의 결과가 어떻게 되는지 좋은 실험이 되었습니다\n",
    "무엇보다 트랜스포머 라이브러리를 통한 전이학습 위주로 모델을 사용해오다가  \n",
    "이렇게 밑바닥부터 직접 만들어보니 재밌기도 하고 알아야 할점이 많이 보이기도 했습니다  \n",
    "시간이 허용하는 안에서 여기까지 실험하지만 다음의 과제 영역에서는 실제 감성분석에 효과가 좋은  \n",
    "논문의 네트워크 구조를 가져오고 한국어 임베딩을 제대로 한 상태에서 해보고 싶은 생각이 듭니다\n",
    "그리고 최신의 모델보다 좋은 조건을 내볼 수 있다면 더 재밌어 질 듯 합니다\n",
    "레이어 쌓는 기초를 다졌으니 이 다음은 더 넓은 범위의 테크닉을 사용해볼 수 있을 듯 합니다\n"
   ]
  },
  {
   "cell_type": "code",
   "execution_count": null,
   "metadata": {},
   "outputs": [],
   "source": []
  }
 ],
 "metadata": {
  "accelerator": "GPU",
  "colab": {
   "name": "Sentiment_classification.ipynb",
   "provenance": []
  },
  "kernelspec": {
   "display_name": "Python 3 (ipykernel)",
   "language": "python",
   "name": "python3"
  },
  "language_info": {
   "codemirror_mode": {
    "name": "ipython",
    "version": 3
   },
   "file_extension": ".py",
   "mimetype": "text/x-python",
   "name": "python",
   "nbconvert_exporter": "python",
   "pygments_lexer": "ipython3",
   "version": "3.9.7"
  }
 },
 "nbformat": 4,
 "nbformat_minor": 1
}
