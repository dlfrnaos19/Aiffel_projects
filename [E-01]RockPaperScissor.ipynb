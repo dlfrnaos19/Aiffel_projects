{
  "nbformat": 4,
  "nbformat_minor": 0,
  "metadata": {
    "colab": {
      "name": "Untitled0.ipynb",
      "private_outputs": true,
      "provenance": [],
      "mount_file_id": "1y7e8bS2etWfhGZeMEy5RvSIqk7zo00Hb",
      "authorship_tag": "ABX9TyNqRTacFGZYooBHn1HO4+Mw",
      "include_colab_link": true
    },
    "kernelspec": {
      "name": "python3",
      "display_name": "Python 3"
    },
    "language_info": {
      "name": "python"
    }
  },
  "cells": [
    {
      "cell_type": "markdown",
      "metadata": {
        "id": "view-in-github",
        "colab_type": "text"
      },
      "source": [
        "<a href=\"https://colab.research.google.com/github/dlfrnaos19/rock_scissors_paper_classifier/blob/main/classifier.ipynb\" target=\"_parent\"><img src=\"https://colab.research.google.com/assets/colab-badge.svg\" alt=\"Open In Colab\"/></a>"
      ]
    },
    {
      "cell_type": "code",
      "source": [
        "import tensorflow as tf\n",
        "from tensorflow import keras\n",
        "import numpy as np\n",
        "import matplotlib.pyplot as plt\n",
        "from PIL import Image\n",
        "import glob"
      ],
      "metadata": {
        "id": "YmwdnQlhmejQ"
      },
      "execution_count": null,
      "outputs": []
    },
    {
      "cell_type": "markdown",
      "source": [
        "#dataset is from\n",
        "https://laurencemoroney.com/datasets.html"
      ],
      "metadata": {
        "id": "DKG48PjkFUoD"
      }
    },
    {
      "cell_type": "code",
      "source": [
        "def resize_images(img_path):\n",
        "    images = glob.glob(img_path + \"/*.png\")\n",
        "    target_size = (28,28)\n",
        "    for img in images:\n",
        "        old = Image.open(img)\n",
        "        new = old.resize(target_size, Image.ANTIALIAS)\n",
        "        new.save(img,\"png\")\n",
        "    \n",
        "    print(len(images), \" Images resized.\")\n"
      ],
      "metadata": {
        "id": "dlVJ29lcAwH7"
      },
      "execution_count": null,
      "outputs": []
    },
    {
      "cell_type": "code",
      "source": [
        "# resize test_set img\n",
        "resize_images('/content/rps-test-set/paper')\n",
        "resize_images('/content/rps-test-set/rock')\n",
        "resize_images('/content/rps-test-set/scissors')"
      ],
      "metadata": {
        "id": "Mr0LPnebCuR-"
      },
      "execution_count": null,
      "outputs": []
    },
    {
      "cell_type": "code",
      "source": [
        "# resize train_set img\n",
        "resize_images('/content/rps/paper')\n",
        "resize_images('/content/rps/rock')\n",
        "resize_images('/content/rps/scissors')"
      ],
      "metadata": {
        "id": "M2F-qfqME6bC"
      },
      "execution_count": null,
      "outputs": []
    },
    {
      "cell_type": "code",
      "source": [
        "#check img\n",
        "images = glob.glob('/content/rps-test-set/paper' + \"/*.png\")\n",
        "Image.open(images[0])"
      ],
      "metadata": {
        "id": "KJZqLZH5GXyM"
      },
      "execution_count": null,
      "outputs": []
    },
    {
      "cell_type": "code",
      "source": [
        "def load_data(img_path, number_of_data=2891):\n",
        "    #가위 : 0, 바위 : 1, 보 : 2\n",
        "    img_size = 28\n",
        "    color = 4\n",
        "    imgs = np.zeros(number_of_data * img_size * img_size * color, dtype=np.int32).reshape(number_of_data, img_size,img_size,color)\n",
        "    labels = np.zeros(number_of_data, dtype=np.int32)\n",
        "\n",
        "    idx = 0\n",
        "    for file in glob.iglob(img_path+'scissors/*.png'):\n",
        "        img = np.array(Image.open(file),dtype=np.int32)\n",
        "        imgs[idx,:,:,:]=img # 데이터 영역에 이미지 복사\n",
        "        labels[idx]=0 #가위 : 0\n",
        "        idx = idx + 1\n",
        "    \n",
        "    for file in glob.iglob(img_path+'rock/*.png'):\n",
        "        img = np.array(Image.open(file),dtype=np.int32)\n",
        "        imgs[idx,:,:,:]=img # 데이터 영역에 이미지 복사\n",
        "        labels[idx]=1 #바위 : 1\n",
        "        idx = idx + 1\n",
        "    \n",
        "    for file in glob.iglob(img_path+'paper/*.png'):\n",
        "        img = np.array(Image.open(file),dtype=np.int32)\n",
        "        imgs[idx,:,:,:]=img # 데이터 영역에 이미지 복사\n",
        "        labels[idx]=2 #보 : 2\n",
        "        idx = idx + 1\n",
        "    \n",
        "    return imgs, labels\n",
        "\n",
        "train_img_path = '/content/rps/'\n",
        "test_img_path = '/content/rps-test-set/'\n",
        "    \n"
      ],
      "metadata": {
        "id": "DPXZKNRvFRVb"
      },
      "execution_count": null,
      "outputs": []
    },
    {
      "cell_type": "code",
      "source": [
        "# train img, label\n",
        "(x_train, y_train) = load_data(train_img_path,2520)"
      ],
      "metadata": {
        "id": "mAG7zDMJKFbY"
      },
      "execution_count": null,
      "outputs": []
    },
    {
      "cell_type": "code",
      "source": [
        "# test img, label\n",
        "(x_test, y_test) = load_data(test_img_path, 371)"
      ],
      "metadata": {
        "id": "nMPHzRhjKPRJ"
      },
      "execution_count": null,
      "outputs": []
    },
    {
      "cell_type": "code",
      "source": [
        "# train set normalize\n",
        "x_train_norm = x_train/255.0"
      ],
      "metadata": {
        "id": "ZaPVhEiWLZ_u"
      },
      "execution_count": null,
      "outputs": []
    },
    {
      "cell_type": "code",
      "source": [
        "# test set normalize\n",
        "x_test_norm = x_test/255.0"
      ],
      "metadata": {
        "id": "2azMRkyKO-CC"
      },
      "execution_count": null,
      "outputs": []
    },
    {
      "cell_type": "code",
      "source": [
        "print(x_train.shape, y_train.shape)"
      ],
      "metadata": {
        "id": "RK1LjA30MZj5"
      },
      "execution_count": null,
      "outputs": []
    },
    {
      "cell_type": "code",
      "source": [
        "# define sequence\n",
        "model = tf.keras.models.Sequential()\n",
        "model.add(tf.keras.layers.Conv2D(16, (3,3),activation='relu', input_shape=(28,28,4)))\n",
        "model.add(tf.keras.layers.MaxPool2D(2,2))\n",
        "model.add(tf.keras.layers.Conv2D(32,(3,3), activation='relu'))\n",
        "model.add(tf.keras.layers.MaxPooling2D((2,2)))\n",
        "model.add(tf.keras.layers.Flatten())\n",
        "model.add(tf.keras.layers.Dense(32, activation='relu'))\n",
        "model.add(tf.keras.layers.Dense(3, activation='softmax'))\n",
        "model.summary()"
      ],
      "metadata": {
        "id": "bv2QkrOvMl5w"
      },
      "execution_count": null,
      "outputs": []
    },
    {
      "cell_type": "code",
      "source": [
        "model.compile(optimizer='adam', loss='sparse_categorical_crossentropy',metrics=['accuracy'])"
      ],
      "metadata": {
        "id": "zjDCXLm2OAyC"
      },
      "execution_count": null,
      "outputs": []
    },
    {
      "cell_type": "code",
      "source": [
        "history = model.fit(x_train_norm, y_train, epochs=7)"
      ],
      "metadata": {
        "id": "9fSzSm7aOUS_"
      },
      "execution_count": null,
      "outputs": []
    },
    {
      "cell_type": "code",
      "source": [
        "test_loss, test_acc = model.evaluate(x_test_norm, y_test, verbose=2)"
      ],
      "metadata": {
        "id": "TT5YxrF_O2Nx"
      },
      "execution_count": null,
      "outputs": []
    },
    {
      "cell_type": "code",
      "source": [
        "predictions = model.predict(x_test)"
      ],
      "metadata": {
        "id": "7Tzl4mdlPKyC"
      },
      "execution_count": null,
      "outputs": []
    },
    {
      "cell_type": "code",
      "source": [
        "predicted_labels = np.argmax(predictions, axis=1)"
      ],
      "metadata": {
        "id": "-Z_wfbAKdEqL"
      },
      "execution_count": null,
      "outputs": []
    },
    {
      "cell_type": "code",
      "source": [
        "# is prediction, label match\n",
        "idx = 0\n",
        "print(predictions[idx])\n",
        "print(predicted_labels[idx])\n",
        "print(y_test[idx])\n",
        "plt.imshow(x_test[idx])"
      ],
      "metadata": {
        "id": "JmUEhHAJf7ra"
      },
      "execution_count": null,
      "outputs": []
    },
    {
      "cell_type": "code",
      "source": [
        "# get wrong prediction list\n",
        "import random\n",
        "wrong_predict_list = []\n",
        "for i, _ in enumerate(predicted_labels):\n",
        "    \n",
        "    if predicted_labels[i] != y_test[i]:\n",
        "        wrong_predict_list.append(i)"
      ],
      "metadata": {
        "id": "fTpp9k2PmakL"
      },
      "execution_count": null,
      "outputs": []
    },
    {
      "cell_type": "code",
      "source": [
        "samples = random.choices(population=wrong_predict_list, k=5)"
      ],
      "metadata": {
        "id": "Kw8_ysdCnoTB"
      },
      "execution_count": null,
      "outputs": []
    },
    {
      "cell_type": "code",
      "source": [
        "for n in samples:\n",
        "    print(\"예측확률분포: \", str(predictions[n]))\n",
        "    print(\"라벨 \", str(y_test[n]),\" 예측결과: \", str(predicted_labels[n]))\n",
        "    plt.imshow(x_test[n], cmap=plt.cm.binary)\n",
        "    plt.show()"
      ],
      "metadata": {
        "id": "4rEfwXh0nxSx"
      },
      "execution_count": null,
      "outputs": []
    }
  ]
}
