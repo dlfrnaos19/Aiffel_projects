{
  "cells": [
    {
      "cell_type": "code",
      "execution_count": 1,
      "id": "66e326f8",
      "metadata": {
        "id": "66e326f8"
      },
      "outputs": [],
      "source": [
        "import tensorflow as tf\n",
        "import tensorflow_datasets as tfds\n",
        "import os\n",
        "import re\n",
        "import numpy as np\n",
        "import matplotlib.pyplot as plt"
      ]
    },
    {
      "cell_type": "code",
      "execution_count": 2,
      "id": "810f1788",
      "metadata": {
        "id": "810f1788"
      },
      "outputs": [],
      "source": [
        "# 포지셔널 인코딩 레이어\n",
        "class PositionalEncoding(tf.keras.layers.Layer):\n",
        "    def __init__(self, position, d_model):\n",
        "        super(PositionalEncoding, self).__init__()\n",
        "        self.pos_encoding = self.positional_encoding(position, d_model)\n",
        "    \n",
        "    def get_angles(self, position, i, d_model):\n",
        "        angles = 1 / tf.pow(10000, (2 * (i // 2)) / tf.cast(d_model, tf.float32))\n",
        "        return position * angles\n",
        "    \n",
        "    def positional_encoding(self, position, d_model):\n",
        "        # 각도 배열 생성\n",
        "        angle_rads = self.get_angles(\n",
        "        position=tf.range(position, dtype=tf.float32)[:, tf.newaxis],\n",
        "            i=tf.range(d_model, dtype=tf.float32)[tf.newaxis,:],\n",
        "            d_model=d_model)\n",
        "        # 배열의 짝수 인덱스에는 sin 함수 적용\n",
        "        sines = tf.math.sin(angle_rads[:, 0::2])\n",
        "        cosines = tf.math.cos(angle_rads[:, 1::2])\n",
        "        \n",
        "        # sin과 cosine이 교차되도록 재배열\n",
        "        pos_encoding = tf.stack([sines, cosines], axis=0)\n",
        "        pos_encoding = tf.transpose(pos_encoding, [1,2,0])\n",
        "        pos_encoding = tf.reshape(pos_encoding, [position, d_model])\n",
        "        pos_encoding = pos_encoding[tf.newaxis,...]\n",
        "        return tf.cast(pos_encoding, tf.float32)\n",
        "    \n",
        "    def call(self, inputs):\n",
        "        return inputs + self.pos_encoding[:,:tf.shape(inputs)[1], :]"
      ]
    },
    {
      "cell_type": "code",
      "execution_count": 4,
      "id": "8e0713dd",
      "metadata": {
        "colab": {
          "base_uri": "https://localhost:8080/",
          "height": 283
        },
        "id": "8e0713dd",
        "outputId": "860f6b94-b188-4628-8e4f-3838ece89d2b"
      },
      "outputs": [
        {
          "data": {
            "image/png": "[encoded data removed]",
            "text/plain": [
              "<Figure size 432x288 with 2 Axes>"
            ]
          },
          "metadata": {
            "needs_background": "light"
          },
          "output_type": "display_data"
        }
      ],
      "source": [
        "sample_pos_encoding = PositionalEncoding(50, 512)\n",
        "plt.pcolormesh(sample_pos_encoding.pos_encoding.numpy()[0], cmap='RdBu')\n",
        "plt.xlabel('Depth')\n",
        "plt.xlim((0,512))\n",
        "plt.ylabel('Position')\n",
        "plt.colorbar()\n",
        "plt.show()"
      ]
    },
    {
      "cell_type": "code",
      "execution_count": 5,
      "id": "85ab24cd",
      "metadata": {
        "colab": {
          "base_uri": "https://localhost:8080/"
        },
        "id": "85ab24cd",
        "outputId": "5401c637-fb3f-4884-824f-0a18c0ff0254",
        "scrolled": true
      },
      "outputs": [
        {
          "data": {
            "text/plain": [
              "(1, 50, 512)"
            ]
          },
          "execution_count": 5,
          "metadata": {},
          "output_type": "execute_result"
        }
      ],
      "source": [
        "sample_pos_encoding.pos_encoding.numpy().shape"
      ]
    },
    {
      "cell_type": "markdown",
      "id": "fadb22cc",
      "metadata": {
        "id": "fadb22cc"
      },
      "source": [
        "중간 값이 최대 문장의 길이, 그 다음은 임베딩 벡터의 차원"
      ]
    },
    {
      "cell_type": "code",
      "execution_count": 3,
      "id": "17c5192f",
      "metadata": {
        "id": "17c5192f"
      },
      "outputs": [],
      "source": [
        "# 스케일드 닷 프로덕트 어텐션 함수\n",
        "def scaled_dot_product_attention(query, key, value, mask):\n",
        "    # 어텐션 가중치는 Q와 K의 닷 프로덕트\n",
        "    matmul_qk = tf.matmul(query,key,transpose_b=True)\n",
        "    \n",
        "    # 가중치 정규화\n",
        "    depth = tf.cast(tf.shape(key)[-1],tf.float32)\n",
        "    logits = matmul_qk / tf.math.sqrt(depth)\n",
        "    \n",
        "    # 패딩에 마스크 추가\n",
        "    if mask is not None:\n",
        "        logits += (mask * -1e9)\n",
        "        \n",
        "    # softmax 적용\n",
        "    attention_weights = tf.nn.softmax(logits, axis=-1)\n",
        "    \n",
        "    # 최종 어텐션은 가중치와 V의 닷 프로덕트\n",
        "    output = tf.matmul(attention_weights, value)\n",
        "    return output\n",
        "    "
      ]
    },
    {
      "cell_type": "code",
      "execution_count": 4,
      "id": "0b12e4e6",
      "metadata": {
        "id": "0b12e4e6"
      },
      "outputs": [],
      "source": [
        "class MultiHeadAttention(tf.keras.layers.Layer):\n",
        "    \n",
        "    def __init__(self,d_model,num_heads,name=\"multi_head_attention\"):\n",
        "        super(MultiHeadAttention, self).__init__(name=name)\n",
        "        self.num_heads = num_heads\n",
        "        self.d_model = d_model\n",
        "        \n",
        "        assert d_model % self.num_heads == 0\n",
        "        \n",
        "        self.depth = d_model // self.num_heads\n",
        "        self.query_dense = tf.keras.layers.Dense(units=d_model)\n",
        "        self.key_dense = tf.keras.layers.Dense(units=d_model)\n",
        "        self.value_dense = tf.keras.layers.Dense(units=d_model)\n",
        "        self.dense = tf.keras.layers.Dense(units=d_model)\n",
        "    \n",
        "    def split_heads(self, inputs, batch_size):\n",
        "        inputs = tf.reshape(\n",
        "        inputs, shape=(batch_size, -1, self.num_heads, self.depth))\n",
        "        return tf.transpose(inputs, perm=[0, 2, 1, 3])\n",
        "    \n",
        "    def call(self, inputs):\n",
        "        query, key, value, mask = inputs['query'], inputs['key'], inputs['value'], inputs['mask']\n",
        "        batch_size = tf.shape(query)[0]\n",
        "        \n",
        "        #Q, K, V에 각각 dense 적용\n",
        "        query = self.query_dense(query)\n",
        "        key = self.key_dense(key)\n",
        "        value = self.value_dense(value)\n",
        "        \n",
        "        # 병렬 연산을 위한 머리를 여러개 만듦\n",
        "        query = self.split_heads(query, batch_size)\n",
        "        key = self.split_heads(key, batch_size)\n",
        "        value = self.split_heads(value, batch_size)\n",
        "        \n",
        "        #스케일드 닷 프로덕트 어텐션 함수\n",
        "        scaled_attention = scaled_dot_product_attention(query, key, value, mask)\n",
        "        scaled_attention = tf.transpose(scaled_attention, perm=[0, 2, 1, 3])\n",
        "        # 어텐션 연산 후에 각 결과를 다시 연결(concatenate)합니다\n",
        "        concat_attention = tf.reshape(scaled_attention,\n",
        "                                  (batch_size, -1, self.d_model))\n",
        "\n",
        "        # 최종 결과에도 Dense를 한 번 더 적용합니다\n",
        "        outputs = self.dense(concat_attention)\n",
        "\n",
        "        return outputs"
      ]
    },
    {
      "cell_type": "markdown",
      "id": "b933d507",
      "metadata": {
        "id": "b933d507"
      },
      "source": [
        "패딩 마스킹"
      ]
    },
    {
      "cell_type": "code",
      "execution_count": 5,
      "id": "d370f3cf",
      "metadata": {
        "id": "d370f3cf"
      },
      "outputs": [],
      "source": [
        "def create_padding_mask(x):\n",
        "    mask = tf.cast(tf.math.equal(x, 0), tf.float32)\n",
        "  # (batch_size, 1, 1, sequence length)\n",
        "    return mask[:, tf.newaxis, tf.newaxis, :]"
      ]
    },
    {
      "cell_type": "code",
      "execution_count": 6,
      "id": "e7903928",
      "metadata": {
        "id": "e7903928"
      },
      "outputs": [],
      "source": [
        "def create_look_ahead_mask(x):\n",
        "    seq_len = tf.shape(x)[1]\n",
        "    look_ahead_mask = 1 - tf.linalg.band_part(tf.ones((seq_len, seq_len)), -1, 0)\n",
        "    padding_mask = create_padding_mask(x)\n",
        "    return tf.maximum(look_ahead_mask, padding_mask)"
      ]
    },
    {
      "cell_type": "markdown",
      "id": "10fa603a",
      "metadata": {
        "id": "10fa603a"
      },
      "source": [
        "padding mask test"
      ]
    },
    {
      "cell_type": "code",
      "execution_count": 10,
      "id": "68cb1797",
      "metadata": {
        "colab": {
          "base_uri": "https://localhost:8080/"
        },
        "id": "68cb1797",
        "outputId": "eb21fb6b-d974-48a2-cefe-d279514f46eb"
      },
      "outputs": [
        {
          "name": "stdout",
          "output_type": "stream",
          "text": [
            "tf.Tensor(\n",
            "[[[[0. 1. 1. 1. 1.]\n",
            "   [0. 0. 1. 1. 1.]\n",
            "   [0. 0. 0. 1. 1.]\n",
            "   [0. 0. 0. 0. 1.]\n",
            "   [0. 0. 0. 0. 0.]]]], shape=(1, 1, 5, 5), dtype=float32)\n"
          ]
        }
      ],
      "source": [
        "print(create_look_ahead_mask(tf.constant([[1, 2, 3, 4, 5]])))"
      ]
    },
    {
      "cell_type": "markdown",
      "id": "e378f7b7",
      "metadata": {
        "id": "e378f7b7"
      },
      "source": [
        "0이 있을 때 padding mask test"
      ]
    },
    {
      "cell_type": "code",
      "execution_count": 11,
      "id": "21aff457",
      "metadata": {
        "colab": {
          "base_uri": "https://localhost:8080/"
        },
        "id": "21aff457",
        "outputId": "7dc42d18-b091-43ff-c179-d30313cd393f",
        "scrolled": true
      },
      "outputs": [
        {
          "name": "stdout",
          "output_type": "stream",
          "text": [
            "tf.Tensor(\n",
            "[[[[1. 1. 1. 1. 1.]\n",
            "   [1. 0. 1. 1. 1.]\n",
            "   [1. 0. 0. 1. 1.]\n",
            "   [1. 0. 0. 0. 1.]\n",
            "   [1. 0. 0. 0. 0.]]]], shape=(1, 1, 5, 5), dtype=float32)\n"
          ]
        }
      ],
      "source": [
        "print(create_look_ahead_mask(tf.constant([[0, 5, 1, 5, 5]])))"
      ]
    },
    {
      "cell_type": "markdown",
      "id": "a14d7169",
      "metadata": {
        "id": "a14d7169"
      },
      "source": [
        "인코더"
      ]
    },
    {
      "cell_type": "code",
      "execution_count": 7,
      "id": "5fbb0e7e",
      "metadata": {
        "id": "5fbb0e7e"
      },
      "outputs": [],
      "source": [
        "def encoder_layer(units, d_model, num_heads, dropout, name=\"encoder_layer\"):\n",
        "    inputs = tf.keras.Input(shape=(None, d_model), name=\"inputs\")\n",
        "    \n",
        "    # 패딩마스크\n",
        "    padding_mask = tf.keras.Input(shape=(1, 1, None), name=\"padding_mask\")\n",
        "    \n",
        "    # 첫 번째 서브 레이어 : 멀티 헤드 어텐션 수행 (셀프 어텐션)\n",
        "    attention = MultiHeadAttention(d_model, num_heads, name=\"attention\")({\n",
        "        'query':inputs,\n",
        "        'key': inputs,\n",
        "        'value': inputs,\n",
        "        'mask': padding_mask\n",
        "    })\n",
        "    # 어텐션의 결과는 Dropout과 Layer Normalization이라는 훈련을 돕는 테크닉 수행\n",
        "    attention = tf.keras.layers.Dropout(rate=dropout)(attention)\n",
        "    attention = tf.keras.layers.LayerNormalization(\n",
        "    epsilon=1e-6)(inputs + attention)\n",
        "    \n",
        "    # 두 번째 서브레이어 : 2개의 완전연결층\n",
        "    outputs = tf.keras.layers.Dense(units=units, activation='relu')(attention)\n",
        "    outputs = tf.keras.layers.Dense(units=d_model)(outputs)\n",
        "    \n",
        "    # 완전연결층의 결과는 Dropout과 LayerNormalization이라는 훈련을 돕는 테크닉을 수행\n",
        "    outputs = tf.keras.layers.Dropout(rate=dropout)(outputs)\n",
        "    outputs = tf.keras.layers.LayerNormalization(\n",
        "    epsilon=1e-6)(attention + outputs)\n",
        "    \n",
        "    return tf.keras.Model(\n",
        "    inputs=[inputs, padding_mask], outputs=outputs, name=name)"
      ]
    },
    {
      "cell_type": "markdown",
      "id": "da9e12da",
      "metadata": {
        "id": "da9e12da"
      },
      "source": [
        "인코더 층 쌓기"
      ]
    },
    {
      "cell_type": "code",
      "execution_count": 8,
      "id": "61cffffa",
      "metadata": {
        "id": "61cffffa"
      },
      "outputs": [],
      "source": [
        "def encoder(vocab_size,\n",
        "            num_layers,\n",
        "            units,\n",
        "            d_model,\n",
        "            num_heads,\n",
        "            dropout,\n",
        "            name=\"encoder\"):\n",
        "    inputs = tf.keras.Input(shape=(None,), name=\"inputs\")\n",
        "\n",
        "  # 패딩 마스크 사용\n",
        "    padding_mask = tf.keras.Input(shape=(1, 1, None), name=\"padding_mask\")\n",
        "\n",
        "  # 임베딩 레이어\n",
        "    embeddings = tf.keras.layers.Embedding(vocab_size, d_model)(inputs)\n",
        "    embeddings *= tf.math.sqrt(tf.cast(d_model, tf.float32))\n",
        "\n",
        "  # 포지셔널 인코딩\n",
        "    embeddings = PositionalEncoding(vocab_size, d_model)(embeddings)\n",
        "\n",
        "    outputs = tf.keras.layers.Dropout(rate=dropout)(embeddings)\n",
        "\n",
        "  # num_layers만큼 쌓아올린 인코더의 층.\n",
        "    for i in range(num_layers):\n",
        "        outputs = encoder_layer(\n",
        "        units=units,\n",
        "        d_model=d_model,\n",
        "        num_heads=num_heads,\n",
        "        dropout=dropout,\n",
        "        name=\"encoder_layer_{}\".format(i),\n",
        "    )([outputs, padding_mask])\n",
        "\n",
        "    return tf.keras.Model(\n",
        "      inputs=[inputs, padding_mask], outputs=outputs, name=name)"
      ]
    },
    {
      "cell_type": "markdown",
      "id": "169dac82",
      "metadata": {
        "id": "169dac82"
      },
      "source": [
        "디코더 함수"
      ]
    },
    {
      "cell_type": "code",
      "execution_count": 9,
      "id": "eb653ce8",
      "metadata": {
        "colab": {
          "base_uri": "https://localhost:8080/"
        },
        "id": "eb653ce8",
        "outputId": "bf925428-cb8e-462b-e488-742767f12ec3"
      },
      "outputs": [
        {
          "name": "stdout",
          "output_type": "stream",
          "text": [
            "슝=3\n"
          ]
        }
      ],
      "source": [
        "# 디코더 하나의 레이어를 함수로 구현.\n",
        "# 이 하나의 레이어 안에는 세 개의 서브 레이어가 존재합니다.\n",
        "def decoder_layer(units, d_model, num_heads, dropout, name=\"decoder_layer\"):\n",
        "  inputs = tf.keras.Input(shape=(None, d_model), name=\"inputs\")\n",
        "  enc_outputs = tf.keras.Input(shape=(None, d_model), name=\"encoder_outputs\")\n",
        "  look_ahead_mask = tf.keras.Input(\n",
        "      shape=(1, None, None), name=\"look_ahead_mask\")\n",
        "  padding_mask = tf.keras.Input(shape=(1, 1, None), name='padding_mask')\n",
        "\n",
        "  # 첫 번째 서브 레이어 : 멀티 헤드 어텐션 수행 (셀프 어텐션)\n",
        "  attention1 = MultiHeadAttention(\n",
        "      d_model, num_heads, name=\"attention_1\")(inputs={\n",
        "          'query': inputs,\n",
        "          'key': inputs,\n",
        "          'value': inputs,\n",
        "          'mask': look_ahead_mask\n",
        "      })\n",
        "\n",
        "  # 멀티 헤드 어텐션의 결과는 LayerNormalization이라는 훈련을 돕는 테크닉을 수행\n",
        "  attention1 = tf.keras.layers.LayerNormalization(\n",
        "      epsilon=1e-6)(attention1 + inputs)\n",
        "\n",
        "  # 두 번째 서브 레이어 : 마스크드 멀티 헤드 어텐션 수행 (인코더-디코더 어텐션)\n",
        "  attention2 = MultiHeadAttention(\n",
        "      d_model, num_heads, name=\"attention_2\")(inputs={\n",
        "          'query': attention1,\n",
        "          'key': enc_outputs,\n",
        "          'value': enc_outputs,\n",
        "          'mask': padding_mask\n",
        "      })\n",
        "\n",
        "  # 마스크드 멀티 헤드 어텐션의 결과는\n",
        "  # Dropout과 LayerNormalization이라는 훈련을 돕는 테크닉을 수행\n",
        "  attention2 = tf.keras.layers.Dropout(rate=dropout)(attention2)\n",
        "  attention2 = tf.keras.layers.LayerNormalization(\n",
        "      epsilon=1e-6)(attention2 + attention1)\n",
        "\n",
        "  # 세 번째 서브 레이어 : 2개의 완전연결층\n",
        "  outputs = tf.keras.layers.Dense(units=units, activation='relu')(attention2)\n",
        "  outputs = tf.keras.layers.Dense(units=d_model)(outputs)\n",
        "\n",
        "  # 완전연결층의 결과는 Dropout과 LayerNormalization 수행\n",
        "  outputs = tf.keras.layers.Dropout(rate=dropout)(outputs)\n",
        "  outputs = tf.keras.layers.LayerNormalization(\n",
        "      epsilon=1e-6)(outputs + attention2)\n",
        "\n",
        "  return tf.keras.Model(\n",
        "      inputs=[inputs, enc_outputs, look_ahead_mask, padding_mask],\n",
        "      outputs=outputs,\n",
        "      name=name)"
      ]
    },
    {
      "cell_type": "markdown",
      "id": "f727b674",
      "metadata": {
        "id": "f727b674"
      },
      "source": [
        "디코더 층을 쌓은 디코더"
      ]
    },
    {
      "cell_type": "code",
      "execution_count": 10,
      "id": "b6a42e27",
      "metadata": {
        "id": "b6a42e27"
      },
      "outputs": [],
      "source": [
        "def decoder(vocab_size,\n",
        "            num_layers,\n",
        "            units,\n",
        "            d_model,\n",
        "            num_heads,\n",
        "            dropout,\n",
        "            name='decoder'):\n",
        "  inputs = tf.keras.Input(shape=(None,), name='inputs')\n",
        "  enc_outputs = tf.keras.Input(shape=(None, d_model), name='encoder_outputs')\n",
        "  look_ahead_mask = tf.keras.Input(\n",
        "      shape=(1, None, None), name='look_ahead_mask')\n",
        "\n",
        "  # 패딩 마스크\n",
        "  padding_mask = tf.keras.Input(shape=(1, 1, None), name='padding_mask')\n",
        "  \n",
        "  # 임베딩 레이어\n",
        "  embeddings = tf.keras.layers.Embedding(vocab_size, d_model)(inputs)\n",
        "  embeddings *= tf.math.sqrt(tf.cast(d_model, tf.float32))\n",
        "\n",
        "  # 포지셔널 인코딩\n",
        "  embeddings = PositionalEncoding(vocab_size, d_model)(embeddings)\n",
        "\n",
        "  # Dropout이라는 훈련을 돕는 테크닉을 수행\n",
        "  outputs = tf.keras.layers.Dropout(rate=dropout)(embeddings)\n",
        "\n",
        "  for i in range(num_layers):\n",
        "    outputs = decoder_layer(\n",
        "        units=units,\n",
        "        d_model=d_model,\n",
        "        num_heads=num_heads,\n",
        "        dropout=dropout,\n",
        "        name='decoder_layer_{}'.format(i),\n",
        "    )(inputs=[outputs, enc_outputs, look_ahead_mask, padding_mask])\n",
        "\n",
        "  return tf.keras.Model(\n",
        "      inputs=[inputs, enc_outputs, look_ahead_mask, padding_mask],\n",
        "      outputs=outputs,\n",
        "      name=name)"
      ]
    },
    {
      "cell_type": "markdown",
      "id": "bfc1e82e",
      "metadata": {
        "id": "bfc1e82e"
      },
      "source": [
        "# 챗봇의 데이터 받기"
      ]
    },
    {
      "cell_type": "code",
      "execution_count": 16,
      "id": "bfa310cb",
      "metadata": {
        "colab": {
          "base_uri": "https://localhost:8080/"
        },
        "id": "bfa310cb",
        "outputId": "0e28acc4-fa2c-4899-887e-d2e20e20ee3f"
      },
      "outputs": [
        {
          "name": "stdout",
          "output_type": "stream",
          "text": [
            "Downloading data from http://www.cs.cornell.edu/~cristian/data/cornell_movie_dialogs_corpus.zip\n",
            "9920512/9916637 [==============================] - 0s 0us/step\n",
            "9928704/9916637 [==============================] - 0s 0us/step\n"
          ]
        }
      ],
      "source": [
        "path_to_zip = tf.keras.utils.get_file(\n",
        "    'cornell_movie_dialogs.zip',\n",
        "    origin='http://www.cs.cornell.edu/~cristian/data/cornell_movie_dialogs_corpus.zip',\n",
        "    extract=True)\n",
        "\n",
        "path_to_dataset = os.path.join(\n",
        "    os.path.dirname(path_to_zip), \"cornell movie-dialogs corpus\")\n",
        "\n",
        "path_to_movie_lines = os.path.join(path_to_dataset, 'movie_lines.txt')\n",
        "path_to_movie_conversations = os.path.join(path_to_dataset,'movie_conversations.txt')\n"
      ]
    },
    {
      "cell_type": "code",
      "execution_count": 17,
      "id": "2309a3ef",
      "metadata": {
        "colab": {
          "base_uri": "https://localhost:8080/"
        },
        "id": "2309a3ef",
        "outputId": "3c5d3216-750f-47c3-9f73-1cffbce16d78"
      },
      "outputs": [
        {
          "name": "stdout",
          "output_type": "stream",
          "text": [
            "50000\n"
          ]
        }
      ],
      "source": [
        "# 사용할 샘플의 최대 개수\n",
        "MAX_SAMPLES = 50000\n",
        "print(MAX_SAMPLES)"
      ]
    },
    {
      "cell_type": "code",
      "execution_count": 11,
      "id": "6e3a15cf",
      "metadata": {
        "id": "6e3a15cf"
      },
      "outputs": [],
      "source": [
        "def preprocess_sentence(sentence):\n",
        "    sentence = sentence.lower().strip()\n",
        "    # 단어와 구두점 사이 거리 만듦\n",
        "    # \"I am a student.\" => \"I am a student .\"처럼\n",
        "    sentence = re.sub(r\"([?.!,])\",r\" \\1 \", sentence)\n",
        "    sentence = re.sub(r'[\" \"]+',\" \", sentence)\n",
        "    # a-z, A-Z, \".\", \"?\", \"!\", \",\"를 제외한 모든 문자를 공백인 ' '로 변경\n",
        "    sentence = re.sub(r\"[^a-zA-z?.!,]+\",\" \", sentence)\n",
        "    sentence = sentence.strip()\n",
        "    return sentence"
      ]
    },
    {
      "cell_type": "code",
      "execution_count": 12,
      "id": "e730fe82",
      "metadata": {
        "id": "e730fe82"
      },
      "outputs": [],
      "source": [
        "# 질문과 답변의 쌍인 데이터셋을 구성하기 위한 데이터 로드 함수\n",
        "def load_conversations():\n",
        "  id2line = {}\n",
        "  with open(path_to_movie_lines, errors='ignore') as file:\n",
        "    lines = file.readlines()\n",
        "  for line in lines:\n",
        "    parts = line.replace('\\n', '').split(' +++$+++ ')\n",
        "    id2line[parts[0]] = parts[4]\n",
        "\n",
        "  inputs, outputs = [], []\n",
        "  with open(path_to_movie_conversations, 'r') as file:\n",
        "    lines = file.readlines()\n",
        "\n",
        "  for line in lines:\n",
        "    parts = line.replace('\\n', '').split(' +++$+++ ')\n",
        "    conversation = [line[1:-1] for line in parts[3][1:-1].split(', ')]\n",
        "\n",
        "    for i in range(len(conversation) - 1):\n",
        "      # 전처리 함수를 질문에 해당되는 inputs와 답변에 해당되는 outputs에 적용.\n",
        "      inputs.append(preprocess_sentence(id2line[conversation[i]]))\n",
        "      outputs.append(preprocess_sentence(id2line[conversation[i + 1]]))\n",
        "\n",
        "      if len(inputs) >= MAX_SAMPLES:\n",
        "        return inputs, outputs\n",
        "  return inputs, outputs"
      ]
    },
    {
      "cell_type": "code",
      "execution_count": 20,
      "id": "3f0cb3f2",
      "metadata": {
        "colab": {
          "base_uri": "https://localhost:8080/"
        },
        "id": "3f0cb3f2",
        "outputId": "65df943b-d5fe-444d-ea55-bfbbcb2d5810"
      },
      "outputs": [
        {
          "name": "stdout",
          "output_type": "stream",
          "text": [
            "50000 50000\n"
          ]
        }
      ],
      "source": [
        "questions, answers = load_conversations()\n",
        "print(len(questions),len(answers))"
      ]
    },
    {
      "cell_type": "code",
      "execution_count": 21,
      "id": "dbffd0cc",
      "metadata": {
        "colab": {
          "base_uri": "https://localhost:8080/"
        },
        "id": "dbffd0cc",
        "outputId": "c2270c98-1ef6-4a32-df14-5b80f3b952cb",
        "scrolled": true
      },
      "outputs": [
        {
          "name": "stdout",
          "output_type": "stream",
          "text": [
            "she s not a . . . lesbian ? no . i found a picture of jared leto in one of her drawers , so i m pretty sure she s not harboring same sex tendencies .\n"
          ]
        }
      ],
      "source": [
        "print('{}'.format(questions[21]),'{}'.format(answers[21]))"
      ]
    },
    {
      "cell_type": "code",
      "execution_count": 22,
      "id": "4badb289",
      "metadata": {
        "colab": {
          "base_uri": "https://localhost:8080/"
        },
        "id": "4badb289",
        "outputId": "49b08536-86b6-4bd4-f278-d33e2908e7cc"
      },
      "outputs": [
        {
          "name": "stdout",
          "output_type": "stream",
          "text": [
            "살짝 오래 걸릴 수 있어요. 스트레칭 한 번 해볼까요? 👐\n"
          ]
        }
      ],
      "source": [
        "import tensorflow_datasets as tfds\n",
        "print(\"살짝 오래 걸릴 수 있어요. 스트레칭 한 번 해볼까요? 👐\")\n",
        "\n",
        "# 질문과 답변 데이터셋에 대해서 Vocabulary 생성. (Tensorflow 2.3.0 이상) (클라우드는 2.4 입니다)\n",
        "tokenizer = tfds.deprecated.text.SubwordTextEncoder.build_from_corpus(questions + answers, target_vocab_size=2**13)\n"
      ]
    },
    {
      "cell_type": "code",
      "execution_count": 23,
      "id": "8bf06248",
      "metadata": {
        "id": "8bf06248"
      },
      "outputs": [],
      "source": [
        "# 시작 토큰과 종료 토큰에 고유한 정수를 부여합니다.\n",
        "START_TOKEN, END_TOKEN = [tokenizer.vocab_size], [tokenizer.vocab_size + 1]"
      ]
    },
    {
      "cell_type": "code",
      "execution_count": 24,
      "id": "275c8ca6",
      "metadata": {
        "colab": {
          "base_uri": "https://localhost:8080/"
        },
        "id": "275c8ca6",
        "outputId": "2ffb6de9-13d3-42c5-eb7e-76eb90cd9e25"
      },
      "outputs": [
        {
          "name": "stdout",
          "output_type": "stream",
          "text": [
            "START_TOKEN의 번호 : [8335]\n",
            "END_TOKEN의 번호 : [8336]\n"
          ]
        }
      ],
      "source": [
        "print('START_TOKEN의 번호 :' ,[tokenizer.vocab_size])\n",
        "print('END_TOKEN의 번호 :' ,[tokenizer.vocab_size + 1])"
      ]
    },
    {
      "cell_type": "code",
      "execution_count": 25,
      "id": "15670311",
      "metadata": {
        "colab": {
          "base_uri": "https://localhost:8080/"
        },
        "id": "15670311",
        "outputId": "bb79b897-47a3-4bc0-d5b1-52c7af56ecc3"
      },
      "outputs": [
        {
          "name": "stdout",
          "output_type": "stream",
          "text": [
            "8337\n"
          ]
        }
      ],
      "source": [
        "# 시작 토큰과 종료 토큰을 고려하여 +2를 하여 단어장의 크기를 산정합니다.\n",
        "VOCAB_SIZE = tokenizer.vocab_size + 2\n",
        "print(VOCAB_SIZE)"
      ]
    },
    {
      "cell_type": "code",
      "execution_count": 26,
      "id": "77b27c85",
      "metadata": {
        "colab": {
          "base_uri": "https://localhost:8080/"
        },
        "id": "77b27c85",
        "outputId": "708e50c0-95cc-4dd4-d21a-67e142519a17"
      },
      "outputs": [
        {
          "name": "stdout",
          "output_type": "stream",
          "text": [
            "START_TOKEN의 번호 : [8335]\n",
            "END_TOKEN의 번호 : [8336]\n"
          ]
        }
      ],
      "source": [
        "print('START_TOKEN의 번호 :' ,[tokenizer.vocab_size])\n",
        "print('END_TOKEN의 번호 :' ,[tokenizer.vocab_size + 1])"
      ]
    },
    {
      "cell_type": "code",
      "execution_count": 27,
      "id": "ff798cb0",
      "metadata": {
        "colab": {
          "base_uri": "https://localhost:8080/"
        },
        "id": "ff798cb0",
        "outputId": "012c3431-b5d2-4fc7-e705-a080c3512233"
      },
      "outputs": [
        {
          "name": "stdout",
          "output_type": "stream",
          "text": [
            "8337\n"
          ]
        }
      ],
      "source": [
        "# 시작 토큰과 종료 토큰을 고려하여 +2를 하여 단어장의 크기를 산정합니다.\n",
        "VOCAB_SIZE = tokenizer.vocab_size + 2\n",
        "print(VOCAB_SIZE)"
      ]
    },
    {
      "cell_type": "code",
      "execution_count": 28,
      "id": "573a1a53",
      "metadata": {
        "colab": {
          "base_uri": "https://localhost:8080/"
        },
        "id": "573a1a53",
        "outputId": "0fa2fa48-79b1-423c-da06-a4383f8160b1"
      },
      "outputs": [
        {
          "name": "stdout",
          "output_type": "stream",
          "text": [
            "정수 인코딩 후의 21번째 질문 샘플: [60, 8, 37, 8176, 49]\n",
            "정수 인코딩 후의 21번째 답변 샘플: [7828, 1224, 19, 61, 2, 4, 336, 10, 1596, 14, 1106, 698, 3265, 263, 16, 71, 14, 107, 2135, 901, 3, 59, 4, 23, 355, 204, 60, 8, 37, 886, 2291, 8111, 344, 1002, 5182, 4217, 342, 1]\n"
          ]
        }
      ],
      "source": [
        "# 임의의 22번째 샘플에 대해서 정수 인코딩 작업을 수행.\n",
        "# 각 토큰을 고유한 정수로 변환\n",
        "print('정수 인코딩 후의 21번째 질문 샘플: {}'.format(tokenizer.encode(questions[21])))\n",
        "print('정수 인코딩 후의 21번째 답변 샘플: {}'.format(tokenizer.encode(answers[21])))"
      ]
    },
    {
      "cell_type": "code",
      "execution_count": 29,
      "id": "02d6a6a4",
      "metadata": {
        "colab": {
          "base_uri": "https://localhost:8080/"
        },
        "id": "02d6a6a4",
        "outputId": "9d1e1b3c-7402-4aba-b7a8-d251962b354f"
      },
      "outputs": [
        {
          "name": "stdout",
          "output_type": "stream",
          "text": [
            "40\n"
          ]
        }
      ],
      "source": [
        "# 샘플의 최대 허용 길이 또는 패딩 후의 최종 길이\n",
        "MAX_LENGTH = 40\n",
        "print(MAX_LENGTH)"
      ]
    },
    {
      "cell_type": "code",
      "execution_count": 13,
      "id": "f63a490c",
      "metadata": {
        "id": "f63a490c"
      },
      "outputs": [],
      "source": [
        "def tokenize_and_filter(inputs, outputs):\n",
        "    tokenized_inputs, tokenized_outputs = [], []\n",
        "    \n",
        "    for (sentence1, sentence2) in zip(inputs, outputs):\n",
        "        # 정수 인코딩 과정에서 시작 토큰과 종료 토큰을 추가\n",
        "        sentence1 = START_TOKEN + tokenizer.encode(sentence1) + END_TOKEN\n",
        "        sentence2 = START_TOKEN + tokenizer.encode(sentence2) + END_TOKEN\n",
        "        \n",
        "        # 최대 길이 40 이하인 경우에만 데이터 셋으로 허용\n",
        "        if len(sentence1) <= MAX_LENGTH and len(sentence2) <= MAX_LENGTH:\n",
        "            tokenized_inputs.append(sentence1)\n",
        "            tokenized_outputs.append(sentence2)\n",
        "    tokenized_inputs = tf.keras.preprocessing.sequence.pad_sequences(\n",
        "    tokenized_inputs, maxlen=MAX_LENGTH, padding='post')\n",
        "    tokenized_outputs = tf.keras.preprocessing.sequence.pad_sequences(\n",
        "    tokenized_outputs, maxlen=MAX_LENGTH, padding='post')\n",
        "    return tokenized_inputs, tokenized_outputs\n",
        "    "
      ]
    },
    {
      "cell_type": "code",
      "execution_count": 31,
      "id": "e0d9ddeb",
      "metadata": {
        "colab": {
          "base_uri": "https://localhost:8080/"
        },
        "id": "e0d9ddeb",
        "outputId": "6aaf8024-15ad-4b68-f5f9-743e7c26066b"
      },
      "outputs": [
        {
          "name": "stdout",
          "output_type": "stream",
          "text": [
            "8337 44092 44092\n"
          ]
        }
      ],
      "source": [
        "questions, answers = tokenize_and_filter(questions, answers)\n",
        "print(VOCAB_SIZE, len(questions), len(answers))"
      ]
    },
    {
      "cell_type": "code",
      "execution_count": 32,
      "id": "1e2652e1",
      "metadata": {
        "id": "1e2652e1"
      },
      "outputs": [],
      "source": [
        "BATCH_SIZE = 64\n",
        "BUFFER_SIZE = 20000\n",
        "\n",
        "# 디코더는 이전의 target을 다음의 input으로 사용합니다.\n",
        "# 이에 따라 outputs에서는 START_TOKEN을 제거하겠습니다.\n",
        "dataset = tf.data.Dataset.from_tensor_slices((\n",
        "    {\n",
        "        'inputs': questions,\n",
        "        'dec_inputs': answers[:, :-1]\n",
        "    },\n",
        "    {\n",
        "        'outputs': answers[:, 1:]\n",
        "    },\n",
        "))\n",
        "\n",
        "dataset = dataset.cache()\n",
        "dataset = dataset.shuffle(BUFFER_SIZE)\n",
        "dataset = dataset.batch(BATCH_SIZE)\n",
        "dataset = dataset.prefetch(tf.data.experimental.AUTOTUNE)"
      ]
    },
    {
      "cell_type": "code",
      "execution_count": 14,
      "id": "a3e094b0",
      "metadata": {
        "id": "a3e094b0"
      },
      "outputs": [],
      "source": [
        "def transformer(vocab_size,\n",
        "                num_layers,\n",
        "                units,\n",
        "                d_model,\n",
        "                num_heads,\n",
        "                dropout,\n",
        "                name=\"transformer\"):\n",
        "    inputs = tf.keras.Input(shape=(None,), name=\"inputs\")\n",
        "    dec_inputs = tf.keras.Input(shape=(None,), name=\"dec_inputs\")\n",
        "\n",
        "  # 인코더에서 패딩을 위한 마스크\n",
        "    enc_padding_mask = tf.keras.layers.Lambda(\n",
        "      create_padding_mask, output_shape=(1, 1, None),\n",
        "      name='enc_padding_mask')(inputs)\n",
        "\n",
        "  # 디코더에서 미래의 토큰을 마스크 하기 위해서 사용합니다.\n",
        "  # 내부적으로 패딩 마스크도 포함되어져 있습니다.\n",
        "    look_ahead_mask = tf.keras.layers.Lambda(\n",
        "      create_look_ahead_mask,\n",
        "      output_shape=(1, None, None),\n",
        "      name='look_ahead_mask')(dec_inputs)\n",
        "\n",
        "  # 두 번째 어텐션 블록에서 인코더의 벡터들을 마스킹\n",
        "  # 디코더에서 패딩을 위한 마스크\n",
        "    dec_padding_mask = tf.keras.layers.Lambda(\n",
        "      create_padding_mask, output_shape=(1, 1, None),\n",
        "      name='dec_padding_mask')(inputs)\n",
        "\n",
        "  # 인코더\n",
        "    enc_outputs = encoder(\n",
        "      vocab_size=vocab_size,\n",
        "      num_layers=num_layers,\n",
        "      units=units,\n",
        "      d_model=d_model,\n",
        "      num_heads=num_heads,\n",
        "      dropout=dropout,\n",
        "  )(inputs=[inputs, enc_padding_mask])\n",
        "\n",
        "  # 디코더\n",
        "    dec_outputs = decoder(\n",
        "      vocab_size=vocab_size,\n",
        "      num_layers=num_layers,\n",
        "      units=units,\n",
        "      d_model=d_model,\n",
        "      num_heads=num_heads,\n",
        "      dropout=dropout,\n",
        "  )(inputs=[dec_inputs, enc_outputs, look_ahead_mask, dec_padding_mask])\n",
        "\n",
        "  # 완전연결층\n",
        "    outputs = tf.keras.layers.Dense(units=vocab_size, name=\"outputs\")(dec_outputs)\n",
        "\n",
        "    return tf.keras.Model(inputs=[inputs, dec_inputs], outputs=outputs, name=name)\n"
      ]
    },
    {
      "cell_type": "code",
      "execution_count": 15,
      "id": "-UPow8O1n6cN",
      "metadata": {
        "colab": {
          "base_uri": "https://localhost:8080/"
        },
        "id": "-UPow8O1n6cN",
        "outputId": "5a322a11-ceaa-4ac0-fa63-6456c7bcb0c2"
      },
      "outputs": [
        {
          "name": "stdout",
          "output_type": "stream",
          "text": [
            "INFO:tensorflow:Deallocate tpu buffers before initializing tpu system.\n"
          ]
        },
        {
          "name": "stderr",
          "output_type": "stream",
          "text": [
            "INFO:tensorflow:Deallocate tpu buffers before initializing tpu system.\n"
          ]
        },
        {
          "name": "stdout",
          "output_type": "stream",
          "text": [
            "INFO:tensorflow:Initializing the TPU system: grpc://10.42.63.26:8470\n"
          ]
        },
        {
          "name": "stderr",
          "output_type": "stream",
          "text": [
            "INFO:tensorflow:Initializing the TPU system: grpc://10.42.63.26:8470\n"
          ]
        },
        {
          "name": "stdout",
          "output_type": "stream",
          "text": [
            "INFO:tensorflow:Finished initializing TPU system.\n"
          ]
        },
        {
          "name": "stderr",
          "output_type": "stream",
          "text": [
            "INFO:tensorflow:Finished initializing TPU system.\n"
          ]
        },
        {
          "name": "stdout",
          "output_type": "stream",
          "text": [
            "INFO:tensorflow:Found TPU system:\n"
          ]
        },
        {
          "name": "stderr",
          "output_type": "stream",
          "text": [
            "INFO:tensorflow:Found TPU system:\n"
          ]
        },
        {
          "name": "stdout",
          "output_type": "stream",
          "text": [
            "INFO:tensorflow:*** Num TPU Cores: 8\n"
          ]
        },
        {
          "name": "stderr",
          "output_type": "stream",
          "text": [
            "INFO:tensorflow:*** Num TPU Cores: 8\n"
          ]
        },
        {
          "name": "stdout",
          "output_type": "stream",
          "text": [
            "INFO:tensorflow:*** Num TPU Workers: 1\n"
          ]
        },
        {
          "name": "stderr",
          "output_type": "stream",
          "text": [
            "INFO:tensorflow:*** Num TPU Workers: 1\n"
          ]
        },
        {
          "name": "stdout",
          "output_type": "stream",
          "text": [
            "INFO:tensorflow:*** Num TPU Cores Per Worker: 8\n"
          ]
        },
        {
          "name": "stderr",
          "output_type": "stream",
          "text": [
            "INFO:tensorflow:*** Num TPU Cores Per Worker: 8\n"
          ]
        },
        {
          "name": "stdout",
          "output_type": "stream",
          "text": [
            "INFO:tensorflow:*** Available Device: _DeviceAttributes(/job:localhost/replica:0/task:0/device:CPU:0, CPU, 0, 0)\n"
          ]
        },
        {
          "name": "stderr",
          "output_type": "stream",
          "text": [
            "INFO:tensorflow:*** Available Device: _DeviceAttributes(/job:localhost/replica:0/task:0/device:CPU:0, CPU, 0, 0)\n"
          ]
        },
        {
          "name": "stdout",
          "output_type": "stream",
          "text": [
            "INFO:tensorflow:*** Available Device: _DeviceAttributes(/job:worker/replica:0/task:0/device:CPU:0, CPU, 0, 0)\n"
          ]
        },
        {
          "name": "stderr",
          "output_type": "stream",
          "text": [
            "INFO:tensorflow:*** Available Device: _DeviceAttributes(/job:worker/replica:0/task:0/device:CPU:0, CPU, 0, 0)\n"
          ]
        },
        {
          "name": "stdout",
          "output_type": "stream",
          "text": [
            "INFO:tensorflow:*** Available Device: _DeviceAttributes(/job:worker/replica:0/task:0/device:TPU:0, TPU, 0, 0)\n"
          ]
        },
        {
          "name": "stderr",
          "output_type": "stream",
          "text": [
            "INFO:tensorflow:*** Available Device: _DeviceAttributes(/job:worker/replica:0/task:0/device:TPU:0, TPU, 0, 0)\n"
          ]
        },
        {
          "name": "stdout",
          "output_type": "stream",
          "text": [
            "INFO:tensorflow:*** Available Device: _DeviceAttributes(/job:worker/replica:0/task:0/device:TPU:1, TPU, 0, 0)\n"
          ]
        },
        {
          "name": "stderr",
          "output_type": "stream",
          "text": [
            "INFO:tensorflow:*** Available Device: _DeviceAttributes(/job:worker/replica:0/task:0/device:TPU:1, TPU, 0, 0)\n"
          ]
        },
        {
          "name": "stdout",
          "output_type": "stream",
          "text": [
            "INFO:tensorflow:*** Available Device: _DeviceAttributes(/job:worker/replica:0/task:0/device:TPU:2, TPU, 0, 0)\n"
          ]
        },
        {
          "name": "stderr",
          "output_type": "stream",
          "text": [
            "INFO:tensorflow:*** Available Device: _DeviceAttributes(/job:worker/replica:0/task:0/device:TPU:2, TPU, 0, 0)\n"
          ]
        },
        {
          "name": "stdout",
          "output_type": "stream",
          "text": [
            "INFO:tensorflow:*** Available Device: _DeviceAttributes(/job:worker/replica:0/task:0/device:TPU:3, TPU, 0, 0)\n"
          ]
        },
        {
          "name": "stderr",
          "output_type": "stream",
          "text": [
            "INFO:tensorflow:*** Available Device: _DeviceAttributes(/job:worker/replica:0/task:0/device:TPU:3, TPU, 0, 0)\n"
          ]
        },
        {
          "name": "stdout",
          "output_type": "stream",
          "text": [
            "INFO:tensorflow:*** Available Device: _DeviceAttributes(/job:worker/replica:0/task:0/device:TPU:4, TPU, 0, 0)\n"
          ]
        },
        {
          "name": "stderr",
          "output_type": "stream",
          "text": [
            "INFO:tensorflow:*** Available Device: _DeviceAttributes(/job:worker/replica:0/task:0/device:TPU:4, TPU, 0, 0)\n"
          ]
        },
        {
          "name": "stdout",
          "output_type": "stream",
          "text": [
            "INFO:tensorflow:*** Available Device: _DeviceAttributes(/job:worker/replica:0/task:0/device:TPU:5, TPU, 0, 0)\n"
          ]
        },
        {
          "name": "stderr",
          "output_type": "stream",
          "text": [
            "INFO:tensorflow:*** Available Device: _DeviceAttributes(/job:worker/replica:0/task:0/device:TPU:5, TPU, 0, 0)\n"
          ]
        },
        {
          "name": "stdout",
          "output_type": "stream",
          "text": [
            "INFO:tensorflow:*** Available Device: _DeviceAttributes(/job:worker/replica:0/task:0/device:TPU:6, TPU, 0, 0)\n"
          ]
        },
        {
          "name": "stderr",
          "output_type": "stream",
          "text": [
            "INFO:tensorflow:*** Available Device: _DeviceAttributes(/job:worker/replica:0/task:0/device:TPU:6, TPU, 0, 0)\n"
          ]
        },
        {
          "name": "stdout",
          "output_type": "stream",
          "text": [
            "INFO:tensorflow:*** Available Device: _DeviceAttributes(/job:worker/replica:0/task:0/device:TPU:7, TPU, 0, 0)\n"
          ]
        },
        {
          "name": "stderr",
          "output_type": "stream",
          "text": [
            "INFO:tensorflow:*** Available Device: _DeviceAttributes(/job:worker/replica:0/task:0/device:TPU:7, TPU, 0, 0)\n"
          ]
        },
        {
          "name": "stdout",
          "output_type": "stream",
          "text": [
            "INFO:tensorflow:*** Available Device: _DeviceAttributes(/job:worker/replica:0/task:0/device:TPU_SYSTEM:0, TPU_SYSTEM, 0, 0)\n"
          ]
        },
        {
          "name": "stderr",
          "output_type": "stream",
          "text": [
            "INFO:tensorflow:*** Available Device: _DeviceAttributes(/job:worker/replica:0/task:0/device:TPU_SYSTEM:0, TPU_SYSTEM, 0, 0)\n"
          ]
        },
        {
          "name": "stdout",
          "output_type": "stream",
          "text": [
            "INFO:tensorflow:*** Available Device: _DeviceAttributes(/job:worker/replica:0/task:0/device:XLA_CPU:0, XLA_CPU, 0, 0)\n"
          ]
        },
        {
          "name": "stderr",
          "output_type": "stream",
          "text": [
            "INFO:tensorflow:*** Available Device: _DeviceAttributes(/job:worker/replica:0/task:0/device:XLA_CPU:0, XLA_CPU, 0, 0)\n"
          ]
        }
      ],
      "source": [
        "tpu = tf.distribute.cluster_resolver.TPUClusterResolver()\n",
        "tf.config.experimental_connect_to_cluster(tpu)\n",
        "tf.tpu.experimental.initialize_tpu_system(tpu)\n",
        "strategy = tf.distribute.TPUStrategy(tpu)"
      ]
    },
    {
      "cell_type": "code",
      "execution_count": 42,
      "id": "31871d70",
      "metadata": {
        "colab": {
          "base_uri": "https://localhost:8080/"
        },
        "id": "31871d70",
        "outputId": "1d6c8aea-3adf-408e-db40-d8b77e0f426d"
      },
      "outputs": [
        {
          "name": "stdout",
          "output_type": "stream",
          "text": [
            "Model: \"transformer\"\n",
            "__________________________________________________________________________________________________\n",
            " Layer (type)                   Output Shape         Param #     Connected to                     \n",
            "==================================================================================================\n",
            " inputs (InputLayer)            [(None, None)]       0           []                               \n",
            "                                                                                                  \n",
            " dec_inputs (InputLayer)        [(None, None)]       0           []                               \n",
            "                                                                                                  \n",
            " enc_padding_mask (Lambda)      (None, 1, 1, None)   0           ['inputs[0][0]']                 \n",
            "                                                                                                  \n",
            " encoder (Functional)           (None, None, 256)    3188480     ['inputs[0][0]',                 \n",
            "                                                                  'enc_padding_mask[0][0]']       \n",
            "                                                                                                  \n",
            " look_ahead_mask (Lambda)       (None, 1, None, Non  0           ['dec_inputs[0][0]']             \n",
            "                                e)                                                                \n",
            "                                                                                                  \n",
            " dec_padding_mask (Lambda)      (None, 1, 1, None)   0           ['inputs[0][0]']                 \n",
            "                                                                                                  \n",
            " decoder (Functional)           (None, None, 256)    3715840     ['dec_inputs[0][0]',             \n",
            "                                                                  'encoder[0][0]',                \n",
            "                                                                  'look_ahead_mask[0][0]',        \n",
            "                                                                  'dec_padding_mask[0][0]']       \n",
            "                                                                                                  \n",
            " outputs (Dense)                (None, None, 8337)   2142609     ['decoder[0][0]']                \n",
            "                                                                                                  \n",
            "==================================================================================================\n",
            "Total params: 9,046,929\n",
            "Trainable params: 9,046,929\n",
            "Non-trainable params: 0\n",
            "__________________________________________________________________________________________________\n"
          ]
        }
      ],
      "source": [
        "tf.keras.backend.clear_session()\n",
        "\n",
        "# 하이퍼파라미터\n",
        "NUM_LAYERS = 2 # 인코더와 디코더의 층의 개수\n",
        "D_MODEL = 256 # 인코더와 디코더 내부의 입, 출력의 고정 차원\n",
        "NUM_HEADS = 8 # 멀티 헤드 어텐션에서의 헤드 수 \n",
        "UNITS = 512 # 피드 포워드 신경망의 은닉층의 크기\n",
        "DROPOUT = 0.1 # 드롭아웃의 비율\n",
        "\n",
        "model = transformer(\n",
        "    vocab_size=VOCAB_SIZE,\n",
        "    num_layers=NUM_LAYERS,\n",
        "    units=UNITS,\n",
        "    d_model=D_MODEL,\n",
        "    num_heads=NUM_HEADS,\n",
        "    dropout=DROPOUT)\n",
        "\n",
        "model.summary()"
      ]
    },
    {
      "cell_type": "code",
      "execution_count": 16,
      "id": "92b0e36d",
      "metadata": {
        "id": "92b0e36d"
      },
      "outputs": [],
      "source": [
        "def loss_function(y_true, y_pred):\n",
        "  y_true = tf.reshape(y_true, shape=(-1, MAX_LENGTH - 1))\n",
        "  \n",
        "  loss = tf.keras.losses.SparseCategoricalCrossentropy(\n",
        "      from_logits=True, reduction='none')(y_true, y_pred)\n",
        "\n",
        "  mask = tf.cast(tf.not_equal(y_true, 0), tf.float32)\n",
        "  loss = tf.multiply(loss, mask)\n",
        "\n",
        "  return tf.reduce_mean(loss)"
      ]
    },
    {
      "cell_type": "markdown",
      "id": "acd42e2f",
      "metadata": {
        "id": "acd42e2f"
      },
      "source": [
        "커스텀된 학습률  \n",
        "학습 초기에 높였다가 이후 step이 진행됨에 따라 낮추어가며 안정적으로 수렴하게 하는 기법이 사용됨"
      ]
    },
    {
      "cell_type": "code",
      "execution_count": 17,
      "id": "7c4c5275",
      "metadata": {
        "colab": {
          "base_uri": "https://localhost:8080/"
        },
        "id": "7c4c5275",
        "outputId": "25155d9c-baff-48d1-ec49-30b3b6eedc58"
      },
      "outputs": [
        {
          "name": "stdout",
          "output_type": "stream",
          "text": [
            "슝=3\n"
          ]
        }
      ],
      "source": [
        "class CustomSchedule(tf.keras.optimizers.schedules.LearningRateSchedule):\n",
        "\n",
        "  def __init__(self, d_model, warmup_steps=4000):\n",
        "    super(CustomSchedule, self).__init__()\n",
        "\n",
        "    self.d_model = d_model\n",
        "    self.d_model = tf.cast(self.d_model, tf.float32)\n",
        "\n",
        "    self.warmup_steps = warmup_steps\n",
        "\n",
        "  def __call__(self, step):\n",
        "    arg1 = tf.math.rsqrt(step)\n",
        "    arg2 = step * (self.warmup_steps**-1.5)\n",
        "\n",
        "    return tf.math.rsqrt(self.d_model) * tf.math.minimum(arg1, arg2)\n",
        "print(\"슝=3\")"
      ]
    },
    {
      "cell_type": "code",
      "execution_count": 18,
      "id": "VRLgt_gEnVl0",
      "metadata": {
        "id": "VRLgt_gEnVl0"
      },
      "outputs": [],
      "source": [
        "def accuracy(y_true, y_pred):\n",
        "  y_true = tf.reshape(y_true, shape=(-1, MAX_LENGTH - 1))\n",
        "  return tf.keras.metrics.sparse_categorical_accuracy(y_true, y_pred)"
      ]
    },
    {
      "cell_type": "code",
      "execution_count": 37,
      "id": "fd33c1ab",
      "metadata": {
        "colab": {
          "base_uri": "https://localhost:8080/",
          "height": 297
        },
        "id": "fd33c1ab",
        "outputId": "a59120be-37a8-42e7-869b-ef6658e4bb6b"
      },
      "outputs": [
        {
          "data": {
            "text/plain": [
              "Text(0.5, 0, 'Train Step')"
            ]
          },
          "execution_count": 37,
          "metadata": {},
          "output_type": "execute_result"
        },
        {
          "data": {
            "image/png": "[encoded data removed]",
            "text/plain": [
              "<Figure size 432x288 with 1 Axes>"
            ]
          },
          "metadata": {
            "needs_background": "light"
          },
          "output_type": "display_data"
        }
      ],
      "source": [
        "sample_learning_rate = CustomSchedule(d_model=128)\n",
        "\n",
        "plt.plot(sample_learning_rate(tf.range(200000, dtype=tf.float32)))\n",
        "plt.ylabel(\"Learning Rate\")\n",
        "plt.xlabel(\"Train Step\")"
      ]
    },
    {
      "cell_type": "code",
      "execution_count": 41,
      "id": "3847dd3e",
      "metadata": {
        "colab": {
          "base_uri": "https://localhost:8080/",
          "height": 731
        },
        "id": "3847dd3e",
        "outputId": "db8ade05-f420-4119-8be8-e32d17bf75fa"
      },
      "outputs": [
        {
          "ename": "ValueError",
          "evalue": "ignored",
          "output_type": "error",
          "traceback": [
            "\u001b[0;31m---------------------------------------------------------------------------\u001b[0m",
            "\u001b[0;31mValueError\u001b[0m                                Traceback (most recent call last)",
            "\u001b[0;32m<ipython-input-41-34310199effa>\u001b[0m in \u001b[0;36m<module>\u001b[0;34m()\u001b[0m\n\u001b[1;32m      9\u001b[0m \u001b[0;34m\u001b[0m\u001b[0m\n\u001b[1;32m     10\u001b[0m \u001b[0;32mwith\u001b[0m \u001b[0mstrategy\u001b[0m\u001b[0;34m.\u001b[0m\u001b[0mscope\u001b[0m\u001b[0;34m(\u001b[0m\u001b[0;34m)\u001b[0m\u001b[0;34m:\u001b[0m\u001b[0;34m\u001b[0m\u001b[0;34m\u001b[0m\u001b[0m\n\u001b[0;32m---> 11\u001b[0;31m     \u001b[0mmodel\u001b[0m\u001b[0;34m.\u001b[0m\u001b[0mcompile\u001b[0m\u001b[0;34m(\u001b[0m\u001b[0moptimizer\u001b[0m\u001b[0;34m=\u001b[0m\u001b[0moptimizer\u001b[0m\u001b[0;34m,\u001b[0m \u001b[0mloss\u001b[0m\u001b[0;34m=\u001b[0m\u001b[0mloss_function\u001b[0m\u001b[0;34m,\u001b[0m \u001b[0mmetrics\u001b[0m\u001b[0;34m=\u001b[0m\u001b[0;34m[\u001b[0m\u001b[0maccuracy\u001b[0m\u001b[0;34m]\u001b[0m\u001b[0;34m)\u001b[0m\u001b[0;34m\u001b[0m\u001b[0;34m\u001b[0m\u001b[0m\n\u001b[0m",
            "\u001b[0;32m/usr/local/lib/python3.7/dist-packages/keras/utils/traceback_utils.py\u001b[0m in \u001b[0;36merror_handler\u001b[0;34m(*args, **kwargs)\u001b[0m\n\u001b[1;32m     65\u001b[0m     \u001b[0;32mexcept\u001b[0m \u001b[0mException\u001b[0m \u001b[0;32mas\u001b[0m \u001b[0me\u001b[0m\u001b[0;34m:\u001b[0m  \u001b[0;31m# pylint: disable=broad-except\u001b[0m\u001b[0;34m\u001b[0m\u001b[0;34m\u001b[0m\u001b[0m\n\u001b[1;32m     66\u001b[0m       \u001b[0mfiltered_tb\u001b[0m \u001b[0;34m=\u001b[0m \u001b[0m_process_traceback_frames\u001b[0m\u001b[0;34m(\u001b[0m\u001b[0me\u001b[0m\u001b[0;34m.\u001b[0m\u001b[0m__traceback__\u001b[0m\u001b[0;34m)\u001b[0m\u001b[0;34m\u001b[0m\u001b[0;34m\u001b[0m\u001b[0m\n\u001b[0;32m---> 67\u001b[0;31m       \u001b[0;32mraise\u001b[0m \u001b[0me\u001b[0m\u001b[0;34m.\u001b[0m\u001b[0mwith_traceback\u001b[0m\u001b[0;34m(\u001b[0m\u001b[0mfiltered_tb\u001b[0m\u001b[0;34m)\u001b[0m \u001b[0;32mfrom\u001b[0m \u001b[0;32mNone\u001b[0m\u001b[0;34m\u001b[0m\u001b[0;34m\u001b[0m\u001b[0m\n\u001b[0m\u001b[1;32m     68\u001b[0m     \u001b[0;32mfinally\u001b[0m\u001b[0;34m:\u001b[0m\u001b[0;34m\u001b[0m\u001b[0;34m\u001b[0m\u001b[0m\n\u001b[1;32m     69\u001b[0m       \u001b[0;32mdel\u001b[0m \u001b[0mfiltered_tb\u001b[0m\u001b[0;34m\u001b[0m\u001b[0;34m\u001b[0m\u001b[0m\n",
            "\u001b[0;32m/usr/local/lib/python3.7/dist-packages/keras/engine/training.py\u001b[0m in \u001b[0;36m_validate_compile\u001b[0;34m(self, optimizer, metrics, **kwargs)\u001b[0m\n\u001b[1;32m   2992\u001b[0m         \u001b[0;32mif\u001b[0m \u001b[0;32mnot\u001b[0m \u001b[0mstrategy\u001b[0m\u001b[0;34m.\u001b[0m\u001b[0mextended\u001b[0m\u001b[0;34m.\u001b[0m\u001b[0mvariable_created_in_scope\u001b[0m\u001b[0;34m(\u001b[0m\u001b[0mv\u001b[0m\u001b[0;34m)\u001b[0m\u001b[0;34m:\u001b[0m\u001b[0;34m\u001b[0m\u001b[0;34m\u001b[0m\u001b[0m\n\u001b[1;32m   2993\u001b[0m           raise ValueError(\n\u001b[0;32m-> 2994\u001b[0;31m               \u001b[0;34mf'Variable ({v}) was not created in the distribution strategy '\u001b[0m\u001b[0;34m\u001b[0m\u001b[0;34m\u001b[0m\u001b[0m\n\u001b[0m\u001b[1;32m   2995\u001b[0m               \u001b[0;34mf'scope of ({strategy}). It is most likely because some '\u001b[0m\u001b[0;34m\u001b[0m\u001b[0;34m\u001b[0m\u001b[0m\n\u001b[1;32m   2996\u001b[0m               \u001b[0;34m'layers, model, or optimizer was being created outside the '\u001b[0m\u001b[0;34m\u001b[0m\u001b[0;34m\u001b[0m\u001b[0m\n",
            "\u001b[0;31mValueError\u001b[0m: Variable (<tf.Variable 'embedding/embeddings:0' shape=(8337, 256) dtype=float32, numpy=\narray([[-8.08537006e-04, -4.88410145e-03, -1.79052576e-02, ...,\n        -1.90505628e-02,  1.45226978e-02, -3.24189663e-02],\n       [ 4.49209986e-03, -3.23084518e-02, -3.98708656e-02, ...,\n         2.27481164e-02, -1.53629947e-02, -4.22342792e-02],\n       [-2.95981392e-02,  3.89131792e-02, -5.81120048e-03, ...,\n        -1.08368732e-02, -1.09669873e-02,  4.48836610e-02],\n       ...,\n       [-3.14649828e-02,  5.65540791e-03, -9.93832946e-05, ...,\n         3.46329696e-02,  1.73608214e-03,  1.00821741e-02],\n       [-2.40446208e-03,  3.71998101e-02,  3.90031980e-03, ...,\n        -1.07005714e-02,  2.96863765e-02,  2.81572808e-02],\n       [ 2.56868452e-02, -9.68487468e-03, -3.42644267e-02, ...,\n        -1.19570615e-02,  3.03483196e-02,  3.06930784e-02]], dtype=float32)>) was not created in the distribution strategy scope of (<tensorflow.python.distribute.tpu_strategy.TPUStrategyV2 object at 0x7f288c39a990>). It is most likely because some layers, model, or optimizer was being created outside the distribution strategy scope. Try to make sure your code looks similar to the following.\nwith strategy.scope():\n  model=_create_model()\n  model.compile(...)"
          ]
        }
      ],
      "source": [
        "\n"
      ]
    },
    {
      "cell_type": "code",
      "execution_count": 39,
      "id": "9b5590e9",
      "metadata": {
        "colab": {
          "base_uri": "https://localhost:8080/",
          "height": 400
        },
        "id": "9b5590e9",
        "outputId": "e59117d3-df21-4c6c-bfd7-5f5b71207483"
      },
      "outputs": [
        {
          "name": "stdout",
          "output_type": "stream",
          "text": [
            "Epoch 1/20\n",
            "  9/689 [..............................] - ETA: 3:40 - loss: 2.9884 - accuracy: 4.4516e-05"
          ]
        },
        {
          "ename": "KeyboardInterrupt",
          "evalue": "ignored",
          "output_type": "error",
          "traceback": [
            "\u001b[0;31m---------------------------------------------------------------------------\u001b[0m",
            "\u001b[0;31mKeyboardInterrupt\u001b[0m                         Traceback (most recent call last)",
            "\u001b[0;32m<ipython-input-39-2e0ccf53bdfa>\u001b[0m in \u001b[0;36m<module>\u001b[0;34m()\u001b[0m\n\u001b[1;32m      1\u001b[0m \u001b[0mEPOCHS\u001b[0m \u001b[0;34m=\u001b[0m \u001b[0;36m20\u001b[0m\u001b[0;34m\u001b[0m\u001b[0;34m\u001b[0m\u001b[0m\n\u001b[0;32m----> 2\u001b[0;31m \u001b[0mmodel\u001b[0m\u001b[0;34m.\u001b[0m\u001b[0mfit\u001b[0m\u001b[0;34m(\u001b[0m\u001b[0mdataset\u001b[0m\u001b[0;34m,\u001b[0m \u001b[0mepochs\u001b[0m\u001b[0;34m=\u001b[0m\u001b[0mEPOCHS\u001b[0m\u001b[0;34m,\u001b[0m \u001b[0mverbose\u001b[0m\u001b[0;34m=\u001b[0m\u001b[0;36m1\u001b[0m\u001b[0;34m)\u001b[0m\u001b[0;34m\u001b[0m\u001b[0;34m\u001b[0m\u001b[0m\n\u001b[0m",
            "\u001b[0;32m/usr/local/lib/python3.7/dist-packages/keras/utils/traceback_utils.py\u001b[0m in \u001b[0;36merror_handler\u001b[0;34m(*args, **kwargs)\u001b[0m\n\u001b[1;32m     62\u001b[0m     \u001b[0mfiltered_tb\u001b[0m \u001b[0;34m=\u001b[0m \u001b[0;32mNone\u001b[0m\u001b[0;34m\u001b[0m\u001b[0;34m\u001b[0m\u001b[0m\n\u001b[1;32m     63\u001b[0m     \u001b[0;32mtry\u001b[0m\u001b[0;34m:\u001b[0m\u001b[0;34m\u001b[0m\u001b[0;34m\u001b[0m\u001b[0m\n\u001b[0;32m---> 64\u001b[0;31m       \u001b[0;32mreturn\u001b[0m \u001b[0mfn\u001b[0m\u001b[0;34m(\u001b[0m\u001b[0;34m*\u001b[0m\u001b[0margs\u001b[0m\u001b[0;34m,\u001b[0m \u001b[0;34m**\u001b[0m\u001b[0mkwargs\u001b[0m\u001b[0;34m)\u001b[0m\u001b[0;34m\u001b[0m\u001b[0;34m\u001b[0m\u001b[0m\n\u001b[0m\u001b[1;32m     65\u001b[0m     \u001b[0;32mexcept\u001b[0m \u001b[0mException\u001b[0m \u001b[0;32mas\u001b[0m \u001b[0me\u001b[0m\u001b[0;34m:\u001b[0m  \u001b[0;31m# pylint: disable=broad-except\u001b[0m\u001b[0;34m\u001b[0m\u001b[0;34m\u001b[0m\u001b[0m\n\u001b[1;32m     66\u001b[0m       \u001b[0mfiltered_tb\u001b[0m \u001b[0;34m=\u001b[0m \u001b[0m_process_traceback_frames\u001b[0m\u001b[0;34m(\u001b[0m\u001b[0me\u001b[0m\u001b[0;34m.\u001b[0m\u001b[0m__traceback__\u001b[0m\u001b[0;34m)\u001b[0m\u001b[0;34m\u001b[0m\u001b[0;34m\u001b[0m\u001b[0m\n",
            "\u001b[0;32m/usr/local/lib/python3.7/dist-packages/keras/engine/training.py\u001b[0m in \u001b[0;36mfit\u001b[0;34m(self, x, y, batch_size, epochs, verbose, callbacks, validation_split, validation_data, shuffle, class_weight, sample_weight, initial_epoch, steps_per_epoch, validation_steps, validation_batch_size, validation_freq, max_queue_size, workers, use_multiprocessing)\u001b[0m\n\u001b[1;32m   1382\u001b[0m                 _r=1):\n\u001b[1;32m   1383\u001b[0m               \u001b[0mcallbacks\u001b[0m\u001b[0;34m.\u001b[0m\u001b[0mon_train_batch_begin\u001b[0m\u001b[0;34m(\u001b[0m\u001b[0mstep\u001b[0m\u001b[0;34m)\u001b[0m\u001b[0;34m\u001b[0m\u001b[0;34m\u001b[0m\u001b[0m\n\u001b[0;32m-> 1384\u001b[0;31m               \u001b[0mtmp_logs\u001b[0m \u001b[0;34m=\u001b[0m \u001b[0mself\u001b[0m\u001b[0;34m.\u001b[0m\u001b[0mtrain_function\u001b[0m\u001b[0;34m(\u001b[0m\u001b[0miterator\u001b[0m\u001b[0;34m)\u001b[0m\u001b[0;34m\u001b[0m\u001b[0;34m\u001b[0m\u001b[0m\n\u001b[0m\u001b[1;32m   1385\u001b[0m               \u001b[0;32mif\u001b[0m \u001b[0mdata_handler\u001b[0m\u001b[0;34m.\u001b[0m\u001b[0mshould_sync\u001b[0m\u001b[0;34m:\u001b[0m\u001b[0;34m\u001b[0m\u001b[0;34m\u001b[0m\u001b[0m\n\u001b[1;32m   1386\u001b[0m                 \u001b[0mcontext\u001b[0m\u001b[0;34m.\u001b[0m\u001b[0masync_wait\u001b[0m\u001b[0;34m(\u001b[0m\u001b[0;34m)\u001b[0m\u001b[0;34m\u001b[0m\u001b[0;34m\u001b[0m\u001b[0m\n",
            "\u001b[0;32m/usr/local/lib/python3.7/dist-packages/tensorflow/python/util/traceback_utils.py\u001b[0m in \u001b[0;36merror_handler\u001b[0;34m(*args, **kwargs)\u001b[0m\n\u001b[1;32m    148\u001b[0m     \u001b[0mfiltered_tb\u001b[0m \u001b[0;34m=\u001b[0m \u001b[0;32mNone\u001b[0m\u001b[0;34m\u001b[0m\u001b[0;34m\u001b[0m\u001b[0m\n\u001b[1;32m    149\u001b[0m     \u001b[0;32mtry\u001b[0m\u001b[0;34m:\u001b[0m\u001b[0;34m\u001b[0m\u001b[0;34m\u001b[0m\u001b[0m\n\u001b[0;32m--> 150\u001b[0;31m       \u001b[0;32mreturn\u001b[0m \u001b[0mfn\u001b[0m\u001b[0;34m(\u001b[0m\u001b[0;34m*\u001b[0m\u001b[0margs\u001b[0m\u001b[0;34m,\u001b[0m \u001b[0;34m**\u001b[0m\u001b[0mkwargs\u001b[0m\u001b[0;34m)\u001b[0m\u001b[0;34m\u001b[0m\u001b[0;34m\u001b[0m\u001b[0m\n\u001b[0m\u001b[1;32m    151\u001b[0m     \u001b[0;32mexcept\u001b[0m \u001b[0mException\u001b[0m \u001b[0;32mas\u001b[0m \u001b[0me\u001b[0m\u001b[0;34m:\u001b[0m\u001b[0;34m\u001b[0m\u001b[0;34m\u001b[0m\u001b[0m\n\u001b[1;32m    152\u001b[0m       \u001b[0mfiltered_tb\u001b[0m \u001b[0;34m=\u001b[0m \u001b[0m_process_traceback_frames\u001b[0m\u001b[0;34m(\u001b[0m\u001b[0me\u001b[0m\u001b[0;34m.\u001b[0m\u001b[0m__traceback__\u001b[0m\u001b[0;34m)\u001b[0m\u001b[0;34m\u001b[0m\u001b[0;34m\u001b[0m\u001b[0m\n",
            "\u001b[0;32m/usr/local/lib/python3.7/dist-packages/tensorflow/python/eager/def_function.py\u001b[0m in \u001b[0;36m__call__\u001b[0;34m(self, *args, **kwds)\u001b[0m\n\u001b[1;32m    913\u001b[0m \u001b[0;34m\u001b[0m\u001b[0m\n\u001b[1;32m    914\u001b[0m       \u001b[0;32mwith\u001b[0m \u001b[0mOptionalXlaContext\u001b[0m\u001b[0;34m(\u001b[0m\u001b[0mself\u001b[0m\u001b[0;34m.\u001b[0m\u001b[0m_jit_compile\u001b[0m\u001b[0;34m)\u001b[0m\u001b[0;34m:\u001b[0m\u001b[0;34m\u001b[0m\u001b[0;34m\u001b[0m\u001b[0m\n\u001b[0;32m--> 915\u001b[0;31m         \u001b[0mresult\u001b[0m \u001b[0;34m=\u001b[0m \u001b[0mself\u001b[0m\u001b[0;34m.\u001b[0m\u001b[0m_call\u001b[0m\u001b[0;34m(\u001b[0m\u001b[0;34m*\u001b[0m\u001b[0margs\u001b[0m\u001b[0;34m,\u001b[0m \u001b[0;34m**\u001b[0m\u001b[0mkwds\u001b[0m\u001b[0;34m)\u001b[0m\u001b[0;34m\u001b[0m\u001b[0;34m\u001b[0m\u001b[0m\n\u001b[0m\u001b[1;32m    916\u001b[0m \u001b[0;34m\u001b[0m\u001b[0m\n\u001b[1;32m    917\u001b[0m       \u001b[0mnew_tracing_count\u001b[0m \u001b[0;34m=\u001b[0m \u001b[0mself\u001b[0m\u001b[0;34m.\u001b[0m\u001b[0mexperimental_get_tracing_count\u001b[0m\u001b[0;34m(\u001b[0m\u001b[0;34m)\u001b[0m\u001b[0;34m\u001b[0m\u001b[0;34m\u001b[0m\u001b[0m\n",
            "\u001b[0;32m/usr/local/lib/python3.7/dist-packages/tensorflow/python/eager/def_function.py\u001b[0m in \u001b[0;36m_call\u001b[0;34m(self, *args, **kwds)\u001b[0m\n\u001b[1;32m    945\u001b[0m       \u001b[0;31m# In this case we have created variables on the first call, so we run the\u001b[0m\u001b[0;34m\u001b[0m\u001b[0;34m\u001b[0m\u001b[0;34m\u001b[0m\u001b[0m\n\u001b[1;32m    946\u001b[0m       \u001b[0;31m# defunned version which is guaranteed to never create variables.\u001b[0m\u001b[0;34m\u001b[0m\u001b[0;34m\u001b[0m\u001b[0;34m\u001b[0m\u001b[0m\n\u001b[0;32m--> 947\u001b[0;31m       \u001b[0;32mreturn\u001b[0m \u001b[0mself\u001b[0m\u001b[0;34m.\u001b[0m\u001b[0m_stateless_fn\u001b[0m\u001b[0;34m(\u001b[0m\u001b[0;34m*\u001b[0m\u001b[0margs\u001b[0m\u001b[0;34m,\u001b[0m \u001b[0;34m**\u001b[0m\u001b[0mkwds\u001b[0m\u001b[0;34m)\u001b[0m  \u001b[0;31m# pylint: disable=not-callable\u001b[0m\u001b[0;34m\u001b[0m\u001b[0;34m\u001b[0m\u001b[0m\n\u001b[0m\u001b[1;32m    948\u001b[0m     \u001b[0;32melif\u001b[0m \u001b[0mself\u001b[0m\u001b[0;34m.\u001b[0m\u001b[0m_stateful_fn\u001b[0m \u001b[0;32mis\u001b[0m \u001b[0;32mnot\u001b[0m \u001b[0;32mNone\u001b[0m\u001b[0;34m:\u001b[0m\u001b[0;34m\u001b[0m\u001b[0;34m\u001b[0m\u001b[0m\n\u001b[1;32m    949\u001b[0m       \u001b[0;31m# Release the lock early so that multiple threads can perform the call\u001b[0m\u001b[0;34m\u001b[0m\u001b[0;34m\u001b[0m\u001b[0;34m\u001b[0m\u001b[0m\n",
            "\u001b[0;32m/usr/local/lib/python3.7/dist-packages/tensorflow/python/eager/function.py\u001b[0m in \u001b[0;36m__call__\u001b[0;34m(self, *args, **kwargs)\u001b[0m\n\u001b[1;32m   2955\u001b[0m        filtered_flat_args) = self._maybe_define_function(args, kwargs)\n\u001b[1;32m   2956\u001b[0m     return graph_function._call_flat(\n\u001b[0;32m-> 2957\u001b[0;31m         filtered_flat_args, captured_inputs=graph_function.captured_inputs)  # pylint: disable=protected-access\n\u001b[0m\u001b[1;32m   2958\u001b[0m \u001b[0;34m\u001b[0m\u001b[0m\n\u001b[1;32m   2959\u001b[0m   \u001b[0;34m@\u001b[0m\u001b[0mproperty\u001b[0m\u001b[0;34m\u001b[0m\u001b[0;34m\u001b[0m\u001b[0m\n",
            "\u001b[0;32m/usr/local/lib/python3.7/dist-packages/tensorflow/python/eager/function.py\u001b[0m in \u001b[0;36m_call_flat\u001b[0;34m(self, args, captured_inputs, cancellation_manager)\u001b[0m\n\u001b[1;32m   1852\u001b[0m       \u001b[0;31m# No tape is watching; skip to running the function.\u001b[0m\u001b[0;34m\u001b[0m\u001b[0;34m\u001b[0m\u001b[0;34m\u001b[0m\u001b[0m\n\u001b[1;32m   1853\u001b[0m       return self._build_call_outputs(self._inference_function.call(\n\u001b[0;32m-> 1854\u001b[0;31m           ctx, args, cancellation_manager=cancellation_manager))\n\u001b[0m\u001b[1;32m   1855\u001b[0m     forward_backward = self._select_forward_and_backward_functions(\n\u001b[1;32m   1856\u001b[0m         \u001b[0margs\u001b[0m\u001b[0;34m,\u001b[0m\u001b[0;34m\u001b[0m\u001b[0;34m\u001b[0m\u001b[0m\n",
            "\u001b[0;32m/usr/local/lib/python3.7/dist-packages/tensorflow/python/eager/function.py\u001b[0m in \u001b[0;36mcall\u001b[0;34m(self, ctx, args, cancellation_manager)\u001b[0m\n\u001b[1;32m    502\u001b[0m               \u001b[0minputs\u001b[0m\u001b[0;34m=\u001b[0m\u001b[0margs\u001b[0m\u001b[0;34m,\u001b[0m\u001b[0;34m\u001b[0m\u001b[0;34m\u001b[0m\u001b[0m\n\u001b[1;32m    503\u001b[0m               \u001b[0mattrs\u001b[0m\u001b[0;34m=\u001b[0m\u001b[0mattrs\u001b[0m\u001b[0;34m,\u001b[0m\u001b[0;34m\u001b[0m\u001b[0;34m\u001b[0m\u001b[0m\n\u001b[0;32m--> 504\u001b[0;31m               ctx=ctx)\n\u001b[0m\u001b[1;32m    505\u001b[0m         \u001b[0;32melse\u001b[0m\u001b[0;34m:\u001b[0m\u001b[0;34m\u001b[0m\u001b[0;34m\u001b[0m\u001b[0m\n\u001b[1;32m    506\u001b[0m           outputs = execute.execute_with_cancellation(\n",
            "\u001b[0;32m/usr/local/lib/python3.7/dist-packages/tensorflow/python/eager/execute.py\u001b[0m in \u001b[0;36mquick_execute\u001b[0;34m(op_name, num_outputs, inputs, attrs, ctx, name)\u001b[0m\n\u001b[1;32m     53\u001b[0m     \u001b[0mctx\u001b[0m\u001b[0;34m.\u001b[0m\u001b[0mensure_initialized\u001b[0m\u001b[0;34m(\u001b[0m\u001b[0;34m)\u001b[0m\u001b[0;34m\u001b[0m\u001b[0;34m\u001b[0m\u001b[0m\n\u001b[1;32m     54\u001b[0m     tensors = pywrap_tfe.TFE_Py_Execute(ctx._handle, device_name, op_name,\n\u001b[0;32m---> 55\u001b[0;31m                                         inputs, attrs, num_outputs)\n\u001b[0m\u001b[1;32m     56\u001b[0m   \u001b[0;32mexcept\u001b[0m \u001b[0mcore\u001b[0m\u001b[0;34m.\u001b[0m\u001b[0m_NotOkStatusException\u001b[0m \u001b[0;32mas\u001b[0m \u001b[0me\u001b[0m\u001b[0;34m:\u001b[0m\u001b[0;34m\u001b[0m\u001b[0;34m\u001b[0m\u001b[0m\n\u001b[1;32m     57\u001b[0m     \u001b[0;32mif\u001b[0m \u001b[0mname\u001b[0m \u001b[0;32mis\u001b[0m \u001b[0;32mnot\u001b[0m \u001b[0;32mNone\u001b[0m\u001b[0;34m:\u001b[0m\u001b[0;34m\u001b[0m\u001b[0;34m\u001b[0m\u001b[0m\n",
            "\u001b[0;31mKeyboardInterrupt\u001b[0m: "
          ]
        }
      ],
      "source": [
        "EPOCHS = 20\n",
        "model.fit(dataset, epochs=EPOCHS, verbose=1)"
      ]
    },
    {
      "cell_type": "markdown",
      "id": "3de2b72b",
      "metadata": {
        "id": "3de2b72b"
      },
      "source": [
        "# 챗봇 테스트"
      ]
    },
    {
      "cell_type": "markdown",
      "id": "93ffe13b",
      "metadata": {
        "id": "93ffe13b"
      },
      "source": [
        "1. 새로운 입력 문장에 대해서 훈련때와 동일한 전처리\n",
        "2. 입력 문장을 토크나이징하고 START_TOKEN과 END_TOKEN을 추가\n",
        "3. 패딩 마스킹과 룩 어헤드 마스킹 계싼\n",
        "4. 디코더는 입력 시퀸스로부터 다음 단어를 예측\n",
        "5. 디코더는 예측된 다음 단어를 기존의 입력 시퀸스에 추가하여 새로운 입력으로 사용\n",
        "6. END_TOKEN이 예측되거나 문장의 최대 길이에 도달하면 디코더는 동작을 멈춤"
      ]
    },
    {
      "cell_type": "code",
      "execution_count": 56,
      "id": "c82be131",
      "metadata": {
        "colab": {
          "base_uri": "https://localhost:8080/"
        },
        "id": "c82be131",
        "outputId": "415d6663-be50-4c15-99f1-ab65a180c0f7"
      },
      "outputs": [
        {
          "name": "stdout",
          "output_type": "stream",
          "text": [
            "슝=3\n"
          ]
        }
      ],
      "source": [
        "def decoder_inference(sentence):\n",
        "  sentence = preprocess_sentence(sentence)\n",
        "\n",
        "  # 입력된 문장을 정수 인코딩 후, 시작 토큰과 종료 토큰을 앞뒤로 추가.\n",
        "  # ex) Where have you been? → [[8331   86   30    5 1059    7 8332]]\n",
        "  sentence = tf.expand_dims(\n",
        "      START + tokenizer.encode(sentence) + END, axis=0)\n",
        "\n",
        "  # 디코더의 현재까지의 예측한 출력 시퀀스가 지속적으로 저장되는 변수.\n",
        "  # 처음에는 예측한 내용이 없음으로 시작 토큰만 별도 저장. ex) 8331\n",
        "  output_sequence = tf.expand_dims(START, 0)\n",
        "\n",
        "  # 디코더의 인퍼런스 단계\n",
        "  for i in range(MAX_LENGTH):\n",
        "    # 디코더는 최대 MAX_LENGTH의 길이만큼 다음 단어 예측을 반복합니다.\n",
        "    predictions = model(inputs=[sentence, output_sequence], training=False)\n",
        "    predictions = predictions[:, -1:, :]\n",
        "\n",
        "    # 현재 예측한 단어의 정수\n",
        "    predicted_id = tf.cast(tf.argmax(predictions, axis=-1), tf.int32)\n",
        "\n",
        "    # 만약 현재 예측한 단어가 종료 토큰이라면 for문을 종료\n",
        "    if tf.equal(predicted_id, END[0]):\n",
        "      break\n",
        "\n",
        "    # 예측한 단어들은 지속적으로 output_sequence에 추가됩니다.\n",
        "    # 이 output_sequence는 다시 디코더의 입력이 됩니다.\n",
        "    output_sequence = tf.concat([output_sequence, predicted_id], axis=-1)\n",
        "\n",
        "  return tf.squeeze(output_sequence, axis=0)\n",
        "print(\"슝=3\")"
      ]
    },
    {
      "cell_type": "code",
      "execution_count": 20,
      "id": "42fe8bed",
      "metadata": {
        "colab": {
          "base_uri": "https://localhost:8080/"
        },
        "id": "42fe8bed",
        "outputId": "51e363d4-e0ad-4e17-985e-377a92dc9f33"
      },
      "outputs": [
        {
          "name": "stdout",
          "output_type": "stream",
          "text": [
            "슝=3\n"
          ]
        }
      ],
      "source": [
        "def sentence_generation(sentence):\n",
        "  # 입력 문장에 대해서 디코더를 동작 시켜 예측된 정수 시퀀스를 리턴받습니다.\n",
        "  prediction = decoder_inference(sentence)\n",
        "\n",
        "  # 정수 시퀀스를 다시 텍스트 시퀀스로 변환합니다.\n",
        "  predicted_sentence = tokenizer.decode(\n",
        "      [i for i in prediction if i < tokenizer.vocab_size])\n",
        "\n",
        "  print('입력 : {}'.format(sentence))\n",
        "  print('출력 : {}'.format(predicted_sentence))\n",
        "\n",
        "  return predicted_sentence\n",
        "print(\"슝=3\")"
      ]
    },
    {
      "cell_type": "code",
      "execution_count": null,
      "id": "413f56a9",
      "metadata": {
        "id": "413f56a9",
        "outputId": "9b26b2bf-8b1e-4d68-f126-3b1bf753b1e8"
      },
      "outputs": [
        {
          "name": "stdout",
          "output_type": "stream",
          "text": [
            "입력 : Where have you been?\n",
            "출력 : i m going to see my father .\n"
          ]
        },
        {
          "data": {
            "text/plain": [
              "'i m going to see my father .'"
            ]
          },
          "execution_count": 59,
          "metadata": {},
          "output_type": "execute_result"
        }
      ],
      "source": [
        "sentence_generation('Where have you been?')"
      ]
    },
    {
      "cell_type": "code",
      "execution_count": null,
      "id": "dc591054",
      "metadata": {
        "id": "dc591054",
        "outputId": "3c1ebd03-e68f-4b15-f931-29d5a9a78e5f"
      },
      "outputs": [
        {
          "name": "stdout",
          "output_type": "stream",
          "text": [
            "입력 : It's a trap\n",
            "출력 : i m not going to let you go . i m not going to let you go home and get ready . we have to go in there , don t you have to show up for time ?\n"
          ]
        },
        {
          "data": {
            "text/plain": [
              "'i m not going to let you go . i m not going to let you go home and get ready . we have to go in there , don t you have to show up for time ?'"
            ]
          },
          "execution_count": 60,
          "metadata": {},
          "output_type": "execute_result"
        }
      ],
      "source": [
        "sentence_generation(\"It's a trap\")"
      ]
    },
    {
      "cell_type": "code",
      "execution_count": 23,
      "id": "e8314ae7",
      "metadata": {
        "id": "e8314ae7"
      },
      "outputs": [],
      "source": [
        "import pandas as pd\n",
        "path = '/content/ChatbotData.csv'"
      ]
    },
    {
      "cell_type": "code",
      "execution_count": 24,
      "id": "bce69aed",
      "metadata": {
        "id": "bce69aed"
      },
      "outputs": [],
      "source": [
        "df = pd.read_csv(path)"
      ]
    },
    {
      "cell_type": "code",
      "execution_count": 25,
      "id": "750267f6",
      "metadata": {
        "colab": {
          "base_uri": "https://localhost:8080/",
          "height": 206
        },
        "id": "750267f6",
        "outputId": "089d0728-977d-4512-a3d8-f61ff70c685f",
        "scrolled": true
      },
      "outputs": [
        {
          "data": {
            "text/html": [
              "\n",
              "  <div id=\"df-7523ccaf-3787-414f-8d97-3a52385352b8\">\n",
              "    <div class=\"colab-df-container\">\n",
              "      <div>\n",
              "<style scoped>\n",
              "    .dataframe tbody tr th:only-of-type {\n",
              "        vertical-align: middle;\n",
              "    }\n",
              "\n",
              "    .dataframe tbody tr th {\n",
              "        vertical-align: top;\n",
              "    }\n",
              "\n",
              "    .dataframe thead th {\n",
              "        text-align: right;\n",
              "    }\n",
              "</style>\n",
              "<table border=\"1\" class=\"dataframe\">\n",
              "  <thead>\n",
              "    <tr style=\"text-align: right;\">\n",
              "      <th></th>\n",
              "      <th>Q</th>\n",
              "      <th>A</th>\n",
              "      <th>label</th>\n",
              "    </tr>\n",
              "  </thead>\n",
              "  <tbody>\n",
              "    <tr>\n",
              "      <th>0</th>\n",
              "      <td>12시 땡!</td>\n",
              "      <td>하루가 또 가네요.</td>\n",
              "      <td>0</td>\n",
              "    </tr>\n",
              "    <tr>\n",
              "      <th>1</th>\n",
              "      <td>1지망 학교 떨어졌어</td>\n",
              "      <td>위로해 드립니다.</td>\n",
              "      <td>0</td>\n",
              "    </tr>\n",
              "    <tr>\n",
              "      <th>2</th>\n",
              "      <td>3박4일 놀러가고 싶다</td>\n",
              "      <td>여행은 언제나 좋죠.</td>\n",
              "      <td>0</td>\n",
              "    </tr>\n",
              "    <tr>\n",
              "      <th>3</th>\n",
              "      <td>3박4일 정도 놀러가고 싶다</td>\n",
              "      <td>여행은 언제나 좋죠.</td>\n",
              "      <td>0</td>\n",
              "    </tr>\n",
              "    <tr>\n",
              "      <th>4</th>\n",
              "      <td>PPL 심하네</td>\n",
              "      <td>눈살이 찌푸려지죠.</td>\n",
              "      <td>0</td>\n",
              "    </tr>\n",
              "  </tbody>\n",
              "</table>\n",
              "</div>\n",
              "      <button class=\"colab-df-convert\" onclick=\"convertToInteractive('df-7523ccaf-3787-414f-8d97-3a52385352b8')\"\n",
              "              title=\"Convert this dataframe to an interactive table.\"\n",
              "              style=\"display:none;\">\n",
              "        \n",
              "  <svg xmlns=\"http://www.w3.org/2000/svg\" height=\"24px\"viewBox=\"0 0 24 24\"\n",
              "       width=\"24px\">\n",
              "    <path d=\"M0 0h24v24H0V0z\" fill=\"none\"/>\n",
              "    <path d=\"M18.56 5.44l.94 2.06.94-2.06 2.06-.94-2.06-.94-.94-2.06-.94 2.06-2.06.94zm-11 1L8.5 8.5l.94-2.06 2.06-.94-2.06-.94L8.5 2.5l-.94 2.06-2.06.94zm10 10l.94 2.06.94-2.06 2.06-.94-2.06-.94-.94-2.06-.94 2.06-2.06.94z\"/><path d=\"M17.41 7.96l-1.37-1.37c-.4-.4-.92-.59-1.43-.59-.52 0-1.04.2-1.43.59L10.3 9.45l-7.72 7.72c-.78.78-.78 2.05 0 2.83L4 21.41c.39.39.9.59 1.41.59.51 0 1.02-.2 1.41-.59l7.78-7.78 2.81-2.81c.8-.78.8-2.07 0-2.86zM5.41 20L4 18.59l7.72-7.72 1.47 1.35L5.41 20z\"/>\n",
              "  </svg>\n",
              "      </button>\n",
              "      \n",
              "  <style>\n",
              "    .colab-df-container {\n",
              "      display:flex;\n",
              "      flex-wrap:wrap;\n",
              "      gap: 12px;\n",
              "    }\n",
              "\n",
              "    .colab-df-convert {\n",
              "      background-color: #E8F0FE;\n",
              "      border: none;\n",
              "      border-radius: 50%;\n",
              "      cursor: pointer;\n",
              "      display: none;\n",
              "      fill: #1967D2;\n",
              "      height: 32px;\n",
              "      padding: 0 0 0 0;\n",
              "      width: 32px;\n",
              "    }\n",
              "\n",
              "    .colab-df-convert:hover {\n",
              "      background-color: #E2EBFA;\n",
              "      box-shadow: 0px 1px 2px rgba(60, 64, 67, 0.3), 0px 1px 3px 1px rgba(60, 64, 67, 0.15);\n",
              "      fill: #174EA6;\n",
              "    }\n",
              "\n",
              "    [theme=dark] .colab-df-convert {\n",
              "      background-color: #3B4455;\n",
              "      fill: #D2E3FC;\n",
              "    }\n",
              "\n",
              "    [theme=dark] .colab-df-convert:hover {\n",
              "      background-color: #434B5C;\n",
              "      box-shadow: 0px 1px 3px 1px rgba(0, 0, 0, 0.15);\n",
              "      filter: drop-shadow(0px 1px 2px rgba(0, 0, 0, 0.3));\n",
              "      fill: #FFFFFF;\n",
              "    }\n",
              "  </style>\n",
              "\n",
              "      <script>\n",
              "        const buttonEl =\n",
              "          document.querySelector('#df-7523ccaf-3787-414f-8d97-3a52385352b8 button.colab-df-convert');\n",
              "        buttonEl.style.display =\n",
              "          google.colab.kernel.accessAllowed ? 'block' : 'none';\n",
              "\n",
              "        async function convertToInteractive(key) {\n",
              "          const element = document.querySelector('#df-7523ccaf-3787-414f-8d97-3a52385352b8');\n",
              "          const dataTable =\n",
              "            await google.colab.kernel.invokeFunction('convertToInteractive',\n",
              "                                                     [key], {});\n",
              "          if (!dataTable) return;\n",
              "\n",
              "          const docLinkHtml = 'Like what you see? Visit the ' +\n",
              "            '<a target=\"_blank\" href=https://colab.research.google.com/notebooks/data_table.ipynb>data table notebook</a>'\n",
              "            + ' to learn more about interactive tables.';\n",
              "          element.innerHTML = '';\n",
              "          dataTable['output_type'] = 'display_data';\n",
              "          await google.colab.output.renderOutput(dataTable, element);\n",
              "          const docLink = document.createElement('div');\n",
              "          docLink.innerHTML = docLinkHtml;\n",
              "          element.appendChild(docLink);\n",
              "        }\n",
              "      </script>\n",
              "    </div>\n",
              "  </div>\n",
              "  "
            ],
            "text/plain": [
              "                 Q            A  label\n",
              "0           12시 땡!   하루가 또 가네요.      0\n",
              "1      1지망 학교 떨어졌어    위로해 드립니다.      0\n",
              "2     3박4일 놀러가고 싶다  여행은 언제나 좋죠.      0\n",
              "3  3박4일 정도 놀러가고 싶다  여행은 언제나 좋죠.      0\n",
              "4          PPL 심하네   눈살이 찌푸려지죠.      0"
            ]
          },
          "execution_count": 25,
          "metadata": {},
          "output_type": "execute_result"
        }
      ],
      "source": [
        "df.head()"
      ]
    },
    {
      "cell_type": "code",
      "execution_count": 26,
      "id": "7c256520",
      "metadata": {
        "id": "7c256520"
      },
      "outputs": [],
      "source": [
        "def preprocess_sentence(sentence):\n",
        "    sentence = sentence.strip()\n",
        "    sentence = re.sub(r\"([?.!,])\",r\" \\1 \", sentence)\n",
        "    sentence = re.sub(r'[\" \"]+', \" \", sentence)\n",
        "    sentence = re.sub(r\"[^a-zA-z가-힣0-9?.!,]+\",\" \", sentence)\n",
        "    sentence = sentence.strip()\n",
        "    return sentence"
      ]
    },
    {
      "cell_type": "code",
      "execution_count": 27,
      "id": "22b8590b",
      "metadata": {
        "id": "22b8590b"
      },
      "outputs": [],
      "source": [
        "df['processed_q'] = df.Q.apply(preprocess_sentence)\n",
        "df['processed_a'] = df.A.apply(preprocess_sentence)"
      ]
    },
    {
      "cell_type": "code",
      "execution_count": 28,
      "id": "9cd26530",
      "metadata": {
        "colab": {
          "base_uri": "https://localhost:8080/",
          "height": 35
        },
        "id": "9cd26530",
        "outputId": "3d7b96c5-5ed2-49ba-9cc1-85f17492086f",
        "scrolled": true
      },
      "outputs": [
        {
          "data": {
            "application/vnd.google.colaboratory.intrinsic+json": {
              "type": "string"
            },
            "text/plain": [
              "'밥 사줄 친구를 찾아 보세요'"
            ]
          },
          "execution_count": 28,
          "metadata": {},
          "output_type": "execute_result"
        }
      ],
      "source": [
        "df.processed_a[100]"
      ]
    },
    {
      "cell_type": "code",
      "execution_count": 29,
      "id": "93-8QoAko0PK",
      "metadata": {
        "id": "93-8QoAko0PK"
      },
      "outputs": [],
      "source": [
        "question = df.processed_q.to_numpy()\n",
        "answer = df.processed_a.to_numpy()"
      ]
    },
    {
      "cell_type": "code",
      "execution_count": 30,
      "id": "fde0fb2b",
      "metadata": {
        "id": "fde0fb2b"
      },
      "outputs": [],
      "source": [
        "import tensorflow_datasets as tfds\n",
        "tokenizer = tfds.deprecated.text.SubwordTextEncoder.build_from_corpus(\n",
        "    question + answer, target_vocab_size=2**13)"
      ]
    },
    {
      "cell_type": "code",
      "execution_count": 31,
      "id": "2030090f",
      "metadata": {
        "id": "2030090f"
      },
      "outputs": [],
      "source": [
        "START, END = [tokenizer.vocab_size],[tokenizer.vocab_size+1]"
      ]
    },
    {
      "cell_type": "code",
      "execution_count": 32,
      "id": "11951bbf",
      "metadata": {
        "colab": {
          "base_uri": "https://localhost:8080/"
        },
        "id": "11951bbf",
        "outputId": "ed3c3635-c21e-46ef-dd86-a1563c66577d"
      },
      "outputs": [
        {
          "data": {
            "text/plain": [
              "8359"
            ]
          },
          "execution_count": 32,
          "metadata": {},
          "output_type": "execute_result"
        }
      ],
      "source": [
        "VOCAB_SIZE = tokenizer.vocab_size + 2\n",
        "VOCAB_SIZE"
      ]
    },
    {
      "cell_type": "code",
      "execution_count": 33,
      "id": "da2c06af",
      "metadata": {
        "colab": {
          "base_uri": "https://localhost:8080/"
        },
        "id": "da2c06af",
        "outputId": "6e1a6aa7-255d-40ae-e57a-79ab12b70c29"
      },
      "outputs": [
        {
          "name": "stdout",
          "output_type": "stream",
          "text": [
            "[8357] [8358]\n"
          ]
        }
      ],
      "source": [
        "print(START, END)"
      ]
    },
    {
      "cell_type": "code",
      "execution_count": 34,
      "id": "eb531553",
      "metadata": {
        "colab": {
          "base_uri": "https://localhost:8080/"
        },
        "id": "eb531553",
        "outputId": "364e0aff-d35f-49a0-de4c-801d08023cd5"
      },
      "outputs": [
        {
          "name": "stdout",
          "output_type": "stream",
          "text": [
            "[679, 740] [70, 509, 152, 3, 1]\n"
          ]
        }
      ],
      "source": [
        "print(tokenizer.encode(question[11]),tokenizer.encode(answer[11]))"
      ]
    },
    {
      "cell_type": "code",
      "execution_count": 35,
      "id": "f54f9f8f",
      "metadata": {
        "id": "f54f9f8f"
      },
      "outputs": [],
      "source": [
        "df['tokenized_q'] = df.processed_q.apply(tokenizer.encode)\n",
        "df['tokenized_a'] = df.processed_a.apply(tokenizer.encode)"
      ]
    },
    {
      "cell_type": "code",
      "execution_count": 36,
      "id": "9d2b2f4e",
      "metadata": {
        "id": "9d2b2f4e"
      },
      "outputs": [],
      "source": [
        "df['q_len'] = df.tokenized_q.apply(lambda x: len(x))\n",
        "df['a_len'] = df.tokenized_a.apply(lambda x: len(x))"
      ]
    },
    {
      "cell_type": "code",
      "execution_count": 37,
      "id": "27414198",
      "metadata": {
        "colab": {
          "base_uri": "https://localhost:8080/"
        },
        "id": "27414198",
        "outputId": "29802285-ea7b-47d2-cf03-4a02808dc991"
      },
      "outputs": [
        {
          "data": {
            "text/plain": [
              "count    11823.000000\n",
              "mean         5.481773\n",
              "std          2.500141\n",
              "min          1.000000\n",
              "25%          4.000000\n",
              "50%          5.000000\n",
              "75%          7.000000\n",
              "max         21.000000\n",
              "Name: q_len, dtype: float64"
            ]
          },
          "execution_count": 37,
          "metadata": {},
          "output_type": "execute_result"
        }
      ],
      "source": [
        "df.q_len.describe()"
      ]
    },
    {
      "cell_type": "code",
      "execution_count": 38,
      "id": "7b686ae9",
      "metadata": {
        "colab": {
          "base_uri": "https://localhost:8080/"
        },
        "id": "7b686ae9",
        "outputId": "cb339260-1947-4008-b40d-a45802900bc7",
        "scrolled": true
      },
      "outputs": [
        {
          "data": {
            "text/plain": [
              "count    11823.000000\n",
              "mean         5.826694\n",
              "std          2.602263\n",
              "min          1.000000\n",
              "25%          4.000000\n",
              "50%          5.000000\n",
              "75%          7.000000\n",
              "max         29.000000\n",
              "Name: a_len, dtype: float64"
            ]
          },
          "execution_count": 38,
          "metadata": {},
          "output_type": "execute_result"
        }
      ],
      "source": [
        "df.a_len.describe()"
      ]
    },
    {
      "cell_type": "code",
      "execution_count": 39,
      "id": "6809c12d",
      "metadata": {
        "id": "6809c12d"
      },
      "outputs": [],
      "source": [
        "# 75% 범위를 포함하고, 평균에 표준편차를 더한 값의 최대\n",
        "MAX_LENGTH = 8"
      ]
    },
    {
      "cell_type": "code",
      "execution_count": 40,
      "id": "b5ed61fe",
      "metadata": {
        "id": "b5ed61fe"
      },
      "outputs": [],
      "source": [
        "df['tokenized_q'] =  df.tokenized_q.apply(lambda x: START + x + END)\n",
        "df['tokenized_a'] = df.tokenized_a.apply(lambda x: START + x + END)"
      ]
    },
    {
      "cell_type": "code",
      "execution_count": 41,
      "id": "-8-u5BvSpNOA",
      "metadata": {
        "id": "-8-u5BvSpNOA"
      },
      "outputs": [],
      "source": [
        "under_max_df = df[(df.tokenized_q.apply(lambda x:len(x)) <= MAX_LENGTH) | (df.tokenized_a.apply(lambda x:len(x)) <= MAX_LENGTH)]"
      ]
    },
    {
      "cell_type": "code",
      "execution_count": 42,
      "id": "49a793ea",
      "metadata": {
        "id": "49a793ea"
      },
      "outputs": [],
      "source": [
        "question = tf.keras.preprocessing.sequence.pad_sequences(under_max_df.tokenized_q, maxlen=MAX_LENGTH, padding='post')\n",
        "answer = tf.keras.preprocessing.sequence.pad_sequences(under_max_df.tokenized_a,maxlen=MAX_LENGTH, padding='post')"
      ]
    },
    {
      "cell_type": "code",
      "execution_count": 43,
      "id": "22bc5011",
      "metadata": {
        "colab": {
          "base_uri": "https://localhost:8080/"
        },
        "id": "22bc5011",
        "outputId": "5a92ea17-b2f5-4586-f493-5154064593a6"
      },
      "outputs": [
        {
          "name": "stdout",
          "output_type": "stream",
          "text": [
            "8359 10448 10448\n"
          ]
        }
      ],
      "source": [
        "print(VOCAB_SIZE, len(question), len(answer))"
      ]
    },
    {
      "cell_type": "code",
      "execution_count": 44,
      "id": "40f6c110",
      "metadata": {
        "id": "40f6c110"
      },
      "outputs": [],
      "source": [
        "BATCH_SIZE = 128\n",
        "BUFFER_SIZE = 10000\n",
        "\n",
        "dataset = tf.data.Dataset.from_tensor_slices((\n",
        "    {\n",
        "        'inputs':question,\n",
        "        'dec_inputs' : answer[:, :-1],\n",
        "    },\n",
        "    {\n",
        "        'outputs':answer[:, 1:]\n",
        "    },\n",
        "))\n",
        "dataset = dataset.cache()\n",
        "dataset = dataset.shuffle(BUFFER_SIZE)\n",
        "dataset = dataset.batch(BATCH_SIZE)\n",
        "dataset = dataset.prefetch(tf.data.experimental.AUTOTUNE)"
      ]
    },
    {
      "cell_type": "code",
      "execution_count": null,
      "id": "6voxehdVqiVJ",
      "metadata": {
        "id": "6voxehdVqiVJ"
      },
      "outputs": [],
      "source": [
        "tpu = tf.distribute.cluster_resolver.TPUClusterResolver()\n",
        "tf.config.experimental_connect_to_cluster(tpu)\n",
        "tf.tpu.experimental.initialize_tpu_system(tpu)\n",
        "strategy = tf.distribute.TPUStrategy(tpu)"
      ]
    },
    {
      "cell_type": "code",
      "execution_count": 45,
      "id": "c0b3855f",
      "metadata": {
        "id": "c0b3855f"
      },
      "outputs": [],
      "source": [
        "tf.keras.backend.clear_session()\n",
        "\n",
        "# 하이퍼파라미터\n",
        "NUM_LAYERS = 2 # 인코더와 디코더의 층의 개수\n",
        "D_MODEL = 256 # 인코더와 디코더 내부의 입, 출력의 고정 차원\n",
        "NUM_HEADS = 8 # 멀티 헤드 어텐션에서의 헤드 수 \n",
        "UNITS = 512 # 피드 포워드 신경망의 은닉층의 크기\n",
        "DROPOUT = 0.1 # 드롭아웃의 비율\n",
        "with strategy.scope():\n",
        "    model = transformer(\n",
        "    vocab_size=VOCAB_SIZE,\n",
        "    num_layers=NUM_LAYERS,\n",
        "    units=UNITS,\n",
        "    d_model=D_MODEL,\n",
        "    num_heads=NUM_HEADS,\n",
        "    dropout=DROPOUT)\n",
        "    learning_rate = CustomSchedule(D_MODEL)\n",
        "    optimizer = tf.keras.optimizers.Adam(\n",
        "    learning_rate=1e-4, beta_1 =0.9, beta_2=0.98, epsilon=1e-9)\n",
        "    model.compile(optimizer=optimizer,loss=loss_function, metrics=[accuracy])\n"
      ]
    },
    {
      "cell_type": "code",
      "execution_count": null,
      "id": "4_b4sy8YrLJE",
      "metadata": {
        "id": "4_b4sy8YrLJE"
      },
      "outputs": [],
      "source": [
        "tf.tpu.experimental.initialize_tpu_system(tpu)"
      ]
    },
    {
      "cell_type": "code",
      "execution_count": 50,
      "id": "98a33ca7",
      "metadata": {
        "colab": {
          "base_uri": "https://localhost:8080/"
        },
        "id": "98a33ca7",
        "outputId": "4e52353b-3c42-4919-df14-f9cc82bcf665"
      },
      "outputs": [
        {
          "name": "stdout",
          "output_type": "stream",
          "text": [
            "Epoch 1/30\n",
            "82/82 [==============================] - 2s 28ms/step - loss: 0.1439 - accuracy: 0.8187\n",
            "Epoch 2/30\n",
            "82/82 [==============================] - 2s 28ms/step - loss: 0.1309 - accuracy: 0.8198\n",
            "Epoch 3/30\n",
            "82/82 [==============================] - 2s 28ms/step - loss: 0.1181 - accuracy: 0.8209\n",
            "Epoch 4/30\n",
            "82/82 [==============================] - 2s 28ms/step - loss: 0.1063 - accuracy: 0.8221\n",
            "Epoch 5/30\n",
            "82/82 [==============================] - 2s 28ms/step - loss: 0.0975 - accuracy: 0.8223\n",
            "Epoch 6/30\n",
            "82/82 [==============================] - 2s 28ms/step - loss: 0.0885 - accuracy: 0.8225\n",
            "Epoch 7/30\n",
            "82/82 [==============================] - 2s 27ms/step - loss: 0.0802 - accuracy: 0.8234\n",
            "Epoch 8/30\n",
            "82/82 [==============================] - 2s 29ms/step - loss: 0.0728 - accuracy: 0.8231\n",
            "Epoch 9/30\n",
            "82/82 [==============================] - 2s 28ms/step - loss: 0.0647 - accuracy: 0.8237\n",
            "Epoch 10/30\n",
            "82/82 [==============================] - 2s 28ms/step - loss: 0.0592 - accuracy: 0.8241\n",
            "Epoch 11/30\n",
            "82/82 [==============================] - 2s 28ms/step - loss: 0.0539 - accuracy: 0.8240\n",
            "Epoch 12/30\n",
            "82/82 [==============================] - 2s 28ms/step - loss: 0.0494 - accuracy: 0.8241\n",
            "Epoch 13/30\n",
            "82/82 [==============================] - 2s 28ms/step - loss: 0.0462 - accuracy: 0.8240\n",
            "Epoch 14/30\n",
            "82/82 [==============================] - 2s 27ms/step - loss: 0.0399 - accuracy: 0.8248\n",
            "Epoch 15/30\n",
            "82/82 [==============================] - 2s 27ms/step - loss: 0.0377 - accuracy: 0.8245\n",
            "Epoch 16/30\n",
            "82/82 [==============================] - 2s 28ms/step - loss: 0.0337 - accuracy: 0.8251\n",
            "Epoch 17/30\n",
            "82/82 [==============================] - 2s 27ms/step - loss: 0.0320 - accuracy: 0.8248\n",
            "Epoch 18/30\n",
            "82/82 [==============================] - 2s 28ms/step - loss: 0.0291 - accuracy: 0.8250\n",
            "Epoch 19/30\n",
            "82/82 [==============================] - 2s 27ms/step - loss: 0.0257 - accuracy: 0.8254\n",
            "Epoch 20/30\n",
            "82/82 [==============================] - 2s 27ms/step - loss: 0.0243 - accuracy: 0.8251\n",
            "Epoch 21/30\n",
            "82/82 [==============================] - 2s 28ms/step - loss: 0.0226 - accuracy: 0.8251\n",
            "Epoch 22/30\n",
            "82/82 [==============================] - 2s 27ms/step - loss: 0.0212 - accuracy: 0.8251\n",
            "Epoch 23/30\n",
            "82/82 [==============================] - 2s 28ms/step - loss: 0.0193 - accuracy: 0.8254\n",
            "Epoch 24/30\n",
            "82/82 [==============================] - 2s 28ms/step - loss: 0.0184 - accuracy: 0.8255\n",
            "Epoch 25/30\n",
            "82/82 [==============================] - 2s 28ms/step - loss: 0.0172 - accuracy: 0.8252\n",
            "Epoch 26/30\n",
            "82/82 [==============================] - 2s 27ms/step - loss: 0.0162 - accuracy: 0.8254\n",
            "Epoch 27/30\n",
            "82/82 [==============================] - 2s 28ms/step - loss: 0.0151 - accuracy: 0.8254\n",
            "Epoch 28/30\n",
            "82/82 [==============================] - 2s 28ms/step - loss: 0.0143 - accuracy: 0.8254\n",
            "Epoch 29/30\n",
            "82/82 [==============================] - 2s 28ms/step - loss: 0.0132 - accuracy: 0.8256\n",
            "Epoch 30/30\n",
            "82/82 [==============================] - 2s 27ms/step - loss: 0.0133 - accuracy: 0.8253\n"
          ]
        },
        {
          "data": {
            "text/plain": [
              "<keras.callbacks.History at 0x7f8ecfb02650>"
            ]
          },
          "execution_count": 50,
          "metadata": {},
          "output_type": "execute_result"
        }
      ],
      "source": [
        "EPOCHS = 30\n",
        "model.fit(dataset, epochs=EPOCHS, verbose=1)"
      ]
    },
    {
      "cell_type": "markdown",
      "id": "slCA-NBX0RYv",
      "metadata": {
        "id": "slCA-NBX0RYv"
      },
      "source": [
        "epoch = 총 100회  \n",
        "learning_rate = 1e-4"
      ]
    },
    {
      "cell_type": "code",
      "execution_count": 69,
      "id": "99d455ff",
      "metadata": {
        "colab": {
          "base_uri": "https://localhost:8080/",
          "height": 72
        },
        "id": "99d455ff",
        "outputId": "dadc49be-ec11-4272-a14f-f1986ef94273",
        "scrolled": true
      },
      "outputs": [
        {
          "name": "stdout",
          "output_type": "stream",
          "text": [
            "입력 : 적당히 해\n",
            "출력 : 사람들이 중간을 몰라요 .\n"
          ]
        },
        {
          "data": {
            "application/vnd.google.colaboratory.intrinsic+json": {
              "type": "string"
            },
            "text/plain": [
              "'사람들이 중간을 몰라요 .'"
            ]
          },
          "execution_count": 69,
          "metadata": {},
          "output_type": "execute_result"
        }
      ],
      "source": [
        "sentence_generation('적당히 해')"
      ]
    },
    {
      "cell_type": "markdown",
      "id": "NlJSGu3X0Yi3",
      "metadata": {
        "id": "NlJSGu3X0Yi3"
      },
      "source": [
        "# 번외편"
      ]
    },
    {
      "cell_type": "code",
      "execution_count": 72,
      "id": "c76b6b0a",
      "metadata": {
        "id": "c76b6b0a"
      },
      "outputs": [],
      "source": [
        "file_path = '/content/sentiment.xlsx'\n",
        "senti_df = pd.read_excel(file_path)"
      ]
    },
    {
      "cell_type": "code",
      "execution_count": 73,
      "id": "74c80d56",
      "metadata": {
        "id": "74c80d56"
      },
      "outputs": [],
      "source": [
        "senti_df['processed_q'] = senti_df['사람문장1'].apply(preprocess_sentence)\n",
        "senti_df['processed_a'] = senti_df['시스템응답1'].apply(preprocess_sentence)"
      ]
    },
    {
      "cell_type": "code",
      "execution_count": 74,
      "id": "ad14f6e0",
      "metadata": {
        "id": "ad14f6e0"
      },
      "outputs": [],
      "source": [
        "senti_q = senti_df.processed_q.to_numpy()\n",
        "senti_a = senti_df.processed_a.to_numpy()"
      ]
    },
    {
      "cell_type": "code",
      "execution_count": 75,
      "id": "a810cf6a",
      "metadata": {
        "id": "a810cf6a"
      },
      "outputs": [],
      "source": [
        "tokenizer = tfds.deprecated.text.SubwordTextEncoder.build_from_corpus(\n",
        "    senti_q + senti_a, target_vocab_size=2**14)"
      ]
    },
    {
      "cell_type": "code",
      "execution_count": 76,
      "id": "c91edec1",
      "metadata": {
        "colab": {
          "base_uri": "https://localhost:8080/"
        },
        "id": "c91edec1",
        "outputId": "ee56668e-5553-45d1-84fc-2d17336f295b"
      },
      "outputs": [
        {
          "data": {
            "text/plain": [
              "16217"
            ]
          },
          "execution_count": 76,
          "metadata": {},
          "output_type": "execute_result"
        }
      ],
      "source": [
        "tokenizer.vocab_size"
      ]
    },
    {
      "cell_type": "code",
      "execution_count": 77,
      "id": "7a498bc3",
      "metadata": {
        "id": "7a498bc3"
      },
      "outputs": [],
      "source": [
        "START, END = [tokenizer.vocab_size],[tokenizer.vocab_size+1]"
      ]
    },
    {
      "cell_type": "code",
      "execution_count": 78,
      "id": "5303e06a",
      "metadata": {
        "colab": {
          "base_uri": "https://localhost:8080/"
        },
        "id": "5303e06a",
        "outputId": "6f24d497-8e7a-4754-de6f-f5a2a2529c43"
      },
      "outputs": [
        {
          "data": {
            "text/plain": [
              "16219"
            ]
          },
          "execution_count": 78,
          "metadata": {},
          "output_type": "execute_result"
        }
      ],
      "source": [
        "VOCAB_SIZE = tokenizer.vocab_size + 2\n",
        "VOCAB_SIZE"
      ]
    },
    {
      "cell_type": "code",
      "execution_count": 79,
      "id": "63f14afd",
      "metadata": {
        "colab": {
          "base_uri": "https://localhost:8080/"
        },
        "id": "63f14afd",
        "outputId": "2bec24ab-3c1d-4c39-db1f-e0839959de97"
      },
      "outputs": [
        {
          "name": "stdout",
          "output_type": "stream",
          "text": [
            "[16217] [16218]\n"
          ]
        }
      ],
      "source": [
        "print(START, END)"
      ]
    },
    {
      "cell_type": "code",
      "execution_count": 80,
      "id": "5a761f54",
      "metadata": {
        "colab": {
          "base_uri": "https://localhost:8080/"
        },
        "id": "5a761f54",
        "outputId": "a1c5252c-5bf6-4395-95cc-de0bfa40ee26"
      },
      "outputs": [
        {
          "name": "stdout",
          "output_type": "stream",
          "text": [
            "[35, 343, 820, 3177, 368, 966, 3153, 5859, 54, 6265, 1602, 3264, 966, 12579, 1] [6265, 1602, 3264, 966, 3340, 2012, 1]\n"
          ]
        }
      ],
      "source": [
        "print(tokenizer.encode(senti_q[11]),tokenizer.encode(senti_a[11]))"
      ]
    },
    {
      "cell_type": "code",
      "execution_count": 81,
      "id": "3d16c818",
      "metadata": {
        "id": "3d16c818"
      },
      "outputs": [],
      "source": [
        "senti_df['tokenized_q'] = senti_df.processed_q.apply(tokenizer.encode)\n",
        "senti_df['tokenized_a'] = senti_df.processed_a.apply(tokenizer.encode)"
      ]
    },
    {
      "cell_type": "code",
      "execution_count": 82,
      "id": "96d659d1",
      "metadata": {
        "id": "96d659d1"
      },
      "outputs": [],
      "source": [
        "senti_df['q_len'] = senti_df.tokenized_q.apply(lambda x: len(x))\n",
        "senti_df['a_len'] = senti_df.tokenized_a.apply(lambda x: len(x))"
      ]
    },
    {
      "cell_type": "code",
      "execution_count": 83,
      "id": "ff1c6f07",
      "metadata": {
        "colab": {
          "base_uri": "https://localhost:8080/"
        },
        "id": "ff1c6f07",
        "outputId": "fa5ba7a1-20d6-450f-d0e9-0770f38a9051"
      },
      "outputs": [
        {
          "data": {
            "text/plain": [
              "count    40879.000000\n",
              "mean        12.321632\n",
              "std          4.582077\n",
              "min          3.000000\n",
              "25%          9.000000\n",
              "50%         12.000000\n",
              "75%         15.000000\n",
              "max         64.000000\n",
              "Name: q_len, dtype: float64"
            ]
          },
          "execution_count": 83,
          "metadata": {},
          "output_type": "execute_result"
        }
      ],
      "source": [
        "senti_df.q_len.describe()"
      ]
    },
    {
      "cell_type": "code",
      "execution_count": 84,
      "id": "55f032a7",
      "metadata": {
        "colab": {
          "base_uri": "https://localhost:8080/"
        },
        "id": "55f032a7",
        "outputId": "6deb4565-0c77-438d-82f3-a318618cfb11",
        "scrolled": true
      },
      "outputs": [
        {
          "data": {
            "text/plain": [
              "count    40879.00000\n",
              "mean         9.01184\n",
              "std          3.34529\n",
              "min          2.00000\n",
              "25%          7.00000\n",
              "50%          8.00000\n",
              "75%         11.00000\n",
              "max         32.00000\n",
              "Name: a_len, dtype: float64"
            ]
          },
          "execution_count": 84,
          "metadata": {},
          "output_type": "execute_result"
        }
      ],
      "source": [
        "senti_df.a_len.describe()"
      ]
    },
    {
      "cell_type": "code",
      "execution_count": 85,
      "id": "3c547dfd",
      "metadata": {
        "id": "3c547dfd"
      },
      "outputs": [],
      "source": [
        "MAX_LENGTH = 16"
      ]
    },
    {
      "cell_type": "code",
      "execution_count": 86,
      "id": "43c3edbc",
      "metadata": {
        "id": "43c3edbc"
      },
      "outputs": [],
      "source": [
        "senti_df['tokenized_q'] =  senti_df.tokenized_q.apply(lambda x: START + x + END)\n",
        "senti_df['tokenized_a'] = senti_df.tokenized_a.apply(lambda x: START + x + END)"
      ]
    },
    {
      "cell_type": "code",
      "execution_count": 87,
      "id": "9673ed93",
      "metadata": {
        "id": "9673ed93"
      },
      "outputs": [],
      "source": [
        "under_max_df = senti_df[['tokenized_q','tokenized_a']][(senti_df['tokenized_q'].apply(lambda x: len(x)) <= MAX_LENGTH) | (senti_df['tokenized_a'].apply(lambda x: len(x))<= MAX_LENGTH) ]"
      ]
    },
    {
      "cell_type": "code",
      "execution_count": 88,
      "id": "d7fa9d78",
      "metadata": {
        "id": "d7fa9d78"
      },
      "outputs": [],
      "source": [
        "question = tf.keras.preprocessing.sequence.pad_sequences(under_max_df.tokenized_q, maxlen=MAX_LENGTH, padding='post')\n",
        "answer = tf.keras.preprocessing.sequence.pad_sequences(under_max_df.tokenized_a,maxlen=MAX_LENGTH, padding='post')"
      ]
    },
    {
      "cell_type": "code",
      "execution_count": 89,
      "id": "e0445e27",
      "metadata": {
        "colab": {
          "base_uri": "https://localhost:8080/"
        },
        "id": "e0445e27",
        "outputId": "799e50c5-4179-418f-d08a-d59ca4e3e913"
      },
      "outputs": [
        {
          "name": "stdout",
          "output_type": "stream",
          "text": [
            "16219 39343 39343\n"
          ]
        }
      ],
      "source": [
        "print(VOCAB_SIZE, len(question), len(answer))"
      ]
    },
    {
      "cell_type": "code",
      "execution_count": 90,
      "id": "af8628dc",
      "metadata": {
        "id": "af8628dc"
      },
      "outputs": [],
      "source": [
        "BATCH_SIZE = 128\n",
        "BUFFER_SIZE = 20000\n",
        "\n",
        "dataset = tf.data.Dataset.from_tensor_slices((\n",
        "    {\n",
        "        'inputs':question,\n",
        "        'dec_inputs' : answer[:, :-1],\n",
        "    },\n",
        "    {\n",
        "        'outputs':answer[:, 1:]\n",
        "    },\n",
        "))\n",
        "dataset = dataset.cache()\n",
        "dataset = dataset.shuffle(BUFFER_SIZE)\n",
        "dataset = dataset.batch(BATCH_SIZE)\n",
        "dataset = dataset.prefetch(tf.data.experimental.AUTOTUNE)"
      ]
    },
    {
      "cell_type": "code",
      "execution_count": 91,
      "id": "E13HiHSrtGcp",
      "metadata": {
        "colab": {
          "base_uri": "https://localhost:8080/"
        },
        "id": "E13HiHSrtGcp",
        "outputId": "1be08e98-dce8-495d-ecdc-0745c880411c"
      },
      "outputs": [
        {
          "name": "stdout",
          "output_type": "stream",
          "text": [
            "INFO:tensorflow:Deallocate tpu buffers before initializing tpu system.\n"
          ]
        },
        {
          "name": "stderr",
          "output_type": "stream",
          "text": [
            "INFO:tensorflow:Deallocate tpu buffers before initializing tpu system.\n"
          ]
        },
        {
          "name": "stdout",
          "output_type": "stream",
          "text": [
            "WARNING:tensorflow:TPU system grpc://10.42.63.26:8470 has already been initialized. Reinitializing the TPU can cause previously created variables on TPU to be lost.\n"
          ]
        },
        {
          "name": "stderr",
          "output_type": "stream",
          "text": [
            "WARNING:tensorflow:TPU system grpc://10.42.63.26:8470 has already been initialized. Reinitializing the TPU can cause previously created variables on TPU to be lost.\n"
          ]
        },
        {
          "name": "stdout",
          "output_type": "stream",
          "text": [
            "INFO:tensorflow:Initializing the TPU system: grpc://10.42.63.26:8470\n"
          ]
        },
        {
          "name": "stderr",
          "output_type": "stream",
          "text": [
            "INFO:tensorflow:Initializing the TPU system: grpc://10.42.63.26:8470\n"
          ]
        },
        {
          "name": "stdout",
          "output_type": "stream",
          "text": [
            "INFO:tensorflow:Finished initializing TPU system.\n"
          ]
        },
        {
          "name": "stderr",
          "output_type": "stream",
          "text": [
            "INFO:tensorflow:Finished initializing TPU system.\n"
          ]
        },
        {
          "data": {
            "text/plain": [
              "<tensorflow.python.tpu.topology.Topology at 0x7f8ecb4ec950>"
            ]
          },
          "execution_count": 91,
          "metadata": {},
          "output_type": "execute_result"
        }
      ],
      "source": [
        "tf.tpu.experimental.initialize_tpu_system(tpu)"
      ]
    },
    {
      "cell_type": "code",
      "execution_count": 92,
      "id": "4172a80d",
      "metadata": {
        "id": "4172a80d"
      },
      "outputs": [],
      "source": [
        "tf.keras.backend.clear_session()\n",
        "\n",
        "# 하이퍼파라미터\n",
        "NUM_LAYERS = 2 # 인코더와 디코더의 층의 개수\n",
        "D_MODEL = 256 # 인코더와 디코더 내부의 입, 출력의 고정 차원\n",
        "NUM_HEADS = 8 # 멀티 헤드 어텐션에서의 헤드 수 \n",
        "UNITS = 512 # 피드 포워드 신경망의 은닉층의 크기\n",
        "DROPOUT = 0.1 # 드롭아웃의 비율\n",
        "with strategy.scope():\n",
        "    model = transformer(\n",
        "    vocab_size=VOCAB_SIZE,\n",
        "    num_layers=NUM_LAYERS,\n",
        "    units=UNITS,\n",
        "    d_model=D_MODEL,\n",
        "    num_heads=NUM_HEADS,\n",
        "    dropout=DROPOUT)\n",
        "    learning_rate = CustomSchedule(D_MODEL)\n",
        "    optimizer = tf.keras.optimizers.Adam(\n",
        "    1e-4, beta_1 =0.9, beta_2=0.98, epsilon=1e-9)\n",
        "    model.compile(optimizer=optimizer,loss=loss_function, metrics=[accuracy])"
      ]
    },
    {
      "cell_type": "code",
      "execution_count": 93,
      "id": "5eb3c302",
      "metadata": {
        "colab": {
          "base_uri": "https://localhost:8080/"
        },
        "id": "5eb3c302",
        "outputId": "6c7ae42e-1e76-4a82-b221-7e911d2a76f1",
        "scrolled": false
      },
      "outputs": [
        {
          "name": "stdout",
          "output_type": "stream",
          "text": [
            "Epoch 1/30\n",
            "308/308 [==============================] - 60s 93ms/step - loss: 4.7303 - accuracy: 0.1030\n",
            "Epoch 2/30\n",
            "308/308 [==============================] - 11s 37ms/step - loss: 3.8105 - accuracy: 0.1555\n",
            "Epoch 3/30\n",
            "308/308 [==============================] - 12s 37ms/step - loss: 3.4977 - accuracy: 0.1787\n",
            "Epoch 4/30\n",
            "308/308 [==============================] - 12s 38ms/step - loss: 3.3003 - accuracy: 0.1917\n",
            "Epoch 5/30\n",
            "308/308 [==============================] - 12s 37ms/step - loss: 3.1463 - accuracy: 0.2018\n",
            "Epoch 6/30\n",
            "308/308 [==============================] - 12s 37ms/step - loss: 3.0200 - accuracy: 0.2095\n",
            "Epoch 7/30\n",
            "308/308 [==============================] - 12s 37ms/step - loss: 2.9106 - accuracy: 0.2167\n",
            "Epoch 8/30\n",
            "308/308 [==============================] - 12s 37ms/step - loss: 2.8105 - accuracy: 0.2239\n",
            "Epoch 9/30\n",
            "308/308 [==============================] - 12s 37ms/step - loss: 2.7163 - accuracy: 0.2313\n",
            "Epoch 10/30\n",
            "308/308 [==============================] - 12s 37ms/step - loss: 2.6262 - accuracy: 0.2382\n",
            "Epoch 11/30\n",
            "308/308 [==============================] - 12s 38ms/step - loss: 2.5391 - accuracy: 0.2456\n",
            "Epoch 12/30\n",
            "308/308 [==============================] - 12s 38ms/step - loss: 2.4565 - accuracy: 0.2529\n",
            "Epoch 13/30\n",
            "308/308 [==============================] - 12s 38ms/step - loss: 2.3766 - accuracy: 0.2598\n",
            "Epoch 14/30\n",
            "308/308 [==============================] - 12s 37ms/step - loss: 2.2988 - accuracy: 0.2668\n",
            "Epoch 15/30\n",
            "308/308 [==============================] - 12s 38ms/step - loss: 2.2240 - accuracy: 0.2741\n",
            "Epoch 16/30\n",
            "308/308 [==============================] - 12s 37ms/step - loss: 2.1501 - accuracy: 0.2812\n",
            "Epoch 17/30\n",
            "308/308 [==============================] - 12s 37ms/step - loss: 2.0787 - accuracy: 0.2888\n",
            "Epoch 18/30\n",
            "308/308 [==============================] - 12s 37ms/step - loss: 2.0100 - accuracy: 0.2957\n",
            "Epoch 19/30\n",
            "308/308 [==============================] - 12s 37ms/step - loss: 1.9426 - accuracy: 0.3028\n",
            "Epoch 20/30\n",
            "308/308 [==============================] - 12s 37ms/step - loss: 1.8765 - accuracy: 0.3096\n",
            "Epoch 21/30\n",
            "308/308 [==============================] - 12s 37ms/step - loss: 1.8107 - accuracy: 0.3177\n",
            "Epoch 22/30\n",
            "308/308 [==============================] - 12s 37ms/step - loss: 1.7466 - accuracy: 0.3254\n",
            "Epoch 23/30\n",
            "308/308 [==============================] - 12s 37ms/step - loss: 1.6849 - accuracy: 0.3331\n",
            "Epoch 24/30\n",
            "308/308 [==============================] - 12s 37ms/step - loss: 1.6234 - accuracy: 0.3409\n",
            "Epoch 25/30\n",
            "308/308 [==============================] - 12s 37ms/step - loss: 1.5637 - accuracy: 0.3494\n",
            "Epoch 26/30\n",
            "308/308 [==============================] - 12s 37ms/step - loss: 1.5041 - accuracy: 0.3575\n",
            "Epoch 27/30\n",
            "308/308 [==============================] - 12s 38ms/step - loss: 1.4456 - accuracy: 0.3660\n",
            "Epoch 28/30\n",
            "308/308 [==============================] - 12s 38ms/step - loss: 1.3890 - accuracy: 0.3741\n",
            "Epoch 29/30\n",
            "308/308 [==============================] - 12s 37ms/step - loss: 1.3325 - accuracy: 0.3830\n",
            "Epoch 30/30\n",
            "308/308 [==============================] - 12s 37ms/step - loss: 1.2785 - accuracy: 0.3913\n"
          ]
        },
        {
          "data": {
            "text/plain": [
              "<keras.callbacks.History at 0x7f8ec9f85590>"
            ]
          },
          "execution_count": 93,
          "metadata": {},
          "output_type": "execute_result"
        }
      ],
      "source": [
        "EPOCHS = 30\n",
        "model.fit(dataset, epochs=EPOCHS, verbose=1)"
      ]
    },
    {
      "cell_type": "code",
      "execution_count": 95,
      "id": "HGayT5YU3Rcs",
      "metadata": {
        "colab": {
          "base_uri": "https://localhost:8080/"
        },
        "id": "HGayT5YU3Rcs",
        "outputId": "4b273f45-3467-4442-da72-c1998ec6e7a1"
      },
      "outputs": [
        {
          "name": "stdout",
          "output_type": "stream",
          "text": [
            "Epoch 1/50\n",
            "308/308 [==============================] - 12s 38ms/step - loss: 0.0536 - accuracy: 0.6302\n",
            "Epoch 2/50\n",
            "308/308 [==============================] - 12s 38ms/step - loss: 0.0510 - accuracy: 0.6308\n",
            "Epoch 3/50\n",
            "308/308 [==============================] - 12s 38ms/step - loss: 0.0494 - accuracy: 0.6313\n",
            "Epoch 4/50\n",
            "308/308 [==============================] - 12s 38ms/step - loss: 0.0479 - accuracy: 0.6315\n",
            "Epoch 5/50\n",
            "308/308 [==============================] - 12s 38ms/step - loss: 0.0467 - accuracy: 0.6318\n",
            "Epoch 6/50\n",
            "308/308 [==============================] - 12s 38ms/step - loss: 0.0456 - accuracy: 0.6319\n",
            "Epoch 7/50\n",
            "308/308 [==============================] - 12s 38ms/step - loss: 0.0441 - accuracy: 0.6323\n",
            "Epoch 8/50\n",
            "308/308 [==============================] - 12s 38ms/step - loss: 0.0430 - accuracy: 0.6325\n",
            "Epoch 9/50\n",
            "308/308 [==============================] - 12s 38ms/step - loss: 0.0419 - accuracy: 0.6327\n",
            "Epoch 10/50\n",
            "308/308 [==============================] - 12s 38ms/step - loss: 0.0401 - accuracy: 0.6331\n",
            "Epoch 11/50\n",
            "308/308 [==============================] - 12s 38ms/step - loss: 0.0388 - accuracy: 0.6334\n",
            "Epoch 12/50\n",
            "308/308 [==============================] - 12s 38ms/step - loss: 0.0383 - accuracy: 0.6335\n",
            "Epoch 13/50\n",
            "308/308 [==============================] - 12s 38ms/step - loss: 0.0374 - accuracy: 0.6336\n",
            "Epoch 14/50\n",
            "308/308 [==============================] - 12s 38ms/step - loss: 0.0361 - accuracy: 0.6338\n",
            "Epoch 15/50\n",
            "308/308 [==============================] - 12s 38ms/step - loss: 0.0353 - accuracy: 0.6340\n",
            "Epoch 16/50\n",
            "308/308 [==============================] - 12s 38ms/step - loss: 0.0352 - accuracy: 0.6341\n",
            "Epoch 17/50\n",
            "308/308 [==============================] - 12s 38ms/step - loss: 0.0335 - accuracy: 0.6344\n",
            "Epoch 18/50\n",
            "308/308 [==============================] - 12s 38ms/step - loss: 0.0333 - accuracy: 0.6344\n",
            "Epoch 19/50\n",
            "308/308 [==============================] - 12s 38ms/step - loss: 0.0325 - accuracy: 0.6346\n",
            "Epoch 20/50\n",
            "308/308 [==============================] - 12s 38ms/step - loss: 0.0320 - accuracy: 0.6347\n",
            "Epoch 21/50\n",
            "308/308 [==============================] - 12s 38ms/step - loss: 0.0310 - accuracy: 0.6351\n",
            "Epoch 22/50\n",
            "308/308 [==============================] - 12s 38ms/step - loss: 0.0300 - accuracy: 0.6352\n",
            "Epoch 23/50\n",
            "308/308 [==============================] - 12s 38ms/step - loss: 0.0295 - accuracy: 0.6353\n",
            "Epoch 24/50\n",
            "308/308 [==============================] - 12s 38ms/step - loss: 0.0291 - accuracy: 0.6354\n",
            "Epoch 25/50\n",
            "308/308 [==============================] - 12s 38ms/step - loss: 0.0281 - accuracy: 0.6355\n",
            "Epoch 26/50\n",
            "308/308 [==============================] - 12s 38ms/step - loss: 0.0274 - accuracy: 0.6359\n",
            "Epoch 27/50\n",
            "308/308 [==============================] - 12s 38ms/step - loss: 0.0271 - accuracy: 0.6356\n",
            "Epoch 28/50\n",
            "308/308 [==============================] - 12s 38ms/step - loss: 0.0268 - accuracy: 0.6358\n",
            "Epoch 29/50\n",
            "308/308 [==============================] - 12s 38ms/step - loss: 0.0257 - accuracy: 0.6360\n",
            "Epoch 30/50\n",
            "308/308 [==============================] - 12s 38ms/step - loss: 0.0257 - accuracy: 0.6360\n",
            "Epoch 31/50\n",
            "308/308 [==============================] - 12s 38ms/step - loss: 0.0255 - accuracy: 0.6359\n",
            "Epoch 32/50\n",
            "308/308 [==============================] - 12s 38ms/step - loss: 0.0248 - accuracy: 0.6362\n",
            "Epoch 33/50\n",
            "308/308 [==============================] - 12s 38ms/step - loss: 0.0242 - accuracy: 0.6364\n",
            "Epoch 34/50\n",
            "308/308 [==============================] - 12s 38ms/step - loss: 0.0235 - accuracy: 0.6366\n",
            "Epoch 35/50\n",
            "308/308 [==============================] - 12s 38ms/step - loss: 0.0232 - accuracy: 0.6365\n",
            "Epoch 36/50\n",
            "308/308 [==============================] - 12s 38ms/step - loss: 0.0228 - accuracy: 0.6366\n",
            "Epoch 37/50\n",
            "308/308 [==============================] - 12s 38ms/step - loss: 0.0230 - accuracy: 0.6366\n",
            "Epoch 38/50\n",
            "308/308 [==============================] - 12s 38ms/step - loss: 0.0223 - accuracy: 0.6367\n",
            "Epoch 39/50\n",
            "308/308 [==============================] - 12s 38ms/step - loss: 0.0218 - accuracy: 0.6369\n",
            "Epoch 40/50\n",
            "308/308 [==============================] - 12s 38ms/step - loss: 0.0214 - accuracy: 0.6370\n",
            "Epoch 41/50\n",
            "308/308 [==============================] - 12s 38ms/step - loss: 0.0213 - accuracy: 0.6369\n",
            "Epoch 42/50\n",
            "308/308 [==============================] - 12s 38ms/step - loss: 0.0210 - accuracy: 0.6371\n",
            "Epoch 43/50\n",
            "308/308 [==============================] - 12s 38ms/step - loss: 0.0207 - accuracy: 0.6371\n",
            "Epoch 44/50\n",
            "308/308 [==============================] - 12s 38ms/step - loss: 0.0202 - accuracy: 0.6372\n",
            "Epoch 45/50\n",
            "308/308 [==============================] - 12s 38ms/step - loss: 0.0199 - accuracy: 0.6373\n",
            "Epoch 46/50\n",
            "308/308 [==============================] - 12s 38ms/step - loss: 0.0198 - accuracy: 0.6373\n",
            "Epoch 47/50\n",
            "308/308 [==============================] - 12s 38ms/step - loss: 0.0193 - accuracy: 0.6374\n",
            "Epoch 48/50\n",
            "308/308 [==============================] - 12s 38ms/step - loss: 0.0193 - accuracy: 0.6374\n",
            "Epoch 49/50\n",
            "308/308 [==============================] - 12s 38ms/step - loss: 0.0189 - accuracy: 0.6375\n",
            "Epoch 50/50\n",
            "308/308 [==============================] - 12s 38ms/step - loss: 0.0183 - accuracy: 0.6376\n"
          ]
        },
        {
          "data": {
            "text/plain": [
              "<keras.callbacks.History at 0x7f8ec7b883d0>"
            ]
          },
          "execution_count": 95,
          "metadata": {},
          "output_type": "execute_result"
        }
      ],
      "source": [
        "EPOCHS = 50\n",
        "model.fit(dataset, epochs=EPOCHS, verbose=1)"
      ]
    },
    {
      "cell_type": "code",
      "execution_count": 105,
      "id": "481b0f2e",
      "metadata": {
        "colab": {
          "base_uri": "https://localhost:8080/",
          "height": 72
        },
        "id": "481b0f2e",
        "outputId": "d114edf3-c28e-40af-89bb-bd5d6c5aacc8"
      },
      "outputs": [
        {
          "name": "stdout",
          "output_type": "stream",
          "text": [
            "입력 : 기분이 좋지 않아\n",
            "출력 : 기분이 좋지 않은 이유를 알 수 있을까요 ?\n"
          ]
        },
        {
          "data": {
            "application/vnd.google.colaboratory.intrinsic+json": {
              "type": "string"
            },
            "text/plain": [
              "'기분이 좋지 않은 이유를 알 수 있을까요 ?'"
            ]
          },
          "execution_count": 105,
          "metadata": {},
          "output_type": "execute_result"
        }
      ],
      "source": [
        "sentence_generation('기분이 좋지 않아')"
      ]
    },
    {
      "cell_type": "markdown",
      "id": "ZC7fnV72-510",
      "metadata": {
        "id": "ZC7fnV72-510"
      },
      "source": [
        "# 실험종료  \n",
        "트랜스포머로 만드는 대화형 챗봇을 시도하였다  \n",
        "대체로 모든 코드는 기존의 코드를 사용했으며, 토크나이징 과정에서는 기존 코드는 for문을 활용해서 작업을 했는데, 이 부분은 그냥 판다스로 간단하게 수정하는 작업을 했다  \n",
        "특수 문자 처리작업에서는 특별히 달라진 점은 없으나 데이터가 한국어 데이터로 달라졌기 때문에 이를 해결하기 위해 정규식에 가-힣을 추가하여 한국어 또한 포함되게끔 설정하였다  \n",
        "데이터셋을 만드는 과정에서 데이터의 적절한 MAX_LENGTH는 평균에서 표준편차 안에 드는 범위안에서 설정하여 데이터의 80%정도가 포함되게끔 설정하였다  \n",
        "모델 에포크를 하는 과정에서 가면 갈수록 러닝레이트 값이 급격하게 감소하는지 정확도가 60~70어간에서 수렴하는 듯이 멈추었기 때문에 러닝레이트를 1e-4로 바꾸고나서야 정확도를 80% 이상으로 맞출 수 있었고 정확도가 80퍼 이상으로 높아지고 난 뒤에야 비로소 말다운 말을 하는 것을 볼 수 있었다  \n",
        "이 과정에서 에포크는 약 100회정도 실시되었다  \n",
        "이후의 데이터셋을 추가로 사용해보고자 AIHUB에 있는 감성 분석 말뭉치용 데이터에서 사용자간 데이터 부분만 추출해서\n",
        "학습을 시도해보았다  \n",
        "그러나 말뭉치의 데이터 특성상 위로와 공감에 특정되어있다보니 주로 그쪽 부분에 대해서만 사람과 대화하듯 말을 할 수가 있었다  \n",
        "데이터의 힘을 다시 한번 확인했으며, 이제는 데이터 확보만 된다면 해당 분야의 챗봇은 확실하게 만들 수 있을 듯 하다"
      ]
    },
    {
      "cell_type": "code",
      "execution_count": null,
      "id": "L5Cq4DMIDYub",
      "metadata": {
        "id": "L5Cq4DMIDYub"
      },
      "outputs": [],
      "source": []
    }
  ],
  "metadata": {
    "accelerator": "TPU",
    "colab": {
      "machine_shape": "hm",
      "name": "[E-12]Transformer_chat_bot.ipynb",
      "provenance": []
    },
    "kernelspec": {
      "display_name": "Python 3 (ipykernel)",
      "language": "python",
      "name": "python3"
    },
    "language_info": {
      "codemirror_mode": {
        "name": "ipython",
        "version": 3
      },
      "file_extension": ".py",
      "mimetype": "text/x-python",
      "name": "python",
      "nbconvert_exporter": "python",
      "pygments_lexer": "ipython3",
      "version": "3.9.7"
    }
  },
  "nbformat": 4,
  "nbformat_minor": 5
}
