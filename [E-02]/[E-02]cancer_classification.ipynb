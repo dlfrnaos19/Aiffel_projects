{
 "cells": [
  {
   "cell_type": "markdown",
   "id": "326116b2",
   "metadata": {},
   "source": [
    "# Breast_Cancer_Classification Task"
   ]
  },
  {
   "cell_type": "code",
   "execution_count": 1,
   "id": "554f8768",
   "metadata": {},
   "outputs": [],
   "source": [
    "from sklearn.datasets import load_breast_cancer\n",
    "from sklearn.model_selection import train_test_split\n",
    "from sklearn.metrics import classification_report\n",
    "import numpy as np"
   ]
  },
  {
   "cell_type": "markdown",
   "id": "c572b103",
   "metadata": {},
   "source": [
    "# Data feature check"
   ]
  },
  {
   "cell_type": "code",
   "execution_count": 2,
   "id": "d1531885",
   "metadata": {},
   "outputs": [],
   "source": [
    "cancer = load_breast_cancer()"
   ]
  },
  {
   "cell_type": "code",
   "execution_count": 3,
   "id": "7cd7a4e1",
   "metadata": {},
   "outputs": [
    {
     "data": {
      "text/plain": [
       "dict_keys(['data', 'target', 'frame', 'target_names', 'DESCR', 'feature_names', 'filename', 'data_module'])"
      ]
     },
     "execution_count": 3,
     "metadata": {},
     "output_type": "execute_result"
    }
   ],
   "source": [
    "# check what kind of data is in\n",
    "cancer.keys()"
   ]
  },
  {
   "cell_type": "code",
   "execution_count": 4,
   "id": "cfa4d515",
   "metadata": {},
   "outputs": [
    {
     "data": {
      "text/plain": [
       "array([1.799e+01, 1.038e+01, 1.228e+02, 1.001e+03, 1.184e-01, 2.776e-01,\n",
       "       3.001e-01, 1.471e-01, 2.419e-01, 7.871e-02, 1.095e+00, 9.053e-01,\n",
       "       8.589e+00, 1.534e+02, 6.399e-03, 4.904e-02, 5.373e-02, 1.587e-02,\n",
       "       3.003e-02, 6.193e-03, 2.538e+01, 1.733e+01, 1.846e+02, 2.019e+03,\n",
       "       1.622e-01, 6.656e-01, 7.119e-01, 2.654e-01, 4.601e-01, 1.189e-01])"
      ]
     },
     "execution_count": 4,
     "metadata": {},
     "output_type": "execute_result"
    }
   ],
   "source": [
    "# data value check\n",
    "cancer.data[0]"
   ]
  },
  {
   "cell_type": "code",
   "execution_count": 5,
   "id": "7aefc6e4",
   "metadata": {},
   "outputs": [
    {
     "data": {
      "text/plain": [
       "array(['mean radius', 'mean texture', 'mean perimeter', 'mean area',\n",
       "       'mean smoothness', 'mean compactness', 'mean concavity',\n",
       "       'mean concave points', 'mean symmetry', 'mean fractal dimension',\n",
       "       'radius error', 'texture error', 'perimeter error', 'area error',\n",
       "       'smoothness error', 'compactness error', 'concavity error',\n",
       "       'concave points error', 'symmetry error',\n",
       "       'fractal dimension error', 'worst radius', 'worst texture',\n",
       "       'worst perimeter', 'worst area', 'worst smoothness',\n",
       "       'worst compactness', 'worst concavity', 'worst concave points',\n",
       "       'worst symmetry', 'worst fractal dimension'], dtype='<U23')"
      ]
     },
     "execution_count": 5,
     "metadata": {},
     "output_type": "execute_result"
    }
   ],
   "source": [
    "# meaning of each data\n",
    "cancer.feature_names"
   ]
  },
  {
   "cell_type": "markdown",
   "id": "d8621f84",
   "metadata": {},
   "source": [
    "# Data label balance check"
   ]
  },
  {
   "cell_type": "code",
   "execution_count": 6,
   "id": "1d78a99c",
   "metadata": {
    "scrolled": true
   },
   "outputs": [
    {
     "data": {
      "text/plain": [
       "569"
      ]
     },
     "execution_count": 6,
     "metadata": {},
     "output_type": "execute_result"
    }
   ],
   "source": [
    "# total label count\n",
    "len(cancer.target)"
   ]
  },
  {
   "cell_type": "code",
   "execution_count": 7,
   "id": "64ed2b57",
   "metadata": {},
   "outputs": [],
   "source": [
    "unique,counts=np.unique(cancer.target,return_counts=True)"
   ]
  },
  {
   "cell_type": "code",
   "execution_count": 8,
   "id": "4f7299b6",
   "metadata": {},
   "outputs": [
    {
     "data": {
      "text/plain": [
       "{0: 212, 1: 357}"
      ]
     },
     "execution_count": 8,
     "metadata": {},
     "output_type": "execute_result"
    }
   ],
   "source": [
    "# check each label counts\n",
    "dict(zip(unique,counts))"
   ]
  },
  {
   "cell_type": "code",
   "execution_count": 9,
   "id": "c3fa3ab9",
   "metadata": {},
   "outputs": [
    {
     "data": {
      "text/plain": [
       "array(['malignant', 'benign'], dtype='<U9')"
      ]
     },
     "execution_count": 9,
     "metadata": {},
     "output_type": "execute_result"
    }
   ],
   "source": [
    "cancer.target_names"
   ]
  },
  {
   "cell_type": "code",
   "execution_count": 10,
   "id": "973e4dec",
   "metadata": {},
   "outputs": [
    {
     "name": "stdout",
     "output_type": "stream",
     "text": [
      ".. _breast_cancer_dataset:\n",
      "\n",
      "Breast cancer wisconsin (diagnostic) dataset\n",
      "--------------------------------------------\n",
      "\n",
      "**Data Set Characteristics:**\n",
      "\n",
      "    :Number of Instances: 569\n",
      "\n",
      "    :Number of Attributes: 30 numeric, predictive attributes and the class\n",
      "\n",
      "    :Attribute Information:\n",
      "        - radius (mean of distances from center to points on the perimeter)\n",
      "        - texture (standard deviation of gray-scale values)\n",
      "        - perimeter\n",
      "        - area\n",
      "        - smoothness (local variation in radius lengths)\n",
      "        - compactness (perimeter^2 / area - 1.0)\n",
      "        - concavity (severity of concave portions of the contour)\n",
      "        - concave points (number of concave portions of the contour)\n",
      "        - symmetry\n",
      "        - fractal dimension (\"coastline approximation\" - 1)\n",
      "\n",
      "        The mean, standard error, and \"worst\" or largest (mean of the three\n",
      "        worst/largest values) of these features were computed for each image,\n",
      "        resulting in 30 features.  For instance, field 0 is Mean Radius, field\n",
      "        10 is Radius SE, field 20 is Worst Radius.\n",
      "\n",
      "        - class:\n",
      "                - WDBC-Malignant\n",
      "                - WDBC-Benign\n",
      "\n",
      "    :Summary Statistics:\n",
      "\n",
      "    ===================================== ====== ======\n",
      "                                           Min    Max\n",
      "    ===================================== ====== ======\n",
      "    radius (mean):                        6.981  28.11\n",
      "    texture (mean):                       9.71   39.28\n",
      "    perimeter (mean):                     43.79  188.5\n",
      "    area (mean):                          143.5  2501.0\n",
      "    smoothness (mean):                    0.053  0.163\n",
      "    compactness (mean):                   0.019  0.345\n",
      "    concavity (mean):                     0.0    0.427\n",
      "    concave points (mean):                0.0    0.201\n",
      "    symmetry (mean):                      0.106  0.304\n",
      "    fractal dimension (mean):             0.05   0.097\n",
      "    radius (standard error):              0.112  2.873\n",
      "    texture (standard error):             0.36   4.885\n",
      "    perimeter (standard error):           0.757  21.98\n",
      "    area (standard error):                6.802  542.2\n",
      "    smoothness (standard error):          0.002  0.031\n",
      "    compactness (standard error):         0.002  0.135\n",
      "    concavity (standard error):           0.0    0.396\n",
      "    concave points (standard error):      0.0    0.053\n",
      "    symmetry (standard error):            0.008  0.079\n",
      "    fractal dimension (standard error):   0.001  0.03\n",
      "    radius (worst):                       7.93   36.04\n",
      "    texture (worst):                      12.02  49.54\n",
      "    perimeter (worst):                    50.41  251.2\n",
      "    area (worst):                         185.2  4254.0\n",
      "    smoothness (worst):                   0.071  0.223\n",
      "    compactness (worst):                  0.027  1.058\n",
      "    concavity (worst):                    0.0    1.252\n",
      "    concave points (worst):               0.0    0.291\n",
      "    symmetry (worst):                     0.156  0.664\n",
      "    fractal dimension (worst):            0.055  0.208\n",
      "    ===================================== ====== ======\n",
      "\n",
      "    :Missing Attribute Values: None\n",
      "\n",
      "    :Class Distribution: 212 - Malignant, 357 - Benign\n",
      "\n",
      "    :Creator:  Dr. William H. Wolberg, W. Nick Street, Olvi L. Mangasarian\n",
      "\n",
      "    :Donor: Nick Street\n",
      "\n",
      "    :Date: November, 1995\n",
      "\n",
      "This is a copy of UCI ML Breast Cancer Wisconsin (Diagnostic) datasets.\n",
      "https://goo.gl/U2Uwz2\n",
      "\n",
      "Features are computed from a digitized image of a fine needle\n",
      "aspirate (FNA) of a breast mass.  They describe\n",
      "characteristics of the cell nuclei present in the image.\n",
      "\n",
      "Separating plane described above was obtained using\n",
      "Multisurface Method-Tree (MSM-T) [K. P. Bennett, \"Decision Tree\n",
      "Construction Via Linear Programming.\" Proceedings of the 4th\n",
      "Midwest Artificial Intelligence and Cognitive Science Society,\n",
      "pp. 97-101, 1992], a classification method which uses linear\n",
      "programming to construct a decision tree.  Relevant features\n",
      "were selected using an exhaustive search in the space of 1-4\n",
      "features and 1-3 separating planes.\n",
      "\n",
      "The actual linear program used to obtain the separating plane\n",
      "in the 3-dimensional space is that described in:\n",
      "[K. P. Bennett and O. L. Mangasarian: \"Robust Linear\n",
      "Programming Discrimination of Two Linearly Inseparable Sets\",\n",
      "Optimization Methods and Software 1, 1992, 23-34].\n",
      "\n",
      "This database is also available through the UW CS ftp server:\n",
      "\n",
      "ftp ftp.cs.wisc.edu\n",
      "cd math-prog/cpo-dataset/machine-learn/WDBC/\n",
      "\n",
      ".. topic:: References\n",
      "\n",
      "   - W.N. Street, W.H. Wolberg and O.L. Mangasarian. Nuclear feature extraction \n",
      "     for breast tumor diagnosis. IS&T/SPIE 1993 International Symposium on \n",
      "     Electronic Imaging: Science and Technology, volume 1905, pages 861-870,\n",
      "     San Jose, CA, 1993.\n",
      "   - O.L. Mangasarian, W.N. Street and W.H. Wolberg. Breast cancer diagnosis and \n",
      "     prognosis via linear programming. Operations Research, 43(4), pages 570-577, \n",
      "     July-August 1995.\n",
      "   - W.H. Wolberg, W.N. Street, and O.L. Mangasarian. Machine learning techniques\n",
      "     to diagnose breast cancer from fine-needle aspirates. Cancer Letters 77 (1994) \n",
      "     163-171.\n"
     ]
    }
   ],
   "source": [
    "print(cancer.DESCR)"
   ]
  },
  {
   "cell_type": "markdown",
   "id": "d0e5a365",
   "metadata": {},
   "source": [
    "# Data split"
   ]
  },
  {
   "cell_type": "code",
   "execution_count": 11,
   "id": "b0320f77",
   "metadata": {},
   "outputs": [],
   "source": [
    "x_train,x_test,y_train, y_test = train_test_split(cancer.data, cancer.target,\n",
    "                                                 test_size=0.2,random_state=0)"
   ]
  },
  {
   "cell_type": "code",
   "execution_count": 12,
   "id": "d4a11997",
   "metadata": {},
   "outputs": [],
   "source": [
    "from sklearn.tree import DecisionTreeClassifier\n",
    "from sklearn.ensemble import RandomForestClassifier\n",
    "from sklearn import svm\n",
    "from sklearn.linear_model import SGDClassifier\n",
    "from sklearn.linear_model import LogisticRegression\n",
    "from sklearn.metrics import accuracy_score, classification_report\n",
    "import time"
   ]
  },
  {
   "cell_type": "markdown",
   "id": "6e6ec65f",
   "metadata": {},
   "source": [
    "# Decision Tree"
   ]
  },
  {
   "cell_type": "code",
   "execution_count": 13,
   "id": "f01b474b",
   "metadata": {},
   "outputs": [
    {
     "name": "stdout",
     "output_type": "stream",
     "text": [
      "0.9122807017543859\n"
     ]
    }
   ],
   "source": [
    "start= time.time()\n",
    "d_tree = DecisionTreeClassifier()\n",
    "d_tree.fit(x_train, y_train)\n",
    "tree_pred = d_tree.predict(x_test)\n",
    "print(accuracy_score(y_test, tree_pred))\n",
    "d_report = classification_report(y_test, tree_pred)\n",
    "d_time = time.time()-start"
   ]
  },
  {
   "cell_type": "markdown",
   "id": "3025c821",
   "metadata": {},
   "source": [
    "# Random Forest"
   ]
  },
  {
   "cell_type": "code",
   "execution_count": 14,
   "id": "310b9494",
   "metadata": {},
   "outputs": [
    {
     "name": "stdout",
     "output_type": "stream",
     "text": [
      "0.956140350877193\n"
     ]
    }
   ],
   "source": [
    "start= time.time()\n",
    "r_forest = RandomForestClassifier()\n",
    "r_forest.fit(x_train,y_train)\n",
    "r_pred = r_forest.predict(x_test)\n",
    "print(accuracy_score(y_test, r_pred))\n",
    "r_report = classification_report(y_test, r_pred)\n",
    "r_time = time.time()-start"
   ]
  },
  {
   "cell_type": "markdown",
   "id": "a5d6730f",
   "metadata": {},
   "source": [
    "# Support Vector Machine"
   ]
  },
  {
   "cell_type": "code",
   "execution_count": 15,
   "id": "f6ca39ca",
   "metadata": {},
   "outputs": [
    {
     "name": "stdout",
     "output_type": "stream",
     "text": [
      "0.9298245614035088\n"
     ]
    }
   ],
   "source": [
    "start= time.time()\n",
    "sv_machine = svm.SVC()\n",
    "sv_machine.fit(x_train,y_train)\n",
    "s_pred = sv_machine.predict(x_test)\n",
    "print(accuracy_score(y_test, s_pred))\n",
    "s_report = classification_report(y_test, s_pred)\n",
    "s_time = time.time()-start"
   ]
  },
  {
   "cell_type": "markdown",
   "id": "42472596",
   "metadata": {},
   "source": [
    "# Stochastic Gradient Descent"
   ]
  },
  {
   "cell_type": "code",
   "execution_count": 16,
   "id": "3296421d",
   "metadata": {},
   "outputs": [
    {
     "name": "stdout",
     "output_type": "stream",
     "text": [
      "0.8421052631578947\n"
     ]
    }
   ],
   "source": [
    "start= time.time()\n",
    "sgd_classifier = SGDClassifier()\n",
    "sgd_classifier.fit(x_train,y_train)\n",
    "sgd_pred = sgd_classifier.predict(x_test)\n",
    "print(accuracy_score(y_test, sgd_pred))\n",
    "sgd_report = classification_report(y_test, sgd_pred)\n",
    "sgd_time = time.time()-start"
   ]
  },
  {
   "cell_type": "markdown",
   "id": "0ecfca01",
   "metadata": {},
   "source": [
    "# Logistic Regression"
   ]
  },
  {
   "cell_type": "code",
   "execution_count": 17,
   "id": "33cf6a88",
   "metadata": {
    "scrolled": false
   },
   "outputs": [
    {
     "name": "stdout",
     "output_type": "stream",
     "text": [
      "0.9473684210526315\n"
     ]
    },
    {
     "name": "stderr",
     "output_type": "stream",
     "text": [
      "/opt/conda/lib/python3.9/site-packages/sklearn/linear_model/_logistic.py:814: ConvergenceWarning: lbfgs failed to converge (status=1):\n",
      "STOP: TOTAL NO. of ITERATIONS REACHED LIMIT.\n",
      "\n",
      "Increase the number of iterations (max_iter) or scale the data as shown in:\n",
      "    https://scikit-learn.org/stable/modules/preprocessing.html\n",
      "Please also refer to the documentation for alternative solver options:\n",
      "    https://scikit-learn.org/stable/modules/linear_model.html#logistic-regression\n",
      "  n_iter_i = _check_optimize_result(\n"
     ]
    }
   ],
   "source": [
    "start= time.time()\n",
    "logistic_regression = LogisticRegression(max_iter=1000)\n",
    "logistic_regression.fit(x_train, y_train)\n",
    "logistic_pred = logistic_regression.predict(x_test)\n",
    "print(accuracy_score(y_test, logistic_pred))\n",
    "logistic_report = classification_report(y_test, logistic_pred)\n",
    "logistic_time = time.time()-start"
   ]
  },
  {
   "cell_type": "markdown",
   "id": "37da6992",
   "metadata": {},
   "source": [
    "위에 ConvergenceWarning 메세지에 의거해서 시도를 해보고자 구글링을 함\n",
    "max_iter 입력에도 불구하고 메세지가 달라지지 않아서 StandardScaler를 통해\n",
    "데이터를 스케일링 시도함"
   ]
  },
  {
   "cell_type": "markdown",
   "id": "ff8395e6",
   "metadata": {},
   "source": [
    "# Scaled Logistic Regression"
   ]
  },
  {
   "cell_type": "code",
   "execution_count": 18,
   "id": "ee81bdd6",
   "metadata": {},
   "outputs": [],
   "source": [
    "from sklearn import preprocessing\n",
    "scaler = preprocessing.StandardScaler().fit(x_train)\n",
    "scaled_x_train = scaler.transform(x_train)\n",
    "scaled_x_test = scaler.transform(x_test)\n",
    "start= time.time()\n",
    "scaled_logistic_regression = LogisticRegression(max_iter=1000)\n",
    "scaled_logistic_regression.fit(scaled_x_train, y_train)\n",
    "scaled_logistic_pred = scaled_logistic_regression.predict(scaled_x_test)\n",
    "scaled_logistic_report = classification_report(y_test, logistic_pred)\n",
    "scaled_logistic_time = time.time()-start"
   ]
  },
  {
   "cell_type": "code",
   "execution_count": 19,
   "id": "1bed6d87",
   "metadata": {},
   "outputs": [],
   "source": [
    "algorithm_name = ['decision_tree','random_forest','svm','sgd_classifier','logistic_regression','scaled_logistic_regression']\n",
    "accuracy = [accuracy_score(y_test, tree_pred),accuracy_score(y_test, r_pred),accuracy_score(y_test, s_pred),accuracy_score(y_test, sgd_pred),accuracy_score(y_test, logistic_pred),accuracy_score(y_test,scaled_logistic_pred)]\n",
    "report = [d_report,r_report,s_report,sgd_report,logistic_report,scaled_logistic_report]\n",
    "all_time = [d_time,r_time,s_time,sgd_time,logistic_time, scaled_logistic_time]"
   ]
  },
  {
   "cell_type": "markdown",
   "id": "0c9c17d0",
   "metadata": {},
   "source": [
    "# Result"
   ]
  },
  {
   "cell_type": "code",
   "execution_count": 20,
   "id": "c4fe8da9",
   "metadata": {
    "scrolled": true
   },
   "outputs": [],
   "source": [
    "import pandas as pd\n",
    "df = pd.DataFrame(index=algorithm_name)\n",
    "df['report'] = report\n",
    "df['accuracy'] = accuracy\n",
    "df['time'] = all_time\n",
    "df.sort_values('accuracy',ascending=False, inplace=True)"
   ]
  },
  {
   "cell_type": "code",
   "execution_count": 21,
   "id": "87baa5eb",
   "metadata": {},
   "outputs": [
    {
     "data": {
      "text/html": [
       "<div>\n",
       "<style scoped>\n",
       "    .dataframe tbody tr th:only-of-type {\n",
       "        vertical-align: middle;\n",
       "    }\n",
       "\n",
       "    .dataframe tbody tr th {\n",
       "        vertical-align: top;\n",
       "    }\n",
       "\n",
       "    .dataframe thead th {\n",
       "        text-align: right;\n",
       "    }\n",
       "</style>\n",
       "<table border=\"1\" class=\"dataframe\">\n",
       "  <thead>\n",
       "    <tr style=\"text-align: right;\">\n",
       "      <th></th>\n",
       "      <th>report</th>\n",
       "      <th>accuracy</th>\n",
       "      <th>time</th>\n",
       "    </tr>\n",
       "  </thead>\n",
       "  <tbody>\n",
       "    <tr>\n",
       "      <th>scaled_logistic_regression</th>\n",
       "      <td>precision    recall  f1-score   ...</td>\n",
       "      <td>0.964912</td>\n",
       "      <td>0.012651</td>\n",
       "    </tr>\n",
       "    <tr>\n",
       "      <th>random_forest</th>\n",
       "      <td>precision    recall  f1-score   ...</td>\n",
       "      <td>0.956140</td>\n",
       "      <td>0.180519</td>\n",
       "    </tr>\n",
       "    <tr>\n",
       "      <th>logistic_regression</th>\n",
       "      <td>precision    recall  f1-score   ...</td>\n",
       "      <td>0.947368</td>\n",
       "      <td>0.515175</td>\n",
       "    </tr>\n",
       "    <tr>\n",
       "      <th>svm</th>\n",
       "      <td>precision    recall  f1-score   ...</td>\n",
       "      <td>0.929825</td>\n",
       "      <td>0.010168</td>\n",
       "    </tr>\n",
       "    <tr>\n",
       "      <th>decision_tree</th>\n",
       "      <td>precision    recall  f1-score   ...</td>\n",
       "      <td>0.912281</td>\n",
       "      <td>0.014733</td>\n",
       "    </tr>\n",
       "    <tr>\n",
       "      <th>sgd_classifier</th>\n",
       "      <td>precision    recall  f1-score   ...</td>\n",
       "      <td>0.842105</td>\n",
       "      <td>0.007170</td>\n",
       "    </tr>\n",
       "  </tbody>\n",
       "</table>\n",
       "</div>"
      ],
      "text/plain": [
       "                                                                       report  \\\n",
       "scaled_logistic_regression                precision    recall  f1-score   ...   \n",
       "random_forest                             precision    recall  f1-score   ...   \n",
       "logistic_regression                       precision    recall  f1-score   ...   \n",
       "svm                                       precision    recall  f1-score   ...   \n",
       "decision_tree                             precision    recall  f1-score   ...   \n",
       "sgd_classifier                            precision    recall  f1-score   ...   \n",
       "\n",
       "                            accuracy      time  \n",
       "scaled_logistic_regression  0.964912  0.012651  \n",
       "random_forest               0.956140  0.180519  \n",
       "logistic_regression         0.947368  0.515175  \n",
       "svm                         0.929825  0.010168  \n",
       "decision_tree               0.912281  0.014733  \n",
       "sgd_classifier              0.842105  0.007170  "
      ]
     },
     "execution_count": 21,
     "metadata": {},
     "output_type": "execute_result"
    }
   ],
   "source": [
    "df"
   ]
  },
  {
   "cell_type": "code",
   "execution_count": 22,
   "id": "f7893849",
   "metadata": {},
   "outputs": [
    {
     "name": "stdout",
     "output_type": "stream",
     "text": [
      "              precision    recall  f1-score   support\n",
      "\n",
      "           0       0.90      0.98      0.94        47\n",
      "           1       0.98      0.93      0.95        67\n",
      "\n",
      "    accuracy                           0.95       114\n",
      "   macro avg       0.94      0.95      0.95       114\n",
      "weighted avg       0.95      0.95      0.95       114\n",
      " \n",
      "               precision    recall  f1-score   support\n",
      "\n",
      "           0       0.94      0.96      0.95        47\n",
      "           1       0.97      0.96      0.96        67\n",
      "\n",
      "    accuracy                           0.96       114\n",
      "   macro avg       0.95      0.96      0.95       114\n",
      "weighted avg       0.96      0.96      0.96       114\n",
      " \n",
      "               precision    recall  f1-score   support\n",
      "\n",
      "           0       0.90      0.98      0.94        47\n",
      "           1       0.98      0.93      0.95        67\n",
      "\n",
      "    accuracy                           0.95       114\n",
      "   macro avg       0.94      0.95      0.95       114\n",
      "weighted avg       0.95      0.95      0.95       114\n",
      "               precision    recall  f1-score   support\n",
      "\n",
      "           0       0.98      0.85      0.91        47\n",
      "           1       0.90      0.99      0.94        67\n",
      "\n",
      "    accuracy                           0.93       114\n",
      "   macro avg       0.94      0.92      0.93       114\n",
      "weighted avg       0.93      0.93      0.93       114\n",
      "\n"
     ]
    }
   ],
   "source": [
    "print(df.report[0],'\\n' ,df.report[1], '\\n', df.report[2], df.report[3])"
   ]
  },
  {
   "attachments": {
    "image.png": {
     "image/png": "[encoded data removed]"
    }
   },
   "cell_type": "markdown",
   "id": "11ac02ff",
   "metadata": {},
   "source": [
    "# 번외\n",
    "![image.png](attachment:image.png)\n","\n",
    "로지스틱회귀에서 위와 같은 메시지가 발생하였음\n",
    "max_iter를 올려줬지만 그럼에도 불구하고 발생하는걸로 보아\n",
    "자료의 표준화가 필요해보여서 하는 시도"
   ]
  },
  {
   "cell_type": "markdown",
   "id": "1593a670",
   "metadata": {},
   "source": [
    "평가 성능 지표로 Recall을 선택했다 \n",
    "유방암의 경우 잘못 진단하더라도 양성 여부는 반드시 판단하는 것이 유리하다\n",
    "따라서 실제 Positive 중에 얼마나 잘 예측했는지의 비율인 Recall이 중점으로 지표가\n",
    "되어야 한다\n",
    "Recall 부분에선 로지스틱 회귀가 압도적으로 정확도가 높았으며\n",
    "데이터 스케일링이후 로지스틱회귀의 단순 정확도마저 높아져서\n",
    "성능과 속도를 다 잡을 수 있었다"
   ]
  }
 ],
 "metadata": {
  "kernelspec": {
   "display_name": "Python 3 (ipykernel)",
   "language": "python",
   "name": "python3"
  },
  "language_info": {
   "codemirror_mode": {
    "name": "ipython",
    "version": 3
   },
   "file_extension": ".py",
   "mimetype": "text/x-python",
   "name": "python",
   "nbconvert_exporter": "python",
   "pygments_lexer": "ipython3",
   "version": "3.9.7"
  }
 },
 "nbformat": 4,
 "nbformat_minor": 5
}
