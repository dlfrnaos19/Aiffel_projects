{
 "cells": [
  {
   "cell_type": "markdown",
   "id": "0ded44bb",
   "metadata": {},
   "source": [
    "# Load Dataset"
   ]
  },
  {
   "cell_type": "code",
   "execution_count": 1,
   "id": "89b8223d",
   "metadata": {
    "scrolled": true
   },
   "outputs": [
    {
     "name": "stdout",
     "output_type": "stream",
     "text": [
      "['First Citizen:', 'Before we proceed any further, hear me speak.', '', 'All:', 'Speak, speak.', '', 'First Citizen:', 'You are all resolved rather to die than to famish?', '']\n"
     ]
    },
    {
     "data": {
      "text/plain": [
       "40000"
      ]
     },
     "execution_count": 1,
     "metadata": {},
     "output_type": "execute_result"
    }
   ],
   "source": [
    "import os, re\n",
    "import numpy as np\n",
    "import tensorflow as tf\n",
    "\n",
    "file_path = os.getenv('HOME') + '/aiffel/lyricist/data/shakespeare.txt'\n",
    "with open(file_path, \"r\") as f:\n",
    "    raw_corpus = f.read().splitlines()\n",
    "\n",
    "print(raw_corpus[:9])\n",
    "len(raw_corpus)"
   ]
  },
  {
   "cell_type": "code",
   "execution_count": 53,
   "id": "70777f7d",
   "metadata": {},
   "outputs": [
    {
     "data": {
      "text/plain": [
       "40000"
      ]
     },
     "execution_count": 53,
     "metadata": {},
     "output_type": "execute_result"
    }
   ],
   "source": []
  },
  {
   "cell_type": "markdown",
   "id": "d6dcb096",
   "metadata": {},
   "source": [
    "# Data Preprocess"
   ]
  },
  {
   "cell_type": "code",
   "execution_count": 8,
   "id": "aa760849",
   "metadata": {},
   "outputs": [
    {
     "name": "stdout",
     "output_type": "stream",
     "text": [
      "Before we proceed any further, hear me speak.\n",
      "Speak, speak.\n",
      "You are all resolved rather to die than to famish?\n"
     ]
    }
   ],
   "source": [
    "# remove empty space, \":\" \n",
    "for idx, sentence in enumerate(raw_corpus):\n",
    "    if len(sentence) == 0:\n",
    "        continue\n",
    "    if sentence[-1] == \":\":\n",
    "        continue\n",
    "    if idx > 9:\n",
    "        break\n",
    "    print(sentence)"
   ]
  },
  {
   "cell_type": "code",
   "execution_count": 9,
   "id": "226c7376",
   "metadata": {},
   "outputs": [
    {
     "name": "stdout",
     "output_type": "stream",
     "text": [
      "<start> this is sample sentence . <end>\n"
     ]
    }
   ],
   "source": [
    "def preprocess_sentence(sentence):\n",
    "    sentence = sentence.lower().strip() # 1 소문자로 바꾸고, 양쪽 공백을 지웁니다\n",
    "    sentence = re.sub(r\"([?.!,¿])\", r\" \\1 \", sentence) # 2 특수문자 양쪽에 공백을 넣고\n",
    "    sentence = re.sub(r'[\" \"]+', \" \", sentence) # 3 여러개의 공백은 하나의 공백으로 바꿉니다\n",
    "    sentence = re.sub(r\"[^a-zA-Z?.!,¿]+\", \" \", sentence) # 4 a-zA-Z?.!,¿가 아닌 모든 문자를 하나의 공백으로 바꿉니다\n",
    "    sentence = sentence.strip() # 5 다시 양쪽 공백을 지웁니다\n",
    "    sentence = '<start> ' + sentence + ' <end>' # 6 문장 시작에는 <start>, 끝에는 <end>를 추가합니다\n",
    "    return sentence\n",
    "\n",
    "# how function work\n",
    "print(preprocess_sentence(\"This @_is ;;;sample        sentence.\"))"
   ]
  },
  {
   "cell_type": "code",
   "execution_count": 10,
   "id": "9b0d54f6",
   "metadata": {},
   "outputs": [
    {
     "data": {
      "text/plain": [
       "['<start> before we proceed any further , hear me speak . <end>',\n",
       " '<start> speak , speak . <end>',\n",
       " '<start> you are all resolved rather to die than to famish ? <end>',\n",
       " '<start> resolved . resolved . <end>',\n",
       " '<start> first , you know caius marcius is chief enemy to the people . <end>',\n",
       " '<start> we know t , we know t . <end>',\n",
       " '<start> let us kill him , and we ll have corn at our own price . <end>',\n",
       " '<start> is t a verdict ? <end>',\n",
       " '<start> no more talking on t let it be done away , away ! <end>',\n",
       " '<start> one word , good citizens . <end>']"
      ]
     },
     "execution_count": 10,
     "metadata": {},
     "output_type": "execute_result"
    }
   ],
   "source": [
    "corpus = []\n",
    "\n",
    "for sentence in raw_corpus:\n",
    "    if len(sentence) == 0: continue\n",
    "    if sentence[-1] == \":\": continue\n",
    "        \n",
    "    preprocessed_sentence = preprocess_sentence(sentence)\n",
    "    corpus.append(preprocessed_sentence)\n",
    "\n",
    "corpus[:10]"
   ]
  },
  {
   "cell_type": "markdown",
   "id": "84dc179c",
   "metadata": {},
   "source": [
    "# Set Tokenizer, Corpus"
   ]
  },
  {
   "cell_type": "markdown",
   "id": "696e4aad",
   "metadata": {},
   "source": [
    "[Tensorflow Tokenizer] API(https://www.tensorflow.org/api_docs/python/tf/keras/preprocessing/text/Tokenizer)  \n",
    "[Tensorflow Pad Sequence] (https://www.tensorflow.org/api_docs/python/tf/keras/preprocessing/sequence/pad_sequences)"
   ]
  },
  {
   "cell_type": "code",
   "execution_count": 11,
   "id": "b3a83a13",
   "metadata": {},
   "outputs": [
    {
     "name": "stdout",
     "output_type": "stream",
     "text": [
      "[[   2  143   40 ...    0    0    0]\n",
      " [   2  110    4 ...    0    0    0]\n",
      " [   2   11   50 ...    0    0    0]\n",
      " ...\n",
      " [   2  149 4553 ...    0    0    0]\n",
      " [   2   34   71 ...    0    0    0]\n",
      " [   2  945   34 ...    0    0    0]] <keras_preprocessing.text.Tokenizer object at 0x7fa790f85520>\n"
     ]
    }
   ],
   "source": [
    "\n",
    "def tokenize(corpus):\n",
    "    # 7000단어를 기억할 수 있는 tokenizer를 만들겁니다\n",
    "    # 우리는 이미 문장을 정제했으니 filters가 필요없어요\n",
    "    # 7000단어에 포함되지 못한 단어는 '<unk>'로 바꿀거에요\n",
    "    tokenizer = tf.keras.preprocessing.text.Tokenizer(\n",
    "        num_words=7000, \n",
    "        filters=' ',\n",
    "        oov_token=\"<unk>\"\n",
    "    )\n",
    "    # corpus를 이용해 tokenizer 내부의 단어장을 완성합니다\n",
    "    tokenizer.fit_on_texts(corpus)\n",
    "    # 준비한 tokenizer를 이용해 corpus를 Tensor로 변환합니다\n",
    "    tensor = tokenizer.texts_to_sequences(corpus)   \n",
    "    # 입력 데이터의 시퀀스 길이를 일정하게 맞춰줍니다\n",
    "    # 만약 시퀀스가 짧다면 문장 뒤에 패딩을 붙여 길이를 맞춰줍니다.\n",
    "    # 문장 앞에 패딩을 붙여 길이를 맞추고 싶다면 padding='pre'를 사용합니다\n",
    "    tensor = tf.keras.preprocessing.sequence.pad_sequences(tensor, padding='post')  \n",
    "    \n",
    "    print(tensor,tokenizer)\n",
    "    return tensor, tokenizer\n",
    "\n",
    "tensor, tokenizer = tokenize(corpus)"
   ]
  },
  {
   "cell_type": "code",
   "execution_count": 12,
   "id": "24bb2f0f",
   "metadata": {},
   "outputs": [
    {
     "name": "stdout",
     "output_type": "stream",
     "text": [
      "[[   2  143   40  933  140  591    4  124   24  110]\n",
      " [   2  110    4  110    5    3    0    0    0    0]\n",
      " [   2   11   50   43 1201  316    9  201   74    9]]\n"
     ]
    }
   ],
   "source": [
    "print(tensor[:3, :10])"
   ]
  },
  {
   "cell_type": "code",
   "execution_count": 14,
   "id": "a73b4d0f",
   "metadata": {},
   "outputs": [
    {
     "name": "stdout",
     "output_type": "stream",
     "text": [
      "1 : <unk>\n",
      "2 : <start>\n",
      "3 : <end>\n",
      "4 : ,\n",
      "5 : .\n",
      "6 : the\n",
      "7 : and\n",
      "8 : i\n",
      "9 : to\n",
      "10 : of\n"
     ]
    }
   ],
   "source": [
    "for idx in tokenizer.index_word:\n",
    "    print(idx, \":\", tokenizer.index_word[idx])\n",
    "    \n",
    "    if idx >= 10: break"
   ]
  },
  {
   "cell_type": "code",
   "execution_count": 15,
   "id": "750a524c",
   "metadata": {},
   "outputs": [
    {
     "name": "stdout",
     "output_type": "stream",
     "text": [
      "[  2 143  40 933 140 591   4 124  24 110   5   3   0   0   0   0   0   0\n",
      "   0   0]\n",
      "[143  40 933 140 591   4 124  24 110   5   3   0   0   0   0   0   0   0\n",
      "   0   0]\n"
     ]
    }
   ],
   "source": [
    "# tensor에서 마지막 토큰을 잘라내서 소스 문장을 생성합니다\n",
    "# 마지막 토큰은 <end>가 아니라 <pad>일 가능성이 높습니다.\n",
    "src_input = tensor[:, :-1]  \n",
    "# tensor에서 <start>를 잘라내서 타겟 문장을 생성합니다.\n",
    "tgt_input = tensor[:, 1:]    \n",
    "\n",
    "print(src_input[0])\n",
    "print(tgt_input[0])"
   ]
  },
  {
   "cell_type": "code",
   "execution_count": 17,
   "id": "fa06d822",
   "metadata": {},
   "outputs": [],
   "source": [
    "BUFFER_SIZE = len(src_input)\n",
    "BATCH_SIZE = 256\n",
    "steps_per_epoch = len(src_input) // BATCH_SIZE\n",
    "# tokenizer가 구축한 단어사전 내 7000개와, 여기 포함되지 않은 0:<pad>를 포함하여 7001개\n",
    "VOCAB_SIZE = tokenizer.num_words + 1\n",
    "\n",
    "dataset = tf.data.Dataset.from_tensor_slices((src_input, tgt_input))\n",
    "dataset = dataset.shuffle(BUFFER_SIZE)\n",
    "dataset = dataset.batch(BATCH_SIZE, drop_remainder=True)"
   ]
  },
  {
   "cell_type": "code",
   "execution_count": 18,
   "id": "24939f6b",
   "metadata": {},
   "outputs": [
    {
     "data": {
      "text/plain": [
       "<BatchDataset shapes: ((256, 20), (256, 20)), types: (tf.int32, tf.int32)>"
      ]
     },
     "execution_count": 18,
     "metadata": {},
     "output_type": "execute_result"
    }
   ],
   "source": [
    "dataset"
   ]
  },
  {
   "cell_type": "code",
   "execution_count": 19,
   "id": "f81ec5c2",
   "metadata": {},
   "outputs": [],
   "source": [
    "# Model\n",
    "class TextGenerator(tf.keras.Model):\n",
    "    def __init__(self, vocab_size, embedding_size, hidden_size):\n",
    "        super().__init__()\n",
    "        \n",
    "        self.embedding = tf.keras.layers.Embedding(vocab_size, embedding_size)\n",
    "        self.rnn_1 = tf.keras.layers.LSTM(hidden_size, return_sequences=True)\n",
    "        self.rnn_2 = tf.keras.layers.LSTM(hidden_size, return_sequences=True)\n",
    "        self.linear = tf.keras.layers.Dense(vocab_size)\n",
    "    \n",
    "    def call(self, x):\n",
    "        out = self.embedding(x)\n",
    "        out = self.rnn_1(out)\n",
    "        out = self.rnn_2(out)\n",
    "        out = self.linear(out)\n",
    "        \n",
    "        return out\n",
    "    \n",
    "embedding_size = 256\n",
    "hidden_size = 1024\n",
    "model = TextGenerator(tokenizer.num_words + 1, embedding_size, hidden_size)"
   ]
  },
  {
   "cell_type": "code",
   "execution_count": 20,
   "id": "44deb75c",
   "metadata": {},
   "outputs": [
    {
     "data": {
      "text/plain": [
       "<tf.Tensor: shape=(256, 20, 7001), dtype=float32, numpy=\n",
       "array([[[-1.84470282e-05, -8.64091708e-05,  9.17484649e-05, ...,\n",
       "         -8.70071890e-05, -1.59231466e-04,  1.35392518e-04],\n",
       "        [-2.76876690e-05, -1.68445622e-04,  2.08218145e-04, ...,\n",
       "         -3.97569966e-04, -1.72723867e-05, -6.12717777e-05],\n",
       "        [-7.77352398e-05, -3.93499504e-05,  3.23454966e-04, ...,\n",
       "         -5.76642517e-04, -1.27173829e-04, -6.93226466e-05],\n",
       "        ...,\n",
       "        [ 2.06469488e-03, -1.46742654e-03, -3.65647022e-03, ...,\n",
       "         -1.39701494e-03, -4.08582826e-04, -2.01216922e-03],\n",
       "        [ 2.15617567e-03, -1.47446594e-03, -4.02152818e-03, ...,\n",
       "         -1.50141970e-03, -4.43309371e-04, -2.30083754e-03],\n",
       "        [ 2.24403664e-03, -1.47171901e-03, -4.33583511e-03, ...,\n",
       "         -1.59244437e-03, -4.81708092e-04, -2.56420602e-03]],\n",
       "\n",
       "       [[-1.84470282e-05, -8.64091708e-05,  9.17484649e-05, ...,\n",
       "         -8.70071890e-05, -1.59231466e-04,  1.35392518e-04],\n",
       "        [-4.81437128e-05,  1.35557464e-04,  4.36269300e-04, ...,\n",
       "         -5.10993239e-04, -1.20297846e-04,  1.70849744e-04],\n",
       "        [-2.59959255e-04,  3.25189001e-04,  8.10595695e-04, ...,\n",
       "         -9.62748483e-04,  2.99643638e-04, -1.53925866e-04],\n",
       "        ...,\n",
       "        [ 1.62484543e-03,  1.75212728e-04, -1.63494190e-03, ...,\n",
       "         -1.41568354e-03, -1.33605921e-04, -3.80960555e-04],\n",
       "        [ 1.80298893e-03, -6.03576664e-05, -2.19918578e-03, ...,\n",
       "         -1.45662529e-03, -2.93198565e-04, -7.06465915e-04],\n",
       "        [ 1.93995936e-03, -2.60276924e-04, -2.72293016e-03, ...,\n",
       "         -1.50401227e-03, -4.12384950e-04, -1.02082535e-03]],\n",
       "\n",
       "       [[-1.84470282e-05, -8.64091708e-05,  9.17484649e-05, ...,\n",
       "         -8.70071890e-05, -1.59231466e-04,  1.35392518e-04],\n",
       "        [ 4.86136618e-04, -1.47191982e-04,  1.63075936e-04, ...,\n",
       "         -7.75547451e-05, -2.26683449e-04,  1.20422126e-04],\n",
       "        [ 8.04147159e-04, -4.68573591e-04,  2.95910926e-04, ...,\n",
       "         -3.23071115e-04,  1.21433557e-04,  2.22355360e-04],\n",
       "        ...,\n",
       "        [ 2.55316868e-03, -8.80030100e-04, -4.04682104e-03, ...,\n",
       "         -1.39399059e-03, -9.08726652e-04, -2.23429059e-03],\n",
       "        [ 2.60506384e-03, -9.26508801e-04, -4.33433428e-03, ...,\n",
       "         -1.47004274e-03, -8.88554088e-04, -2.49004946e-03],\n",
       "        [ 2.65238318e-03, -9.72156879e-04, -4.58438741e-03, ...,\n",
       "         -1.53817050e-03, -8.73208803e-04, -2.72911345e-03]],\n",
       "\n",
       "       ...,\n",
       "\n",
       "       [[-1.84470282e-05, -8.64091708e-05,  9.17484649e-05, ...,\n",
       "         -8.70071890e-05, -1.59231466e-04,  1.35392518e-04],\n",
       "        [ 4.05390485e-04, -1.86323014e-04,  3.27990914e-04, ...,\n",
       "         -1.50358770e-04, -1.68133862e-04, -2.94714526e-04],\n",
       "        [ 5.19198715e-04, -2.34552470e-04,  1.86421370e-04, ...,\n",
       "          3.87101936e-05,  9.83161153e-05, -5.99413237e-04],\n",
       "        ...,\n",
       "        [ 1.72413595e-03, -7.64340977e-04, -3.19590280e-03, ...,\n",
       "         -1.23840198e-03, -7.41824217e-04, -2.15700339e-03],\n",
       "        [ 1.92739652e-03, -8.76527803e-04, -3.65353026e-03, ...,\n",
       "         -1.30994699e-03, -7.56791327e-04, -2.37378082e-03],\n",
       "        [ 2.10059015e-03, -9.66059568e-04, -4.04829858e-03, ...,\n",
       "         -1.38056302e-03, -7.62135081e-04, -2.57967669e-03]],\n",
       "\n",
       "       [[-1.84470282e-05, -8.64091708e-05,  9.17484649e-05, ...,\n",
       "         -8.70071890e-05, -1.59231466e-04,  1.35392518e-04],\n",
       "        [ 3.66034015e-04, -3.85035528e-04,  1.97429428e-04, ...,\n",
       "         -4.64136974e-04,  1.66707643e-04,  5.69963995e-05],\n",
       "        [ 3.06794682e-04, -6.22787804e-04,  5.81953616e-04, ...,\n",
       "         -6.93370472e-04,  4.72119631e-04, -1.38739970e-05],\n",
       "        ...,\n",
       "        [ 1.51018368e-03, -1.94012187e-04, -1.01384020e-03, ...,\n",
       "         -1.98603608e-03, -1.44405477e-03, -1.50616572e-03],\n",
       "        [ 1.71907630e-03, -3.02226923e-04, -1.72331824e-03, ...,\n",
       "         -2.03465554e-03, -1.48190779e-03, -1.68179756e-03],\n",
       "        [ 1.89238787e-03, -4.00962745e-04, -2.36834865e-03, ...,\n",
       "         -2.06708047e-03, -1.47075125e-03, -1.87521940e-03]],\n",
       "\n",
       "       [[-1.84470282e-05, -8.64091708e-05,  9.17484649e-05, ...,\n",
       "         -8.70071890e-05, -1.59231466e-04,  1.35392518e-04],\n",
       "        [ 2.36420281e-04, -8.30173740e-05, -3.42389176e-05, ...,\n",
       "         -4.94341773e-04, -3.16021615e-04,  5.38814220e-06],\n",
       "        [ 5.70546952e-04, -1.51213884e-04,  3.50855902e-04, ...,\n",
       "         -9.19453567e-04, -4.27915744e-04, -5.63309644e-04],\n",
       "        ...,\n",
       "        [ 1.24576688e-03, -4.76708723e-04, -3.44323693e-03, ...,\n",
       "         -1.21181482e-03, -8.64789065e-04, -2.55904021e-03],\n",
       "        [ 1.42784475e-03, -5.53630060e-04, -3.78565071e-03, ...,\n",
       "         -1.22648699e-03, -8.94853845e-04, -2.69889040e-03],\n",
       "        [ 1.60450186e-03, -6.24048815e-04, -4.09040740e-03, ...,\n",
       "         -1.25753309e-03, -9.15041310e-04, -2.84399232e-03]]],\n",
       "      dtype=float32)>"
      ]
     },
     "execution_count": 20,
     "metadata": {},
     "output_type": "execute_result"
    }
   ],
   "source": [
    "# 데이터셋에서 데이터 한 배치만 불러오는 방법입니다.\n",
    "# 지금은 동작 원리에 너무 빠져들지 마세요~\n",
    "for src_sample, tgt_sample in dataset.take(1): break\n",
    "\n",
    "# 한 배치만 불러온 데이터를 모델에 넣어봅니다\n",
    "model(src_sample)"
   ]
  },
  {
   "cell_type": "code",
   "execution_count": 21,
   "id": "6121b533",
   "metadata": {},
   "outputs": [
    {
     "name": "stdout",
     "output_type": "stream",
     "text": [
      "Model: \"text_generator\"\n",
      "_________________________________________________________________\n",
      "Layer (type)                 Output Shape              Param #   \n",
      "=================================================================\n",
      "embedding (Embedding)        multiple                  1792256   \n",
      "_________________________________________________________________\n",
      "lstm (LSTM)                  multiple                  5246976   \n",
      "_________________________________________________________________\n",
      "lstm_1 (LSTM)                multiple                  8392704   \n",
      "_________________________________________________________________\n",
      "dense (Dense)                multiple                  7176025   \n",
      "=================================================================\n",
      "Total params: 22,607,961\n",
      "Trainable params: 22,607,961\n",
      "Non-trainable params: 0\n",
      "_________________________________________________________________\n"
     ]
    }
   ],
   "source": [
    "model.summary()"
   ]
  },
  {
   "cell_type": "markdown",
   "id": "d3e0a364",
   "metadata": {},
   "source": [
    "[Tensorflow Optimizer API](https://www.tensorflow.org/api_docs/python/tf/keras/optimizers)  \n",
    "[Tensorflow Losses API](https://www.tensorflow.org/api_docs/python/tf/keras/losses)"
   ]
  },
  {
   "cell_type": "code",
   "execution_count": 23,
   "id": "58cce220",
   "metadata": {},
   "outputs": [],
   "source": [
    "import time"
   ]
  },
  {
   "cell_type": "code",
   "execution_count": 24,
   "id": "955b817b",
   "metadata": {},
   "outputs": [
    {
     "name": "stdout",
     "output_type": "stream",
     "text": [
      "Epoch 1/30\n",
      "93/93 [==============================] - 19s 182ms/step - loss: 3.4524\n",
      "Epoch 2/30\n",
      "93/93 [==============================] - 18s 191ms/step - loss: 2.7948\n",
      "Epoch 3/30\n",
      "93/93 [==============================] - 19s 200ms/step - loss: 2.6669\n",
      "Epoch 4/30\n",
      "93/93 [==============================] - 18s 196ms/step - loss: 2.5696\n",
      "Epoch 5/30\n",
      "93/93 [==============================] - 18s 192ms/step - loss: 2.5114\n",
      "Epoch 6/30\n",
      "93/93 [==============================] - 18s 192ms/step - loss: 2.4515\n",
      "Epoch 7/30\n",
      "93/93 [==============================] - 18s 194ms/step - loss: 2.3869\n",
      "Epoch 8/30\n",
      "93/93 [==============================] - 18s 195ms/step - loss: 2.3279\n",
      "Epoch 9/30\n",
      "93/93 [==============================] - 18s 194ms/step - loss: 2.2737\n",
      "Epoch 10/30\n",
      "93/93 [==============================] - 18s 194ms/step - loss: 2.2209\n",
      "Epoch 11/30\n",
      "93/93 [==============================] - 18s 194ms/step - loss: 2.1691\n",
      "Epoch 12/30\n",
      "93/93 [==============================] - 18s 194ms/step - loss: 2.1159\n",
      "Epoch 13/30\n",
      "93/93 [==============================] - 18s 193ms/step - loss: 2.0624\n",
      "Epoch 14/30\n",
      "93/93 [==============================] - 18s 194ms/step - loss: 2.0078\n",
      "Epoch 15/30\n",
      "93/93 [==============================] - 18s 194ms/step - loss: 1.9520\n",
      "Epoch 16/30\n",
      "93/93 [==============================] - 18s 194ms/step - loss: 1.8961\n",
      "Epoch 17/30\n",
      "93/93 [==============================] - 18s 195ms/step - loss: 1.8391\n",
      "Epoch 18/30\n",
      "93/93 [==============================] - 18s 195ms/step - loss: 1.7839\n",
      "Epoch 19/30\n",
      "93/93 [==============================] - 18s 195ms/step - loss: 1.7266\n",
      "Epoch 20/30\n",
      "93/93 [==============================] - 18s 195ms/step - loss: 1.6698\n",
      "Epoch 21/30\n",
      "93/93 [==============================] - 18s 194ms/step - loss: 1.6120\n",
      "Epoch 22/30\n",
      "93/93 [==============================] - 18s 194ms/step - loss: 1.5561\n",
      "Epoch 23/30\n",
      "93/93 [==============================] - 18s 194ms/step - loss: 1.4992\n",
      "Epoch 24/30\n",
      "93/93 [==============================] - 18s 194ms/step - loss: 1.4426\n",
      "Epoch 25/30\n",
      "93/93 [==============================] - 18s 194ms/step - loss: 1.3844\n",
      "Epoch 26/30\n",
      "93/93 [==============================] - 18s 194ms/step - loss: 1.3254\n",
      "Epoch 27/30\n",
      "93/93 [==============================] - 18s 195ms/step - loss: 1.2673\n",
      "Epoch 28/30\n",
      "93/93 [==============================] - 18s 195ms/step - loss: 1.2077\n",
      "Epoch 29/30\n",
      "93/93 [==============================] - 18s 195ms/step - loss: 1.1490\n",
      "Epoch 30/30\n",
      "93/93 [==============================] - 18s 195ms/step - loss: 1.0919\n",
      "544.0572500228882\n"
     ]
    }
   ],
   "source": [
    "# 양이 상당히 많은 편이니 지금 보는 것은 추천하지 않습니다\n",
    "start_time = time.time()\n",
    "optimizer = tf.keras.optimizers.Adam()\n",
    "loss = tf.keras.losses.SparseCategoricalCrossentropy(\n",
    "    from_logits=True,\n",
    "    reduction='none'\n",
    ")\n",
    "\n",
    "model.compile(loss=loss, optimizer=optimizer)\n",
    "model.fit(dataset, epochs=30)\n",
    "print(time.time() - start_time)"
   ]
  },
  {
   "cell_type": "code",
   "execution_count": 25,
   "id": "cf351a72",
   "metadata": {},
   "outputs": [],
   "source": [
    "def generate_text(model, tokenizer, init_sentence=\"<start>\", max_len=20):\n",
    "    # 테스트를 위해서 입력받은 init_sentence도 텐서로 변환합니다\n",
    "    test_input = tokenizer.texts_to_sequences([init_sentence])\n",
    "    test_tensor = tf.convert_to_tensor(test_input, dtype=tf.int64)\n",
    "    end_token = tokenizer.word_index[\"<end>\"]\n",
    "\n",
    "    # 단어 하나씩 예측해 문장을 만듭니다\n",
    "    #    1. 입력받은 문장의 텐서를 입력합니다\n",
    "    #    2. 예측된 값 중 가장 높은 확률인 word index를 뽑아냅니다\n",
    "    #    3. 2에서 예측된 word index를 문장 뒤에 붙입니다\n",
    "    #    4. 모델이 <end>를 예측했거나, max_len에 도달했다면 문장 생성을 마칩니다\n",
    "    while True:\n",
    "        # 1\n",
    "        predict = model(test_tensor) \n",
    "        # 2\n",
    "        predict_word = tf.argmax(tf.nn.softmax(predict, axis=-1), axis=-1)[:, -1] \n",
    "        # 3 \n",
    "        test_tensor = tf.concat([test_tensor, tf.expand_dims(predict_word, axis=0)], axis=-1)\n",
    "        # 4\n",
    "        if predict_word.numpy()[0] == end_token: break\n",
    "        if test_tensor.shape[1] >= max_len: break\n",
    "\n",
    "    generated = \"\"\n",
    "    # tokenizer를 이용해 word index를 단어로 하나씩 변환합니다 \n",
    "    for word_index in test_tensor[0].numpy():\n",
    "        generated += tokenizer.index_word[word_index] + \" \"\n",
    "\n",
    "    return generated"
   ]
  },
  {
   "cell_type": "code",
   "execution_count": 27,
   "id": "9df7582e",
   "metadata": {},
   "outputs": [
    {
     "data": {
      "text/plain": [
       "'<start> what are you , sir ? <end> '"
      ]
     },
     "execution_count": 27,
     "metadata": {},
     "output_type": "execute_result"
    }
   ],
   "source": [
    "generate_text(model, tokenizer, init_sentence=\"<start> what are you\")"
   ]
  },
  {
   "cell_type": "markdown",
   "id": "902db3d6",
   "metadata": {},
   "source": [
    "# Project  Cool Lyricist"
   ]
  },
  {
   "cell_type": "markdown",
   "id": "ecd846a3",
   "metadata": {},
   "source": [
    "## Load Data"
   ]
  },
  {
   "cell_type": "code",
   "execution_count": 2,
   "id": "174913a7",
   "metadata": {},
   "outputs": [
    {
     "name": "stdout",
     "output_type": "stream",
     "text": [
      "데이터 크기: 187088\n",
      "Examples:\n",
      " [\"Now I've heard there was a secret chord\", 'That David played, and it pleased the Lord', \"But you don't really care for music, do you?\"]\n"
     ]
    }
   ],
   "source": [
    "import glob\n",
    "import os\n",
    "\n",
    "txt_file_path = os.getenv('HOME')+'/aiffel/lyricist/data/lyrics/*'\n",
    "\n",
    "txt_list = glob.glob(txt_file_path)\n",
    "\n",
    "raw_corpus = []\n",
    "\n",
    "# 여러개의 txt 파일을 모두 읽어서 raw_corpus 에 담습니다.\n",
    "for txt_file in txt_list:\n",
    "    with open(txt_file, \"r\") as f:\n",
    "        raw = f.read().splitlines()\n",
    "        raw_corpus.extend(raw)\n",
    "\n",
    "print(\"데이터 크기:\", len(raw_corpus))\n",
    "print(\"Examples:\\n\", raw_corpus[:3])"
   ]
  },
  {
   "cell_type": "markdown",
   "id": "c3cecdbb",
   "metadata": {},
   "source": [
    "## Data Preprocess"
   ]
  },
  {
   "cell_type": "code",
   "execution_count": 3,
   "id": "aa9cdb45",
   "metadata": {
    "scrolled": false
   },
   "outputs": [],
   "source": [
    "    \n",
    "def preprocess_sentence(sentence):\n",
    "    sentence = sentence.lower().strip() # 1 소문자로 바꾸고, 양쪽 공백을 지웁니다\n",
    "    sentence = re.sub(r\"([?.!,¿])\", r\" \\1 \", sentence) # 2 특수문자 양쪽에 공백을 넣고\n",
    "    sentence = re.sub(r'[\" \"]+', \" \", sentence) # 3 여러개의 공백은 하나의 공백으로 바꿉니다\n",
    "    sentence = re.sub(r\"[^a-zA-Z?.!,¿]+\", \" \", sentence) # 4 a-zA-Z?.!,¿가 아닌 모든 문자를 하나의 공백으로 바꿉니다\n",
    "    sentence = sentence.strip() # 5 다시 양쪽 공백을 지웁니다\n",
    "    sentence = '<start> ' + sentence + ' <end>' # 6 문장 시작에는 <start>, 끝에는 <end>를 추가합니다\n",
    "    return sentence\n",
    "\n",
    "corpus = []\n",
    "\n",
    "for sentence in raw_corpus:\n",
    "    if len(sentence) == 0: continue    \n",
    "    preprocessed_sentence = preprocess_sentence(sentence)\n",
    "    if len(preprocessed_sentence.split()) > 15: continue\n",
    "    corpus.append(preprocessed_sentence)\n",
    "\n"
   ]
  },
  {
   "cell_type": "code",
   "execution_count": null,
   "id": "2c09b91d",
   "metadata": {
    "collapsed": true
   },
   "outputs": [],
   "source": [
    "# check if sentence over 15 tokens\n",
    "list(map(lambda x: len(x.split()),corpus))"
   ]
  },
  {
   "cell_type": "markdown",
   "id": "cf21080d",
   "metadata": {},
   "source": [
    "## Tokenizing, Corpus"
   ]
  },
  {
   "cell_type": "code",
   "execution_count": 5,
   "id": "3e89400d",
   "metadata": {},
   "outputs": [
    {
     "name": "stdout",
     "output_type": "stream",
     "text": [
      "[[   2   50    4 ...    0    0    0]\n",
      " [   2   15 2971 ...    0    0    0]\n",
      " [   2   33    7 ...   46    3    0]\n",
      " ...\n",
      " [   2    4  117 ...    0    0    0]\n",
      " [   2  258  195 ...   12    3    0]\n",
      " [   2    7   34 ...    0    0    0]] <keras_preprocessing.text.Tokenizer object at 0x7fde40853be0>\n"
     ]
    }
   ],
   "source": [
    "\n",
    "def tokenize(corpus):\n",
    "    # 28000단어를 기억할 수 있는 tokenizer를 만들겁니다\n",
    "    # 우리는 이미 문장을 정제했으니 filters가 필요없어요\n",
    "    # 28000단어에 포함되지 못한 단어는 '<unk>'로 바꿀거에요\n",
    "    tokenizer = tf.keras.preprocessing.text.Tokenizer(\n",
    "        num_words=28000, \n",
    "        filters=' ',\n",
    "        oov_token=\"<unk>\"\n",
    "    )\n",
    "    # corpus를 이용해 tokenizer 내부의 단어장을 완성합니다\n",
    "    tokenizer.fit_on_texts(corpus)\n",
    "    # 준비한 tokenizer를 이용해 corpus를 Tensor로 변환합니다\n",
    "    tensor = tokenizer.texts_to_sequences(corpus)   \n",
    "    # 입력 데이터의 시퀀스 길이를 일정하게 맞춰줍니다\n",
    "    # 만약 시퀀스가 짧다면 문장 뒤에 패딩을 붙여 길이를 맞춰줍니다.\n",
    "    # 문장 앞에 패딩을 붙여 길이를 맞추고 싶다면 padding='pre'를 사용합니다\n",
    "    tensor = tf.keras.preprocessing.sequence.pad_sequences(tensor, padding='post')  \n",
    "    \n",
    "    print(tensor,tokenizer)\n",
    "    return tensor, tokenizer\n",
    "\n",
    "tensor, tokenizer = tokenize(corpus)"
   ]
  },
  {
   "cell_type": "code",
   "execution_count": 6,
   "id": "410131ad",
   "metadata": {},
   "outputs": [
    {
     "data": {
      "text/plain": [
       "(156227, 15)"
      ]
     },
     "execution_count": 6,
     "metadata": {},
     "output_type": "execute_result"
    }
   ],
   "source": [
    "tensor.shape"
   ]
  },
  {
   "cell_type": "code",
   "execution_count": 7,
   "id": "48cdeb7e",
   "metadata": {},
   "outputs": [
    {
     "name": "stdout",
     "output_type": "stream",
     "text": [
      "1 : <unk>\n",
      "2 : <start>\n",
      "3 : <end>\n",
      "4 : i\n",
      "5 : ,\n",
      "6 : the\n",
      "7 : you\n",
      "8 : and\n",
      "9 : a\n",
      "10 : to\n",
      "[   2   50    4   95  303   62   53    9  946 6269    3    0    0    0]\n",
      "[  50    4   95  303   62   53    9  946 6269    3    0    0    0    0]\n"
     ]
    }
   ],
   "source": [
    "# Target sentence create\n",
    "for idx in tokenizer.index_word:\n",
    "    print(idx, \":\", tokenizer.index_word[idx])\n",
    "    \n",
    "    if idx >= 10: break\n",
    "# tensor에서 마지막 토큰을 잘라내서 소스 문장을 생성합니다\n",
    "# 마지막 토큰은 <end>가 아니라 <pad>일 가능성이 높습니다.\n",
    "src_input = tensor[:, :-1]  \n",
    "# tensor에서 <start>를 잘라내서 타겟 문장을 생성합니다.\n",
    "tgt_input = tensor[:, 1:]    \n",
    "\n",
    "print(src_input[0])\n",
    "print(tgt_input[0])"
   ]
  },
  {
   "cell_type": "code",
   "execution_count": 77,
   "id": "bef021cb",
   "metadata": {},
   "outputs": [
    {
     "data": {
      "text/plain": [
       "array([[  50,    4,   95, ...,    0,    0,    0],\n",
       "       [  15, 2971,  872, ...,    0,    0,    0],\n",
       "       [  33,    7,   40, ...,   46,    3,    0],\n",
       "       ...,\n",
       "       [   4,  117,  678, ...,    0,    0,    0],\n",
       "       [ 258,  195,    5, ...,   12,    3,    0],\n",
       "       [   7,   34,    5, ...,    0,    0,    0]], dtype=int32)"
      ]
     },
     "execution_count": 77,
     "metadata": {},
     "output_type": "execute_result"
    }
   ],
   "source": [
    "tensor[:,1:]"
   ]
  },
  {
   "cell_type": "markdown",
   "id": "1df1909b",
   "metadata": {},
   "source": [
    "## Split Train Test"
   ]
  },
  {
   "cell_type": "code",
   "execution_count": 18,
   "id": "42c824cb",
   "metadata": {},
   "outputs": [
    {
     "name": "stdout",
     "output_type": "stream",
     "text": [
      "[   2   50    4   95  303   62   53    9  946 6269    3    0    0    0]\n",
      "[  50    4   95  303   62   53    9  946 6269    3    0    0    0    0]\n"
     ]
    }
   ],
   "source": [
    "# tensor에서 마지막 토큰을 잘라내서 소스 문장을 생성합니다\n",
    "# 마지막 토큰은 <end>가 아니라 <pad>일 가능성이 높습니다.\n",
    "src_input = tensor[:, :-1]  \n",
    "# tensor에서 <start>를 잘라내서 타겟 문장을 생성합니다.\n",
    "tgt_input = tensor[:, 1:]    \n",
    "\n",
    "print(src_input[0])\n",
    "print(tgt_input[0])"
   ]
  },
  {
   "cell_type": "code",
   "execution_count": 19,
   "id": "1723eb44",
   "metadata": {},
   "outputs": [],
   "source": [
    "from sklearn.model_selection import train_test_split\n",
    "enc_train, enc_val, dec_train, dec_val = train_test_split(\n",
    "    src_input,\n",
    "    tgt_input,\n",
    "    test_size=0.2,\n",
    "    random_state=42,\n",
    ")"
   ]
  },
  {
   "cell_type": "code",
   "execution_count": 20,
   "id": "9ab6fdc8",
   "metadata": {},
   "outputs": [
    {
     "name": "stdout",
     "output_type": "stream",
     "text": [
      "Source Train: (124981, 14)\n",
      "Target Train: (124981, 14)\n"
     ]
    }
   ],
   "source": [
    "print(\"Source Train:\", enc_train.shape)\n",
    "print(\"Target Train:\", dec_train.shape)"
   ]
  },
  {
   "cell_type": "markdown",
   "id": "13399435",
   "metadata": {},
   "source": [
    "## Create Data Batch"
   ]
  },
  {
   "cell_type": "code",
   "execution_count": 21,
   "id": "0c11affc",
   "metadata": {},
   "outputs": [],
   "source": [
    "# Create Tensorflow Dataset\n",
    "BUFFER_SIZE = len(enc_train)\n",
    "BATCH_SIZE = 256\n",
    "steps_per_epoch = len(enc_train) // BATCH_SIZE\n",
    "# tokenizer가 구축한 단어사전 내 7000개와, 여기 포함되지 않은 0:<pad>를 포함하여 7001개\n",
    "VOCAB_SIZE = tokenizer.num_words + 1\n",
    "\n",
    "dataset = tf.data.Dataset.from_tensor_slices((enc_train, dec_train))\n",
    "dataset = dataset.shuffle(BUFFER_SIZE)\n",
    "dataset = dataset.batch(BATCH_SIZE, drop_remainder=True)"
   ]
  },
  {
   "cell_type": "markdown",
   "id": "85c0906b",
   "metadata": {},
   "source": [
    "## Define Model"
   ]
  },
  {
   "cell_type": "code",
   "execution_count": 40,
   "id": "2fd0be5b",
   "metadata": {},
   "outputs": [],
   "source": [
    "# Model\n",
    "class TextGenerator(tf.keras.Model):\n",
    "    def __init__(self, vocab_size, embedding_size, hidden_size):\n",
    "        super().__init__()\n",
    "        \n",
    "        self.embedding = tf.keras.layers.Embedding(vocab_size, embedding_size)\n",
    "        self.rnn_1 = tf.keras.layers.LSTM(hidden_size, return_sequences=True)\n",
    "        self.rnn_2 = tf.keras.layers.LSTM(hidden_size, return_sequences=True)\n",
    "        self.linear = tf.keras.layers.Dense(vocab_size)\n",
    "    \n",
    "    def call(self, x):\n",
    "        out = self.embedding(x)\n",
    "        out = self.rnn_1(out)\n",
    "        out = self.rnn_2(out)\n",
    "        out = self.linear(out)\n",
    "        \n",
    "        return out\n",
    "    \n",
    "embedding_size = 256\n",
    "hidden_size = 2048\n",
    "model = TextGenerator(tokenizer.num_words + 1, embedding_size, hidden_size)"
   ]
  },
  {
   "cell_type": "markdown",
   "id": "f90dbaf1",
   "metadata": {},
   "source": [
    "## Model Train"
   ]
  },
  {
   "cell_type": "code",
   "execution_count": 41,
   "id": "2d617a60",
   "metadata": {},
   "outputs": [],
   "source": [
    "import time"
   ]
  },
  {
   "cell_type": "code",
   "execution_count": 45,
   "id": "015ca924",
   "metadata": {},
   "outputs": [
    {
     "name": "stdout",
     "output_type": "stream",
     "text": [
      "Epoch 1/10\n",
      "488/488 [==============================] - 352s 683ms/step - loss: 3.5887\n",
      "Epoch 2/10\n",
      "488/488 [==============================] - 337s 691ms/step - loss: 3.0746\n",
      "Epoch 3/10\n",
      "488/488 [==============================] - 339s 694ms/step - loss: 2.8686\n",
      "Epoch 4/10\n",
      "488/488 [==============================] - 339s 694ms/step - loss: 2.7050\n",
      "Epoch 5/10\n",
      "488/488 [==============================] - 339s 694ms/step - loss: 2.5594\n",
      "Epoch 6/10\n",
      "488/488 [==============================] - 339s 694ms/step - loss: 2.4248\n",
      "Epoch 7/10\n",
      "488/488 [==============================] - 339s 695ms/step - loss: 2.3002\n",
      "Epoch 8/10\n",
      "488/488 [==============================] - 338s 692ms/step - loss: 2.1836\n",
      "Epoch 9/10\n",
      "488/488 [==============================] - 338s 692ms/step - loss: 2.0740\n",
      "Epoch 10/10\n",
      "488/488 [==============================] - 338s 693ms/step - loss: 1.9703\n",
      "3398.096091032028\n"
     ]
    }
   ],
   "source": [
    "start_time = time.time()\n",
    "optimizer = tf.keras.optimizers.Adam()\n",
    "loss = tf.keras.losses.SparseCategoricalCrossentropy(\n",
    "    from_logits=True,\n",
    "    reduction='none',\n",
    ")\n",
    "\n",
    "model.compile(loss=loss, optimizer=optimizer)\n",
    "model.fit(dataset, epochs=10)\n",
    "print(time.time() - start_time)"
   ]
  },
  {
   "cell_type": "markdown",
   "id": "ac97d9fe",
   "metadata": {},
   "source": [
    "## Lyric Generator"
   ]
  },
  {
   "cell_type": "code",
   "execution_count": 46,
   "id": "09d22630",
   "metadata": {},
   "outputs": [],
   "source": [
    "def generate_text(model, tokenizer, init_sentence=\"<start>\", max_len=20):\n",
    "    # 테스트를 위해서 입력받은 init_sentence도 텐서로 변환합니다\n",
    "    test_input = tokenizer.texts_to_sequences([init_sentence])\n",
    "    test_tensor = tf.convert_to_tensor(test_input, dtype=tf.int64)\n",
    "    end_token = tokenizer.word_index[\"<end>\"]\n",
    "\n",
    "    # 단어 하나씩 예측해 문장을 만듭니다\n",
    "    #    1. 입력받은 문장의 텐서를 입력합니다\n",
    "    #    2. 예측된 값 중 가장 높은 확률인 word index를 뽑아냅니다\n",
    "    #    3. 2에서 예측된 word index를 문장 뒤에 붙입니다\n",
    "    #    4. 모델이 <end>를 예측했거나, max_len에 도달했다면 문장 생성을 마칩니다\n",
    "    while True:\n",
    "        # 1\n",
    "        predict = model(test_tensor) \n",
    "        # 2\n",
    "        predict_word = tf.argmax(tf.nn.softmax(predict, axis=-1), axis=-1)[:, -1] \n",
    "        # 3 \n",
    "        test_tensor = tf.concat([test_tensor, tf.expand_dims(predict_word, axis=0)], axis=-1)\n",
    "        # 4\n",
    "        if predict_word.numpy()[0] == end_token: break\n",
    "        if test_tensor.shape[1] >= max_len: break\n",
    "\n",
    "    generated = \"\"\n",
    "    # tokenizer를 이용해 word index를 단어로 하나씩 변환합니다 \n",
    "    for word_index in test_tensor[0].numpy():\n",
    "        generated += tokenizer.index_word[word_index] + \" \"\n",
    "\n",
    "    return generated"
   ]
  },
  {
   "cell_type": "code",
   "execution_count": 49,
   "id": "745dfdcb",
   "metadata": {},
   "outputs": [
    {
     "data": {
      "text/plain": [
       "'<start> man in the mirror , let me see you dance <end> '"
      ]
     },
     "execution_count": 49,
     "metadata": {},
     "output_type": "execute_result"
    }
   ],
   "source": [
    "start_lyric=\"\"\"<start> man in the mirror\"\"\"\n",
    "generate_text(model, tokenizer, init_sentence=start_lyric, max_len=20)"
   ]
  },
  {
   "cell_type": "code",
   "execution_count": null,
   "id": "78f38794",
   "metadata": {},
   "outputs": [],
   "source": []
  }
 ],
 "metadata": {
  "kernelspec": {
   "display_name": "Python 3 (ipykernel)",
   "language": "python",
   "name": "python3"
  },
  "language_info": {
   "codemirror_mode": {
    "name": "ipython",
    "version": 3
   },
   "file_extension": ".py",
   "mimetype": "text/x-python",
   "name": "python",
   "nbconvert_exporter": "python",
   "pygments_lexer": "ipython3",
   "version": "3.9.7"
  }
 },
 "nbformat": 4,
 "nbformat_minor": 5
}
