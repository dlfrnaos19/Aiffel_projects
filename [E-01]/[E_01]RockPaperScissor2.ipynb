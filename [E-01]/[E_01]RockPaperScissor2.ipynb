{
  "nbformat": 4,
  "nbformat_minor": 0,
  "metadata": {
    "colab": {
      "name": "[E-01]RockPaperScissor2.ipynb",
      "private_outputs": true,
      "provenance": [],
      "authorship_tag": "ABX9TyPzfWS33MTAgZFz99d4I/BN",
      "include_colab_link": true
    },
    "kernelspec": {
      "name": "python3",
      "display_name": "Python 3"
    },
    "language_info": {
      "name": "python"
    }
  },
  "cells": [
    {
      "cell_type": "markdown",
      "metadata": {
        "id": "view-in-github",
        "colab_type": "text"
      },
      "source": [
        "<a href=\"https://colab.research.google.com/github/dlfrnaos19/rock_scissors_paper_classifier/blob/main/%5BE_01%5DRockPaperScissor2.ipynb\" target=\"_parent\"><img src=\"https://colab.research.google.com/assets/colab-badge.svg\" alt=\"Open In Colab\"/></a>"
      ]
    },
    {
      "cell_type": "code",
      "source": [
        "from sklearn.model_selection import train_test_split\n",
        "import numpy as np\n",
        "import glob\n",
        "from PIL import Image\n",
        "import tensorflow as tf\n",
        "import matplotlib.pyplot as plt\n"
      ],
      "metadata": {
        "id": "YBc8UpvFTcfg"
      },
      "execution_count": null,
      "outputs": []
    },
    {
      "cell_type": "code",
      "source": [
        "def resize_images(img_path):\n",
        "    images = glob.glob(img_path + \"/*.jpg\")\n",
        "    target_size = (28,28)\n",
        "    for img in images:\n",
        "        old = Image.open(img)\n",
        "        new = old.resize(target_size, Image.ANTIALIAS)\n",
        "        new.save(img,\"jpeg\")\n",
        "    \n",
        "    print(len(images), \" Images resized.\")\n"
      ],
      "metadata": {
        "id": "GaKdVIDoW9Qn"
      },
      "execution_count": null,
      "outputs": []
    },
    {
      "cell_type": "code",
      "source": [
        "resize_images(img_path+'scissors/')\n",
        "resize_images(img_path+'rock/')\n",
        "resize_images(img_path+'paper/')"
      ],
      "metadata": {
        "id": "bFWE-eh0XGsk"
      },
      "execution_count": null,
      "outputs": []
    },
    {
      "cell_type": "code",
      "source": [
        "num_data = len(os.listdir('/content/rock/') + os.listdir('/content/scissors/') + os.listdir('/content/paper'))\n",
        "def load_data(img_path, number_of_data):\n",
        "    #가위 : 0, 바위 : 1, 보 : 2\n",
        "    img_size = 28\n",
        "    color = 3\n",
        "    imgs = np.zeros(number_of_data * img_size * img_size * color, dtype=np.int32).reshape(number_of_data, img_size,img_size,color)\n",
        "    labels = np.zeros(number_of_data, dtype=np.int32)\n",
        "\n",
        "    idx = 0\n",
        "    for file in glob.iglob(img_path+'scissors/*.jpg'):\n",
        "        img = np.array(Image.open(file),dtype=np.int32)\n",
        "        imgs[idx,:,:,:]=img # 데이터 영역에 이미지 복사\n",
        "        labels[idx]=0 #가위 : 0\n",
        "        idx = idx + 1\n",
        "    \n",
        "    for file in glob.iglob(img_path+'rock/*.jpg'):\n",
        "        img = np.array(Image.open(file),dtype=np.int32)\n",
        "        imgs[idx,:,:,:]=img # 데이터 영역에 이미지 복사\n",
        "        labels[idx]=1 #바위 : 1\n",
        "        idx = idx + 1\n",
        "    \n",
        "    for file in glob.iglob(img_path+'paper/*.jpg'):\n",
        "        img = np.array(Image.open(file),dtype=np.int32)\n",
        "        imgs[idx,:,:,:]=img # 데이터 영역에 이미지 복사\n",
        "        labels[idx]=2 #보 : 2\n",
        "        idx = idx + 1\n",
        "    \n",
        "    return imgs, labels\n",
        "\n",
        "img_path = '/content/'\n",
        "    \n"
      ],
      "metadata": {
        "id": "UyWcMUceUl3t"
      },
      "execution_count": null,
      "outputs": []
    },
    {
      "cell_type": "code",
      "source": [
        "images, labels = load_data(img_path, num_data)"
      ],
      "metadata": {
        "id": "yBzUR5XqUuln"
      },
      "execution_count": null,
      "outputs": []
    },
    {
      "cell_type": "code",
      "source": [
        "normed_images = images / 255"
      ],
      "metadata": {
        "id": "kVaroMrvZ9a1"
      },
      "execution_count": null,
      "outputs": []
    },
    {
      "cell_type": "code",
      "source": [
        "X_train, X_test, y_train, y_test = train_test_split(normed_images, labels,test_size=0.2,random_state=42 )"
      ],
      "metadata": {
        "id": "p5UX2zd-WsJT"
      },
      "execution_count": null,
      "outputs": []
    },
    {
      "cell_type": "code",
      "source": [
        "# define sequence\n",
        "model = tf.keras.models.Sequential()\n",
        "model.add(tf.keras.layers.Conv2D(16, (3,3),activation='relu', input_shape=(28,28,3))) # 16\n",
        "model.add(tf.keras.layers.MaxPool2D(2,2))\n",
        "model.add(tf.keras.layers.Conv2D(32,(3,3), activation='relu')) # 32\n",
        "model.add(tf.keras.layers.MaxPooling2D((2,2)))\n",
        "model.add(tf.keras.layers.Flatten())\n",
        "model.add(tf.keras.layers.Dense(32, activation='relu')) # 32\n",
        "model.add(tf.keras.layers.Dense(3, activation='softmax'))\n"
      ],
      "metadata": {
        "id": "f1NDHE4HYxTJ"
      },
      "execution_count": null,
      "outputs": []
    },
    {
      "cell_type": "code",
      "source": [
        "from tensorflow.keras.utils import plot_model\n",
        "plot_model(model, to_file='model.png')\n",
        "plot_model(model, to_file='model_shapes.png', show_shapes=True)"
      ],
      "metadata": {
        "id": "3jsONRkHdUa1"
      },
      "execution_count": null,
      "outputs": []
    },
    {
      "cell_type": "code",
      "source": [
        "model.compile(optimizer='adam', loss='sparse_categorical_crossentropy',metrics=['accuracy'])"
      ],
      "metadata": {
        "id": "1MrH4TkXaLwe"
      },
      "execution_count": null,
      "outputs": []
    },
    {
      "cell_type": "code",
      "source": [
        "history = model.fit(X_train, y_train, epochs=15)"
      ],
      "metadata": {
        "id": "o5tkSNeKaSwX"
      },
      "execution_count": null,
      "outputs": []
    },
    {
      "cell_type": "code",
      "source": [
        "test_loss, test_acc = model.evaluate(X_test, y_test, verbose=2)"
      ],
      "metadata": {
        "id": "otqUvpr4aTxn"
      },
      "execution_count": null,
      "outputs": []
    },
    {
      "cell_type": "code",
      "source": [
        "predictions = model.predict(X_test)"
      ],
      "metadata": {
        "id": "XNiIykR2aUrX"
      },
      "execution_count": null,
      "outputs": []
    },
    {
      "cell_type": "code",
      "source": [
        "predicted_labels = np.argmax(predictions, axis=1)"
      ],
      "metadata": {
        "id": "-mmPPtxIaWyU"
      },
      "execution_count": null,
      "outputs": []
    },
    {
      "cell_type": "code",
      "source": [
        "# get wrong prediction list\n",
        "import random\n",
        "wrong_predict_list = []\n",
        "for i, _ in enumerate(predicted_labels):\n",
        "    \n",
        "    if predicted_labels[i] != y_test[i]:\n",
        "        wrong_predict_list.append(i)"
      ],
      "metadata": {
        "id": "r6ZZ5jLsaali"
      },
      "execution_count": null,
      "outputs": []
    },
    {
      "cell_type": "code",
      "source": [
        ""
      ],
      "metadata": {
        "id": "u5fF6_j5cbic"
      },
      "execution_count": null,
      "outputs": []
    },
    {
      "cell_type": "code",
      "source": [
        "# is prediction, label match\n",
        "idx = 100\n",
        "print(predictions[idx])\n",
        "print(predicted_labels[idx])\n",
        "print(y_test[idx])\n",
        "plt.imshow(X_test[idx])"
      ],
      "metadata": {
        "id": "MzZaufricPEq"
      },
      "execution_count": null,
      "outputs": []
    },
    {
      "cell_type": "code",
      "source": [
        "samples = random.choices(population=wrong_predict_list, k=5)"
      ],
      "metadata": {
        "id": "iSSdxb67ablM"
      },
      "execution_count": null,
      "outputs": []
    },
    {
      "cell_type": "code",
      "source": [
        "for n in samples:\n",
        "    print(\"예측확률분포: \", str(predictions[n]))\n",
        "    print(\"라벨 \", str(y_test[n]),\" 예측결과: \", str(predicted_labels[n]))\n",
        "    plt.imshow(X_test[n], cmap=plt.cm.binary)\n",
        "    plt.show()"
      ],
      "metadata": {
        "id": "ecq2E2Tyac3Y"
      },
      "execution_count": null,
      "outputs": []
    }
  ]
}