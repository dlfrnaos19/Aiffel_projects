{
  "nbformat": 4,
  "nbformat_minor": 0,
  "metadata": {
    "colab": {
      "name": "[E-8]TextSummarization.ipynb",
      "provenance": []
    },
    "kernelspec": {
      "name": "python3",
      "display_name": "Python 3"
    },
    "language_info": {
      "name": "python"
    },
    "accelerator": "GPU"
  },
  "cells": [
    {
      "cell_type": "markdown",
      "source": [
        "# 문서 요약 예제"
      ],
      "metadata": {
        "id": "PWRDx9DjUreg"
      }
    },
    {
      "cell_type": "code",
      "execution_count": 1,
      "metadata": {
        "colab": {
          "base_uri": "https://localhost:8080/"
        },
        "id": "uIUTgxIURmwN",
        "outputId": "f36f1fd7-04ee-4ac3-922c-07d4e94aa4e4"
      },
      "outputs": [
        {
          "output_type": "stream",
          "name": "stdout",
          "text": [
            "[nltk_data] Downloading package stopwords to /root/nltk_data...\n",
            "[nltk_data]   Unzipping corpora/stopwords.zip.\n"
          ]
        }
      ],
      "source": [
        "import nltk\n",
        "nltk.download('stopwords')\n",
        "\n",
        "import numpy as np\n",
        "import pandas as pd\n",
        "import os, re\n",
        "import matplotlib.pyplot as plt\n",
        "from nltk.corpus import stopwords\n",
        "from bs4 import BeautifulSoup\n",
        "import tensorflow.keras as keras\n",
        "from keras.preprocessing.text import Tokenizer\n",
        "from keras.preprocessing.sequence import pad_sequences\n",
        "import urllib.request\n",
        "import requests\n",
        "import warnings\n",
        "warnings.filterwarnings(\"ignore\", category=UserWarning, module='bs4')"
      ]
    },
    {
      "cell_type": "code",
      "source": [
        "data = pd.read_csv(\"/content/drive/MyDrive/colab/Reviews.csv\", nrows=100000)\n",
        "print(\"전체 샘플 :\", len(data))"
      ],
      "metadata": {
        "colab": {
          "base_uri": "https://localhost:8080/"
        },
        "id": "Ow5kBqKYRuOh",
        "outputId": "3bab1546-8f81-4126-d48e-5733a5dce0e2"
      },
      "execution_count": 2,
      "outputs": [
        {
          "output_type": "stream",
          "name": "stdout",
          "text": [
            "전체 샘플 : 100000\n"
          ]
        }
      ]
    },
    {
      "cell_type": "code",
      "source": [
        "data.head()"
      ],
      "metadata": {
        "colab": {
          "base_uri": "https://localhost:8080/",
          "height": 722
        },
        "id": "-pQCmijjRvXg",
        "outputId": "3b5c9fbf-07d8-4d45-92b7-66edc36910ef"
      },
      "execution_count": 3,
      "outputs": [
        {
          "output_type": "execute_result",
          "data": {
            "text/html": [
              "\n",
              "  <div id=\"df-e4045c6b-5b34-464f-a8f3-71f01296f298\">\n",
              "    <div class=\"colab-df-container\">\n",
              "      <div>\n",
              "<style scoped>\n",
              "    .dataframe tbody tr th:only-of-type {\n",
              "        vertical-align: middle;\n",
              "    }\n",
              "\n",
              "    .dataframe tbody tr th {\n",
              "        vertical-align: top;\n",
              "    }\n",
              "\n",
              "    .dataframe thead th {\n",
              "        text-align: right;\n",
              "    }\n",
              "</style>\n",
              "<table border=\"1\" class=\"dataframe\">\n",
              "  <thead>\n",
              "    <tr style=\"text-align: right;\">\n",
              "      <th></th>\n",
              "      <th>Id</th>\n",
              "      <th>ProductId</th>\n",
              "      <th>UserId</th>\n",
              "      <th>ProfileName</th>\n",
              "      <th>HelpfulnessNumerator</th>\n",
              "      <th>HelpfulnessDenominator</th>\n",
              "      <th>Score</th>\n",
              "      <th>Time</th>\n",
              "      <th>Summary</th>\n",
              "      <th>Text</th>\n",
              "    </tr>\n",
              "  </thead>\n",
              "  <tbody>\n",
              "    <tr>\n",
              "      <th>0</th>\n",
              "      <td>1</td>\n",
              "      <td>B001E4KFG0</td>\n",
              "      <td>A3SGXH7AUHU8GW</td>\n",
              "      <td>delmartian</td>\n",
              "      <td>1</td>\n",
              "      <td>1</td>\n",
              "      <td>5</td>\n",
              "      <td>1303862400</td>\n",
              "      <td>Good Quality Dog Food</td>\n",
              "      <td>I have bought several of the Vitality canned d...</td>\n",
              "    </tr>\n",
              "    <tr>\n",
              "      <th>1</th>\n",
              "      <td>2</td>\n",
              "      <td>B00813GRG4</td>\n",
              "      <td>A1D87F6ZCVE5NK</td>\n",
              "      <td>dll pa</td>\n",
              "      <td>0</td>\n",
              "      <td>0</td>\n",
              "      <td>1</td>\n",
              "      <td>1346976000</td>\n",
              "      <td>Not as Advertised</td>\n",
              "      <td>Product arrived labeled as Jumbo Salted Peanut...</td>\n",
              "    </tr>\n",
              "    <tr>\n",
              "      <th>2</th>\n",
              "      <td>3</td>\n",
              "      <td>B000LQOCH0</td>\n",
              "      <td>ABXLMWJIXXAIN</td>\n",
              "      <td>Natalia Corres \"Natalia Corres\"</td>\n",
              "      <td>1</td>\n",
              "      <td>1</td>\n",
              "      <td>4</td>\n",
              "      <td>1219017600</td>\n",
              "      <td>\"Delight\" says it all</td>\n",
              "      <td>This is a confection that has been around a fe...</td>\n",
              "    </tr>\n",
              "    <tr>\n",
              "      <th>3</th>\n",
              "      <td>4</td>\n",
              "      <td>B000UA0QIQ</td>\n",
              "      <td>A395BORC6FGVXV</td>\n",
              "      <td>Karl</td>\n",
              "      <td>3</td>\n",
              "      <td>3</td>\n",
              "      <td>2</td>\n",
              "      <td>1307923200</td>\n",
              "      <td>Cough Medicine</td>\n",
              "      <td>If you are looking for the secret ingredient i...</td>\n",
              "    </tr>\n",
              "    <tr>\n",
              "      <th>4</th>\n",
              "      <td>5</td>\n",
              "      <td>B006K2ZZ7K</td>\n",
              "      <td>A1UQRSCLF8GW1T</td>\n",
              "      <td>Michael D. Bigham \"M. Wassir\"</td>\n",
              "      <td>0</td>\n",
              "      <td>0</td>\n",
              "      <td>5</td>\n",
              "      <td>1350777600</td>\n",
              "      <td>Great taffy</td>\n",
              "      <td>Great taffy at a great price.  There was a wid...</td>\n",
              "    </tr>\n",
              "  </tbody>\n",
              "</table>\n",
              "</div>\n",
              "      <button class=\"colab-df-convert\" onclick=\"convertToInteractive('df-e4045c6b-5b34-464f-a8f3-71f01296f298')\"\n",
              "              title=\"Convert this dataframe to an interactive table.\"\n",
              "              style=\"display:none;\">\n",
              "        \n",
              "  <svg xmlns=\"http://www.w3.org/2000/svg\" height=\"24px\"viewBox=\"0 0 24 24\"\n",
              "       width=\"24px\">\n",
              "    <path d=\"M0 0h24v24H0V0z\" fill=\"none\"/>\n",
              "    <path d=\"M18.56 5.44l.94 2.06.94-2.06 2.06-.94-2.06-.94-.94-2.06-.94 2.06-2.06.94zm-11 1L8.5 8.5l.94-2.06 2.06-.94-2.06-.94L8.5 2.5l-.94 2.06-2.06.94zm10 10l.94 2.06.94-2.06 2.06-.94-2.06-.94-.94-2.06-.94 2.06-2.06.94z\"/><path d=\"M17.41 7.96l-1.37-1.37c-.4-.4-.92-.59-1.43-.59-.52 0-1.04.2-1.43.59L10.3 9.45l-7.72 7.72c-.78.78-.78 2.05 0 2.83L4 21.41c.39.39.9.59 1.41.59.51 0 1.02-.2 1.41-.59l7.78-7.78 2.81-2.81c.8-.78.8-2.07 0-2.86zM5.41 20L4 18.59l7.72-7.72 1.47 1.35L5.41 20z\"/>\n",
              "  </svg>\n",
              "      </button>\n",
              "      \n",
              "  <style>\n",
              "    .colab-df-container {\n",
              "      display:flex;\n",
              "      flex-wrap:wrap;\n",
              "      gap: 12px;\n",
              "    }\n",
              "\n",
              "    .colab-df-convert {\n",
              "      background-color: #E8F0FE;\n",
              "      border: none;\n",
              "      border-radius: 50%;\n",
              "      cursor: pointer;\n",
              "      display: none;\n",
              "      fill: #1967D2;\n",
              "      height: 32px;\n",
              "      padding: 0 0 0 0;\n",
              "      width: 32px;\n",
              "    }\n",
              "\n",
              "    .colab-df-convert:hover {\n",
              "      background-color: #E2EBFA;\n",
              "      box-shadow: 0px 1px 2px rgba(60, 64, 67, 0.3), 0px 1px 3px 1px rgba(60, 64, 67, 0.15);\n",
              "      fill: #174EA6;\n",
              "    }\n",
              "\n",
              "    [theme=dark] .colab-df-convert {\n",
              "      background-color: #3B4455;\n",
              "      fill: #D2E3FC;\n",
              "    }\n",
              "\n",
              "    [theme=dark] .colab-df-convert:hover {\n",
              "      background-color: #434B5C;\n",
              "      box-shadow: 0px 1px 3px 1px rgba(0, 0, 0, 0.15);\n",
              "      filter: drop-shadow(0px 1px 2px rgba(0, 0, 0, 0.3));\n",
              "      fill: #FFFFFF;\n",
              "    }\n",
              "  </style>\n",
              "\n",
              "      <script>\n",
              "        const buttonEl =\n",
              "          document.querySelector('#df-e4045c6b-5b34-464f-a8f3-71f01296f298 button.colab-df-convert');\n",
              "        buttonEl.style.display =\n",
              "          google.colab.kernel.accessAllowed ? 'block' : 'none';\n",
              "\n",
              "        async function convertToInteractive(key) {\n",
              "          const element = document.querySelector('#df-e4045c6b-5b34-464f-a8f3-71f01296f298');\n",
              "          const dataTable =\n",
              "            await google.colab.kernel.invokeFunction('convertToInteractive',\n",
              "                                                     [key], {});\n",
              "          if (!dataTable) return;\n",
              "\n",
              "          const docLinkHtml = 'Like what you see? Visit the ' +\n",
              "            '<a target=\"_blank\" href=https://colab.research.google.com/notebooks/data_table.ipynb>data table notebook</a>'\n",
              "            + ' to learn more about interactive tables.';\n",
              "          element.innerHTML = '';\n",
              "          dataTable['output_type'] = 'display_data';\n",
              "          await google.colab.output.renderOutput(dataTable, element);\n",
              "          const docLink = document.createElement('div');\n",
              "          docLink.innerHTML = docLinkHtml;\n",
              "          element.appendChild(docLink);\n",
              "        }\n",
              "      </script>\n",
              "    </div>\n",
              "  </div>\n",
              "  "
            ],
            "text/plain": [
              "   Id  ...                                               Text\n",
              "0   1  ...  I have bought several of the Vitality canned d...\n",
              "1   2  ...  Product arrived labeled as Jumbo Salted Peanut...\n",
              "2   3  ...  This is a confection that has been around a fe...\n",
              "3   4  ...  If you are looking for the secret ingredient i...\n",
              "4   5  ...  Great taffy at a great price.  There was a wid...\n",
              "\n",
              "[5 rows x 10 columns]"
            ]
          },
          "metadata": {},
          "execution_count": 3
        }
      ]
    },
    {
      "cell_type": "code",
      "source": [
        "data = data[[\"Text\",\"Summary\"]]\n",
        "data.sample(15)"
      ],
      "metadata": {
        "colab": {
          "base_uri": "https://localhost:8080/",
          "height": 564
        },
        "id": "3hB0lEAMRw8Y",
        "outputId": "0d646b41-841a-467f-ab58-07aaa64cfe70"
      },
      "execution_count": 4,
      "outputs": [
        {
          "output_type": "execute_result",
          "data": {
            "text/html": [
              "\n",
              "  <div id=\"df-a6b75211-d1b0-4fd1-ba5c-d77bb63dbe3d\">\n",
              "    <div class=\"colab-df-container\">\n",
              "      <div>\n",
              "<style scoped>\n",
              "    .dataframe tbody tr th:only-of-type {\n",
              "        vertical-align: middle;\n",
              "    }\n",
              "\n",
              "    .dataframe tbody tr th {\n",
              "        vertical-align: top;\n",
              "    }\n",
              "\n",
              "    .dataframe thead th {\n",
              "        text-align: right;\n",
              "    }\n",
              "</style>\n",
              "<table border=\"1\" class=\"dataframe\">\n",
              "  <thead>\n",
              "    <tr style=\"text-align: right;\">\n",
              "      <th></th>\n",
              "      <th>Text</th>\n",
              "      <th>Summary</th>\n",
              "    </tr>\n",
              "  </thead>\n",
              "  <tbody>\n",
              "    <tr>\n",
              "      <th>9837</th>\n",
              "      <td>Love the cinnamon taste but way too sweet. I g...</td>\n",
              "      <td>Cinnamon</td>\n",
              "    </tr>\n",
              "    <tr>\n",
              "      <th>22147</th>\n",
              "      <td>We have a lab who is a TOUGH chewer...this las...</td>\n",
              "      <td>NOT for tough chewers!!!</td>\n",
              "    </tr>\n",
              "    <tr>\n",
              "      <th>94993</th>\n",
              "      <td>This tea definitely works. I have frequent pro...</td>\n",
              "      <td>Just what i needed</td>\n",
              "    </tr>\n",
              "    <tr>\n",
              "      <th>82976</th>\n",
              "      <td>I love the fact that it does not come in a pla...</td>\n",
              "      <td>Great flavor</td>\n",
              "    </tr>\n",
              "    <tr>\n",
              "      <th>67851</th>\n",
              "      <td>after opening numerous bags I found that none ...</td>\n",
              "      <td>completely ripped off</td>\n",
              "    </tr>\n",
              "    <tr>\n",
              "      <th>16396</th>\n",
              "      <td>My favorite to use in my Keurig. The Breakfast...</td>\n",
              "      <td>Wonderfully delicious!</td>\n",
              "    </tr>\n",
              "    <tr>\n",
              "      <th>16705</th>\n",
              "      <td>I like the sparking refreshing taste of Kiwi i...</td>\n",
              "      <td>Cool refreshing Kiwi taste</td>\n",
              "    </tr>\n",
              "    <tr>\n",
              "      <th>50513</th>\n",
              "      <td>These are very top of the line in quality and ...</td>\n",
              "      <td>Good Lemon Drops</td>\n",
              "    </tr>\n",
              "    <tr>\n",
              "      <th>68733</th>\n",
              "      <td>Just what I needed in order to select a favori...</td>\n",
              "      <td>Nice selection</td>\n",
              "    </tr>\n",
              "    <tr>\n",
              "      <th>48566</th>\n",
              "      <td>okay so this one I did not care for. I HATE pa...</td>\n",
              "      <td>dont like banana</td>\n",
              "    </tr>\n",
              "    <tr>\n",
              "      <th>36766</th>\n",
              "      <td>I was reluctant to order this item due to the ...</td>\n",
              "      <td>Reluctant to order but VERY happy I did.</td>\n",
              "    </tr>\n",
              "    <tr>\n",
              "      <th>7818</th>\n",
              "      <td>I tried many teas and thought would try this k...</td>\n",
              "      <td>didn't like its taste</td>\n",
              "    </tr>\n",
              "    <tr>\n",
              "      <th>94158</th>\n",
              "      <td>I have a 6 year old cocker spaniel who has had...</td>\n",
              "      <td>Read Review , Great food</td>\n",
              "    </tr>\n",
              "    <tr>\n",
              "      <th>76026</th>\n",
              "      <td>These are great! My pup looooves them. Usually...</td>\n",
              "      <td>Awesome!!</td>\n",
              "    </tr>\n",
              "    <tr>\n",
              "      <th>23851</th>\n",
              "      <td>These chili lime chips have only 100 calories ...</td>\n",
              "      <td>Lots of flavor, not a lot of bad stuff</td>\n",
              "    </tr>\n",
              "  </tbody>\n",
              "</table>\n",
              "</div>\n",
              "      <button class=\"colab-df-convert\" onclick=\"convertToInteractive('df-a6b75211-d1b0-4fd1-ba5c-d77bb63dbe3d')\"\n",
              "              title=\"Convert this dataframe to an interactive table.\"\n",
              "              style=\"display:none;\">\n",
              "        \n",
              "  <svg xmlns=\"http://www.w3.org/2000/svg\" height=\"24px\"viewBox=\"0 0 24 24\"\n",
              "       width=\"24px\">\n",
              "    <path d=\"M0 0h24v24H0V0z\" fill=\"none\"/>\n",
              "    <path d=\"M18.56 5.44l.94 2.06.94-2.06 2.06-.94-2.06-.94-.94-2.06-.94 2.06-2.06.94zm-11 1L8.5 8.5l.94-2.06 2.06-.94-2.06-.94L8.5 2.5l-.94 2.06-2.06.94zm10 10l.94 2.06.94-2.06 2.06-.94-2.06-.94-.94-2.06-.94 2.06-2.06.94z\"/><path d=\"M17.41 7.96l-1.37-1.37c-.4-.4-.92-.59-1.43-.59-.52 0-1.04.2-1.43.59L10.3 9.45l-7.72 7.72c-.78.78-.78 2.05 0 2.83L4 21.41c.39.39.9.59 1.41.59.51 0 1.02-.2 1.41-.59l7.78-7.78 2.81-2.81c.8-.78.8-2.07 0-2.86zM5.41 20L4 18.59l7.72-7.72 1.47 1.35L5.41 20z\"/>\n",
              "  </svg>\n",
              "      </button>\n",
              "      \n",
              "  <style>\n",
              "    .colab-df-container {\n",
              "      display:flex;\n",
              "      flex-wrap:wrap;\n",
              "      gap: 12px;\n",
              "    }\n",
              "\n",
              "    .colab-df-convert {\n",
              "      background-color: #E8F0FE;\n",
              "      border: none;\n",
              "      border-radius: 50%;\n",
              "      cursor: pointer;\n",
              "      display: none;\n",
              "      fill: #1967D2;\n",
              "      height: 32px;\n",
              "      padding: 0 0 0 0;\n",
              "      width: 32px;\n",
              "    }\n",
              "\n",
              "    .colab-df-convert:hover {\n",
              "      background-color: #E2EBFA;\n",
              "      box-shadow: 0px 1px 2px rgba(60, 64, 67, 0.3), 0px 1px 3px 1px rgba(60, 64, 67, 0.15);\n",
              "      fill: #174EA6;\n",
              "    }\n",
              "\n",
              "    [theme=dark] .colab-df-convert {\n",
              "      background-color: #3B4455;\n",
              "      fill: #D2E3FC;\n",
              "    }\n",
              "\n",
              "    [theme=dark] .colab-df-convert:hover {\n",
              "      background-color: #434B5C;\n",
              "      box-shadow: 0px 1px 3px 1px rgba(0, 0, 0, 0.15);\n",
              "      filter: drop-shadow(0px 1px 2px rgba(0, 0, 0, 0.3));\n",
              "      fill: #FFFFFF;\n",
              "    }\n",
              "  </style>\n",
              "\n",
              "      <script>\n",
              "        const buttonEl =\n",
              "          document.querySelector('#df-a6b75211-d1b0-4fd1-ba5c-d77bb63dbe3d button.colab-df-convert');\n",
              "        buttonEl.style.display =\n",
              "          google.colab.kernel.accessAllowed ? 'block' : 'none';\n",
              "\n",
              "        async function convertToInteractive(key) {\n",
              "          const element = document.querySelector('#df-a6b75211-d1b0-4fd1-ba5c-d77bb63dbe3d');\n",
              "          const dataTable =\n",
              "            await google.colab.kernel.invokeFunction('convertToInteractive',\n",
              "                                                     [key], {});\n",
              "          if (!dataTable) return;\n",
              "\n",
              "          const docLinkHtml = 'Like what you see? Visit the ' +\n",
              "            '<a target=\"_blank\" href=https://colab.research.google.com/notebooks/data_table.ipynb>data table notebook</a>'\n",
              "            + ' to learn more about interactive tables.';\n",
              "          element.innerHTML = '';\n",
              "          dataTable['output_type'] = 'display_data';\n",
              "          await google.colab.output.renderOutput(dataTable, element);\n",
              "          const docLink = document.createElement('div');\n",
              "          docLink.innerHTML = docLinkHtml;\n",
              "          element.appendChild(docLink);\n",
              "        }\n",
              "      </script>\n",
              "    </div>\n",
              "  </div>\n",
              "  "
            ],
            "text/plain": [
              "                                                    Text                                   Summary\n",
              "9837   Love the cinnamon taste but way too sweet. I g...                                  Cinnamon\n",
              "22147  We have a lab who is a TOUGH chewer...this las...                  NOT for tough chewers!!!\n",
              "94993  This tea definitely works. I have frequent pro...                        Just what i needed\n",
              "82976  I love the fact that it does not come in a pla...                              Great flavor\n",
              "67851  after opening numerous bags I found that none ...                     completely ripped off\n",
              "16396  My favorite to use in my Keurig. The Breakfast...                    Wonderfully delicious!\n",
              "16705  I like the sparking refreshing taste of Kiwi i...                Cool refreshing Kiwi taste\n",
              "50513  These are very top of the line in quality and ...                          Good Lemon Drops\n",
              "68733  Just what I needed in order to select a favori...                            Nice selection\n",
              "48566  okay so this one I did not care for. I HATE pa...                          dont like banana\n",
              "36766  I was reluctant to order this item due to the ...  Reluctant to order but VERY happy I did.\n",
              "7818   I tried many teas and thought would try this k...                     didn't like its taste\n",
              "94158  I have a 6 year old cocker spaniel who has had...                  Read Review , Great food\n",
              "76026  These are great! My pup looooves them. Usually...                                 Awesome!!\n",
              "23851  These chili lime chips have only 100 calories ...    Lots of flavor, not a lot of bad stuff"
            ]
          },
          "metadata": {},
          "execution_count": 4
        }
      ]
    },
    {
      "cell_type": "markdown",
      "source": [
        "## 데이터 전처리"
      ],
      "metadata": {
        "id": "m5cg6U7PUwX4"
      }
    },
    {
      "cell_type": "markdown",
      "source": [
        "### 중복 및 NULL값 제거"
      ],
      "metadata": {
        "id": "2tn868KoUwN-"
      }
    },
    {
      "cell_type": "code",
      "source": [
        "print(\"Text 중복배제 샘플 :\", data['Text'].nunique())\n",
        "print(\"Summary 중복배제 샘플\", data['Summary'].nunique())"
      ],
      "metadata": {
        "colab": {
          "base_uri": "https://localhost:8080/"
        },
        "id": "HBrCFDZdRzbY",
        "outputId": "2703a0c0-c78a-4fbd-fd0f-ed5a16beac0b"
      },
      "execution_count": 5,
      "outputs": [
        {
          "output_type": "stream",
          "name": "stdout",
          "text": [
            "Text 중복배제 샘플 : 88426\n",
            "Summary 중복배제 샘플 72348\n"
          ]
        }
      ]
    },
    {
      "cell_type": "code",
      "source": [
        "data.drop_duplicates(subset=['Text'], inplace=True)\n",
        "print(\"전체 샘플 :\",(len(data)))"
      ],
      "metadata": {
        "colab": {
          "base_uri": "https://localhost:8080/"
        },
        "id": "-HzVe4OPR054",
        "outputId": "2919c4f9-6062-4cc3-afc5-1c5f53a49b7f"
      },
      "execution_count": 6,
      "outputs": [
        {
          "output_type": "stream",
          "name": "stdout",
          "text": [
            "전체 샘플 : 88426\n"
          ]
        }
      ]
    },
    {
      "cell_type": "code",
      "source": [
        "print(data.isnull().sum())"
      ],
      "metadata": {
        "colab": {
          "base_uri": "https://localhost:8080/"
        },
        "id": "tuvuxs_xR2iw",
        "outputId": "be374d21-f2b5-4c29-a32d-290cfdebf7d5"
      },
      "execution_count": 7,
      "outputs": [
        {
          "output_type": "stream",
          "name": "stdout",
          "text": [
            "Text       0\n",
            "Summary    1\n",
            "dtype: int64\n"
          ]
        }
      ]
    },
    {
      "cell_type": "code",
      "source": [
        "data.dropna(axis=0, inplace=True)\n",
        "print('전체 샘플 :',(len(data)))"
      ],
      "metadata": {
        "colab": {
          "base_uri": "https://localhost:8080/"
        },
        "id": "sBZxB3xBR44P",
        "outputId": "8ea08476-6b12-48c6-ceb2-aa3ac21de5f1"
      },
      "execution_count": 8,
      "outputs": [
        {
          "output_type": "stream",
          "name": "stdout",
          "text": [
            "전체 샘플 : 88425\n"
          ]
        }
      ]
    },
    {
      "cell_type": "markdown",
      "source": [
        "### 텍스트 정규화와 불용어 제거"
      ],
      "metadata": {
        "id": "ugVXtlq6U2CX"
      }
    },
    {
      "cell_type": "markdown",
      "source": [
        "[텍스트 정규화 참조 링크](https://stackoverflow.com/questions/19790188/expanding-english-language-contractions-in-python)"
      ],
      "metadata": {
        "id": "amCA1pMeU16L"
      }
    },
    {
      "cell_type": "code",
      "source": [
        "contractions = {\"ain't\": \"is not\", \"aren't\": \"are not\",\"can't\": \"cannot\", \"'cause\": \"because\", \"could've\": \"could have\", \"couldn't\": \"could not\",\n",
        "                           \"didn't\": \"did not\",  \"doesn't\": \"does not\", \"don't\": \"do not\", \"hadn't\": \"had not\", \"hasn't\": \"has not\", \"haven't\": \"have not\",\n",
        "                           \"he'd\": \"he would\",\"he'll\": \"he will\", \"he's\": \"he is\", \"how'd\": \"how did\", \"how'd'y\": \"how do you\", \"how'll\": \"how will\", \"how's\": \"how is\",\n",
        "                           \"I'd\": \"I would\", \"I'd've\": \"I would have\", \"I'll\": \"I will\", \"I'll've\": \"I will have\",\"I'm\": \"I am\", \"I've\": \"I have\", \"i'd\": \"i would\",\n",
        "                           \"i'd've\": \"i would have\", \"i'll\": \"i will\",  \"i'll've\": \"i will have\",\"i'm\": \"i am\", \"i've\": \"i have\", \"isn't\": \"is not\", \"it'd\": \"it would\",\n",
        "                           \"it'd've\": \"it would have\", \"it'll\": \"it will\", \"it'll've\": \"it will have\",\"it's\": \"it is\", \"let's\": \"let us\", \"ma'am\": \"madam\",\n",
        "                           \"mayn't\": \"may not\", \"might've\": \"might have\",\"mightn't\": \"might not\",\"mightn't've\": \"might not have\", \"must've\": \"must have\",\n",
        "                           \"mustn't\": \"must not\", \"mustn't've\": \"must not have\", \"needn't\": \"need not\", \"needn't've\": \"need not have\",\"o'clock\": \"of the clock\",\n",
        "                           \"oughtn't\": \"ought not\", \"oughtn't've\": \"ought not have\", \"shan't\": \"shall not\", \"sha'n't\": \"shall not\", \"shan't've\": \"shall not have\",\n",
        "                           \"she'd\": \"she would\", \"she'd've\": \"she would have\", \"she'll\": \"she will\", \"she'll've\": \"she will have\", \"she's\": \"she is\",\n",
        "                           \"should've\": \"should have\", \"shouldn't\": \"should not\", \"shouldn't've\": \"should not have\", \"so've\": \"so have\",\"so's\": \"so as\",\n",
        "                           \"this's\": \"this is\",\"that'd\": \"that would\", \"that'd've\": \"that would have\", \"that's\": \"that is\", \"there'd\": \"there would\",\n",
        "                           \"there'd've\": \"there would have\", \"there's\": \"there is\", \"here's\": \"here is\",\"they'd\": \"they would\", \"they'd've\": \"they would have\",\n",
        "                           \"they'll\": \"they will\", \"they'll've\": \"they will have\", \"they're\": \"they are\", \"they've\": \"they have\", \"to've\": \"to have\",\n",
        "                           \"wasn't\": \"was not\", \"we'd\": \"we would\", \"we'd've\": \"we would have\", \"we'll\": \"we will\", \"we'll've\": \"we will have\", \"we're\": \"we are\",\n",
        "                           \"we've\": \"we have\", \"weren't\": \"were not\", \"what'll\": \"what will\", \"what'll've\": \"what will have\", \"what're\": \"what are\",\n",
        "                           \"what's\": \"what is\", \"what've\": \"what have\", \"when's\": \"when is\", \"when've\": \"when have\", \"where'd\": \"where did\", \"where's\": \"where is\",\n",
        "                           \"where've\": \"where have\", \"who'll\": \"who will\", \"who'll've\": \"who will have\", \"who's\": \"who is\", \"who've\": \"who have\",\n",
        "                           \"why's\": \"why is\", \"why've\": \"why have\", \"will've\": \"will have\", \"won't\": \"will not\", \"won't've\": \"will not have\",\n",
        "                           \"would've\": \"would have\", \"wouldn't\": \"would not\", \"wouldn't've\": \"would not have\", \"y'all\": \"you all\",\n",
        "                           \"y'all'd\": \"you all would\",\"y'all'd've\": \"you all would have\",\"y'all're\": \"you all are\",\"y'all've\": \"you all have\",\n",
        "                           \"you'd\": \"you would\", \"you'd've\": \"you would have\", \"you'll\": \"you will\", \"you'll've\": \"you will have\",\n",
        "                           \"you're\": \"you are\", \"you've\": \"you have\"}\n",
        "\n",
        "print(\"정규화 사전의 수: \", len(contractions))"
      ],
      "metadata": {
        "colab": {
          "base_uri": "https://localhost:8080/"
        },
        "id": "Rfyp6qi8R6c_",
        "outputId": "a29891f0-337d-4d43-bb02-5e771c77c672"
      },
      "execution_count": 9,
      "outputs": [
        {
          "output_type": "stream",
          "name": "stdout",
          "text": [
            "정규화 사전의 수:  120\n"
          ]
        }
      ]
    },
    {
      "cell_type": "code",
      "source": [
        "print('불용어 개수 :', len(stopwords.words('english')))\n",
        "print(stopwords.words('english'))"
      ],
      "metadata": {
        "colab": {
          "base_uri": "https://localhost:8080/"
        },
        "id": "HbFGXAjUT4NO",
        "outputId": "0d3afd68-6e73-46fd-a894-8d7b1719a6a5"
      },
      "execution_count": 10,
      "outputs": [
        {
          "output_type": "stream",
          "name": "stdout",
          "text": [
            "불용어 개수 : 179\n",
            "['i', 'me', 'my', 'myself', 'we', 'our', 'ours', 'ourselves', 'you', \"you're\", \"you've\", \"you'll\", \"you'd\", 'your', 'yours', 'yourself', 'yourselves', 'he', 'him', 'his', 'himself', 'she', \"she's\", 'her', 'hers', 'herself', 'it', \"it's\", 'its', 'itself', 'they', 'them', 'their', 'theirs', 'themselves', 'what', 'which', 'who', 'whom', 'this', 'that', \"that'll\", 'these', 'those', 'am', 'is', 'are', 'was', 'were', 'be', 'been', 'being', 'have', 'has', 'had', 'having', 'do', 'does', 'did', 'doing', 'a', 'an', 'the', 'and', 'but', 'if', 'or', 'because', 'as', 'until', 'while', 'of', 'at', 'by', 'for', 'with', 'about', 'against', 'between', 'into', 'through', 'during', 'before', 'after', 'above', 'below', 'to', 'from', 'up', 'down', 'in', 'out', 'on', 'off', 'over', 'under', 'again', 'further', 'then', 'once', 'here', 'there', 'when', 'where', 'why', 'how', 'all', 'any', 'both', 'each', 'few', 'more', 'most', 'other', 'some', 'such', 'no', 'nor', 'not', 'only', 'own', 'same', 'so', 'than', 'too', 'very', 's', 't', 'can', 'will', 'just', 'don', \"don't\", 'should', \"should've\", 'now', 'd', 'll', 'm', 'o', 're', 've', 'y', 'ain', 'aren', \"aren't\", 'couldn', \"couldn't\", 'didn', \"didn't\", 'doesn', \"doesn't\", 'hadn', \"hadn't\", 'hasn', \"hasn't\", 'haven', \"haven't\", 'isn', \"isn't\", 'ma', 'mightn', \"mightn't\", 'mustn', \"mustn't\", 'needn', \"needn't\", 'shan', \"shan't\", 'shouldn', \"shouldn't\", 'wasn', \"wasn't\", 'weren', \"weren't\", 'won', \"won't\", 'wouldn', \"wouldn't\"]\n"
          ]
        }
      ]
    },
    {
      "cell_type": "code",
      "source": [
        "def preprocess_sentence(sentence, remove_stopwords=True):\n",
        "    sentence = sentence.lower()\n",
        "    sentence = BeautifulSoup(sentence, \"lxml\").text #<br/>,<a href>등 html태그 제거\n",
        "    sentence = re.sub(r'\\([^)]*\\)','', sentence) # 괄호로 닫힌 문자열 제거\n",
        "    sentence = re.sub('\"','',sentence)\n",
        "    sentence = ' '.join([contractions[t] if t in contractions else t for t in sentence.split(\" \")]) # 약어 정규화\n",
        "    sentence = re.sub(r\"'s\\b\",\"\",sentence) # 소유격 제거, Ex) roland`s -> roland\n",
        "    sentence = re.sub(\"[^a-zA-Z]\",\" \", sentence) # 영어 외 문자(숫자, 특수문자 등) 공백으로 변환\n",
        "    sentence = re.sub('[m]{2,}', 'mm', sentence) # m이 3개 이상이면 2개로 변경. Ex) ummmmmm yeah -> umm yeah\n",
        "    \n",
        "    # 불용어 제거(text)\n",
        "    if remove_stopwords:\n",
        "        tokens = ' '.join(word for word in sentence.split() if not word in stopwords.words('english') if len(word) > 1)\n",
        "    # 불용어 미제거 (summary)\n",
        "    else:\n",
        "        tokens = ' '.join(word for word in sentence.split() if len(word) > 1)\n",
        "    return tokens"
      ],
      "metadata": {
        "id": "eZptTNXBUHP3"
      },
      "execution_count": 11,
      "outputs": []
    },
    {
      "cell_type": "code",
      "source": [
        "temp_text = 'Everything I bought was great, infact I ordered twice and the third ordered was<br />for my mother and father.'\n",
        "temp_summary = 'Great way to start (or finish) the day!!!'\n",
        "\n",
        "print(\"text: \", preprocess_sentence(temp_text))\n",
        "print(\"summary:\", preprocess_sentence(temp_summary, False))  # 불용어를 제거하지 않습니다."
      ],
      "metadata": {
        "colab": {
          "base_uri": "https://localhost:8080/"
        },
        "id": "axQ1c2YVUIDN",
        "outputId": "2a9e1c16-25ed-4e22-f5d1-8b33e1144a34"
      },
      "execution_count": 12,
      "outputs": [
        {
          "output_type": "stream",
          "name": "stdout",
          "text": [
            "text:  everything bought great infact ordered twice third ordered wasfor mother father\n",
            "summary: great way to start the day\n"
          ]
        }
      ]
    },
    {
      "cell_type": "code",
      "source": [
        "clean_text = []\n",
        "# 전체 Text 데이터에 대한 전처리 : 10분 이상 소요\n",
        "for s in data['Text']:\n",
        "    clean_text.append(preprocess_sentence(s))\n",
        "\n",
        "# 전처리 후 출력\n",
        "print(\"Text 전처리 후 결과: \", clean_text[:5])"
      ],
      "metadata": {
        "colab": {
          "base_uri": "https://localhost:8080/"
        },
        "id": "UhxhGRGqUOxm",
        "outputId": "5022c7db-6898-4412-d64d-0630f1b764e1"
      },
      "execution_count": 13,
      "outputs": [
        {
          "output_type": "stream",
          "name": "stdout",
          "text": [
            "Text 전처리 후 결과:  ['bought several vitality canned dog food products found good quality product looks like stew processed meat smells better labrador finicky appreciates product better', 'product arrived labeled jumbo salted peanuts peanuts actually small sized unsalted sure error vendor intended represent product jumbo', 'confection around centuries light pillowy citrus gelatin nuts case filberts cut tiny squares liberally coated powdered sugar tiny mouthful heaven chewy flavorful highly recommend yummy treat familiar story lewis lion witch wardrobe treat seduces edmund selling brother sisters witch', 'looking secret ingredient robitussin believe found got addition root beer extract ordered made cherry soda flavor medicinal', 'great taffy great price wide assortment yummy taffy delivery quick taffy lover deal']\n"
          ]
        }
      ]
    },
    {
      "cell_type": "code",
      "source": [
        "clean_summary = []\n",
        "# 전체 Summary 데이터에 대한 전처리 : 5분 이상 소요\n",
        "for s in data['Summary']:\n",
        "    clean_summary.append(preprocess_sentence(s, False))\n",
        "\n",
        "print(\"Summary 전처리 후 결과: \", clean_summary[:5])"
      ],
      "metadata": {
        "colab": {
          "base_uri": "https://localhost:8080/"
        },
        "id": "Kj-z_ZL1UPTG",
        "outputId": "58b3d911-34c8-4d7b-f597-2715c6a5e467"
      },
      "execution_count": 14,
      "outputs": [
        {
          "output_type": "stream",
          "name": "stdout",
          "text": [
            "Summary 전처리 후 결과:  ['good quality dog food', 'not as advertised', 'delight says it all', 'cough medicine', 'great taffy']\n"
          ]
        }
      ]
    },
    {
      "cell_type": "code",
      "source": [
        "data['Text'] = clean_text\n",
        "data['Summary'] = clean_summary\n",
        "\n",
        "# 빈 값을 Null 값으로 변환\n",
        "data.replace('', np.nan, inplace=True)\n",
        "print('=3')"
      ],
      "metadata": {
        "colab": {
          "base_uri": "https://localhost:8080/"
        },
        "id": "l4FELr40URGc",
        "outputId": "a3c56329-89bf-4492-94a2-06fb97876bd3"
      },
      "execution_count": 15,
      "outputs": [
        {
          "output_type": "stream",
          "name": "stdout",
          "text": [
            "=3\n"
          ]
        }
      ]
    },
    {
      "cell_type": "code",
      "source": [
        "data.isnull().sum()"
      ],
      "metadata": {
        "colab": {
          "base_uri": "https://localhost:8080/"
        },
        "id": "PdsWc8QjUV4N",
        "outputId": "01d541cf-216a-43fe-8226-21041683874b"
      },
      "execution_count": 16,
      "outputs": [
        {
          "output_type": "execute_result",
          "data": {
            "text/plain": [
              "Text        0\n",
              "Summary    70\n",
              "dtype: int64"
            ]
          },
          "metadata": {},
          "execution_count": 16
        }
      ]
    },
    {
      "cell_type": "code",
      "source": [
        "data.dropna(axis=0, inplace=True)\n",
        "print('전체 샘플수 :', (len(data)))"
      ],
      "metadata": {
        "colab": {
          "base_uri": "https://localhost:8080/"
        },
        "id": "XT5qkgmvUY_U",
        "outputId": "26f646e0-e57c-4024-a963-f9a1af7a69e4"
      },
      "execution_count": 17,
      "outputs": [
        {
          "output_type": "stream",
          "name": "stdout",
          "text": [
            "전체 샘플수 : 88355\n"
          ]
        }
      ]
    },
    {
      "cell_type": "markdown",
      "source": [
        "### 데이터셋 분석"
      ],
      "metadata": {
        "id": "zMtR_A_LVbPL"
      }
    },
    {
      "cell_type": "code",
      "source": [
        "import matplotlib.pyplot as plt\n",
        "text_len = [len(s.split()) for s in data['Text']]\n",
        "summary_len = [len(s.split()) for s in data['Summary']]\n",
        "\n",
        "print(f'텍스트 최소 길이 : {np.min(text_len)}')\n",
        "print(f'텍스트 최대 길이 : {np.max(text_len)}')\n",
        "print(f'텍스트 평균 길이 : {np.mean(text_len)}')\n",
        "print(f'요약 최소 길이 : {np.min(summary_len)}')\n",
        "print(f'요약 최대 길이 : {np.max(summary_len)}')\n",
        "print(f'요약 평균 길이 : {np.mean(summary_len)}')\n",
        "\n",
        "plt.subplot(1,2,1)\n",
        "plt.boxplot(text_len)\n",
        "plt.title('Text')\n",
        "plt.subplot(1,2,2)\n",
        "plt.boxplot(summary_len)\n",
        "plt.title('Summary')\n",
        "plt.tight_layout()\n",
        "plt.show\n",
        "\n",
        "plt.title('Text')\n",
        "plt.hist(text_len, bins = 40)\n",
        "plt.xlabel('length of samples')\n",
        "plt.ylabel('number of samples')\n",
        "plt.show()\n",
        "\n",
        "plt.title('Summary')\n",
        "plt.hist(summary_len, bins = 40)\n",
        "plt.xlabel('length of samples')\n",
        "plt.ylabel('number of samples')\n",
        "plt.show()"
      ],
      "metadata": {
        "colab": {
          "base_uri": "https://localhost:8080/",
          "height": 699
        },
        "id": "pd59CZPqVfUR",
        "outputId": "7b3a98d3-4f94-4331-ac4d-a3b5e56c5e6e"
      },
      "execution_count": 18,
      "outputs": [
        {
          "output_type": "stream",
          "name": "stdout",
          "text": [
            "텍스트 최소 길이 : 2\n",
            "텍스트 최대 길이 : 1235\n",
            "텍스트 평균 길이 : 38.792428272310566\n",
            "요약 최소 길이 : 1\n",
            "요약 최대 길이 : 28\n",
            "요약 평균 길이 : 4.010729443721352\n"
          ]
        },
        {
          "output_type": "display_data",
          "data": {
            "image/png": "[encoded data removed]",
            "text/plain": [
              "<Figure size 432x288 with 2 Axes>"
            ]
          },
          "metadata": {
            "needs_background": "light"
          }
        },
        {
          "output_type": "display_data",
          "data": {
            "image/png": "[encoded data removed]",
            "text/plain": [
              "<Figure size 432x288 with 1 Axes>"
            ]
          },
          "metadata": {
            "needs_background": "light"
          }
        }
      ]
    },
    {
      "cell_type": "markdown",
      "source": [
        "텍스트의 최소 길이 : 2  \n",
        "텍스트의 최대 길이 : 1235  \n",
        "텍스트의 평균 길이 : 38.792428272310566  \n",
        "요약의 최소 길이 : 1  \n",
        "요약의 최대 길이 : 28  \n",
        "요약의 평균 길이 : 4.010729443721352  "
      ],
      "metadata": {
        "id": "J5dmvjHNY7Dr"
      }
    },
    {
      "cell_type": "markdown",
      "source": [
        "![image.png](data:image/png;base64,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)"
      ],
      "metadata": {
        "id": "qIj327FtY2Vu"
      }
    },
    {
      "cell_type": "markdown",
      "source": [
        "![image.png](data:image/png;base64,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)"
      ],
      "metadata": {
        "id": "3LzJyxiMY_yT"
      }
    },
    {
      "cell_type": "markdown",
      "source": [
        "![image.png](data:image/png;base64,iVBORw0KGgoAAAANSUhEUgAAAZEAAAEWCAYAAACnlKo3AAAcm0lEQVR4nO3de7RdVX3o8e8xQEQBSeBIQ4IewEgVikjCo6NRsQgEuLeBFpG0hYBIVEDwyrWE2itcLePGFyo+IiCBgAjS8kohCIEGkWogCcQ8EEwIoSQNySEBwstAwrl//ObuXmezzzkr++wHe+/vZ4w19lpzPfZc2SPrd+ZjzQmSJEmSJEmSJEmSJEmSJEmSJEmS1PrGAb8BXgA2AP8BHNTQHEmSmsJOwPPARGAIsD1wJLB/IzO1lTqAtzU6E5LUjsYSQaSci4CfZba7gB5gm7R9H/DPRCnmJeDfgF2A64CNwLx0TkEPcCawDHgR+Dqwdzp/I3AjsF06dhhwO9ANPJfWR2WudR9wMVFqehX4MrCgJP9fAm7r+9YlSYO1E7AemAEcTTy8C/IEkeVEIHgX8CjwB+AT6ZhrgKsy5/cQD/WdgH2BTcC9wF6Z8yelY3cB/gZ4B7Aj8C/ArZlr3Qf8Z7rONsBQoiruA5ljHknXkAbFYq7Ut41Em0gPcAXxl/9MYLec518FPEG0p9yZ1u8BNhMP/g+XHP/N9J1LgSXA3cCKzPmF49cDNwGvEKWWi4GPlVzr6nSdzURA+gXw92nfvkTQuz3nfUh9MohI/fs9cCpRXbQfsDvwvZznrs2sv1pme4cKj38HcBnwFBF07gd2JtptCp4uufYM4G+JNpKTieqxTTnvQ+qTQUTK7zHiL/z9gJeJh3nBn9QxH+cB+wCHENVfH03pHZljekrOmQu8BnyECCbX1jiPahMGEalvf0o8sAuN1nsQPbXmAguJh/d7iDaLC+qYrx2JksnzwHDgwpznXQP8EHgdeKA2WVO7MYhIfXuR+Gv/QaLkMZdoqzgPmE20Mywiej7Vs33he0R342dTnn6Z87xriVLUzwY6UJKkUtsTgXF0ozMiSWo+XwL+vdGZkCQ1n5VEb67SbsWSJEmtZw9gDvGm7VLg3JQ+nGiUXJY+C28BdwCXEm/5LgIOzFxrUjp+GcW3dgHGAIvTOZfSu4ujJKnGavnQHZGWh4kuiQuA44gXtzYAU4EpRBA5HzgG+EL6PAT4fvocDswnxjHqSdcZQ4wZ9BBwDtF7ZhYRSO7sL1O77LJLT1dXV3+HSJJKLFiw4FmgszR9mzLHVsuatED0CPk9MBKYAByW0mcQ4/ycn9KvIQLFXOIN3BHp2NlE4CGtj0/n7ZSOJZ17HAMEka6uLubPnz+4O5OkNtPR0fFUufRaBpGsLqJB70Fi3KFCcHmG4jhEI+k9VMOqlNZf+qoy6eVMTgvd3d2V3oMkqUQ9gsgOxGBxXyTG+cnq4c3DM9TC5Wmhs7OzHt8nSW2h1m+sb0sEkOuAm1PaWqKaivS5Lq2vJhrjC0altP7SR5VJlyTVSS2DSAdwJdEWckkmfSbFHlaTKE6MMxM4JZ13KDH89RrgLmI2uWFpOTKlrSFKNoemc07BSXYkqa5qWZ31F8SQ04uJweoA/pHolXUjcDrx8tOJad8somfWcmKehNNS+gZilrd5aftrFBvZzyRGVd2eaFDvt1FdklRdbfdexZgxY3rsnSVJW6ejo2MB8apFL47iK0mqmEFEklQxg4gkqWL1etmwLXRNuaPPfSunHlvHnEhSfVgSkSRVzCAiSaqYQUSSVDGDiCSpYgYRSVLFDCKSpIoZRCRJFTOISJIqZhCRJFXMICJJqphBRJJUMYOIJKliBhFJUsUMIpKkitUyiEwH1gFLMmm/IOZbXwispDj3ehfwambfTzLnjCHmaV8OXEpxSt/hwGxgWfocVoubkCT1rZZB5GpgfEnap4AD0nITcHNm3xOZfZ/LpE8DzgBGp6VwzSnAvSnt3rQtSaqjWgaR+4ENfezrAE4Erh/gGiOAnYC5QA9wDXBc2jcBmJHWZ2TSJUl10qg2kY8Aa4mqqII9gUeAX6X9ACOBVZljVqU0gN2ANWn9mbTdl8nAfGB+d3f3oDIuSSpq1PS4E+ldClkDvAdYT7SB3ArsuxXX60lLXy5PC52dnf0dJ0naCo0IItsAf00Ei4JNaQFYQLSPvB9YDYzKHDcqpUGUZEYQAWgE0YgvSaqjRlRnfQJ4jN7VVJ3AkLS+F9FYvoIIEBuBQ4l2lFOA29JxM4FJaX1SJl2SVCe1DCLXA78F9iECxukp/STe3KD+UWAR0b33X4neWYVG+TOBnxJdfJ8A7kzpU4EjiHaVT6RtSVId1bI6a2If6aeWSbspLeXMB/Yrk74eOLyCfEmSqsQ31iVJFTOISJIqZhCRJFWsUe+JtJ2uKXf0u3/l1GPrlBNJqh5LIpKkihlEJEkVM4hIkipmEJEkVcwgIkmqmEFEklQxg4gkqWIGEUlSxQwikqSKGUQkSRUziEiSKmYQkSRVzCAiSaqYQUSSVLFaBpHpwDpgSSbtImA1MZf6QuCYzL4LiHnUHweOyqSPT2nLgSmZ9D2BB1P6L4Dtqpt9SdJAahlEriYCQKnvAgekZVZK+yBwErBvOufHwJC0/Ag4Oh0zMX0CfCNd633Ac8DptbgJSVLfahlE7gc25Dx2AnADsAl4kihdHJyW5cAK4LV0zASgA/hL4F/T+TOA46qVcUlSPo1oEzkbWERUdw1LaSOBpzPHrEppfaXvAjwPbC5J78tkYD4wv7u7e5DZlyQV1DuITAP2Jqqy1gDfqdP3Xg6MBcZ2dnbW6SslqfXVe471tZn1K4Db0/pqYI/MvlEpjT7S1wM7E/nfXHK8JKlO6l0SGZFZP55iz62ZRMP6UKLX1WjgIWBeWt+T6H11Ujq2B5gDnJDOnwTcVuO8S5JK1LIkcj1wGLAr0WZxYdo+gAgCK4HPpmOXAjcCjxIli7OALWnf2cBdRE+t6elYgPOJhvZ/Bh4BrqzhvUiSyqhlEJlYJq2/B/3FaSk1i2JX4KwVRO8tSVKD+Ma6JKlieYLIJ4Ed0/o/ATcDB9YsR5KkppEniPwf4EVgHPAJokpqWi0zJUlqDnmCSKGB+1jifYs7cJwqSRL5gshq4DLgU0QD99Cc50mSWlyeYHAi0cX2KGKokeHAl2uZKUlSc8jTxfcVYkj3ccAy4j2OZbXMlHrrmnJHv/tXTj22TjmRpN7ylEQuJF7suyBtbwv8rGY5kiQ1jTxB5Hjgr4CX0/Z/UezyK0lqY3mCyGvEMCU9afudtcuOJKmZ5AkiNxK9s3YGzgDuIUbglSS1uTwN698GjgA2AvsAXwVm1zJTkqTmkHcAxtkYOCRJJfoLIi9SbAfJ6kjpO9UkR5KkptFfELEHliSpX3mrsw4kXjbsAR4gJoGSJLW5PL2zvgrMAHYhZim8mhgSXpLU5vKURP4O+BDwx7Q9FVhITEsrSWpjeUoi/wW8PbM9lBjZdyDTiTG3lmTSvgU8BiwCbiHePQHoAl4lgtNC4CeZc8YAi4HlwKVEwz7EQJCziXG8ZgPDcuRJklRFeYLIC8BSohrrKiIoPE880C/t57yrgfElabOB/YD9gT9QHI8L4AnggLR8LpM+jXjJcXRaCtecAtyb0u5N25KkOspTnXVLWgruy3nt+4kSRtbdmfW5wAkDXGME0ZV4btq+BjgOuBOYAByW0mekfJ2fM2+SpCrIE0Rm1Oi7Pw38IrO9J9HrayPRcP9rYCSwKnPMqpQGsBuwJq0/k7b7MjktdHd3DzbfkqQkTxD5H8DXgfem46vxsuFXiHlJrkvba4D3AOuJNpBbgX234nrZASLLuTwtdHZ29necJGkr5Aki3wP+mmjcrsYD+FQiMB2eud6mtAAsINpH3k804I/KnDuKYqP+WqK6a036XFeFvEmStkKehvWnicb0agSQ8cA/EPOTvJJJ7wSGpPW9iMbyFUSA2AgcSpSATgFuS8fNBCal9UmZdElSneQpifwDMAv4FcXSAsAlA5x3PdHwvSvRlnEh0RtrKMXBHOcSPbE+CnwNeB14I6VtSMecSfT02p5oUL8zpU8lhqk/HXiKmAteklRHeYLIxcBLxLsi223FtSeWSbuyj2NvSks584luwaXWE1VikqQGyRNEdqf8Q1yS1ObytInMAo6sdUYkSc0nTxD5PPBLYliSjcQ8IxtrmSlJUnPIU53lvCKSpLLyzicyjOh2mx2I8f7qZ0eS1EzyBJHPAOcSL/otJN7Z+C3wlzXMlySpCeRpEzkXOIh4F+PjwIeJUXwlSW0uTxD5I8UJqYYS84HsU7McSZKaRp7qrFXE5FG3Em+aP0eUSiRJbS5PEDk+fV4EzAHeRXT5lSS1uTzVWXsT1VgQgyB2Ae+oWY4kSU0jTxC5CdgCvI+Yk2MP4Oe1zJQkqTnkCSJvEBNIHQ/8APgyMX+HJKnN5QkirxMj8k4Cbk9p29YsR5KkppEniJwG/DkxJPyTxFzo19YyU5Kk5pCnd9ajwDmZ7SeBb9QmO5KkZpKnJCJJUlkGEUlSxfoLIoV2j3MHcf3pwDpgSSZtOPHm+7L0OSyldwCXAsuBRcCBmXMmpeOXpfWCMcDidM6l6RqSpDrpr01kDDE17qeBa3jzA3pDjutfDfwwnV8wBbgXmJrWpwDnA0cTw82PBg4BpqXP4cCFwFigB1gAzCSGX5kGnAE8SMzAOB64M0e+WkrXlDv63b9y6rF1yomkdtNfEPkJ8bDfi3hwZ4NIT0ofyP3EG+5ZE4DD0voM4D4iiEwggk0PMJcYr2tEOnY2xaA1mwgW9wE7pWNJ5x5HGwYRSWqU/qqzLgU+QFRJ7UV07S0seQJIX3YD1qT1Z9I2wEjg6cxxq1Jaf+mryqSXMxmYD8zv7u4eRNYlSVl5uvh+HvgQ8JG0fT/RZlENPWmptcvTQmdnZz2+T5LaQp7eWecA1wHvTst1wBcG8Z1rKQ6bMoJoeAdYTYzLVTAqpfWXPqpMuiSpTvIEkc8QDdxfTcuhRGN2pWZS7GE1Cbgtk34K0fZyKPACUe11F3Ak0YtrWFq/K+3bmI7tSOcWriVJqoM81VkdxCi+BVvI35X2eqJhfFeizeJColfWjcDpxORWJ6ZjZwHHEN11XyGGW4FoUP86MC9tf41iI/uZRA+w7YkGdRvVJamO8gSRq4gutLek7eOAK3Nef2If6YeXSesBzurj+OlpKTUf2C9nXiRJVZYniFxCdKcdl7ZPAx6pWY4kSU0jTxABeDgtkiT9N8fOkiRVzCAiSarYQEFkCDCnHhmRJDWfgYLIFmKO9XfVIS+SpCaTp2H9JWK49dnAy5n0c8of3roGGi1XktpNniByc1okSeolTxCZQbwR/h7g8dpmR5LUTPL0zvqfwELgl2n7AGKcK0lSm8sTRC4CDgaeT9sLGdx8IpKkFpEniLxOjKib9UYN8iJJajJ5gshS4G+Jd0ZGAz8AflPLTEmSmkOeIPIFYF9gEzG0+0bgi7XMlCSpOeTpnfUK8BXgG8Rw7S/WNEeSpKaRpyRyEPGy4aL0+TtgTC0zJUlqDnlKIlcSMwj+Om2PIyaq2r9WmZIkNYc8JZEtFAMIwAPA5tpkR5LUTPoLIgem5VfAZcRc6R8DfkzMdFipfYh3TQpLoaH+ImB1Jv2YzDkXEHOvPw4clUkfn9KWA1MGkSdJUgX6q876Tsn2hZn1nkF85+PEW+8Q3YZXE/O3nwZ8F/h2yfEfBE4ieojtDtwDvD/t+xFwBLAKmEe8Sf/oIPImSdoK/QWRj9fh+w8HngCe6ueYCcANRBfjJ4lSx8Fp33JgRVq/IR1rEJGkOsnTsL4zcArQVXJ8NYaCP4l496Tg7PRd84HzgOeAkcDczDGrUhrA0yXph/TxPZPTQnd396AzLUkKeRrWZxEBZDGwILMM1nbAXwH/kranAXsTVV1reHN12mBcDowFxnZ2dlbxspLU3vKURN4OfKkG33008DCwNm2vzey7Arg9ra8G9sjsG5XS6CddklQHeUoi1wJnACOA4ZllsCbSuyprRGb9eGBJWp9JVHsNBfYkxu96iGhIH53StkvHOES9JNVRnpLIa8C3iKFPCr2yehjccPDvJHpVfTaT9k2iKqsHWJnZtxS4kWgw3wycRby7AtGGchfRy2t6OlaSVCd5gsh5wPuAZ6v4vS8Du5SkndzP8RenpdSstKhCA80bv3LqsXXKiaRmlKc6azkxCKMkSb3kKYm8TLxBPod4V6OgGl18JUlNLE8QuTUtkiT1kieIzKh5LiRJTSlPEHmS8mNlDaZ3liSpBeQJImMz628HPkl13hORJDW5PL2z1meW1cD3APt9SpJylUQOzKy/jSiZ5DlPktTi8gSD7ECIm4m3yU+sTXYkSc0kTxCpx7wikqQmlCeIDAX+hjfPJ/K1muRIktQ08gSR24AXiDlENg1wrCSpjeQJIqOA8bXOiCSp+eTp4vsb4M9qnRFJUvPJUxIZB5xKvLm+Cegg3mDfv4b5kiQ1gTxB5Oia50KS1JTyBJGnap4LSVJTytMmIklSWY0MIiuBxcSEV/NT2nBgNrAsfQ5L6R3ApcQsi4voPRTLpHT8srQuSaqTRpdEPg4cQHGk4CnAvcDo9DklpR+d0kYDk4FpKX04cCFwCHBwWi8EHklSjTU6iJSaQHESrBnAcZn0a4heYXOBnYERwFFEiWUD8Fxa950WSaqTRgaRHuBu4k34ySltN2BNWn8mbQOMBJ7OnLsqpfWVXmoyUWU2v7u7uxp5lyTR2CHdxxHzk7ybKEE8VrK/h/IzKlbi8rTQ2dlZrWtKUttrZElkdfpcB9xCtGmsJaqpSJ/rMsfukTl3VErrK12SVAeNCiLvBHbMrB8JLAFmUuxhNYkY/JGUfgrRS+tQYkDINcBd6dxhaTkypUmS6qBR1Vm7EaWPQh5+DvwSmAfcCJxOvORYmPxqFnAM0cX3FeC0lL4B+Ho6D2J4+g01zrskKWlUEFkBfKhM+nrg8DLpPcBZfVxrelokSXXmXOnqV9eUO/rdv3LqsXXKiaS3orfaeyKSpCZiEJEkVcwgIkmqmEFEklQxg4gkqWIGEUlSxQwikqSKGUQkSRUziEiSKmYQkSRVzCAiSaqYQUSSVDGDiCSpYgYRSVLFDCKSpIo5n4hqxrlIpNZnSUSSVLFGBJE9gDnAo8BS4NyUfhGwGliYlmMy51xAzK/+OHBUJn18SlsOTKlpriVJb9KI6qzNwHnAw8COwAJgdtr3XeDbJcd/EDgJ2BfYHbgHeH/a9yPgCGAVMA+YSQQnSVIdNCKIrEkLwIvA74GR/Rw/AbgB2AQ8SZQ6Dk77lgMr0voN6ViDiCTVSaPbRLqADwMPpu2zgUXAdGBYShsJPJ05Z1VK6yu9nMnAfGB+d3d3VTIuSWpsENkBuAn4IrARmAbsDRxAlFS+U8XvuhwYC4zt7Oys4mUlqb01qovvtkQAuQ64OaWtzey/Arg9ra8mGuMLRqU0+kmXJNVBI0oiHcCVRFvIJZn0EZn144ElaX0m0bA+FNgTGA08RDSkj05p26VjZtYy45Kk3hpREvkL4GRgMdGVF+AfgYlEVVYPsBL4bNq3FLiRaDDfDJwFbEn7zgbuAoYQ7ShLa599SVJBI4LIA0RppNSsfs65OC3lzunvPL2F9fdGu2+zS82h0b2zJElNzCAiSaqYQUSSVDGDiCSpYgYRSVLFDCKSpIoZRCRJFTOISJIq5vS4akpOvSu9NVgSkSRVzCAiSaqYQUSSVDGDiCSpYjasqyU5QrBUH5ZEJEkVM4hIkipmdZZUwqowKT9LIpKkirVCSWQ88H1invWfAlMbmx21Mt+Ul3pr9iAyBPgRcASwCpgHzAQebWSmpL5YVaZW0+xB5GBgObAibd8ATMAgoiY0mFLOQOcOZDDXNvi1t45GZ2CQTiCqsz6Ttk8GDgHOLjlucloA9gEez+zbFXi2hnlsNO+v+bX6Pbb6/UFr3ON7gc5GZ6LaTiDaQQpOBn64ldeYX73svCV5f82v1e+x1e8PWvgem7131mpgj8z2qJQmSaqDZg8i84DRwJ7AdsBJRMO6JKkOhjQ6A4P0BrAMuA74AvAz4KYKrrOgmpl6C/L+ml+r32Or3x+0xz1KkiRJkiRJemsaT7wvshyY0uC81MpKYDGwkNboYjgdWAcsyaQNB2YTbWOzgWENyFc1lbvHi4hehwvTckwD8lUtewBziBeClwLnpvRW+R37ur9W+g1FdCh4AtiL6NX1O+CDDc1RbawkXnJqFR8FDqT3A/abFP8ImAJ8o96ZqrJy93gR8L8bk52qG0HcH8COwB+I/3ut8jv2dX+t9Bv20uxdfCuVHS7lNYrDpeit7X5gQ0naBGBGWp8BHFfXHFVfuXtsJWuAh9P6i8DvgZG0zu/Y1/21rHYNIiOBpzPbq2jNH7oHuJvoWjh5gGOb1W7Ef1yAZ9J2KzobWERUdzVrVU+pLuDDwIO05u+YvT9ozd+wbYNIuxhHFK2PBs4iqkpaWU9aWs00YG/gAOJB+53GZqcqdiDe6foisLFkXyv8jqX314q/IdC+QaRdhksp3NM64BaiGq/VrCXqoUmf6xqYl1pZC2whXq69gub/HbclHrDXATentFb6Hfu6v1b6Df9buwaRdhgu5Z1Ew15h/Uh6N9a2ipnApLQ+CbitgXmplRGZ9eNp7t+xA7iSaCu4JJPeKr9jX/fXSr+hkmOInhNPAF9pcF5qYS+i19nviK6GrXCP1xNVAa8T7VinA7sA9xJdQ+8huoo2s3L3eC3RVXsR8bAd0efZb33jiKqqRfTu7toqv2Nf99dKv6EkSZIkSZIkSZIkSZIkSdIgvVSDax5A71FYBzu43ieJ9wrmDCZTVdBqA3aqDtr1ZUNpMEqDyGCdDpwBfLyK15QkVUG2JPJlYrSCRcD/TWldRCngCuKlzLuB7dO+gyi+NPYt4i3j7YD/BLpT+qeIksh04D5iZOhz+sjLROKFsyUUhzr/asrj4+k7skYQo/ouTOd8JKVPI+aHWZq5D4iSxP+jOH/MgcBdxAu1n0vHHJaueUf6zp9Q/GMyWxL5e+ChdK3LiOkThgBXp7wsBv5XH/cpSS2jEESOBC4nhqV4G3A7MSBlF7CZKF0A3Eg8QCEeln+e1qdSHKriVOCHme+4CPgNMJR4CK8nxk/K2p0IPp3ANsC/Uxzu/D5gbJm8n0dxpIEhFIexGZ5Juw/YP22vBD6f1r9LBMAd03euTemHAX8kRjQYQkwAdULm/F2BDwD/lrmHHwOnAGPS8QU7l8mz2ozVWWoXR6blEWK+hz8lxk8DeJL4ixti2Pwu4gG5I/DblP7zAa5/B7AJeJYYPLB0KPODiAd+NxG0rmPgUZXnAacRQerPiPkpAE5M9/AIsC+9J1QrjAG3mBiC/MX0nZsoPvQfIkpMW4hhVsaVfO/hRMCYR/y7HE4EnRXp8wfEzKClo++qDW3T6AxIddJBVPVcVpLeRTxgC7ZQrM7aGqXXqMb/rfuJQHMsUY10CfBrohH/IOC5lP72Mvl4oyRPb2TyVDrMeul2BzEx1AVl8vQh4CiieuxE4NO570YtyZKI2sVdxANvh7Q9Enh3P8c/T/wVf0jaPimz70WKVUt5PQR8jKguGkK0j/xqgHPeS1RDXQH8lGjj2Al4GXiBKO0cvZX5gBiGfE/i//+ngAdK9t9LVHEV/n2Gp7zsms65CfgnitPAqo1ZElG7uJuo6y9UT71EtH1s6eec04kH+BvEA/+FlD6HmAd8IVG6yWNNOmcO8Zf+HQw83PlhRGeA11N+TyGq3h4BHiNm5/yPnN+fNY9o03lfys8tJfsfJYLE3UTQeJ2Y1OxV4CqKf3yWK6lIkpIdMutTgO83KiNVdBjRqUCqCksiUt+OJf7a3gZ4iuiVJUmSJEmSJEmSJEmSJEmSVGP/H2ONxYwADUB6AAAAAElFTkSuQmCC)"
      ],
      "metadata": {
        "id": "CPg-SGnfZBYy"
      }
    },
    {
      "cell_type": "markdown",
      "source": [
        "Text 최대 길이와 Summary의 적절한 최대 길이 정의"
      ],
      "metadata": {
        "id": "HERZQfqcYF6O"
      }
    },
    {
      "cell_type": "code",
      "source": [
        "text_max_len = 50\n",
        "summary_max_len = 8"
      ],
      "metadata": {
        "id": "d9QJB2q_XuuS"
      },
      "execution_count": 19,
      "outputs": []
    },
    {
      "cell_type": "code",
      "source": [
        "def below_threshold_len(max_len, nested_list):\n",
        "    cnt = 0\n",
        "    for s in nested_list:\n",
        "        if(len(s.split()) <= max_len):\n",
        "            cnt = cnt + 1\n",
        "    print('전체 샘플 중 길이가 %s 이하인 샘플 비율: %s'%(max_len, (cnt / len(nested_list))))\n",
        "print('done')"
      ],
      "metadata": {
        "colab": {
          "base_uri": "https://localhost:8080/"
        },
        "id": "aoEy8x7JYMPJ",
        "outputId": "3ab6f6fb-fc21-4cb2-dad7-ce4ed0096082"
      },
      "execution_count": 20,
      "outputs": [
        {
          "output_type": "stream",
          "name": "stdout",
          "text": [
            "done\n"
          ]
        }
      ]
    },
    {
      "cell_type": "code",
      "source": [
        "below_threshold_len(text_max_len, data['Text'])\n",
        "below_threshold_len(summary_max_len, data['Summary'])"
      ],
      "metadata": {
        "colab": {
          "base_uri": "https://localhost:8080/"
        },
        "id": "hAYIZlcSYtPR",
        "outputId": "be15cd6a-d817-44d8-a22f-5fee89f357a2"
      },
      "execution_count": 21,
      "outputs": [
        {
          "output_type": "stream",
          "name": "stdout",
          "text": [
            "전체 샘플 중 길이가 50 이하인 샘플 비율: 0.7745119121724859\n",
            "전체 샘플 중 길이가 8 이하인 샘플 비율: 0.9424593967517402\n"
          ]
        }
      ]
    },
    {
      "cell_type": "code",
      "source": [
        "# 최대 길이보다 작은 데이터만 가져오기\n",
        "data = data[data['Text'].apply(lambda x: len(x.split()) <= text_max_len)]\n",
        "data = data[data['Summary'].apply(lambda x: len(x.split()) <= summary_max_len)]\n",
        "print('전체 샘플수 :', len(data))"
      ],
      "metadata": {
        "colab": {
          "base_uri": "https://localhost:8080/"
        },
        "id": "p1t3QI0DZKCB",
        "outputId": "d2e8213b-20b0-45d9-eba8-442ed63a6fc7"
      },
      "execution_count": 22,
      "outputs": [
        {
          "output_type": "stream",
          "name": "stdout",
          "text": [
            "전체 샘플수 : 65818\n"
          ]
        }
      ]
    },
    {
      "cell_type": "markdown",
      "source": [
        "### 시작 토큰(SOS)과 종료 토큰(EOS) 추가하기"
      ],
      "metadata": {
        "id": "GJhC9j2mZ8lM"
      }
    },
    {
      "cell_type": "markdown",
      "source": [
        "![image.png](data:image/png;base64,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)"
      ],
      "metadata": {
        "id": "-6IWR09SaBDx"
      }
    },
    {
      "cell_type": "code",
      "source": [
        "# 요약 데이터에 시작 토큰과 종료 토큰 추가\n",
        "data['decoder_input'] = data['Summary'].apply(lambda x: 'sostoken '+ x)\n",
        "data['decoder_target'] = data['Summary'].apply(lambda x: x + ' eostoken')\n",
        "data.head()"
      ],
      "metadata": {
        "colab": {
          "base_uri": "https://localhost:8080/",
          "height": 577
        },
        "id": "cdrvQPKsZyX4",
        "outputId": "57f7c9aa-856f-443f-a370-bbff17019ec5"
      },
      "execution_count": 23,
      "outputs": [
        {
          "output_type": "stream",
          "name": "stderr",
          "text": [
            "/usr/local/lib/python3.7/dist-packages/ipykernel_launcher.py:2: SettingWithCopyWarning: \n",
            "A value is trying to be set on a copy of a slice from a DataFrame.\n",
            "Try using .loc[row_indexer,col_indexer] = value instead\n",
            "\n",
            "See the caveats in the documentation: https://pandas.pydata.org/pandas-docs/stable/user_guide/indexing.html#returning-a-view-versus-a-copy\n",
            "  \n",
            "/usr/local/lib/python3.7/dist-packages/ipykernel_launcher.py:3: SettingWithCopyWarning: \n",
            "A value is trying to be set on a copy of a slice from a DataFrame.\n",
            "Try using .loc[row_indexer,col_indexer] = value instead\n",
            "\n",
            "See the caveats in the documentation: https://pandas.pydata.org/pandas-docs/stable/user_guide/indexing.html#returning-a-view-versus-a-copy\n",
            "  This is separate from the ipykernel package so we can avoid doing imports until\n"
          ]
        },
        {
          "output_type": "execute_result",
          "data": {
            "text/html": [
              "\n",
              "  <div id=\"df-80257699-7603-48bc-814b-29ee17fc3bac\">\n",
              "    <div class=\"colab-df-container\">\n",
              "      <div>\n",
              "<style scoped>\n",
              "    .dataframe tbody tr th:only-of-type {\n",
              "        vertical-align: middle;\n",
              "    }\n",
              "\n",
              "    .dataframe tbody tr th {\n",
              "        vertical-align: top;\n",
              "    }\n",
              "\n",
              "    .dataframe thead th {\n",
              "        text-align: right;\n",
              "    }\n",
              "</style>\n",
              "<table border=\"1\" class=\"dataframe\">\n",
              "  <thead>\n",
              "    <tr style=\"text-align: right;\">\n",
              "      <th></th>\n",
              "      <th>Text</th>\n",
              "      <th>Summary</th>\n",
              "      <th>decoder_input</th>\n",
              "      <th>decoder_target</th>\n",
              "    </tr>\n",
              "  </thead>\n",
              "  <tbody>\n",
              "    <tr>\n",
              "      <th>0</th>\n",
              "      <td>bought several vitality canned dog food produc...</td>\n",
              "      <td>good quality dog food</td>\n",
              "      <td>sostoken good quality dog food</td>\n",
              "      <td>good quality dog food eostoken</td>\n",
              "    </tr>\n",
              "    <tr>\n",
              "      <th>1</th>\n",
              "      <td>product arrived labeled jumbo salted peanuts p...</td>\n",
              "      <td>not as advertised</td>\n",
              "      <td>sostoken not as advertised</td>\n",
              "      <td>not as advertised eostoken</td>\n",
              "    </tr>\n",
              "    <tr>\n",
              "      <th>2</th>\n",
              "      <td>confection around centuries light pillowy citr...</td>\n",
              "      <td>delight says it all</td>\n",
              "      <td>sostoken delight says it all</td>\n",
              "      <td>delight says it all eostoken</td>\n",
              "    </tr>\n",
              "    <tr>\n",
              "      <th>3</th>\n",
              "      <td>looking secret ingredient robitussin believe f...</td>\n",
              "      <td>cough medicine</td>\n",
              "      <td>sostoken cough medicine</td>\n",
              "      <td>cough medicine eostoken</td>\n",
              "    </tr>\n",
              "    <tr>\n",
              "      <th>4</th>\n",
              "      <td>great taffy great price wide assortment yummy ...</td>\n",
              "      <td>great taffy</td>\n",
              "      <td>sostoken great taffy</td>\n",
              "      <td>great taffy eostoken</td>\n",
              "    </tr>\n",
              "  </tbody>\n",
              "</table>\n",
              "</div>\n",
              "      <button class=\"colab-df-convert\" onclick=\"convertToInteractive('df-80257699-7603-48bc-814b-29ee17fc3bac')\"\n",
              "              title=\"Convert this dataframe to an interactive table.\"\n",
              "              style=\"display:none;\">\n",
              "        \n",
              "  <svg xmlns=\"http://www.w3.org/2000/svg\" height=\"24px\"viewBox=\"0 0 24 24\"\n",
              "       width=\"24px\">\n",
              "    <path d=\"M0 0h24v24H0V0z\" fill=\"none\"/>\n",
              "    <path d=\"M18.56 5.44l.94 2.06.94-2.06 2.06-.94-2.06-.94-.94-2.06-.94 2.06-2.06.94zm-11 1L8.5 8.5l.94-2.06 2.06-.94-2.06-.94L8.5 2.5l-.94 2.06-2.06.94zm10 10l.94 2.06.94-2.06 2.06-.94-2.06-.94-.94-2.06-.94 2.06-2.06.94z\"/><path d=\"M17.41 7.96l-1.37-1.37c-.4-.4-.92-.59-1.43-.59-.52 0-1.04.2-1.43.59L10.3 9.45l-7.72 7.72c-.78.78-.78 2.05 0 2.83L4 21.41c.39.39.9.59 1.41.59.51 0 1.02-.2 1.41-.59l7.78-7.78 2.81-2.81c.8-.78.8-2.07 0-2.86zM5.41 20L4 18.59l7.72-7.72 1.47 1.35L5.41 20z\"/>\n",
              "  </svg>\n",
              "      </button>\n",
              "      \n",
              "  <style>\n",
              "    .colab-df-container {\n",
              "      display:flex;\n",
              "      flex-wrap:wrap;\n",
              "      gap: 12px;\n",
              "    }\n",
              "\n",
              "    .colab-df-convert {\n",
              "      background-color: #E8F0FE;\n",
              "      border: none;\n",
              "      border-radius: 50%;\n",
              "      cursor: pointer;\n",
              "      display: none;\n",
              "      fill: #1967D2;\n",
              "      height: 32px;\n",
              "      padding: 0 0 0 0;\n",
              "      width: 32px;\n",
              "    }\n",
              "\n",
              "    .colab-df-convert:hover {\n",
              "      background-color: #E2EBFA;\n",
              "      box-shadow: 0px 1px 2px rgba(60, 64, 67, 0.3), 0px 1px 3px 1px rgba(60, 64, 67, 0.15);\n",
              "      fill: #174EA6;\n",
              "    }\n",
              "\n",
              "    [theme=dark] .colab-df-convert {\n",
              "      background-color: #3B4455;\n",
              "      fill: #D2E3FC;\n",
              "    }\n",
              "\n",
              "    [theme=dark] .colab-df-convert:hover {\n",
              "      background-color: #434B5C;\n",
              "      box-shadow: 0px 1px 3px 1px rgba(0, 0, 0, 0.15);\n",
              "      filter: drop-shadow(0px 1px 2px rgba(0, 0, 0, 0.3));\n",
              "      fill: #FFFFFF;\n",
              "    }\n",
              "  </style>\n",
              "\n",
              "      <script>\n",
              "        const buttonEl =\n",
              "          document.querySelector('#df-80257699-7603-48bc-814b-29ee17fc3bac button.colab-df-convert');\n",
              "        buttonEl.style.display =\n",
              "          google.colab.kernel.accessAllowed ? 'block' : 'none';\n",
              "\n",
              "        async function convertToInteractive(key) {\n",
              "          const element = document.querySelector('#df-80257699-7603-48bc-814b-29ee17fc3bac');\n",
              "          const dataTable =\n",
              "            await google.colab.kernel.invokeFunction('convertToInteractive',\n",
              "                                                     [key], {});\n",
              "          if (!dataTable) return;\n",
              "\n",
              "          const docLinkHtml = 'Like what you see? Visit the ' +\n",
              "            '<a target=\"_blank\" href=https://colab.research.google.com/notebooks/data_table.ipynb>data table notebook</a>'\n",
              "            + ' to learn more about interactive tables.';\n",
              "          element.innerHTML = '';\n",
              "          dataTable['output_type'] = 'display_data';\n",
              "          await google.colab.output.renderOutput(dataTable, element);\n",
              "          const docLink = document.createElement('div');\n",
              "          docLink.innerHTML = docLinkHtml;\n",
              "          element.appendChild(docLink);\n",
              "        }\n",
              "      </script>\n",
              "    </div>\n",
              "  </div>\n",
              "  "
            ],
            "text/plain": [
              "                                                Text  ...                  decoder_target\n",
              "0  bought several vitality canned dog food produc...  ...  good quality dog food eostoken\n",
              "1  product arrived labeled jumbo salted peanuts p...  ...      not as advertised eostoken\n",
              "2  confection around centuries light pillowy citr...  ...    delight says it all eostoken\n",
              "3  looking secret ingredient robitussin believe f...  ...         cough medicine eostoken\n",
              "4  great taffy great price wide assortment yummy ...  ...            great taffy eostoken\n",
              "\n",
              "[5 rows x 4 columns]"
            ]
          },
          "metadata": {},
          "execution_count": 23
        }
      ]
    },
    {
      "cell_type": "code",
      "source": [
        "encoder_input = np.array(data['Text']) # 인코더 입력\n",
        "decoder_input = np.array(data['decoder_input']) # 디코더 입력\n",
        "decoder_target = np.array(data['decoder_target']) # 디코더 레이블"
      ],
      "metadata": {
        "id": "y1R_NJBcbOpO"
      },
      "execution_count": 24,
      "outputs": []
    },
    {
      "cell_type": "code",
      "source": [
        "# 랜덤하게 섞인 정수 시퀸스 생성\n",
        "indices = np.arange(encoder_input.shape[0])\n",
        "np.random.shuffle(indices)\n",
        "print(indices)"
      ],
      "metadata": {
        "colab": {
          "base_uri": "https://localhost:8080/"
        },
        "id": "wLa0laUWbsUZ",
        "outputId": "2013f3a5-b616-48e1-d824-94abd32715b6"
      },
      "execution_count": 25,
      "outputs": [
        {
          "output_type": "stream",
          "name": "stdout",
          "text": [
            "[26971 22960  8095 ... 16272 44049 16271]\n"
          ]
        }
      ]
    },
    {
      "cell_type": "code",
      "source": [
        "# 정수 시퀸스를 이용 샘플 순서를 정의\n",
        "encoder_input = encoder_input[indices]\n",
        "decoder_input = decoder_input[indices]\n",
        "decoder_target = decoder_target[indices]"
      ],
      "metadata": {
        "id": "8As06F0cb-G9"
      },
      "execution_count": 26,
      "outputs": []
    },
    {
      "cell_type": "markdown",
      "source": [
        "## 데이터 분리"
      ],
      "metadata": {
        "id": "UK0Dk1zPc1Qi"
      }
    },
    {
      "cell_type": "code",
      "source": [
        "# 데이터셋 중 20%를 테스트 셋으로 분리\n",
        "n_of_val = int(len(encoder_input) * 0.2)\n",
        "print('테스트 데이터 수: {}'.format(n_of_val))"
      ],
      "metadata": {
        "colab": {
          "base_uri": "https://localhost:8080/"
        },
        "id": "tZh7i8DWcNbl",
        "outputId": "16a71919-95b6-4b4b-fbb2-701dfa1a1d4d"
      },
      "execution_count": 27,
      "outputs": [
        {
          "output_type": "stream",
          "name": "stdout",
          "text": [
            "테스트 데이터 수: 13163\n"
          ]
        }
      ]
    },
    {
      "cell_type": "code",
      "source": [
        "encoder_input_train = encoder_input[:-n_of_val]\n",
        "decoder_input_train = decoder_input[:-n_of_val]\n",
        "decoder_target_train = decoder_target[:-n_of_val]\n",
        "\n",
        "encoder_input_test = encoder_input[-n_of_val:]\n",
        "decoder_input_test = decoder_input[-n_of_val:]\n",
        "decoder_target_test = decoder_target[-n_of_val:]\n",
        "\n",
        "print(\"훈련 데이터 개수 : {}\".format(len(encoder_input_train)))\n",
        "print(f\"훈련 레이블 개수 : {len(decoder_input_train)}\")\n",
        "print(f\"테스트 데이터 개수 : {len(encoder_input_test)}\")\n",
        "print(f\"테스트 레이블 개수 : {len(decoder_input_test)}\")"
      ],
      "metadata": {
        "colab": {
          "base_uri": "https://localhost:8080/"
        },
        "id": "jpvBfv-bcp4l",
        "outputId": "8bf7bbe4-3e40-4627-c928-46303c78ec27"
      },
      "execution_count": 28,
      "outputs": [
        {
          "output_type": "stream",
          "name": "stdout",
          "text": [
            "훈련 데이터 개수 : 52655\n",
            "훈련 레이블 개수 : 52655\n",
            "테스트 데이터 개수 : 13163\n",
            "테스트 레이블 개수 : 13163\n"
          ]
        }
      ]
    },
    {
      "cell_type": "markdown",
      "source": [
        "### 정수인코딩"
      ],
      "metadata": {
        "id": "FjaHKdcZf3KX"
      }
    },
    {
      "cell_type": "code",
      "source": [
        "src_tokenizer = Tokenizer() # 토크나이저 정의\n",
        "src_tokenizer.fit_on_texts(encoder_input_train) # 입력된 데이터로부터 단어 집합 생성\n"
      ],
      "metadata": {
        "id": "1OMHMYtLft57"
      },
      "execution_count": 29,
      "outputs": []
    },
    {
      "cell_type": "code",
      "source": [
        "threshold = 7\n",
        "total_cnt = len(src_tokenizer.word_index) # 단어 수\n",
        "rare_cnt = 0 # 빈도수가 threshold보다 작은 단어개수 카운트\n",
        "total_freq = 0 # 훈련데이터의 전체 단어 빈도수 총합\n",
        "rare_freq = 0 # 빈도수가 threshold보다 작은 단어 등장 빈도수 총합\n",
        "\n",
        "for key, value in src_tokenizer.word_counts.items():\n",
        "    total_freq = total_freq + value\n",
        "\n",
        "    if(value < threshold):\n",
        "        rare_cnt = rare_cnt + 1\n",
        "        rare_freq = rare_freq + value\n",
        "\n",
        "print(f\"단어 집합(vocab) 크기 : {total_cnt}\")\n",
        "print(f\"등장 빈도가 {threshold-1}번 이하인 희귀 단어 수{rare_cnt}\")\n",
        "print(f\"단어 집합에서 희귀 단어 제외 후 단어 집합 크기 {total_cnt - rare_cnt}\")\n",
        "print(f\"단어 집합에서 희귀 단어 비율: {(rare_cnt / total_cnt)*100}\")\n",
        "print(f\"전체 등장 빈도에서 희귀 단어 등장 빈도 비율: {(rare_freq / total_freq)*100}\")"
      ],
      "metadata": {
        "colab": {
          "base_uri": "https://localhost:8080/"
        },
        "id": "KLP5mtaJgFi5",
        "outputId": "05070aee-7fd8-4708-ba48-1c87dd4bce72"
      },
      "execution_count": 30,
      "outputs": [
        {
          "output_type": "stream",
          "name": "stdout",
          "text": [
            "단어 집합(vocab) 크기 : 32019\n",
            "등장 빈도가 6번 이하인 희귀 단어 수23758\n",
            "단어 집합에서 희귀 단어 제외 후 단어 집합 크기 8261\n",
            "단어 집합에서 희귀 단어 비율: 74.19969393172804\n",
            "전체 등장 빈도에서 희귀 단어 등장 빈도 비율: 3.388398220349939\n"
          ]
        }
      ]
    },
    {
      "cell_type": "markdown",
      "source": [
        "6회 이하 빈도의 단어들은 단어 집합에서 70% 이상 차지하지만   \n",
        "실제 훈련 데이터에서 등장 빈도는 3%에 불과"
      ],
      "metadata": {
        "id": "7s3CFJjqhouO"
      }
    },
    {
      "cell_type": "code",
      "source": [
        "src_vocab = 8000\n",
        "src_tokenizer = Tokenizer(num_words=src_vocab) # 단어 집합 크기 8000개로 제한\n",
        "src_tokenizer.fit_on_texts(encoder_input_train) # 단어 집합 재생성"
      ],
      "metadata": {
        "id": "o8-CXgs6hxwz"
      },
      "execution_count": 31,
      "outputs": []
    },
    {
      "cell_type": "code",
      "source": [
        "# 텍스트 시퀸스를 정수 시퀸스로 변환\n",
        "encoder_input_train = src_tokenizer.texts_to_sequences(encoder_input_train)\n",
        "encoder_input_test = src_tokenizer.texts_to_sequences(encoder_input_test)\n",
        "print(encoder_input_train[:3])"
      ],
      "metadata": {
        "colab": {
          "base_uri": "https://localhost:8080/"
        },
        "id": "Mj93CZhwiK0Q",
        "outputId": "b7236cde-58f4-41fe-de9c-0b9e194136ef"
      },
      "execution_count": 32,
      "outputs": [
        {
          "output_type": "stream",
          "name": "stdout",
          "text": [
            "[[280, 18, 1, 176, 1989, 195, 143, 37, 31, 1989, 612, 803, 484, 3, 3461, 458, 132, 1], [1009, 1737, 85, 355, 23, 1865, 82, 1216, 731, 1160, 925, 580, 51, 71, 944, 88, 1398, 4492, 3462, 444, 457, 190, 88, 156, 67, 5296, 205, 503, 2201, 2431, 910], [109, 4070, 286, 333, 844, 515, 377, 560, 612, 311, 6, 109, 463, 17, 124, 20]]\n"
          ]
        }
      ]
    },
    {
      "cell_type": "markdown",
      "source": [
        "Summary 데이터에 대한 작업 수행"
      ],
      "metadata": {
        "id": "4Q2vK0h1isaF"
      }
    },
    {
      "cell_type": "code",
      "source": [
        "target_tokenizer = Tokenizer()\n",
        "target_tokenizer.fit_on_texts(decoder_input_train)"
      ],
      "metadata": {
        "id": "xo3WpIsvicq4"
      },
      "execution_count": 33,
      "outputs": []
    },
    {
      "cell_type": "code",
      "source": [
        "threshold = 6\n",
        "total_cnt = len(target_tokenizer.word_index) # 단어의 수\n",
        "rare_cnt = 0 # 빈도수가 threshold보다 작은 단어 수 카운트\n",
        "total_freq = 0 # 훈련 데이터의 전체 단어 빈도수 총합\n",
        "rare_freq = 0 # 빈도수가 threshold보다 작은 단어의 등장 빈도수 총합\n",
        "\n",
        "for key, value in target_tokenizer.word_counts.items():\n",
        "    total_freq = total_freq + value\n",
        "\n",
        "    if(value < threshold):\n",
        "        rare_cnt = rare_cnt + 1\n",
        "        rare_freq = rare_freq + value\n",
        "\n",
        "print('단어 집합(vocabulary)의 크기 :', total_cnt)\n",
        "print('등장 빈도가 %s번 이하인 희귀 단어의 수: %s'%(threshold - 1, rare_cnt))\n",
        "print('단어 집합에서 희귀 단어를 제외시킬 경우의 단어 집합의 크기 %s'%(total_cnt - rare_cnt))\n",
        "print(\"단어 집합에서 희귀 단어의 비율:\", (rare_cnt / total_cnt)*100)\n",
        "print(\"전체 등장 빈도에서 희귀 단어 등장 빈도 비율:\", (rare_freq / total_freq)*100)"
      ],
      "metadata": {
        "colab": {
          "base_uri": "https://localhost:8080/"
        },
        "id": "R5KecX6GiwqG",
        "outputId": "28de5da7-14c1-4644-b14f-5a078099d7e5"
      },
      "execution_count": 34,
      "outputs": [
        {
          "output_type": "stream",
          "name": "stdout",
          "text": [
            "단어 집합(vocabulary)의 크기 : 10504\n",
            "등장 빈도가 5번 이하인 희귀 단어의 수: 8120\n",
            "단어 집합에서 희귀 단어를 제외시킬 경우의 단어 집합의 크기 2384\n",
            "단어 집합에서 희귀 단어의 비율: 77.3038842345773\n",
            "전체 등장 빈도에서 희귀 단어 등장 빈도 비율: 5.889556267489943\n"
          ]
        }
      ]
    },
    {
      "cell_type": "markdown",
      "source": [
        "단어 집합의 약 77%를 차지하지만  \n",
        "훈련 데이터 등장 빈도는 5.87%"
      ],
      "metadata": {
        "id": "s-dyZpXdjxJd"
      }
    },
    {
      "cell_type": "code",
      "source": [
        "tar_vocab = 2000\n",
        "tar_tokenizer = Tokenizer(num_words=tar_vocab) \n",
        "tar_tokenizer.fit_on_texts(decoder_input_train)\n",
        "tar_tokenizer.fit_on_texts(decoder_target_train)\n",
        "\n",
        "# 텍스트 시퀀스를 정수 시퀀스로 변환\n",
        "decoder_input_train = tar_tokenizer.texts_to_sequences(decoder_input_train) \n",
        "decoder_target_train = tar_tokenizer.texts_to_sequences(decoder_target_train)\n",
        "decoder_input_test = tar_tokenizer.texts_to_sequences(decoder_input_test)\n",
        "decoder_target_test = tar_tokenizer.texts_to_sequences(decoder_target_test)\n",
        "\n",
        "# 잘 변환되었는지 확인\n",
        "print('input')\n",
        "print('input ',decoder_input_train[:5])\n",
        "print('target')\n",
        "print('decoder ',decoder_target_train[:5])"
      ],
      "metadata": {
        "colab": {
          "base_uri": "https://localhost:8080/"
        },
        "id": "PJfhywi1jtxv",
        "outputId": "87370de0-411c-4b1e-d158-2d99782005b7"
      },
      "execution_count": 35,
      "outputs": [
        {
          "output_type": "stream",
          "name": "stdout",
          "text": [
            "input\n",
            "input  [[1, 41], [1, 1547, 300, 3, 31], [1, 184, 71, 74], [1, 5, 8], [1, 49, 35, 102, 25]]\n",
            "target\n",
            "decoder  [[41, 2], [1547, 300, 3, 31, 2], [184, 71, 74, 2], [5, 8, 2], [49, 35, 102, 25, 2]]\n"
          ]
        }
      ]
    },
    {
      "cell_type": "markdown",
      "source": [
        "전처리를 거치면서 비어버린 요약문 처리"
      ],
      "metadata": {
        "id": "x-re0QpnmAX5"
      }
    },
    {
      "cell_type": "code",
      "source": [
        "drop_train = [index for index, sentence in enumerate(decoder_input_train) if len(sentence) == 1]\n",
        "drop_test = [index for index, sentence in enumerate(decoder_input_test) if len(sentence) == 1]\n",
        "\n",
        "print(f'삭제할 훈련 데이터 개수 : {len(drop_train)}')\n",
        "print(f\"삭제할 테스트 데이터 개수 : {len(drop_test)}\")\n",
        "\n",
        "encoder_input_train = [sentence for index, sentence in enumerate(encoder_input_train) if index not in drop_train]\n",
        "decoder_input_train = [sentence for index, sentence in enumerate(decoder_input_train) if index not in drop_train]\n",
        "decoder_target_train = [sentence for index, sentence in enumerate(decoder_target_train) if index not in drop_train]\n",
        "\n",
        "encoder_input_test = [sentence for index, sentence in enumerate(encoder_input_test) if index not in drop_test]\n",
        "decoder_input_test = [sentence for index, sentence in enumerate(decoder_input_test) if index not in drop_test]\n",
        "decoder_target_test = [sentence for index, sentence in enumerate(decoder_target_test) if index not in drop_test]\n",
        "\n",
        "print('훈련 데이터 개수', len(encoder_input_train))\n",
        "print('훈련 레이블 개수', len(decoder_input_train))\n",
        "print('테스트 데이터 개수', len(encoder_input_test))\n",
        "print('테스트 레이블 개수', len(decoder_input_test))"
      ],
      "metadata": {
        "colab": {
          "base_uri": "https://localhost:8080/"
        },
        "id": "tfip3mwUlndX",
        "outputId": "33d4f54d-199f-44b5-e8ad-ad57bc51420c"
      },
      "execution_count": 36,
      "outputs": [
        {
          "output_type": "stream",
          "name": "stdout",
          "text": [
            "삭제할 훈련 데이터 개수 : 1278\n",
            "삭제할 테스트 데이터 개수 : 337\n",
            "훈련 데이터 개수 51377\n",
            "훈련 레이블 개수 51377\n",
            "테스트 데이터 개수 12826\n",
            "테스트 레이블 개수 12826\n"
          ]
        }
      ]
    },
    {
      "cell_type": "code",
      "source": [
        "encoder_input_train = pad_sequences(encoder_input_train, maxlen=text_max_len, padding='post')\n",
        "encoder_input_test = pad_sequences(encoder_input_test, maxlen=text_max_len, padding='post')\n",
        "decoder_input_train = pad_sequences(decoder_input_train, maxlen=summary_max_len, padding='post')\n",
        "decoder_target_train = pad_sequences(decoder_target_train, maxlen=summary_max_len, padding='post')\n",
        "decoder_input_test = pad_sequences(decoder_input_test, maxlen=summary_max_len, padding='post')\n",
        "decoder_target_test = pad_sequences(decoder_target_test, maxlen=summary_max_len, padding='post')\n"
      ],
      "metadata": {
        "id": "Kes5A5nxnnps"
      },
      "execution_count": 37,
      "outputs": []
    },
    {
      "cell_type": "markdown",
      "source": [
        "## 모델 설계하기"
      ],
      "metadata": {
        "id": "G_R6QIOOr3Pb"
      }
    },
    {
      "cell_type": "code",
      "source": [
        "from tensorflow.keras.layers import Input, LSTM, Embedding, Dense, Concatenate, TimeDistributed\n",
        "from tensorflow.keras.models import Model\n",
        "from tensorflow.keras.callbacks import EarlyStopping, ModelCheckpoint"
      ],
      "metadata": {
        "id": "sm5peUTRn2Hp"
      },
      "execution_count": 38,
      "outputs": []
    },
    {
      "cell_type": "code",
      "source": [
        "embedding_dim = 128\n",
        "hidden_size = 256 \n",
        "\n",
        "# 인코더\n",
        "encoder_inputs = Input(shape=(text_max_len,))\n",
        "# 인코더 임베딩\n",
        "enc_emb = Embedding(src_vocab, embedding_dim)(encoder_inputs)\n",
        "\n",
        "# 인코더 LSTM1\n",
        "encoder_lstm1 = LSTM(hidden_size, return_sequences=True, return_state=True, dropout = 0.4, recurrent_dropout = 0.4)\n",
        "encoder_output1, state_h1, state_c1 = encoder_lstm1(enc_emb)\n",
        "# 인코더 LSTM2\n",
        "encoder_lstm2 = LSTM(hidden_size, return_sequences=True, return_state=True, dropout=0.4, recurrent_dropout=0.4)\n",
        "encoder_output2, state_h2, state_c2 = encoder_lstm2(encoder_output1)\n",
        "# 인코더 LSTM3\n",
        "encoder_lstm3 = LSTM(hidden_size, return_state=True, return_sequences=True, dropout=0.4, recurrent_dropout=0.4)\n",
        "encoder_outputs, state_h, state_c = encoder_lstm3(encoder_output2)"
      ],
      "metadata": {
        "colab": {
          "base_uri": "https://localhost:8080/"
        },
        "id": "C3LaVrtt4MfB",
        "outputId": "e4423834-d7c0-403a-ff21-a18f33e783f2"
      },
      "execution_count": 39,
      "outputs": [
        {
          "output_type": "stream",
          "name": "stdout",
          "text": [
            "WARNING:tensorflow:Layer lstm will not use cuDNN kernels since it doesn't meet the criteria. It will use a generic GPU kernel as fallback when running on GPU.\n",
            "WARNING:tensorflow:Layer lstm_1 will not use cuDNN kernels since it doesn't meet the criteria. It will use a generic GPU kernel as fallback when running on GPU.\n",
            "WARNING:tensorflow:Layer lstm_2 will not use cuDNN kernels since it doesn't meet the criteria. It will use a generic GPU kernel as fallback when running on GPU.\n"
          ]
        }
      ]
    },
    {
      "cell_type": "markdown",
      "source": [
        "hidden state : LSTM의 수용력(capacity)를 정하는 파라미터  \n",
        "LSTM의 뉴런 개수와 비슷한 개념  \n",
        "\n",
        "dropout: 일반적으로 레이어에 드롭아웃  \n",
        "recurrent dropout : dropout을 레이어가 아닌 time step마다 해주는 방식  \n",
        "\n",
        "아래 그림은 일반적인 dropout과, dropout과 recurrent dropout을 동시에 사용한 것을 시각적으로 표현한 것입니다. 색이 있는 화살표는 dropout을 나타낸 것이에요. (색이 다른 것은 다른 dropout mask를 사용했다는 표시인데, 지금은 그냥 넘어가셔도 됩니다.) 우리가 현재 사용한 LSTM은 dropout과 recurrent dropout을 모두 사용했으니 오른쪽 그림과 같은 형태겠군요. 참고로 dropout과 recurrent dropout을 모두 사용한 것을 Variational Dropout이라고도 해요."
      ],
      "metadata": {
        "id": "vyldEJ-07ysn"
      }
    },
    {
      "cell_type": "markdown",
      "source": [
        "![image.png](data:image/png;base64,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)"
      ],
      "metadata": {
        "id": "sy6d0YF18PIm"
      }
    },
    {
      "cell_type": "markdown",
      "source": [
        "[Recurrent Dropout without Memory Loss](https://arxiv.org/pdf/1603.05118v2.pdf)"
      ],
      "metadata": {
        "id": "VJtj_a738bc6"
      }
    },
    {
      "cell_type": "markdown",
      "source": [
        "인코더의 임베딩과 LSTM을 설계하는것과 비슷하지만\n",
        "LSTM의 입력을 정의할 때 initial_state 인자 값으로 인코더의 hidden state와 cell state값을 넣어야 함"
      ],
      "metadata": {
        "id": "qoLKmVJ19T3C"
      }
    },
    {
      "cell_type": "code",
      "source": [
        "# 디코더 설계\n",
        "decoder_inputs = Input(shape=(None,))\n",
        "\n",
        "# 디코더의 임베딩 층\n",
        "dec_emb_layer = Embedding(tar_vocab, embedding_dim)\n",
        "dec_emb = dec_emb_layer(decoder_inputs)\n",
        "\n",
        "# 디코더의 LSTM\n",
        "decoder_lstm = LSTM(hidden_size, return_sequences=True, return_state=True, dropout=0.4, recurrent_dropout=0.2)\n",
        "decoder_outputs, _, _ = decoder_lstm(dec_emb, initial_state=[state_h, state_c])"
      ],
      "metadata": {
        "colab": {
          "base_uri": "https://localhost:8080/"
        },
        "id": "ffHAmPPS7cOO",
        "outputId": "744604a6-d505-47ae-a776-bf05fc404281"
      },
      "execution_count": 40,
      "outputs": [
        {
          "output_type": "stream",
          "name": "stdout",
          "text": [
            "WARNING:tensorflow:Layer lstm_3 will not use cuDNN kernels since it doesn't meet the criteria. It will use a generic GPU kernel as fallback when running on GPU.\n"
          ]
        }
      ]
    },
    {
      "cell_type": "code",
      "source": [
        "decoder_softmax_layer = Dense(tar_vocab, activation='softmax')\n",
        "decoder_softmax_outputs = decoder_softmax_layer(decoder_outputs)\n",
        "\n",
        "#모델 정의\n",
        "model = Model([encoder_inputs,decoder_inputs],decoder_softmax_outputs)\n",
        "model.summary()"
      ],
      "metadata": {
        "colab": {
          "base_uri": "https://localhost:8080/"
        },
        "id": "gxK6UfyJ8-ME",
        "outputId": "08376049-a45a-462e-faf6-2fbffefbe66f"
      },
      "execution_count": 41,
      "outputs": [
        {
          "output_type": "stream",
          "name": "stdout",
          "text": [
            "Model: \"model\"\n",
            "__________________________________________________________________________________________________\n",
            " Layer (type)                   Output Shape         Param #     Connected to                     \n",
            "==================================================================================================\n",
            " input_1 (InputLayer)           [(None, 50)]         0           []                               \n",
            "                                                                                                  \n",
            " embedding (Embedding)          (None, 50, 128)      1024000     ['input_1[0][0]']                \n",
            "                                                                                                  \n",
            " lstm (LSTM)                    [(None, 50, 256),    394240      ['embedding[0][0]']              \n",
            "                                 (None, 256),                                                     \n",
            "                                 (None, 256)]                                                     \n",
            "                                                                                                  \n",
            " input_2 (InputLayer)           [(None, None)]       0           []                               \n",
            "                                                                                                  \n",
            " lstm_1 (LSTM)                  [(None, 50, 256),    525312      ['lstm[0][0]']                   \n",
            "                                 (None, 256),                                                     \n",
            "                                 (None, 256)]                                                     \n",
            "                                                                                                  \n",
            " embedding_1 (Embedding)        (None, None, 128)    256000      ['input_2[0][0]']                \n",
            "                                                                                                  \n",
            " lstm_2 (LSTM)                  [(None, 50, 256),    525312      ['lstm_1[0][0]']                 \n",
            "                                 (None, 256),                                                     \n",
            "                                 (None, 256)]                                                     \n",
            "                                                                                                  \n",
            " lstm_3 (LSTM)                  [(None, None, 256),  394240      ['embedding_1[0][0]',            \n",
            "                                 (None, 256),                     'lstm_2[0][1]',                 \n",
            "                                 (None, 256)]                     'lstm_2[0][2]']                 \n",
            "                                                                                                  \n",
            " dense (Dense)                  (None, None, 2000)   514000      ['lstm_3[0][0]']                 \n",
            "                                                                                                  \n",
            "==================================================================================================\n",
            "Total params: 3,633,104\n",
            "Trainable params: 3,633,104\n",
            "Non-trainable params: 0\n",
            "__________________________________________________________________________________________________\n"
          ]
        }
      ]
    },
    {
      "cell_type": "markdown",
      "source": [
        "단어장인 tar_vocab의 선택지 중 하나의 단어를 선택하는 다중 클래스 분류 문제를 풀기 위해 Dense의 인자로 tar_vocab, 활성함수는 소프트맥스"
      ],
      "metadata": {
        "id": "8lPJ9c1J9vLN"
      }
    },
    {
      "cell_type": "markdown",
      "source": [
        "현재까지 설계한 것이 기본적인 seq2seq  \n",
        "출력층의 설계를 살짝 바꿔서 성능을 높일 수 있는 방법이 바로 어텐션 메커니즘"
      ],
      "metadata": {
        "id": "sZVj1-Dz94hQ"
      }
    },
    {
      "cell_type": "markdown",
      "source": [
        "### 어텐션 메커니즘"
      ],
      "metadata": {
        "id": "WPtFMk-69_vW"
      }
    },
    {
      "cell_type": "markdown",
      "source": [
        "[구현할 어텐션에 대한 설명](https://www.tensorflow.org/api_docs/python/tf/keras/layers/AdditiveAttention)"
      ],
      "metadata": {
        "id": "KLIpgLm7-Foy"
      }
    },
    {
      "cell_type": "code",
      "source": [
        "from tensorflow.keras.layers import AdditiveAttention\n",
        "\n",
        "# 어텐션 층\n",
        "attn_layer = AdditiveAttention(name='attention_layer')\n",
        "# 인코더, 디코더 모든 time step hidden state 어텐션 층에 전달하고 결과 리턴\n",
        "attn_out = attn_layer([decoder_outputs, encoder_outputs])\n",
        "\n",
        "# 어텐션 결과와 디코더 hidden state 연결\n",
        "decoder_concat_input = Concatenate(axis=-1, name='concat_layer')([decoder_outputs, attn_out])\n",
        "\n",
        "# 디코더 출력층\n",
        "decoder_softmax_layer = Dense(tar_vocab, activation='softmax')\n",
        "decoder_softmax_outputs = decoder_softmax_layer(decoder_concat_input)\n",
        "\n",
        "# 모델 정의\n",
        "model = Model([encoder_inputs, decoder_inputs], decoder_softmax_outputs)\n",
        "model.summary()"
      ],
      "metadata": {
        "colab": {
          "base_uri": "https://localhost:8080/"
        },
        "id": "EjNgIhAQ9qIc",
        "outputId": "f4907f02-f5bd-40dd-b7cc-04916c0291eb"
      },
      "execution_count": 42,
      "outputs": [
        {
          "output_type": "stream",
          "name": "stdout",
          "text": [
            "Model: \"model_1\"\n",
            "__________________________________________________________________________________________________\n",
            " Layer (type)                   Output Shape         Param #     Connected to                     \n",
            "==================================================================================================\n",
            " input_1 (InputLayer)           [(None, 50)]         0           []                               \n",
            "                                                                                                  \n",
            " embedding (Embedding)          (None, 50, 128)      1024000     ['input_1[0][0]']                \n",
            "                                                                                                  \n",
            " lstm (LSTM)                    [(None, 50, 256),    394240      ['embedding[0][0]']              \n",
            "                                 (None, 256),                                                     \n",
            "                                 (None, 256)]                                                     \n",
            "                                                                                                  \n",
            " input_2 (InputLayer)           [(None, None)]       0           []                               \n",
            "                                                                                                  \n",
            " lstm_1 (LSTM)                  [(None, 50, 256),    525312      ['lstm[0][0]']                   \n",
            "                                 (None, 256),                                                     \n",
            "                                 (None, 256)]                                                     \n",
            "                                                                                                  \n",
            " embedding_1 (Embedding)        (None, None, 128)    256000      ['input_2[0][0]']                \n",
            "                                                                                                  \n",
            " lstm_2 (LSTM)                  [(None, 50, 256),    525312      ['lstm_1[0][0]']                 \n",
            "                                 (None, 256),                                                     \n",
            "                                 (None, 256)]                                                     \n",
            "                                                                                                  \n",
            " lstm_3 (LSTM)                  [(None, None, 256),  394240      ['embedding_1[0][0]',            \n",
            "                                 (None, 256),                     'lstm_2[0][1]',                 \n",
            "                                 (None, 256)]                     'lstm_2[0][2]']                 \n",
            "                                                                                                  \n",
            " attention_layer (AdditiveAtten  (None, None, 256)   256         ['lstm_3[0][0]',                 \n",
            " tion)                                                            'lstm_2[0][0]']                 \n",
            "                                                                                                  \n",
            " concat_layer (Concatenate)     (None, None, 512)    0           ['lstm_3[0][0]',                 \n",
            "                                                                  'attention_layer[0][0]']        \n",
            "                                                                                                  \n",
            " dense_1 (Dense)                (None, None, 2000)   1026000     ['concat_layer[0][0]']           \n",
            "                                                                                                  \n",
            "==================================================================================================\n",
            "Total params: 4,145,360\n",
            "Trainable params: 4,145,360\n",
            "Non-trainable params: 0\n",
            "__________________________________________________________________________________________________\n"
          ]
        }
      ]
    },
    {
      "cell_type": "code",
      "source": [
        "model.compile(optimizer='rmsprop', loss='sparse_categorical_crossentropy')\n",
        "es = EarlyStopping(monitor='val_loss', patience=2, verbose=1)\n",
        "history = model.fit(x=[encoder_input_train, decoder_input_train], y=decoder_target_train, \\\n",
        "          validation_data=([encoder_input_test, decoder_input_test], decoder_target_test), \\\n",
        "          batch_size=256, callbacks=[es], epochs=50)"
      ],
      "metadata": {
        "colab": {
          "base_uri": "https://localhost:8080/"
        },
        "id": "cKkA3mvc_PS0",
        "outputId": "ab5bc2f8-0906-4751-d018-20b501b8638e"
      },
      "execution_count": null,
      "outputs": [
        {
          "output_type": "stream",
          "name": "stdout",
          "text": [
            "Epoch 1/50\n",
            "201/201 [==============================] - 249s 1s/step - loss: 2.6982 - val_loss: 2.4386\n",
            "Epoch 2/50\n",
            "201/201 [==============================] - 232s 1s/step - loss: 2.3707 - val_loss: 2.2804\n",
            "Epoch 3/50\n",
            "201/201 [==============================] - 241s 1s/step - loss: 2.2141 - val_loss: 2.1599\n",
            "Epoch 4/50\n",
            "201/201 [==============================] - 293s 1s/step - loss: 2.1035 - val_loss: 2.0789\n",
            "Epoch 5/50\n",
            "201/201 [==============================] - 296s 1s/step - loss: 2.0201 - val_loss: 2.0226\n",
            "Epoch 6/50\n",
            "201/201 [==============================] - 283s 1s/step - loss: 1.9535 - val_loss: 1.9799\n",
            "Epoch 7/50\n",
            "201/201 [==============================] - 278s 1s/step - loss: 1.8990 - val_loss: 1.9486\n",
            "Epoch 8/50\n",
            " 44/201 [=====>........................] - ETA: 3:07 - loss: 1.8442"
          ]
        }
      ]
    },
    {
      "cell_type": "markdown",
      "source": [
        "[Early Stopping에 대한 참조 링크](https://www.tensorflow.org/api_docs/python/tf/keras/callbacks/EarlyStopping)"
      ],
      "metadata": {
        "id": "OmuA9sWO_oXG"
      }
    },
    {
      "cell_type": "code",
      "source": [
        "plt.plot(history.history['loss'], label='train')\n",
        "plt.plot(history.history['val_loss'], label='test')\n",
        "plt.legend()\n",
        "plt.show()"
      ],
      "metadata": {
        "id": "dbMW4-x0_j16"
      },
      "execution_count": null,
      "outputs": []
    },
    {
      "cell_type": "markdown",
      "source": [
        "정수 행렬을 텍스트 데이터로"
      ],
      "metadata": {
        "id": "WDenm7wwM5tl"
      }
    },
    {
      "cell_type": "code",
      "source": [
        "src_index_to_word = src_tokenizer.index_word # 원문 단어 집합에서 정수 -> 단어를 얻음\n",
        "tar_word_to_index = tar_tokenizer.word_index # 요약 단어 집합에서 단어 -> 정수를 얻음\n",
        "tar_index_to_word = tar_tokenizer.index_word # 요약 단어 집합에서 정수 -> 단어를 얻음\n",
        "\n",
        "print('=3')"
      ],
      "metadata": {
        "id": "MeID0cw5_vzJ"
      },
      "execution_count": null,
      "outputs": []
    },
    {
      "cell_type": "markdown",
      "source": [
        "### 인코더"
      ],
      "metadata": {
        "id": "OTDeyERFNOgy"
      }
    },
    {
      "cell_type": "code",
      "source": [
        "# 인코더 설계\n",
        "encoder_model = Model(inputs=encoder_inputs, outputs=[encoder_outputs, state_h, state_c])\n",
        "\n",
        "# 이전 시점의 상태들을 저장하는 텐서\n",
        "decoder_state_input_h = Input(shape=(hidden_size,))\n",
        "decoder_state_input_c = Input(shape=(hidden_size,))\n",
        "\n",
        "dec_emb2 = dec_emb_layer(decoder_inputs)\n",
        "\n",
        "# 문장의 다음 단어를 예측하기 위해서 초기 상태(initial_state)를 이전 시점의 상태로 사용. 이는 뒤의 함수 decode_sequence()에 구현\n",
        "# 훈련 과정에서와 달리 LSTM의 리턴하는 은닉 상태와 셀 상태인 state_h와 state_c를 버리지 않음.\n",
        "decoder_outputs2, state_h2, state_c2 = decoder_lstm(dec_emb2, initial_state=[decoder_state_input_h, decoder_state_input_c])\n"
      ],
      "metadata": {
        "id": "LFeI4qAmMYtp"
      },
      "execution_count": null,
      "outputs": []
    },
    {
      "cell_type": "markdown",
      "source": [
        "### 디코더"
      ],
      "metadata": {
        "id": "Xaqnr14LNRyJ"
      }
    },
    {
      "cell_type": "code",
      "source": [
        "# 어텐션 함수\n",
        "decoder_hidden_state_input = Input(shape=(text_max_len, hidden_size))\n",
        "attn_out_inf = attn_layer([decoder_outputs2, decoder_hidden_state_input])\n",
        "decoder_inf_concat = Concatenate(axis=-1, name='concat')([decoder_outputs2, attn_out_inf])\n",
        "\n",
        "# 디코더의 출력층\n",
        "decoder_outputs2 = decoder_softmax_layer(decoder_inf_concat) \n",
        "\n",
        "# 최종 디코더 모델\n",
        "decoder_model = Model(\n",
        "    [decoder_inputs] + [decoder_hidden_state_input,decoder_state_input_h, decoder_state_input_c],\n",
        "    [decoder_outputs2] + [state_h2, state_c2])\n",
        "\n",
        "print('=3')"
      ],
      "metadata": {
        "id": "BLDD_jUuNTX7"
      },
      "execution_count": null,
      "outputs": []
    },
    {
      "cell_type": "markdown",
      "source": [
        "### 인퍼런스, 단어 시퀸스 완성"
      ],
      "metadata": {
        "id": "mGlc0ZYhNXiE"
      }
    },
    {
      "cell_type": "code",
      "source": [
        "def decode_sequence(input_seq):\n",
        "    # 입력으로부터 인코더의 상태를 얻음\n",
        "    e_out, e_h, e_c = encoder_model.predict(input_seq)\n",
        "\n",
        "     # <SOS>에 해당하는 토큰 생성\n",
        "    target_seq = np.zeros((1,1))\n",
        "    target_seq[0, 0] = tar_word_to_index['sostoken']\n",
        "\n",
        "    stop_condition = False\n",
        "    decoded_sentence = ''\n",
        "    while not stop_condition: # stop_condition이 True가 될 때까지 루프 반복\n",
        "\n",
        "        output_tokens, h, c = decoder_model.predict([target_seq] + [e_out, e_h, e_c])\n",
        "        sampled_token_index = np.argmax(output_tokens[0, -1, :])\n",
        "        sampled_token = tar_index_to_word[sampled_token_index]\n",
        "\n",
        "        if (sampled_token!='eostoken'):\n",
        "            decoded_sentence += ' '+sampled_token\n",
        "\n",
        "        #  <eos>에 도달하거나 최대 길이를 넘으면 중단.\n",
        "        if (sampled_token == 'eostoken'  or len(decoded_sentence.split()) >= (summary_max_len-1)):\n",
        "            stop_condition = True\n",
        "\n",
        "        # 길이가 1인 타겟 시퀀스를 업데이트\n",
        "        target_seq = np.zeros((1,1))\n",
        "        target_seq[0, 0] = sampled_token_index\n",
        "\n",
        "        # 상태를 업데이트 합니다.\n",
        "        e_h, e_c = h, c\n",
        "\n",
        "    return decoded_sentence\n",
        "print('=3')"
      ],
      "metadata": {
        "id": "gfy5YO19NZlj"
      },
      "execution_count": null,
      "outputs": []
    },
    {
      "cell_type": "markdown",
      "source": [
        "### 모델 테스트"
      ],
      "metadata": {
        "id": "25vxqnXyN_Hu"
      }
    },
    {
      "cell_type": "code",
      "source": [
        "# 원문의 정수 시퀀스를 텍스트 시퀀스로 변환\n",
        "def seq2text(input_seq):\n",
        "    temp=''\n",
        "    for i in input_seq:\n",
        "        if (i!=0):\n",
        "            temp = temp + src_index_to_word[i]+' '\n",
        "    return temp\n",
        "\n",
        "# 요약문의 정수 시퀀스를 텍스트 시퀀스로 변환\n",
        "def seq2summary(input_seq):\n",
        "    temp=''\n",
        "    for i in input_seq:\n",
        "        if ((i!=0 and i!=tar_word_to_index['sostoken']) and i!=tar_word_to_index['eostoken']):\n",
        "            temp = temp + tar_index_to_word[i] + ' '\n",
        "    return temp\n",
        "\n",
        "print('=3')"
      ],
      "metadata": {
        "id": "vu61VqpqOAL9"
      },
      "execution_count": null,
      "outputs": []
    },
    {
      "cell_type": "markdown",
      "source": [
        "50개 샘플로 확인"
      ],
      "metadata": {
        "id": "byP5HJuCOCa9"
      }
    },
    {
      "cell_type": "code",
      "source": [
        "for i in range(50, 100):\n",
        "    print(\"원문 :\", seq2text(encoder_input_test[i]))\n",
        "    print(\"실제 요약 :\", seq2summary(decoder_input_test[i]))\n",
        "    print(\"예측 요약 :\", decode_sequence(encoder_input_test[i].reshape(1, text_max_len)))\n",
        "    print(\"\\n\")"
      ],
      "metadata": {
        "id": "0Vlbfw_UOE02"
      },
      "execution_count": null,
      "outputs": []
    },
    {
      "cell_type": "markdown",
      "source": [
        "## 추출적 요약"
      ],
      "metadata": {
        "id": "rkIHd0KmOhWs"
      }
    },
    {
      "cell_type": "markdown",
      "source": [
        "summa 설치 확인"
      ],
      "metadata": {
        "id": "mUmlR-piOo2G"
      }
    },
    {
      "cell_type": "code",
      "source": [
        "import requests\n",
        "from summa.summarizer import summarize"
      ],
      "metadata": {
        "id": "iNS_hkQbOjD1"
      },
      "execution_count": null,
      "outputs": []
    },
    {
      "cell_type": "markdown",
      "source": [
        "matrix 시놉시스 다운"
      ],
      "metadata": {
        "id": "Hl6SOu3zOtsk"
      }
    },
    {
      "cell_type": "code",
      "source": [
        "text = requests.get('http://rare-technologies.com/the_matrix_synopsis.txt').text"
      ],
      "metadata": {
        "id": "b-tUEyZWOuyF"
      },
      "execution_count": null,
      "outputs": []
    },
    {
      "cell_type": "code",
      "source": [
        "print(text[:1500])"
      ],
      "metadata": {
        "id": "2Yuugka_Owne"
      },
      "execution_count": null,
      "outputs": []
    },
    {
      "cell_type": "code",
      "source": [
        "print('Summary:')\n",
        "print(summarize(text, ratio=0.005))"
      ],
      "metadata": {
        "id": "RaPhjgYOO2JI"
      },
      "execution_count": null,
      "outputs": []
    },
    {
      "cell_type": "code",
      "source": [
        "# 리스트로 받을 경우\n",
        "print('Summary:')\n",
        "print(summarize(text, ratio=0.005, split=True))"
      ],
      "metadata": {
        "id": "licG6jdCO5Rj"
      },
      "execution_count": null,
      "outputs": []
    },
    {
      "cell_type": "code",
      "source": [
        "# 단어의 수를 정해서 받기\n",
        "print('Summary:')\n",
        "print(summarize(text, words=50))"
      ],
      "metadata": {
        "id": "dLHz6lL-O_Yf"
      },
      "execution_count": null,
      "outputs": []
    },
    {
      "cell_type": "markdown",
      "source": [
        "# 프로젝트 : 뉴스기사 요약"
      ],
      "metadata": {
        "id": "UgG1ue8rPYp4"
      }
    },
    {
      "cell_type": "code",
      "source": [
        "!git clone https://github.com/sunnysai12345/News_Summary.git"
      ],
      "metadata": {
        "id": "T__ZITJgPbg8"
      },
      "execution_count": null,
      "outputs": []
    },
    {
      "cell_type": "code",
      "source": [
        "data = pd.read_csv('https://github.com/sunnysai12345/News_Summary/blob/master/news_summary.csv', encoding='iso-8859-1')"
      ],
      "metadata": {
        "id": "8vSkn76BQI7t"
      },
      "execution_count": null,
      "outputs": []
    },
    {
      "cell_type": "code",
      "source": [
        "data.sample(10)"
      ],
      "metadata": {
        "id": "mcmHmgPeQP-0"
      },
      "execution_count": null,
      "outputs": []
    }
  ]
}