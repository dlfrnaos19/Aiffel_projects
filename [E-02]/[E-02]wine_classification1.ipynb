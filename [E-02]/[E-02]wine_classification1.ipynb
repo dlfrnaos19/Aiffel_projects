{
 "cells": [
  {
   "cell_type": "markdown",
   "id": "dfb1962f",
   "metadata": {},
   "source": [
    "# Wine Classification"
   ]
  },
  {
   "cell_type": "code",
   "execution_count": 25,
   "id": "4798c773",
   "metadata": {},
   "outputs": [],
   "source": [
    "from sklearn.datasets import load_wine\n",
    "from sklearn.model_selection import train_test_split\n",
    "from sklearn.metrics import classification_report\n",
    "import numpy as np"
   ]
  },
  {
   "cell_type": "markdown",
   "id": "87c2676a",
   "metadata": {},
   "source": [
    "# Data feature check"
   ]
  },
  {
   "cell_type": "code",
   "execution_count": 26,
   "id": "e414b915",
   "metadata": {},
   "outputs": [],
   "source": [
    "wine = load_wine()"
   ]
  },
  {
   "cell_type": "code",
   "execution_count": 27,
   "id": "85fb5a61",
   "metadata": {},
   "outputs": [
    {
     "data": {
      "text/plain": [
       "dict_keys(['data', 'target', 'frame', 'target_names', 'DESCR', 'feature_names'])"
      ]
     },
     "execution_count": 27,
     "metadata": {},
     "output_type": "execute_result"
    }
   ],
   "source": [
    "# check what kind of data is in\n",
    "wine.keys()"
   ]
  },
  {
   "cell_type": "code",
   "execution_count": 28,
   "id": "f31ff05f",
   "metadata": {},
   "outputs": [
    {
     "data": {
      "text/plain": [
       "array([1.423e+01, 1.710e+00, 2.430e+00, 1.560e+01, 1.270e+02, 2.800e+00,\n",
       "       3.060e+00, 2.800e-01, 2.290e+00, 5.640e+00, 1.040e+00, 3.920e+00,\n",
       "       1.065e+03])"
      ]
     },
     "execution_count": 28,
     "metadata": {},
     "output_type": "execute_result"
    }
   ],
   "source": [
    "# data value check\n",
    "wine.data[0]"
   ]
  },
  {
   "cell_type": "code",
   "execution_count": 29,
   "id": "8a07bdfc",
   "metadata": {},
   "outputs": [
    {
     "data": {
      "text/plain": [
       "['alcohol',\n",
       " 'malic_acid',\n",
       " 'ash',\n",
       " 'alcalinity_of_ash',\n",
       " 'magnesium',\n",
       " 'total_phenols',\n",
       " 'flavanoids',\n",
       " 'nonflavanoid_phenols',\n",
       " 'proanthocyanins',\n",
       " 'color_intensity',\n",
       " 'hue',\n",
       " 'od280/od315_of_diluted_wines',\n",
       " 'proline']"
      ]
     },
     "execution_count": 29,
     "metadata": {},
     "output_type": "execute_result"
    }
   ],
   "source": [
    "# meaning of each data\n",
    "wine.feature_names"
   ]
  },
  {
   "cell_type": "markdown",
   "id": "7cdafd4b",
   "metadata": {},
   "source": [
    "# Data label balance check"
   ]
  },
  {
   "cell_type": "code",
   "execution_count": 30,
   "id": "76a33dc8",
   "metadata": {
    "scrolled": true
   },
   "outputs": [
    {
     "data": {
      "text/plain": [
       "178"
      ]
     },
     "execution_count": 30,
     "metadata": {},
     "output_type": "execute_result"
    }
   ],
   "source": [
    "# total label count\n",
    "len(wine.target)"
   ]
  },
  {
   "cell_type": "code",
   "execution_count": 31,
   "id": "1a63f46e",
   "metadata": {},
   "outputs": [],
   "source": [
    "unique,counts=np.unique(wine.target,return_counts=True)"
   ]
  },
  {
   "cell_type": "code",
   "execution_count": 32,
   "id": "31b39134",
   "metadata": {},
   "outputs": [
    {
     "data": {
      "text/plain": [
       "{0: 59, 1: 71, 2: 48}"
      ]
     },
     "execution_count": 32,
     "metadata": {},
     "output_type": "execute_result"
    }
   ],
   "source": [
    "# check each label counts\n",
    "dict(zip(unique,counts))"
   ]
  },
  {
   "cell_type": "code",
   "execution_count": 33,
   "id": "62f88bda",
   "metadata": {},
   "outputs": [
    {
     "data": {
      "text/plain": [
       "array(['class_0', 'class_1', 'class_2'], dtype='<U7')"
      ]
     },
     "execution_count": 33,
     "metadata": {},
     "output_type": "execute_result"
    }
   ],
   "source": [
    "wine.target_names"
   ]
  },
  {
   "cell_type": "code",
   "execution_count": 34,
   "id": "a7ccdcb2",
   "metadata": {},
   "outputs": [
    {
     "name": "stdout",
     "output_type": "stream",
     "text": [
      ".. _wine_dataset:\n",
      "\n",
      "Wine recognition dataset\n",
      "------------------------\n",
      "\n",
      "**Data Set Characteristics:**\n",
      "\n",
      "    :Number of Instances: 178 (50 in each of three classes)\n",
      "    :Number of Attributes: 13 numeric, predictive attributes and the class\n",
      "    :Attribute Information:\n",
      " \t\t- Alcohol\n",
      " \t\t- Malic acid\n",
      " \t\t- Ash\n",
      "\t\t- Alcalinity of ash  \n",
      " \t\t- Magnesium\n",
      "\t\t- Total phenols\n",
      " \t\t- Flavanoids\n",
      " \t\t- Nonflavanoid phenols\n",
      " \t\t- Proanthocyanins\n",
      "\t\t- Color intensity\n",
      " \t\t- Hue\n",
      " \t\t- OD280/OD315 of diluted wines\n",
      " \t\t- Proline\n",
      "\n",
      "    - class:\n",
      "            - class_0\n",
      "            - class_1\n",
      "            - class_2\n",
      "\t\t\n",
      "    :Summary Statistics:\n",
      "    \n",
      "    ============================= ==== ===== ======= =====\n",
      "                                   Min   Max   Mean     SD\n",
      "    ============================= ==== ===== ======= =====\n",
      "    Alcohol:                      11.0  14.8    13.0   0.8\n",
      "    Malic Acid:                   0.74  5.80    2.34  1.12\n",
      "    Ash:                          1.36  3.23    2.36  0.27\n",
      "    Alcalinity of Ash:            10.6  30.0    19.5   3.3\n",
      "    Magnesium:                    70.0 162.0    99.7  14.3\n",
      "    Total Phenols:                0.98  3.88    2.29  0.63\n",
      "    Flavanoids:                   0.34  5.08    2.03  1.00\n",
      "    Nonflavanoid Phenols:         0.13  0.66    0.36  0.12\n",
      "    Proanthocyanins:              0.41  3.58    1.59  0.57\n",
      "    Colour Intensity:              1.3  13.0     5.1   2.3\n",
      "    Hue:                          0.48  1.71    0.96  0.23\n",
      "    OD280/OD315 of diluted wines: 1.27  4.00    2.61  0.71\n",
      "    Proline:                       278  1680     746   315\n",
      "    ============================= ==== ===== ======= =====\n",
      "\n",
      "    :Missing Attribute Values: None\n",
      "    :Class Distribution: class_0 (59), class_1 (71), class_2 (48)\n",
      "    :Creator: R.A. Fisher\n",
      "    :Donor: Michael Marshall (MARSHALL%PLU@io.arc.nasa.gov)\n",
      "    :Date: July, 1988\n",
      "\n",
      "This is a copy of UCI ML Wine recognition datasets.\n",
      "https://archive.ics.uci.edu/ml/machine-learning-databases/wine/wine.data\n",
      "\n",
      "The data is the results of a chemical analysis of wines grown in the same\n",
      "region in Italy by three different cultivators. There are thirteen different\n",
      "measurements taken for different constituents found in the three types of\n",
      "wine.\n",
      "\n",
      "Original Owners: \n",
      "\n",
      "Forina, M. et al, PARVUS - \n",
      "An Extendible Package for Data Exploration, Classification and Correlation. \n",
      "Institute of Pharmaceutical and Food Analysis and Technologies,\n",
      "Via Brigata Salerno, 16147 Genoa, Italy.\n",
      "\n",
      "Citation:\n",
      "\n",
      "Lichman, M. (2013). UCI Machine Learning Repository\n",
      "[https://archive.ics.uci.edu/ml]. Irvine, CA: University of California,\n",
      "School of Information and Computer Science. \n",
      "\n",
      ".. topic:: References\n",
      "\n",
      "  (1) S. Aeberhard, D. Coomans and O. de Vel, \n",
      "  Comparison of Classifiers in High Dimensional Settings, \n",
      "  Tech. Rep. no. 92-02, (1992), Dept. of Computer Science and Dept. of  \n",
      "  Mathematics and Statistics, James Cook University of North Queensland. \n",
      "  (Also submitted to Technometrics). \n",
      "\n",
      "  The data was used with many others for comparing various \n",
      "  classifiers. The classes are separable, though only RDA \n",
      "  has achieved 100% correct classification. \n",
      "  (RDA : 100%, QDA 99.4%, LDA 98.9%, 1NN 96.1% (z-transformed data)) \n",
      "  (All results using the leave-one-out technique) \n",
      "\n",
      "  (2) S. Aeberhard, D. Coomans and O. de Vel, \n",
      "  \"THE CLASSIFICATION PERFORMANCE OF RDA\" \n",
      "  Tech. Rep. no. 92-01, (1992), Dept. of Computer Science and Dept. of \n",
      "  Mathematics and Statistics, James Cook University of North Queensland. \n",
      "  (Also submitted to Journal of Chemometrics).\n",
      "\n"
     ]
    }
   ],
   "source": [
    "print(wine.DESCR)"
   ]
  },
  {
   "cell_type": "markdown",
   "id": "46cb414a",
   "metadata": {},
   "source": [
    "# Data split"
   ]
  },
  {
   "cell_type": "code",
   "execution_count": 35,
   "id": "02820465",
   "metadata": {},
   "outputs": [],
   "source": [
    "x_train,x_test,y_train, y_test = train_test_split(wine.data, wine.target,\n",
    "                                                 test_size=0.2,random_state=1)"
   ]
  },
  {
   "cell_type": "code",
   "execution_count": 36,
   "id": "167c3f87",
   "metadata": {},
   "outputs": [],
   "source": [
    "from sklearn.tree import DecisionTreeClassifier\n",
    "from sklearn.ensemble import RandomForestClassifier\n",
    "from sklearn import svm\n",
    "from sklearn.linear_model import SGDClassifier\n",
    "from sklearn.linear_model import LogisticRegression\n",
    "from sklearn.metrics import accuracy_score, classification_report\n",
    "import time"
   ]
  },
  {
   "cell_type": "markdown",
   "id": "143ddee2",
   "metadata": {},
   "source": [
    "# Decision Tree"
   ]
  },
  {
   "cell_type": "code",
   "execution_count": 37,
   "id": "c1521634",
   "metadata": {},
   "outputs": [
    {
     "name": "stdout",
     "output_type": "stream",
     "text": [
      "0.9166666666666666\n"
     ]
    }
   ],
   "source": [
    "start= time.time()\n",
    "d_tree = DecisionTreeClassifier()\n",
    "d_tree.fit(x_train, y_train)\n",
    "tree_pred = d_tree.predict(x_test)\n",
    "print(accuracy_score(y_test, tree_pred))\n",
    "d_report = classification_report(y_test, tree_pred)\n",
    "d_time = time.time()-start"
   ]
  },
  {
   "cell_type": "markdown",
   "id": "84f48dab",
   "metadata": {},
   "source": [
    "# Random Forest"
   ]
  },
  {
   "cell_type": "code",
   "execution_count": 38,
   "id": "d02e0e1a",
   "metadata": {},
   "outputs": [
    {
     "name": "stdout",
     "output_type": "stream",
     "text": [
      "0.9722222222222222\n"
     ]
    }
   ],
   "source": [
    "start= time.time()\n",
    "r_forest = RandomForestClassifier()\n",
    "r_forest.fit(x_train,y_train)\n",
    "r_pred = r_forest.predict(x_test)\n",
    "print(accuracy_score(y_test, r_pred))\n",
    "r_report = classification_report(y_test, r_pred)\n",
    "r_time = time.time()-start"
   ]
  },
  {
   "cell_type": "markdown",
   "id": "a65945ac",
   "metadata": {},
   "source": [
    "# Support Vector Machine"
   ]
  },
  {
   "cell_type": "code",
   "execution_count": 39,
   "id": "5476b271",
   "metadata": {},
   "outputs": [
    {
     "name": "stdout",
     "output_type": "stream",
     "text": [
      "0.6388888888888888\n"
     ]
    }
   ],
   "source": [
    "start= time.time()\n",
    "sv_machine = svm.SVC()\n",
    "sv_machine.fit(x_train,y_train)\n",
    "s_pred = sv_machine.predict(x_test)\n",
    "print(accuracy_score(y_test, s_pred))\n",
    "s_report = classification_report(y_test, s_pred)\n",
    "s_time = time.time()-start"
   ]
  },
  {
   "cell_type": "markdown",
   "id": "11a9fc25",
   "metadata": {},
   "source": [
    "# Stochastic Gradient Descent"
   ]
  },
  {
   "cell_type": "code",
   "execution_count": 40,
   "id": "54c59641",
   "metadata": {},
   "outputs": [
    {
     "name": "stdout",
     "output_type": "stream",
     "text": [
      "0.5\n"
     ]
    }
   ],
   "source": [
    "start= time.time()\n",
    "sgd_classifier = SGDClassifier()\n",
    "sgd_classifier.fit(x_train,y_train)\n",
    "sgd_pred = sgd_classifier.predict(x_test)\n",
    "print(accuracy_score(y_test, sgd_pred))\n",
    "sgd_report = classification_report(y_test, sgd_pred)\n",
    "sgd_time = time.time()-start"
   ]
  },
  {
   "cell_type": "markdown",
   "id": "f6f9583d",
   "metadata": {},
   "source": [
    "# Logistic Regression"
   ]
  },
  {
   "cell_type": "code",
   "execution_count": 41,
   "id": "c0b03949",
   "metadata": {
    "scrolled": false
   },
   "outputs": [
    {
     "name": "stdout",
     "output_type": "stream",
     "text": [
      "0.9444444444444444\n"
     ]
    },
    {
     "name": "stderr",
     "output_type": "stream",
     "text": [
      "/opt/conda/lib/python3.9/site-packages/sklearn/linear_model/_logistic.py:814: ConvergenceWarning: lbfgs failed to converge (status=1):\n",
      "STOP: TOTAL NO. of ITERATIONS REACHED LIMIT.\n",
      "\n",
      "Increase the number of iterations (max_iter) or scale the data as shown in:\n",
      "    https://scikit-learn.org/stable/modules/preprocessing.html\n",
      "Please also refer to the documentation for alternative solver options:\n",
      "    https://scikit-learn.org/stable/modules/linear_model.html#logistic-regression\n",
      "  n_iter_i = _check_optimize_result(\n"
     ]
    }
   ],
   "source": [
    "start= time.time()\n",
    "logistic_regression = LogisticRegression(max_iter=1000)\n",
    "logistic_regression.fit(x_train, y_train)\n",
    "logistic_pred = logistic_regression.predict(x_test)\n",
    "print(accuracy_score(y_test, logistic_pred))\n",
    "logistic_report = classification_report(y_test, logistic_pred)\n",
    "logistic_time = time.time()-start"
   ]
  },
  {
   "cell_type": "markdown",
   "id": "b24d183d",
   "metadata": {},
   "source": [
    "위에 ConvergenceWarning 메세지에 의거해서 시도를 해보고자 구글링을 함\n",
    "max_iter 입력에도 불구하고 메세지가 달라지지 않아서 StandardScaler를 통해\n",
    "데이터를 스케일링 시도함"
   ]
  },
  {
   "cell_type": "markdown",
   "id": "1629e099",
   "metadata": {},
   "source": [
    "# Scaled Logistic Regression"
   ]
  },
  {
   "cell_type": "code",
   "execution_count": 42,
   "id": "8cc38038",
   "metadata": {},
   "outputs": [],
   "source": [
    "from sklearn import preprocessing\n",
    "scaler = preprocessing.StandardScaler().fit(x_train)\n",
    "scaled_x_train = scaler.transform(x_train)\n",
    "scaled_x_test = scaler.transform(x_test)\n",
    "start= time.time()\n",
    "scaled_logistic_regression = LogisticRegression(max_iter=1000)\n",
    "scaled_logistic_regression.fit(scaled_x_train, y_train)\n",
    "scaled_logistic_pred = scaled_logistic_regression.predict(scaled_x_test)\n",
    "scaled_logistic_report = classification_report(y_test, logistic_pred)\n",
    "scaled_logistic_time = time.time()-start"
   ]
  },
  {
   "cell_type": "code",
   "execution_count": 43,
   "id": "98cbcfb9",
   "metadata": {},
   "outputs": [],
   "source": [
    "algorithm_name = ['decision_tree','random_forest','svm','sgd_classifier','logistic_regression','scaled_logistic_regression']\n",
    "accuracy = [accuracy_score(y_test, tree_pred),accuracy_score(y_test, r_pred),accuracy_score(y_test, s_pred),accuracy_score(y_test, sgd_pred),accuracy_score(y_test, logistic_pred),accuracy_score(y_test,scaled_logistic_pred)]\n",
    "report = [d_report,r_report,s_report,sgd_report,logistic_report,scaled_logistic_report]\n",
    "all_time = [d_time,r_time,s_time,sgd_time,logistic_time, scaled_logistic_time]"
   ]
  },
  {
   "cell_type": "markdown",
   "id": "ff707e8b",
   "metadata": {},
   "source": [
    "# Result"
   ]
  },
  {
   "cell_type": "code",
   "execution_count": 44,
   "id": "f4a21e50",
   "metadata": {
    "scrolled": true
   },
   "outputs": [],
   "source": [
    "import pandas as pd\n",
    "df = pd.DataFrame(index=algorithm_name)\n",
    "df['report'] = report\n",
    "df['accuracy'] = accuracy\n",
    "df['time'] = all_time\n",
    "df.sort_values('accuracy',ascending=False, inplace=True)"
   ]
  },
  {
   "cell_type": "code",
   "execution_count": 45,
   "id": "7c4df42b",
   "metadata": {
    "scrolled": true
   },
   "outputs": [
    {
     "data": {
      "text/html": [
       "<div>\n",
       "<style scoped>\n",
       "    .dataframe tbody tr th:only-of-type {\n",
       "        vertical-align: middle;\n",
       "    }\n",
       "\n",
       "    .dataframe tbody tr th {\n",
       "        vertical-align: top;\n",
       "    }\n",
       "\n",
       "    .dataframe thead th {\n",
       "        text-align: right;\n",
       "    }\n",
       "</style>\n",
       "<table border=\"1\" class=\"dataframe\">\n",
       "  <thead>\n",
       "    <tr style=\"text-align: right;\">\n",
       "      <th></th>\n",
       "      <th>report</th>\n",
       "      <th>accuracy</th>\n",
       "      <th>time</th>\n",
       "    </tr>\n",
       "  </thead>\n",
       "  <tbody>\n",
       "    <tr>\n",
       "      <th>scaled_logistic_regression</th>\n",
       "      <td>precision    recall  f1-score   ...</td>\n",
       "      <td>1.000000</td>\n",
       "      <td>0.016910</td>\n",
       "    </tr>\n",
       "    <tr>\n",
       "      <th>random_forest</th>\n",
       "      <td>precision    recall  f1-score   ...</td>\n",
       "      <td>0.972222</td>\n",
       "      <td>0.121830</td>\n",
       "    </tr>\n",
       "    <tr>\n",
       "      <th>logistic_regression</th>\n",
       "      <td>precision    recall  f1-score   ...</td>\n",
       "      <td>0.944444</td>\n",
       "      <td>0.226363</td>\n",
       "    </tr>\n",
       "    <tr>\n",
       "      <th>decision_tree</th>\n",
       "      <td>precision    recall  f1-score   ...</td>\n",
       "      <td>0.916667</td>\n",
       "      <td>0.006318</td>\n",
       "    </tr>\n",
       "    <tr>\n",
       "      <th>svm</th>\n",
       "      <td>precision    recall  f1-score   ...</td>\n",
       "      <td>0.638889</td>\n",
       "      <td>0.006558</td>\n",
       "    </tr>\n",
       "    <tr>\n",
       "      <th>sgd_classifier</th>\n",
       "      <td>precision    recall  f1-score   ...</td>\n",
       "      <td>0.500000</td>\n",
       "      <td>0.007403</td>\n",
       "    </tr>\n",
       "  </tbody>\n",
       "</table>\n",
       "</div>"
      ],
      "text/plain": [
       "                                                                       report  \\\n",
       "scaled_logistic_regression                precision    recall  f1-score   ...   \n",
       "random_forest                             precision    recall  f1-score   ...   \n",
       "logistic_regression                       precision    recall  f1-score   ...   \n",
       "decision_tree                             precision    recall  f1-score   ...   \n",
       "svm                                       precision    recall  f1-score   ...   \n",
       "sgd_classifier                            precision    recall  f1-score   ...   \n",
       "\n",
       "                            accuracy      time  \n",
       "scaled_logistic_regression  1.000000  0.016910  \n",
       "random_forest               0.972222  0.121830  \n",
       "logistic_regression         0.944444  0.226363  \n",
       "decision_tree               0.916667  0.006318  \n",
       "svm                         0.638889  0.006558  \n",
       "sgd_classifier              0.500000  0.007403  "
      ]
     },
     "execution_count": 45,
     "metadata": {},
     "output_type": "execute_result"
    }
   ],
   "source": [
    "df"
   ]
  },
  {
   "cell_type": "code",
   "execution_count": 46,
   "id": "e2942170",
   "metadata": {},
   "outputs": [
    {
     "data": {
      "text/plain": [
       "scaled_logistic_regression                  precision    recall  f1-score   ...\n",
       "random_forest                               precision    recall  f1-score   ...\n",
       "logistic_regression                         precision    recall  f1-score   ...\n",
       "decision_tree                               precision    recall  f1-score   ...\n",
       "svm                                         precision    recall  f1-score   ...\n",
       "sgd_classifier                              precision    recall  f1-score   ...\n",
       "Name: report, dtype: object"
      ]
     },
     "execution_count": 46,
     "metadata": {},
     "output_type": "execute_result"
    }
   ],
   "source": [
    "df.report"
   ]
  },
  {
   "cell_type": "code",
   "execution_count": 47,
   "id": "bfc35fa6",
   "metadata": {},
   "outputs": [
    {
     "name": "stdout",
     "output_type": "stream",
     "text": [
      "              precision    recall  f1-score   support\n",
      "\n",
      "           0       1.00      0.93      0.96        14\n",
      "           1       0.87      1.00      0.93        13\n",
      "           2       1.00      0.89      0.94         9\n",
      "\n",
      "    accuracy                           0.94        36\n",
      "   macro avg       0.96      0.94      0.94        36\n",
      "weighted avg       0.95      0.94      0.95        36\n",
      " \n",
      "               precision    recall  f1-score   support\n",
      "\n",
      "           0       0.93      1.00      0.97        14\n",
      "           1       1.00      0.92      0.96        13\n",
      "           2       1.00      1.00      1.00         9\n",
      "\n",
      "    accuracy                           0.97        36\n",
      "   macro avg       0.98      0.97      0.98        36\n",
      "weighted avg       0.97      0.97      0.97        36\n",
      " \n",
      "               precision    recall  f1-score   support\n",
      "\n",
      "           0       1.00      0.93      0.96        14\n",
      "           1       0.87      1.00      0.93        13\n",
      "           2       1.00      0.89      0.94         9\n",
      "\n",
      "    accuracy                           0.94        36\n",
      "   macro avg       0.96      0.94      0.94        36\n",
      "weighted avg       0.95      0.94      0.95        36\n",
      " \n",
      "               precision    recall  f1-score   support\n",
      "\n",
      "           0       0.93      0.93      0.93        14\n",
      "           1       0.86      0.92      0.89        13\n",
      "           2       1.00      0.89      0.94         9\n",
      "\n",
      "    accuracy                           0.92        36\n",
      "   macro avg       0.93      0.91      0.92        36\n",
      "weighted avg       0.92      0.92      0.92        36\n",
      "\n"
     ]
    }
   ],
   "source": [
    "print(df.report[0],'\\n' ,df.report[1], '\\n', df.report[2],'\\n', df.report[3])"
   ]
  },
  {
   "attachments": {
    "image.png": {
     "image/png": "[encoded data removed]"
    }
   },
   "cell_type": "markdown",
   "id": "e9fee585",
   "metadata": {},
   "source": [
    "# 번외\n",
    "![image.png](attachment:image.png)\n","\n",
    "로지스틱회귀에서 위와 같은 메시지가 발생하였음\n",
    "max_iter를 올려줬지만 그럼에도 불구하고 발생하는걸로 보아\n",
    "자료의 표준화가 필요해보여서 하는 시도"
   ]
  },
  {
   "cell_type": "markdown",
   "id": "bd8094f8",
   "metadata": {},
   "source": [
    "와인데이터분류에서 겪었던 일로 Decision Tree와 Random Forest의 정확도 값이 소수점까지 똑같이 나오는 현상이 있었다\n",
    "버그인가 싶어 report를 살펴본 결과 살짝 다른 결과들이 있어서 다행히 코드상의 문제점은 없는 것을 확인하였지만\n",
    "확인차 조원 및 퍼실님께 확인을 받았었다\n",
    "그러던 중 data를 split 해보는 곳에서 random state를 바꿔봐야겠단 생각이 들었고\n",
    "0에서 1로 바꾸니 결과가 달라졌다\n",
    "결과가 의심스러울 땐 데이터 섞기를 통해서 다시 확인해보자!"
   ]
  }
 ],
 "metadata": {
  "kernelspec": {
   "display_name": "Python 3 (ipykernel)",
   "language": "python",
   "name": "python3"
  },
  "language_info": {
   "codemirror_mode": {
    "name": "ipython",
    "version": 3
   },
   "file_extension": ".py",
   "mimetype": "text/x-python",
   "name": "python",
   "nbconvert_exporter": "python",
   "pygments_lexer": "ipython3",
   "version": "3.9.7"
  }
 },
 "nbformat": 4,
 "nbformat_minor": 5
}
