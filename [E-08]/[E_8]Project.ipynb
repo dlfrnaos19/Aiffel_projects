{
  "cells": [
    {
      "cell_type": "markdown",
      "id": "ecd8a43b",
      "metadata": {
        "id": "ecd8a43b"
      },
      "source": [
        "# 데이터 불러오기"
      ]
    },
    {
      "cell_type": "code",
      "execution_count": 2,
      "id": "1d18a384",
      "metadata": {
        "colab": {
          "base_uri": "https://localhost:8080/"
        },
        "id": "1d18a384",
        "outputId": "15a58cb1-de10-4900-a1f3-20168fe5abd5"
      },
      "outputs": [
        {
          "output_type": "stream",
          "name": "stdout",
          "text": [
            "[nltk_data] Downloading package stopwords to /root/nltk_data...\n",
            "[nltk_data]   Unzipping corpora/stopwords.zip.\n",
            "INFO:tensorflow:Deallocate tpu buffers before initializing tpu system.\n"
          ]
        },
        {
          "output_type": "stream",
          "name": "stderr",
          "text": [
            "INFO:tensorflow:Deallocate tpu buffers before initializing tpu system.\n"
          ]
        },
        {
          "output_type": "stream",
          "name": "stdout",
          "text": [
            "INFO:tensorflow:Initializing the TPU system: grpc://10.88.118.66:8470\n"
          ]
        },
        {
          "output_type": "stream",
          "name": "stderr",
          "text": [
            "INFO:tensorflow:Initializing the TPU system: grpc://10.88.118.66:8470\n"
          ]
        },
        {
          "output_type": "stream",
          "name": "stdout",
          "text": [
            "INFO:tensorflow:Finished initializing TPU system.\n"
          ]
        },
        {
          "output_type": "stream",
          "name": "stderr",
          "text": [
            "INFO:tensorflow:Finished initializing TPU system.\n"
          ]
        },
        {
          "output_type": "stream",
          "name": "stdout",
          "text": [
            "INFO:tensorflow:Found TPU system:\n"
          ]
        },
        {
          "output_type": "stream",
          "name": "stderr",
          "text": [
            "INFO:tensorflow:Found TPU system:\n"
          ]
        },
        {
          "output_type": "stream",
          "name": "stdout",
          "text": [
            "INFO:tensorflow:*** Num TPU Cores: 8\n"
          ]
        },
        {
          "output_type": "stream",
          "name": "stderr",
          "text": [
            "INFO:tensorflow:*** Num TPU Cores: 8\n"
          ]
        },
        {
          "output_type": "stream",
          "name": "stdout",
          "text": [
            "INFO:tensorflow:*** Num TPU Workers: 1\n"
          ]
        },
        {
          "output_type": "stream",
          "name": "stderr",
          "text": [
            "INFO:tensorflow:*** Num TPU Workers: 1\n"
          ]
        },
        {
          "output_type": "stream",
          "name": "stdout",
          "text": [
            "INFO:tensorflow:*** Num TPU Cores Per Worker: 8\n"
          ]
        },
        {
          "output_type": "stream",
          "name": "stderr",
          "text": [
            "INFO:tensorflow:*** Num TPU Cores Per Worker: 8\n"
          ]
        },
        {
          "output_type": "stream",
          "name": "stdout",
          "text": [
            "INFO:tensorflow:*** Available Device: _DeviceAttributes(/job:localhost/replica:0/task:0/device:CPU:0, CPU, 0, 0)\n"
          ]
        },
        {
          "output_type": "stream",
          "name": "stderr",
          "text": [
            "INFO:tensorflow:*** Available Device: _DeviceAttributes(/job:localhost/replica:0/task:0/device:CPU:0, CPU, 0, 0)\n"
          ]
        },
        {
          "output_type": "stream",
          "name": "stdout",
          "text": [
            "INFO:tensorflow:*** Available Device: _DeviceAttributes(/job:worker/replica:0/task:0/device:CPU:0, CPU, 0, 0)\n"
          ]
        },
        {
          "output_type": "stream",
          "name": "stderr",
          "text": [
            "INFO:tensorflow:*** Available Device: _DeviceAttributes(/job:worker/replica:0/task:0/device:CPU:0, CPU, 0, 0)\n"
          ]
        },
        {
          "output_type": "stream",
          "name": "stdout",
          "text": [
            "INFO:tensorflow:*** Available Device: _DeviceAttributes(/job:worker/replica:0/task:0/device:TPU:0, TPU, 0, 0)\n"
          ]
        },
        {
          "output_type": "stream",
          "name": "stderr",
          "text": [
            "INFO:tensorflow:*** Available Device: _DeviceAttributes(/job:worker/replica:0/task:0/device:TPU:0, TPU, 0, 0)\n"
          ]
        },
        {
          "output_type": "stream",
          "name": "stdout",
          "text": [
            "INFO:tensorflow:*** Available Device: _DeviceAttributes(/job:worker/replica:0/task:0/device:TPU:1, TPU, 0, 0)\n"
          ]
        },
        {
          "output_type": "stream",
          "name": "stderr",
          "text": [
            "INFO:tensorflow:*** Available Device: _DeviceAttributes(/job:worker/replica:0/task:0/device:TPU:1, TPU, 0, 0)\n"
          ]
        },
        {
          "output_type": "stream",
          "name": "stdout",
          "text": [
            "INFO:tensorflow:*** Available Device: _DeviceAttributes(/job:worker/replica:0/task:0/device:TPU:2, TPU, 0, 0)\n"
          ]
        },
        {
          "output_type": "stream",
          "name": "stderr",
          "text": [
            "INFO:tensorflow:*** Available Device: _DeviceAttributes(/job:worker/replica:0/task:0/device:TPU:2, TPU, 0, 0)\n"
          ]
        },
        {
          "output_type": "stream",
          "name": "stdout",
          "text": [
            "INFO:tensorflow:*** Available Device: _DeviceAttributes(/job:worker/replica:0/task:0/device:TPU:3, TPU, 0, 0)\n"
          ]
        },
        {
          "output_type": "stream",
          "name": "stderr",
          "text": [
            "INFO:tensorflow:*** Available Device: _DeviceAttributes(/job:worker/replica:0/task:0/device:TPU:3, TPU, 0, 0)\n"
          ]
        },
        {
          "output_type": "stream",
          "name": "stdout",
          "text": [
            "INFO:tensorflow:*** Available Device: _DeviceAttributes(/job:worker/replica:0/task:0/device:TPU:4, TPU, 0, 0)\n"
          ]
        },
        {
          "output_type": "stream",
          "name": "stderr",
          "text": [
            "INFO:tensorflow:*** Available Device: _DeviceAttributes(/job:worker/replica:0/task:0/device:TPU:4, TPU, 0, 0)\n"
          ]
        },
        {
          "output_type": "stream",
          "name": "stdout",
          "text": [
            "INFO:tensorflow:*** Available Device: _DeviceAttributes(/job:worker/replica:0/task:0/device:TPU:5, TPU, 0, 0)\n"
          ]
        },
        {
          "output_type": "stream",
          "name": "stderr",
          "text": [
            "INFO:tensorflow:*** Available Device: _DeviceAttributes(/job:worker/replica:0/task:0/device:TPU:5, TPU, 0, 0)\n"
          ]
        },
        {
          "output_type": "stream",
          "name": "stdout",
          "text": [
            "INFO:tensorflow:*** Available Device: _DeviceAttributes(/job:worker/replica:0/task:0/device:TPU:6, TPU, 0, 0)\n"
          ]
        },
        {
          "output_type": "stream",
          "name": "stderr",
          "text": [
            "INFO:tensorflow:*** Available Device: _DeviceAttributes(/job:worker/replica:0/task:0/device:TPU:6, TPU, 0, 0)\n"
          ]
        },
        {
          "output_type": "stream",
          "name": "stdout",
          "text": [
            "INFO:tensorflow:*** Available Device: _DeviceAttributes(/job:worker/replica:0/task:0/device:TPU:7, TPU, 0, 0)\n"
          ]
        },
        {
          "output_type": "stream",
          "name": "stderr",
          "text": [
            "INFO:tensorflow:*** Available Device: _DeviceAttributes(/job:worker/replica:0/task:0/device:TPU:7, TPU, 0, 0)\n"
          ]
        },
        {
          "output_type": "stream",
          "name": "stdout",
          "text": [
            "INFO:tensorflow:*** Available Device: _DeviceAttributes(/job:worker/replica:0/task:0/device:TPU_SYSTEM:0, TPU_SYSTEM, 0, 0)\n"
          ]
        },
        {
          "output_type": "stream",
          "name": "stderr",
          "text": [
            "INFO:tensorflow:*** Available Device: _DeviceAttributes(/job:worker/replica:0/task:0/device:TPU_SYSTEM:0, TPU_SYSTEM, 0, 0)\n"
          ]
        },
        {
          "output_type": "stream",
          "name": "stdout",
          "text": [
            "INFO:tensorflow:*** Available Device: _DeviceAttributes(/job:worker/replica:0/task:0/device:XLA_CPU:0, XLA_CPU, 0, 0)\n"
          ]
        },
        {
          "output_type": "stream",
          "name": "stderr",
          "text": [
            "INFO:tensorflow:*** Available Device: _DeviceAttributes(/job:worker/replica:0/task:0/device:XLA_CPU:0, XLA_CPU, 0, 0)\n"
          ]
        }
      ],
      "source": [
        "import nltk\n",
        "nltk.download('stopwords')\n",
        "import numpy as np\n",
        "import pandas as pd\n",
        "import os, re\n",
        "import matplotlib.pyplot as plt\n",
        "from nltk.corpus import stopwords\n",
        "from bs4 import BeautifulSoup\n",
        "import tensorflow.keras as keras\n",
        "from keras.preprocessing.text import Tokenizer\n",
        "from keras.preprocessing.sequence import pad_sequences\n",
        "import requests\n",
        "import warnings\n",
        "warnings.filterwarnings(\"ignore\", category=UserWarning, module='bs4')\n",
        "import os\n",
        "import tensorflow as tf\n",
        "resolver = tf.distribute.cluster_resolver.TPUClusterResolver(tpu='grpc://' + os.environ['COLAB_TPU_ADDR'])\n",
        "tf.config.experimental_connect_to_cluster(resolver)\n",
        "tf.tpu.experimental.initialize_tpu_system(resolver)\n",
        "strategy = tf.distribute.TPUStrategy(resolver)"
      ]
    },
    {
      "cell_type": "code",
      "source": [
        "!git clone https://github.com/sunnysai12345/News_Summary.git"
      ],
      "metadata": {
        "colab": {
          "base_uri": "https://localhost:8080/"
        },
        "id": "Bl8ylIuhrt6X",
        "outputId": "701ed80b-7b56-4f3a-ce0d-e3feccd2d15b"
      },
      "id": "Bl8ylIuhrt6X",
      "execution_count": 3,
      "outputs": [
        {
          "output_type": "stream",
          "name": "stdout",
          "text": [
            "Cloning into 'News_Summary'...\n",
            "remote: Enumerating objects: 19, done.\u001b[K\n",
            "remote: Total 19 (delta 0), reused 0 (delta 0), pack-reused 19\u001b[K\n",
            "Unpacking objects: 100% (19/19), done.\n"
          ]
        }
      ]
    },
    {
      "cell_type": "code",
      "execution_count": 4,
      "id": "682ba631",
      "metadata": {
        "colab": {
          "base_uri": "https://localhost:8080/",
          "height": 206
        },
        "id": "682ba631",
        "outputId": "02002ca3-7b06-408b-da4c-116bba3b0e64"
      },
      "outputs": [
        {
          "output_type": "execute_result",
          "data": {
            "text/html": [
              "\n",
              "  <div id=\"df-c376f195-7a8b-491f-a7d2-ea3fe9bdf2d9\">\n",
              "    <div class=\"colab-df-container\">\n",
              "      <div>\n",
              "<style scoped>\n",
              "    .dataframe tbody tr th:only-of-type {\n",
              "        vertical-align: middle;\n",
              "    }\n",
              "\n",
              "    .dataframe tbody tr th {\n",
              "        vertical-align: top;\n",
              "    }\n",
              "\n",
              "    .dataframe thead th {\n",
              "        text-align: right;\n",
              "    }\n",
              "</style>\n",
              "<table border=\"1\" class=\"dataframe\">\n",
              "  <thead>\n",
              "    <tr style=\"text-align: right;\">\n",
              "      <th></th>\n",
              "      <th>headlines</th>\n",
              "      <th>text</th>\n",
              "    </tr>\n",
              "  </thead>\n",
              "  <tbody>\n",
              "    <tr>\n",
              "      <th>0</th>\n",
              "      <td>upGrad learner switches to career in ML &amp; Al w...</td>\n",
              "      <td>Saurav Kant, an alumnus of upGrad and IIIT-B's...</td>\n",
              "    </tr>\n",
              "    <tr>\n",
              "      <th>1</th>\n",
              "      <td>Delhi techie wins free food from Swiggy for on...</td>\n",
              "      <td>Kunal Shah's credit card bill payment platform...</td>\n",
              "    </tr>\n",
              "    <tr>\n",
              "      <th>2</th>\n",
              "      <td>New Zealand end Rohit Sharma-led India's 12-ma...</td>\n",
              "      <td>New Zealand defeated India by 8 wickets in the...</td>\n",
              "    </tr>\n",
              "    <tr>\n",
              "      <th>3</th>\n",
              "      <td>Aegon life iTerm insurance plan helps customer...</td>\n",
              "      <td>With Aegon Life iTerm Insurance plan, customer...</td>\n",
              "    </tr>\n",
              "    <tr>\n",
              "      <th>4</th>\n",
              "      <td>Have known Hirani for yrs, what if MeToo claim...</td>\n",
              "      <td>Speaking about the sexual harassment allegatio...</td>\n",
              "    </tr>\n",
              "  </tbody>\n",
              "</table>\n",
              "</div>\n",
              "      <button class=\"colab-df-convert\" onclick=\"convertToInteractive('df-c376f195-7a8b-491f-a7d2-ea3fe9bdf2d9')\"\n",
              "              title=\"Convert this dataframe to an interactive table.\"\n",
              "              style=\"display:none;\">\n",
              "        \n",
              "  <svg xmlns=\"http://www.w3.org/2000/svg\" height=\"24px\"viewBox=\"0 0 24 24\"\n",
              "       width=\"24px\">\n",
              "    <path d=\"M0 0h24v24H0V0z\" fill=\"none\"/>\n",
              "    <path d=\"M18.56 5.44l.94 2.06.94-2.06 2.06-.94-2.06-.94-.94-2.06-.94 2.06-2.06.94zm-11 1L8.5 8.5l.94-2.06 2.06-.94-2.06-.94L8.5 2.5l-.94 2.06-2.06.94zm10 10l.94 2.06.94-2.06 2.06-.94-2.06-.94-.94-2.06-.94 2.06-2.06.94z\"/><path d=\"M17.41 7.96l-1.37-1.37c-.4-.4-.92-.59-1.43-.59-.52 0-1.04.2-1.43.59L10.3 9.45l-7.72 7.72c-.78.78-.78 2.05 0 2.83L4 21.41c.39.39.9.59 1.41.59.51 0 1.02-.2 1.41-.59l7.78-7.78 2.81-2.81c.8-.78.8-2.07 0-2.86zM5.41 20L4 18.59l7.72-7.72 1.47 1.35L5.41 20z\"/>\n",
              "  </svg>\n",
              "      </button>\n",
              "      \n",
              "  <style>\n",
              "    .colab-df-container {\n",
              "      display:flex;\n",
              "      flex-wrap:wrap;\n",
              "      gap: 12px;\n",
              "    }\n",
              "\n",
              "    .colab-df-convert {\n",
              "      background-color: #E8F0FE;\n",
              "      border: none;\n",
              "      border-radius: 50%;\n",
              "      cursor: pointer;\n",
              "      display: none;\n",
              "      fill: #1967D2;\n",
              "      height: 32px;\n",
              "      padding: 0 0 0 0;\n",
              "      width: 32px;\n",
              "    }\n",
              "\n",
              "    .colab-df-convert:hover {\n",
              "      background-color: #E2EBFA;\n",
              "      box-shadow: 0px 1px 2px rgba(60, 64, 67, 0.3), 0px 1px 3px 1px rgba(60, 64, 67, 0.15);\n",
              "      fill: #174EA6;\n",
              "    }\n",
              "\n",
              "    [theme=dark] .colab-df-convert {\n",
              "      background-color: #3B4455;\n",
              "      fill: #D2E3FC;\n",
              "    }\n",
              "\n",
              "    [theme=dark] .colab-df-convert:hover {\n",
              "      background-color: #434B5C;\n",
              "      box-shadow: 0px 1px 3px 1px rgba(0, 0, 0, 0.15);\n",
              "      filter: drop-shadow(0px 1px 2px rgba(0, 0, 0, 0.3));\n",
              "      fill: #FFFFFF;\n",
              "    }\n",
              "  </style>\n",
              "\n",
              "      <script>\n",
              "        const buttonEl =\n",
              "          document.querySelector('#df-c376f195-7a8b-491f-a7d2-ea3fe9bdf2d9 button.colab-df-convert');\n",
              "        buttonEl.style.display =\n",
              "          google.colab.kernel.accessAllowed ? 'block' : 'none';\n",
              "\n",
              "        async function convertToInteractive(key) {\n",
              "          const element = document.querySelector('#df-c376f195-7a8b-491f-a7d2-ea3fe9bdf2d9');\n",
              "          const dataTable =\n",
              "            await google.colab.kernel.invokeFunction('convertToInteractive',\n",
              "                                                     [key], {});\n",
              "          if (!dataTable) return;\n",
              "\n",
              "          const docLinkHtml = 'Like what you see? Visit the ' +\n",
              "            '<a target=\"_blank\" href=https://colab.research.google.com/notebooks/data_table.ipynb>data table notebook</a>'\n",
              "            + ' to learn more about interactive tables.';\n",
              "          element.innerHTML = '';\n",
              "          dataTable['output_type'] = 'display_data';\n",
              "          await google.colab.output.renderOutput(dataTable, element);\n",
              "          const docLink = document.createElement('div');\n",
              "          docLink.innerHTML = docLinkHtml;\n",
              "          element.appendChild(docLink);\n",
              "        }\n",
              "      </script>\n",
              "    </div>\n",
              "  </div>\n",
              "  "
            ],
            "text/plain": [
              "                                           headlines                                               text\n",
              "0  upGrad learner switches to career in ML & Al w...  Saurav Kant, an alumnus of upGrad and IIIT-B's...\n",
              "1  Delhi techie wins free food from Swiggy for on...  Kunal Shah's credit card bill payment platform...\n",
              "2  New Zealand end Rohit Sharma-led India's 12-ma...  New Zealand defeated India by 8 wickets in the...\n",
              "3  Aegon life iTerm insurance plan helps customer...  With Aegon Life iTerm Insurance plan, customer...\n",
              "4  Have known Hirani for yrs, what if MeToo claim...  Speaking about the sexual harassment allegatio..."
            ]
          },
          "metadata": {},
          "execution_count": 4
        }
      ],
      "source": [
        "import pandas as pd\n",
        "data = pd.read_csv('/content/News_Summary/news_summary_more.csv', encoding='iso-8859-1')\n",
        "data.head()"
      ]
    },
    {
      "cell_type": "code",
      "execution_count": 5,
      "id": "84de34f0",
      "metadata": {
        "scrolled": true,
        "id": "84de34f0"
      },
      "outputs": [],
      "source": [
        "data['headlines'] = data.headlines.apply(lambda x: x.encode('latin1').decode('utf-8'))"
      ]
    },
    {
      "cell_type": "code",
      "execution_count": 6,
      "id": "cb205258",
      "metadata": {
        "colab": {
          "base_uri": "https://localhost:8080/"
        },
        "id": "cb205258",
        "outputId": "4d801776-29df-4521-c986-ec8db65fc58f"
      },
      "outputs": [
        {
          "output_type": "execute_result",
          "data": {
            "text/plain": [
              "35927    Chrome, Firefox to support voice, facial authe...\n",
              "82173    Referees attacked after drawn match in Chinese...\n",
              "13855    Startup co-working space provider Innov8 raise...\n",
              "28347    PM Modi's govt using surgical strikes to win v...\n",
              "24750    Sensex closes above 36,700 for first time afte...\n",
              "13847    Saudi Prince Alwaleed's wealth falls to 6-yr-l...\n",
              "75876    China online game firm billionaire loses â¹11...\n",
              "91756    Give Lipstick Under My Burkha 'A' certificate:...\n",
              "33873    Mamata didi should get her brain examined: Tri...\n",
              "58884    What were PM Modi, Ivanka served for dinner in...\n",
              "Name: headlines, dtype: object"
            ]
          },
          "metadata": {},
          "execution_count": 6
        }
      ],
      "source": [
        "data.headlines.sample(10)"
      ]
    },
    {
      "cell_type": "markdown",
      "id": "63fc2cb8",
      "metadata": {
        "id": "63fc2cb8"
      },
      "source": [
        "# 데이터 전처리"
      ]
    },
    {
      "cell_type": "code",
      "execution_count": 7,
      "id": "ce00c6a1",
      "metadata": {
        "colab": {
          "base_uri": "https://localhost:8080/"
        },
        "id": "ce00c6a1",
        "outputId": "1652e189-2bdb-4db9-f28b-e979c0c84c55"
      },
      "outputs": [
        {
          "output_type": "stream",
          "name": "stdout",
          "text": [
            "중복제거시 헤드라인 숫자  98280\n",
            "중복제거시 본문 숫자  98360\n"
          ]
        }
      ],
      "source": [
        "print(\"중복제거시 헤드라인 숫자 \",data.headlines.nunique())\n",
        "print(\"중복제거시 본문 숫자 \", data.text.nunique())"
      ]
    },
    {
      "cell_type": "code",
      "execution_count": 8,
      "id": "c50aa7c4",
      "metadata": {
        "id": "c50aa7c4"
      },
      "outputs": [],
      "source": [
        "droped = data.drop_duplicates()"
      ]
    },
    {
      "cell_type": "code",
      "execution_count": 9,
      "id": "4b101f91",
      "metadata": {
        "scrolled": true,
        "colab": {
          "base_uri": "https://localhost:8080/"
        },
        "id": "4b101f91",
        "outputId": "4b447cf1-cec5-4c6d-d505-765dfd239a9e"
      },
      "outputs": [
        {
          "output_type": "stream",
          "name": "stdout",
          "text": [
            "(98379,) (98379,)\n"
          ]
        }
      ],
      "source": [
        "# 중복 제거 숫자\n",
        "print(droped.headlines.shape,droped.text.shape)"
      ]
    },
    {
      "cell_type": "code",
      "execution_count": 10,
      "id": "a95db548",
      "metadata": {
        "colab": {
          "base_uri": "https://localhost:8080/"
        },
        "id": "a95db548",
        "outputId": "783c996c-650a-4464-f519-3978b76639be"
      },
      "outputs": [
        {
          "output_type": "execute_result",
          "data": {
            "text/plain": [
              "headlines    0\n",
              "text         0\n",
              "dtype: int64"
            ]
          },
          "metadata": {},
          "execution_count": 10
        }
      ],
      "source": [
        "# Null 체크\n",
        "droped.isnull().sum()"
      ]
    },
    {
      "cell_type": "code",
      "execution_count": 11,
      "id": "5e7ef756",
      "metadata": {
        "colab": {
          "base_uri": "https://localhost:8080/"
        },
        "id": "5e7ef756",
        "outputId": "11f7df97-7726-4b6c-b0a6-0412b887647b"
      },
      "outputs": [
        {
          "output_type": "stream",
          "name": "stderr",
          "text": [
            "/usr/local/lib/python3.7/dist-packages/ipykernel_launcher.py:1: SettingWithCopyWarning: \n",
            "A value is trying to be set on a copy of a slice from a DataFrame\n",
            "\n",
            "See the caveats in the documentation: https://pandas.pydata.org/pandas-docs/stable/user_guide/indexing.html#returning-a-view-versus-a-copy\n",
            "  \"\"\"Entry point for launching an IPython kernel.\n"
          ]
        }
      ],
      "source": [
        "droped.dropna(axis=0, inplace=True)"
      ]
    },
    {
      "cell_type": "code",
      "execution_count": 12,
      "id": "87418dbc",
      "metadata": {
        "colab": {
          "base_uri": "https://localhost:8080/"
        },
        "id": "87418dbc",
        "outputId": "84434207-6c43-48c2-ad42-14f86ead8efc"
      },
      "outputs": [
        {
          "output_type": "execute_result",
          "data": {
            "text/plain": [
              "(98379, 2)"
            ]
          },
          "metadata": {},
          "execution_count": 12
        }
      ],
      "source": [
        "droped.shape"
      ]
    },
    {
      "cell_type": "markdown",
      "id": "1bb67771",
      "metadata": {
        "id": "1bb67771"
      },
      "source": [
        "## contractions 예제"
      ]
    },
    {
      "cell_type": "code",
      "execution_count": 13,
      "id": "a9ee4729",
      "metadata": {
        "colab": {
          "base_uri": "https://localhost:8080/"
        },
        "id": "a9ee4729",
        "outputId": "8a36f010-f3cb-4a32-96f0-f3ae400b9ab4"
      },
      "outputs": [
        {
          "output_type": "stream",
          "name": "stdout",
          "text": [
            "Collecting contractions\n",
            "  Downloading contractions-0.1.66-py2.py3-none-any.whl (8.0 kB)\n",
            "Collecting textsearch>=0.0.21\n",
            "  Downloading textsearch-0.0.21-py2.py3-none-any.whl (7.5 kB)\n",
            "Collecting anyascii\n",
            "  Downloading anyascii-0.3.0-py3-none-any.whl (284 kB)\n",
            "\u001b[K     |████████████████████████████████| 284 kB 5.3 MB/s \n",
            "\u001b[?25hCollecting pyahocorasick\n",
            "  Downloading pyahocorasick-1.4.2.tar.gz (321 kB)\n",
            "\u001b[K     |████████████████████████████████| 321 kB 80.5 MB/s \n",
            "\u001b[?25hBuilding wheels for collected packages: pyahocorasick\n",
            "  Building wheel for pyahocorasick (setup.py) ... \u001b[?25l\u001b[?25hdone\n",
            "  Created wheel for pyahocorasick: filename=pyahocorasick-1.4.2-cp37-cp37m-linux_x86_64.whl size=85451 sha256=463425ddba940084356bfb5905d2883570d427676ab247166e39f1fd7029b064\n",
            "  Stored in directory: /root/.cache/pip/wheels/25/19/a6/8f363d9939162782bb8439d886469756271abc01f76fbd790f\n",
            "Successfully built pyahocorasick\n",
            "Installing collected packages: pyahocorasick, anyascii, textsearch, contractions\n",
            "Successfully installed anyascii-0.3.0 contractions-0.1.66 pyahocorasick-1.4.2 textsearch-0.0.21\n"
          ]
        }
      ],
      "source": [
        "!pip install contractions"
      ]
    },
    {
      "cell_type": "code",
      "execution_count": 14,
      "id": "692518c5",
      "metadata": {
        "colab": {
          "base_uri": "https://localhost:8080/"
        },
        "id": "692518c5",
        "outputId": "5e069c83-ca9f-4c72-ad7f-7cf9d734a274"
      },
      "outputs": [
        {
          "output_type": "stream",
          "name": "stdout",
          "text": [
            "Original text: I'll be there within 5 min. Shouldn't you be there too? \n",
            "          I'd love to see u there my dear. It's awesome to meet new friends.\n",
            "          We've been waiting for this day for so long.\n",
            "Expanded_text: I will be there within 5 min. Should not you be there too? I would love to see you there my dear. It is awesome to meet new friends. We have been waiting for this day for so long.\n"
          ]
        }
      ],
      "source": [
        "# import library\n",
        "import contractions\n",
        "# contracted text\n",
        "text = '''I'll be there within 5 min. Shouldn't you be there too? \n",
        "          I'd love to see u there my dear. It's awesome to meet new friends.\n",
        "          We've been waiting for this day for so long.'''\n",
        "  \n",
        "# creating an empty list\n",
        "expanded_words = []    \n",
        "for word in text.split():\n",
        "  # using contractions.fix to expand the shotened words\n",
        "  expanded_words.append(contractions.fix(word))   \n",
        "    \n",
        "expanded_text = ' '.join(expanded_words)\n",
        "print('Original text: ' + text)\n",
        "print('Expanded_text: ' + expanded_text)"
      ]
    },
    {
      "cell_type": "code",
      "execution_count": 15,
      "id": "78ab4972",
      "metadata": {
        "id": "78ab4972"
      },
      "outputs": [],
      "source": [
        "def preprocess_sentence(sentence):\n",
        "    sentence = sentence.lower()\n",
        "    sentence = BeautifulSoup(sentence, \"lxml\").text\n",
        "    sentence = re.sub(r'\\([^)]*\\)','', sentence) # 괄호로 닫힌 문자열 제거\n",
        "    sentence = re.sub('\"','',sentence)\n",
        "    sentence = ' '.join([contractions.fix(word) for word in sentence.split(\" \")])\n",
        "    #sentence = ' '.join([contractions[t] if t in contractions else t for t in sentence.split(\" \")]) # 약어 정규화\n",
        "    sentence = re.sub(r\"'s\\b\",\"\",sentence) # 소유격 제거, Ex) roland`s -> roland\n",
        "    sentence = re.sub(\"[^a-zA-Z]\",\" \", sentence) # 영어 외 문자(숫자, 특수문자 등) 공백으로 변환\n",
        "    sentence = re.sub('[m]{2,}', 'mm', sentence) # m이 3개 이상이면 2개로 변경. Ex) ummmmmm yeah -> umm yeah\n",
        "    sentence = re.sub('[ ]{2,}', ' ', sentence) # m이 3개 이상이면 2개로 변경. Ex) ummmmmm yeah -> umm yeah\n",
        "    \n",
        "    return sentence\n",
        "\n",
        "def remove_stopwords(sentence):\n",
        "    tokens = ' '.join(word for word in sentence.split() if not word in stopwords.words('english') if len(word) > 1)\n",
        "    return tokens"
      ]
    },
    {
      "cell_type": "markdown",
      "id": "addb519d",
      "metadata": {
        "id": "addb519d"
      },
      "source": [
        "### 본문 전처리"
      ]
    },
    {
      "cell_type": "code",
      "execution_count": 16,
      "id": "7c967238",
      "metadata": {
        "colab": {
          "base_uri": "https://localhost:8080/",
          "height": 72
        },
        "id": "7c967238",
        "outputId": "43756e7a-df0a-46d1-90fb-7fb59b2da562"
      },
      "outputs": [
        {
          "output_type": "execute_result",
          "data": {
            "application/vnd.google.colaboratory.intrinsic+json": {
              "type": "string"
            },
            "text/plain": [
              "'saurav kant an alumnus of upgrad and iiit b pg program in machine learning and artificial intelligence was a sr systems engineer at infosys with almost years of work experience the program and upgrad degree career support helped him transition to a data scientist at tech mahindra with salary hike upgrad online power learning has powered lakh careers '"
            ]
          },
          "metadata": {},
          "execution_count": 16
        }
      ],
      "source": [
        "data['processed'] =  data.text.apply(preprocess_sentence)\n",
        "data.processed[0]"
      ]
    },
    {
      "cell_type": "markdown",
      "id": "c1c84319",
      "metadata": {
        "id": "c1c84319"
      },
      "source": [
        "본문 불용어"
      ]
    },
    {
      "cell_type": "code",
      "execution_count": 17,
      "id": "96130a52",
      "metadata": {
        "colab": {
          "base_uri": "https://localhost:8080/",
          "height": 72
        },
        "id": "96130a52",
        "outputId": "bd744ce5-aa60-4f8d-d4ca-9c52ea3e38a4"
      },
      "outputs": [
        {
          "output_type": "execute_result",
          "data": {
            "application/vnd.google.colaboratory.intrinsic+json": {
              "type": "string"
            },
            "text/plain": [
              "\"Saurav Kant, alumnus upGrad IIIT-B's PG Program Machine learning Artificial Intelligence, Sr Systems Engineer Infosys almost years work experience. The program upGrad's 360-degree career support helped transition Data Scientist Tech Mahindra 90% salary hike. upGrad's Online Power Learning powered lakh+ careers.\""
            ]
          },
          "metadata": {},
          "execution_count": 17
        }
      ],
      "source": [
        "data['processed'] = data.text.apply(remove_stopwords)\n",
        "data.processed[0]"
      ]
    },
    {
      "cell_type": "markdown",
      "id": "3af3c2aa",
      "metadata": {
        "id": "3af3c2aa"
      },
      "source": [
        "### 헤드라인 전처리"
      ]
    },
    {
      "cell_type": "code",
      "execution_count": 18,
      "id": "3470314a",
      "metadata": {
        "colab": {
          "base_uri": "https://localhost:8080/",
          "height": 35
        },
        "id": "3470314a",
        "outputId": "d590fe1c-2ab7-46c3-ac1f-f3f914b9cc6e"
      },
      "outputs": [
        {
          "output_type": "execute_result",
          "data": {
            "application/vnd.google.colaboratory.intrinsic+json": {
              "type": "string"
            },
            "text/plain": [
              "'upgrad learner switches to career in ml al with salary hike'"
            ]
          },
          "metadata": {},
          "execution_count": 18
        }
      ],
      "source": [
        "data['headlines'] = data.headlines.apply(preprocess_sentence)\n",
        "data.headlines[0]"
      ]
    },
    {
      "cell_type": "markdown",
      "id": "8108b0f2",
      "metadata": {
        "id": "8108b0f2"
      },
      "source": [
        "### 데이터 프레임 공백, null 제거"
      ]
    },
    {
      "cell_type": "code",
      "execution_count": 19,
      "id": "c7cdeea4",
      "metadata": {
        "id": "c7cdeea4"
      },
      "outputs": [],
      "source": [
        "data.replace('', np.nan, inplace=True)"
      ]
    },
    {
      "cell_type": "code",
      "execution_count": 20,
      "id": "24d0f4f7",
      "metadata": {
        "colab": {
          "base_uri": "https://localhost:8080/"
        },
        "id": "24d0f4f7",
        "outputId": "3602ad26-915e-49b4-e386-10b58407a67d"
      },
      "outputs": [
        {
          "output_type": "execute_result",
          "data": {
            "text/plain": [
              "headlines    0\n",
              "text         0\n",
              "processed    0\n",
              "dtype: int64"
            ]
          },
          "metadata": {},
          "execution_count": 20
        }
      ],
      "source": [
        "#null 확인\n",
        "data.isnull().sum()"
      ]
    },
    {
      "cell_type": "code",
      "execution_count": 21,
      "id": "e6dc8878",
      "metadata": {
        "colab": {
          "base_uri": "https://localhost:8080/"
        },
        "id": "e6dc8878",
        "outputId": "51e86956-87e9-4064-834f-52cceb13d2a0"
      },
      "outputs": [
        {
          "output_type": "stream",
          "name": "stdout",
          "text": [
            "전체 데이터 수:  98401\n"
          ]
        }
      ],
      "source": [
        "#Null값 제거\n",
        "data.dropna(axis=0, inplace=True)\n",
        "print(\"전체 데이터 수: \", len(data))"
      ]
    },
    {
      "cell_type": "markdown",
      "id": "9ba65287",
      "metadata": {
        "id": "9ba65287"
      },
      "source": [
        "## 데이터셋 분석"
      ]
    },
    {
      "cell_type": "code",
      "execution_count": 22,
      "id": "811fce79",
      "metadata": {
        "colab": {
          "base_uri": "https://localhost:8080/",
          "height": 963
        },
        "id": "811fce79",
        "outputId": "cb3873f1-3227-420b-ac88-4dbdd660170f"
      },
      "outputs": [
        {
          "output_type": "stream",
          "name": "stdout",
          "text": [
            "텍스트 최소 길이 : 1\n",
            "텍스트 최대 길이 : 91\n",
            "텍스트 평균 길이 : 58.2385341612382\n",
            "요약 최소 길이 : 1\n",
            "요약 최대 길이 : 17\n",
            "요약 평균 길이 : 9.486570258432334\n"
          ]
        },
        {
          "output_type": "display_data",
          "data": {
            "image/png": "[encoded data removed]",
            "text/plain": [
              "<Figure size 432x288 with 2 Axes>"
            ]
          },
          "metadata": {
            "needs_background": "light"
          }
        },
        {
          "output_type": "display_data",
          "data": {
            "image/png": "[encoded data removed]",
            "text/plain": [
              "<Figure size 432x288 with 1 Axes>"
            ]
          },
          "metadata": {
            "needs_background": "light"
          }
        },
        {
          "output_type": "display_data",
          "data": {
            "image/png": "[encoded data removed]",
            "text/plain": [
              "<Figure size 432x288 with 1 Axes>"
            ]
          },
          "metadata": {
            "needs_background": "light"
          }
        }
      ],
      "source": [
        "import matplotlib.pyplot as plt\n",
        "data['text_len'] = data.text.apply(lambda x: len(x.split()))\n",
        "data['headline_len'] = data.headlines.apply(lambda x: len(x.split()))\n",
        "\n",
        "print(f'텍스트 최소 길이 : {np.min(data.text_len)}')\n",
        "print(f'텍스트 최대 길이 : {np.max(data.text_len)}')\n",
        "print(f'텍스트 평균 길이 : {np.mean(data.text_len)}')\n",
        "print(f'요약 최소 길이 : {np.min(data.headline_len)}')\n",
        "print(f'요약 최대 길이 : {np.max(data.headline_len)}')\n",
        "print(f'요약 평균 길이 : {np.mean(data.headline_len)}')\n",
        "\n",
        "plt.subplot(1,2,1)\n",
        "plt.boxplot(data.text_len)\n",
        "plt.title('Text')\n",
        "plt.subplot(1,2,2)\n",
        "plt.boxplot(data.headline_len)\n",
        "plt.title('headline')\n",
        "plt.tight_layout()\n",
        "plt.show()\n",
        "\n",
        "plt.title('Text')\n",
        "plt.hist(data.text_len, bins = 40)\n",
        "plt.xlabel('length of samples')\n",
        "plt.ylabel('number of samples')\n",
        "plt.show()\n",
        "\n",
        "plt.title('Summary')\n",
        "plt.hist(data.headline_len, bins = 40)\n",
        "plt.xlabel('length of samples')\n",
        "plt.ylabel('number of samples')\n",
        "plt.show()"
      ]
    },
    {
      "cell_type": "code",
      "execution_count": 23,
      "id": "4b451bca",
      "metadata": {
        "colab": {
          "base_uri": "https://localhost:8080/"
        },
        "id": "4b451bca",
        "outputId": "766b8ffe-73e4-4db9-d0b2-502a464a1194"
      },
      "outputs": [
        {
          "output_type": "stream",
          "name": "stdout",
          "text": [
            "본문 최대 길이 68, 헤드라인 최대길이 14\n"
          ]
        }
      ],
      "source": [
        "# 최대 길이 정의 데이터 포함하기 위해 임의 숫자 추가\n",
        "text_max_len = int(data.text_len.mean()) + 10\n",
        "headline_max_len = int(data.headline_len.mean()) + 5\n",
        "print(f\"본문 최대 길이 {text_max_len}, 헤드라인 최대길이 {headline_max_len}\")"
      ]
    },
    {
      "cell_type": "code",
      "execution_count": 24,
      "id": "f1962cdb",
      "metadata": {
        "colab": {
          "base_uri": "https://localhost:8080/"
        },
        "id": "f1962cdb",
        "outputId": "80274392-1202-4c3e-fce4-98da7f4ba618"
      },
      "outputs": [
        {
          "output_type": "stream",
          "name": "stdout",
          "text": [
            "0.9999898375016514\n",
            "0.9990040751618378\n"
          ]
        }
      ],
      "source": [
        "# 데이터 비율\n",
        "print(data.text_len[data.text_len <= text_max_len].shape[0] / len(data.text_len))\n",
        "print(data.headline_len[data.headline_len <= headline_max_len].shape[0] / len(data.headline_len))"
      ]
    },
    {
      "cell_type": "code",
      "execution_count": 25,
      "id": "e3c362ad",
      "metadata": {
        "id": "e3c362ad"
      },
      "outputs": [],
      "source": [
        "under_max_df = data[data.headline_len <= headline_max_len]"
      ]
    },
    {
      "cell_type": "code",
      "execution_count": 26,
      "id": "f7f6c00b",
      "metadata": {
        "colab": {
          "base_uri": "https://localhost:8080/"
        },
        "id": "f7f6c00b",
        "outputId": "759d44a6-4c5a-479e-8d39-9253eb261b5c"
      },
      "outputs": [
        {
          "output_type": "execute_result",
          "data": {
            "text/plain": [
              "98303"
            ]
          },
          "metadata": {},
          "execution_count": 26
        }
      ],
      "source": [
        "# max 이하 데이터\n",
        "len(under_max_df)"
      ]
    },
    {
      "cell_type": "code",
      "execution_count": 27,
      "id": "79f703ad",
      "metadata": {
        "colab": {
          "base_uri": "https://localhost:8080/"
        },
        "id": "79f703ad",
        "outputId": "6b6b4b70-6935-402e-9993-d66d76513d8e"
      },
      "outputs": [
        {
          "output_type": "stream",
          "name": "stderr",
          "text": [
            "/usr/local/lib/python3.7/dist-packages/ipykernel_launcher.py:2: SettingWithCopyWarning: \n",
            "A value is trying to be set on a copy of a slice from a DataFrame.\n",
            "Try using .loc[row_indexer,col_indexer] = value instead\n",
            "\n",
            "See the caveats in the documentation: https://pandas.pydata.org/pandas-docs/stable/user_guide/indexing.html#returning-a-view-versus-a-copy\n",
            "  \n",
            "/usr/local/lib/python3.7/dist-packages/ipykernel_launcher.py:3: SettingWithCopyWarning: \n",
            "A value is trying to be set on a copy of a slice from a DataFrame.\n",
            "Try using .loc[row_indexer,col_indexer] = value instead\n",
            "\n",
            "See the caveats in the documentation: https://pandas.pydata.org/pandas-docs/stable/user_guide/indexing.html#returning-a-view-versus-a-copy\n",
            "  This is separate from the ipykernel package so we can avoid doing imports until\n"
          ]
        }
      ],
      "source": [
        "# 토큰 붙이기 start, end\n",
        "under_max_df['decoder_input'] = under_max_df.headlines.apply(lambda x: '<sostoken> ' + x)\n",
        "under_max_df['decoder_output'] = under_max_df.text.apply(lambda x: x + ' <endtoken>')"
      ]
    },
    {
      "cell_type": "code",
      "execution_count": 28,
      "id": "81d8412d",
      "metadata": {
        "colab": {
          "base_uri": "https://localhost:8080/",
          "height": 91
        },
        "id": "81d8412d",
        "outputId": "31f8f996-aa47-472d-9aba-ee7ff556e418"
      },
      "outputs": [
        {
          "output_type": "execute_result",
          "data": {
            "application/vnd.google.colaboratory.intrinsic+json": {
              "type": "string"
            },
            "text/plain": [
              "\"Saurav Kant, an alumnus of upGrad and IIIT-B's PG Program in Machine learning and Artificial Intelligence, was a Sr Systems Engineer at Infosys with almost 5 years of work experience. The program and upGrad's 360-degree career support helped him transition to a Data Scientist at Tech Mahindra with 90% salary hike. upGrad's Online Power Learning has powered 3 lakh+ careers. <endtoken>\""
            ]
          },
          "metadata": {},
          "execution_count": 28
        }
      ],
      "source": [
        "under_max_df.decoder_output[0]"
      ]
    },
    {
      "cell_type": "code",
      "execution_count": 29,
      "id": "d709258d",
      "metadata": {
        "id": "d709258d"
      },
      "outputs": [],
      "source": [
        "# 데이터 numpy array로 정의\n",
        "encoder_input = under_max_df.text.to_numpy()\n",
        "decoder_input = under_max_df.decoder_input.to_numpy()\n",
        "decoder_output = under_max_df.decoder_output.to_numpy()"
      ]
    },
    {
      "cell_type": "code",
      "execution_count": 30,
      "id": "82bc3a88",
      "metadata": {
        "colab": {
          "base_uri": "https://localhost:8080/"
        },
        "id": "82bc3a88",
        "outputId": "b8d0db05-c200-44de-8670-4bb28590290d"
      },
      "outputs": [
        {
          "output_type": "stream",
          "name": "stdout",
          "text": [
            "[95019  1822 18429 ... 14458 57020 86855]\n"
          ]
        }
      ],
      "source": [
        "# 셔플을 위한 int array\n",
        "indices = np.arange(encoder_input.shape[0])\n",
        "np.random.shuffle(indices)\n",
        "print(indices)"
      ]
    },
    {
      "cell_type": "code",
      "execution_count": 31,
      "id": "787f73a3",
      "metadata": {
        "id": "787f73a3"
      },
      "outputs": [],
      "source": [
        "# int 시퀸스를 활용한 샘플 순서 shuffle\n",
        "encoder_input = encoder_input[indices]\n",
        "decoder_input = decoder_input[indices]\n",
        "decoder_output = decoder_output[indices]"
      ]
    },
    {
      "cell_type": "markdown",
      "id": "5bc652da",
      "metadata": {
        "id": "5bc652da"
      },
      "source": [
        "## 데이터 분리"
      ]
    },
    {
      "cell_type": "code",
      "execution_count": 32,
      "id": "20007a60",
      "metadata": {
        "colab": {
          "base_uri": "https://localhost:8080/"
        },
        "id": "20007a60",
        "outputId": "e99f02fd-d43e-4a76-d32d-380b0bfb5119"
      },
      "outputs": [
        {
          "output_type": "stream",
          "name": "stdout",
          "text": [
            "test 셋:  19660\n",
            "train 셋:  78643\n"
          ]
        }
      ],
      "source": [
        "# 데이터셋 20% 분리\n",
        "test_n = int(len(encoder_input)*0.2)\n",
        "print(\"test 셋: \",test_n)\n",
        "print(\"train 셋: \", len(encoder_input)-test_n)"
      ]
    },
    {
      "cell_type": "code",
      "execution_count": 33,
      "id": "91a89d6d",
      "metadata": {
        "colab": {
          "base_uri": "https://localhost:8080/"
        },
        "id": "91a89d6d",
        "outputId": "41b7e422-32b5-4083-9315-2fd0796f2865"
      },
      "outputs": [
        {
          "output_type": "stream",
          "name": "stdout",
          "text": [
            "훈련 데이터 수 : 78643\n",
            "훈련 레이블 수 : 78643\n",
            "테스트 데이터 수 : 19660\n",
            "테스트 레이블 수 : 19660\n"
          ]
        }
      ],
      "source": [
        "encoder_input_train = encoder_input[test_n:]\n",
        "decoder_input_train = decoder_input[test_n:]\n",
        "decoder_output_train = decoder_output[test_n:]\n",
        "\n",
        "encoder_input_test = encoder_input[:test_n]\n",
        "decoder_input_test = decoder_input[:test_n]\n",
        "decoder_output_test = decoder_output[:test_n]\n",
        "\n",
        "print(f\"훈련 데이터 수 : {len(encoder_input_train)}\")\n",
        "print(f\"훈련 레이블 수 : {len(decoder_input_train)}\")\n",
        "print(f\"테스트 데이터 수 : {len(encoder_input_test)}\")\n",
        "print(f\"테스트 레이블 수 : {len(decoder_input_test)}\")"
      ]
    },
    {
      "cell_type": "markdown",
      "id": "16991687",
      "metadata": {
        "id": "16991687"
      },
      "source": [
        "### 정수로 인코딩"
      ]
    },
    {
      "cell_type": "markdown",
      "id": "1b70bcef",
      "metadata": {
        "id": "1b70bcef"
      },
      "source": [
        "#### 본문 데이터"
      ]
    },
    {
      "cell_type": "code",
      "execution_count": 34,
      "id": "eac32737",
      "metadata": {
        "id": "eac32737"
      },
      "outputs": [],
      "source": [
        "tokenizer = Tokenizer()\n",
        "tokenizer.fit_on_texts(encoder_input_train)"
      ]
    },
    {
      "cell_type": "code",
      "execution_count": 35,
      "id": "616ab198",
      "metadata": {
        "colab": {
          "base_uri": "https://localhost:8080/"
        },
        "id": "616ab198",
        "outputId": "550d57db-1f9e-42d5-9f2a-364909309782"
      },
      "outputs": [
        {
          "output_type": "stream",
          "name": "stdout",
          "text": [
            "단어 집합(vocab) 크기 : 91103\n",
            "등장 빈도가 3번 이하인 희귀 단어 수57105\n",
            "단어 집합에서 희귀 단어 제외 후 단어 집합 크기 33998\n",
            "단어 집합에서 희귀 단어 비율: 62.681799721194686\n",
            "전체 등장 빈도에서 희귀 단어 등장 빈도 비율: 1.77951820442365\n"
          ]
        }
      ],
      "source": [
        "threshold = 4\n",
        "total_cnt = len(tokenizer.word_index)\n",
        "rare_cnt = 0\n",
        "total_freq = 0\n",
        "rare_freq = 0\n",
        "\n",
        "for key,value in tokenizer.word_counts.items():\n",
        "    total_freq = total_freq + value\n",
        "    if value < threshold:\n",
        "        rare_cnt = rare_cnt + 1\n",
        "        rare_freq = rare_freq + value\n",
        "        \n",
        "print(f\"단어 집합(vocab) 크기 : {total_cnt}\")\n",
        "print(f\"등장 빈도가 {threshold-1}번 이하인 희귀 단어 수{rare_cnt}\")\n",
        "print(f\"단어 집합에서 희귀 단어 제외 후 단어 집합 크기 {total_cnt - rare_cnt}\")\n",
        "print(f\"단어 집합에서 희귀 단어 비율: {(rare_cnt / total_cnt)*100}\")\n",
        "print(f\"전체 등장 빈도에서 희귀 단어 등장 빈도 비율: {(rare_freq / total_freq)*100}\")"
      ]
    },
    {
      "cell_type": "code",
      "execution_count": 36,
      "id": "6f9533f4",
      "metadata": {
        "scrolled": true,
        "id": "6f9533f4"
      },
      "outputs": [],
      "source": [
        "vocab = total_cnt - rare_cnt\n",
        "tokenizer = Tokenizer(num_words=vocab)\n",
        "tokenizer.fit_on_texts(encoder_input_train)"
      ]
    },
    {
      "cell_type": "code",
      "execution_count": 37,
      "id": "c7c6f2ca",
      "metadata": {
        "id": "c7c6f2ca"
      },
      "outputs": [],
      "source": [
        "# 텍스트에서 정수 시퀸스\n",
        "encoder_input_train = tokenizer.texts_to_sequences(encoder_input_train)\n",
        "encoder_input_test = tokenizer.texts_to_sequences(encoder_input_test)"
      ]
    },
    {
      "cell_type": "markdown",
      "id": "226a873a",
      "metadata": {
        "id": "226a873a"
      },
      "source": [
        "#### headline 데이터"
      ]
    },
    {
      "cell_type": "code",
      "execution_count": 38,
      "id": "340df116",
      "metadata": {
        "id": "340df116"
      },
      "outputs": [],
      "source": [
        "target_tokenizer = Tokenizer()\n",
        "target_tokenizer.fit_on_texts(decoder_input_train)"
      ]
    },
    {
      "cell_type": "code",
      "execution_count": 39,
      "id": "322595a5",
      "metadata": {
        "colab": {
          "base_uri": "https://localhost:8080/"
        },
        "id": "322595a5",
        "outputId": "3bee6baf-0ac1-42ea-ed0e-075209df239d"
      },
      "outputs": [
        {
          "output_type": "stream",
          "name": "stdout",
          "text": [
            "단어 집합(vocabulary)의 크기 : 30185\n",
            "등장 빈도가 1번 이하인 희귀 단어의 수: 10688\n",
            "단어 집합에서 희귀 단어를 제외시킬 경우의 단어 집합의 크기 19497\n",
            "단어 집합에서 희귀 단어의 비율: 35.40831538843797\n",
            "전체 등장 빈도에서 희귀 단어 등장 빈도 비율: 1.2967978024324665\n"
          ]
        }
      ],
      "source": [
        "threshold = 2\n",
        "total_cnt = len(target_tokenizer.word_index) # 단어의 수\n",
        "rare_cnt = 0 # 빈도수가 threshold보다 작은 단어 수 카운트\n",
        "total_freq = 0 # 훈련 데이터의 전체 단어 빈도수 총합\n",
        "rare_freq = 0 # 빈도수가 threshold보다 작은 단어의 등장 빈도수 총합\n",
        "\n",
        "for key, value in target_tokenizer.word_counts.items():\n",
        "    total_freq = total_freq + value\n",
        "\n",
        "    if(value < threshold):\n",
        "        rare_cnt = rare_cnt + 1\n",
        "        rare_freq = rare_freq + value\n",
        "\n",
        "print('단어 집합(vocabulary)의 크기 :', total_cnt)\n",
        "print('등장 빈도가 %s번 이하인 희귀 단어의 수: %s'%(threshold - 1, rare_cnt))\n",
        "print('단어 집합에서 희귀 단어를 제외시킬 경우의 단어 집합의 크기 %s'%(total_cnt - rare_cnt))\n",
        "print(\"단어 집합에서 희귀 단어의 비율:\", (rare_cnt / total_cnt)*100)\n",
        "print(\"전체 등장 빈도에서 희귀 단어 등장 빈도 비율:\", (rare_freq / total_freq)*100)"
      ]
    },
    {
      "cell_type": "code",
      "execution_count": 40,
      "id": "0d81d1f6",
      "metadata": {
        "id": "0d81d1f6"
      },
      "outputs": [],
      "source": [
        "target_vocab = total_cnt - rare_cnt\n",
        "target_tokenizer = Tokenizer(num_words=target_vocab)\n",
        "target_tokenizer.fit_on_texts(decoder_input_train)\n",
        "target_tokenizer.fit_on_texts(decoder_output_train)\n",
        "\n",
        "# 텍스트에서 정수 시퀸스로\n",
        "decoder_input_train = target_tokenizer.texts_to_sequences(decoder_input_train)\n",
        "decoder_output_train = target_tokenizer.texts_to_sequences(decoder_output_train)\n",
        "decoder_input_test = target_tokenizer.texts_to_sequences(decoder_input_test)\n",
        "decoder_output_test = target_tokenizer.texts_to_sequences(decoder_output_test)"
      ]
    },
    {
      "cell_type": "code",
      "execution_count": 41,
      "id": "24a1f3f2",
      "metadata": {
        "colab": {
          "base_uri": "https://localhost:8080/"
        },
        "id": "24a1f3f2",
        "outputId": "e0fd4bde-5a2b-468f-c29c-b19b7ba28872"
      },
      "outputs": [
        {
          "output_type": "stream",
          "name": "stdout",
          "text": [
            "삭제할 훈련 데이터 수 : 0\n",
            "삭제할 테스트 데이터 수 : 0\n"
          ]
        }
      ],
      "source": [
        "# 전처리 이후 비어버린 요약문 처리\n",
        "drop_train = [index for index,sentence in enumerate(decoder_input_train) if len(sentence) == 1]\n",
        "drop_test = [index for index, sentence in enumerate(decoder_input_test) if len(sentence) == 1]\n",
        "print(f\"삭제할 훈련 데이터 수 : {len(drop_train)}\")\n",
        "print(f\"삭제할 테스트 데이터 수 : {len(drop_test)}\")"
      ]
    },
    {
      "cell_type": "markdown",
      "id": "006aa84b",
      "metadata": {
        "id": "006aa84b"
      },
      "source": [
        "### 패딩"
      ]
    },
    {
      "cell_type": "code",
      "execution_count": 42,
      "id": "dcc12068",
      "metadata": {
        "id": "dcc12068"
      },
      "outputs": [],
      "source": [
        "encoder_input_train = pad_sequences(encoder_input_train, maxlen=text_max_len, padding='post')\n",
        "encoder_input_test = pad_sequences(encoder_input_test, maxlen=text_max_len, padding='post')\n",
        "decoder_input_train = pad_sequences(decoder_input_train, maxlen=headline_max_len, padding='post')\n",
        "decoder_output_train = pad_sequences(decoder_output_train, maxlen=headline_max_len, padding='post')\n",
        "decoder_input_test = pad_sequences(decoder_input_test, maxlen=headline_max_len, padding='post')\n",
        "decoder_output_test = pad_sequences(decoder_output_test, maxlen=headline_max_len, padding='post')"
      ]
    },
    {
      "cell_type": "markdown",
      "source": [
        "### 전처리 저장"
      ],
      "metadata": {
        "id": "SjBv3Q8VOfU2"
      },
      "id": "SjBv3Q8VOfU2"
    },
    {
      "cell_type": "code",
      "source": [
        "np.save(\"/content/drive/MyDrive/[E-08]/encoder_input_train\",encoder_input_train)\n",
        "np.save(\"/content/drive/MyDrive/[E-08]/encoder_input_test\",encoder_input_test)\n",
        "np.save(\"/content/drive/MyDrive/[E-08]/decoder_input_train\",decoder_input_train)\n",
        "np.save(\"/content/drive/MyDrive/[E-08]/decoder_output_train\",decoder_output_train)\n",
        "np.save(\"/content/drive/MyDrive/[E-08]/decoder_input_test\",decoder_input_test)\n",
        "np.save(\"/content/drive/MyDrive/[E-08]/decoder_output_test\",decoder_output_test)"
      ],
      "metadata": {
        "id": "vRvfWchGEtEV"
      },
      "id": "vRvfWchGEtEV",
      "execution_count": 45,
      "outputs": []
    },
    {
      "cell_type": "code",
      "source": [
        "encoder_input_train = np.load(\"/content/drive/MyDrive/[E-08]/encoder_input_train.npy\")\n",
        "encoder_input_test = np.load(\"/content/drive/MyDrive/[E-08]/encoder_input_test.npy\")\n",
        "decoder_input_train = np.load(\"/content/drive/MyDrive/[E-08]/decoder_input_train.npy\")\n",
        "decoder_output_train = np.load(\"/content/drive/MyDrive/[E-08]/decoder_output_train.npy\")\n",
        "decoder_input_test = np.load(\"/content/drive/MyDrive/[E-08]/decoder_input_test.npy\")\n",
        "decoder_output_test = np.load(\"/content/drive/MyDrive/[E-08]/decoder_output_test.npy\")"
      ],
      "metadata": {
        "id": "WTLVRrMrXkyB"
      },
      "id": "WTLVRrMrXkyB",
      "execution_count": null,
      "outputs": []
    },
    {
      "cell_type": "code",
      "source": [
        "data.to_csv('/content/drive/MyDrive/[E-08]/preprocessed_news.csv')"
      ],
      "metadata": {
        "id": "oM86MdbHbM_L"
      },
      "id": "oM86MdbHbM_L",
      "execution_count": 46,
      "outputs": []
    },
    {
      "cell_type": "markdown",
      "id": "311a958a",
      "metadata": {
        "id": "311a958a"
      },
      "source": [
        "# 모델 설계"
      ]
    },
    {
      "cell_type": "code",
      "execution_count": 47,
      "id": "897b8a72",
      "metadata": {
        "id": "897b8a72"
      },
      "outputs": [],
      "source": [
        "from tensorflow import keras\n",
        "from keras.layers import Input, LSTM, Embedding, Dense, Concatenate, TimeDistributed\n",
        "from keras.models import Model\n",
        "from keras.callbacks import EarlyStopping, ModelCheckpoint\n",
        "embedding_dim = 128\n",
        "hidden_size = 256"
      ]
    },
    {
      "cell_type": "markdown",
      "id": "f2f4ebe9",
      "metadata": {
        "id": "f2f4ebe9"
      },
      "source": [
        "## 인코더 설계"
      ]
    },
    {
      "cell_type": "code",
      "execution_count": null,
      "id": "96a0563c",
      "metadata": {
        "id": "96a0563c"
      },
      "outputs": [],
      "source": [
        "# #인코더\n",
        "# encoder_inputs = Input(shape=(text_max_len,))\n",
        "# #임베딩\n",
        "# encoder_embed = Embedding(vocab, embedding_dim)(encoder_inputs)\n",
        "# # 인코더 LSTM1\n",
        "# encoder_lstm1 = LSTM(hidden_size, return_sequences=True, return_state=True, dropout=0.4, recurrent_dropout=0.4)\n",
        "# encoder_output1, state_h1, state_c1 = encoder_lstm1(encoder_embed)\n",
        "# # 인코더 LSTM2\n",
        "# encoder_lstm2 = LSTM(hidden_size, return_sequences=True, return_state=True, dropout=0.4, recurrent_dropout=0.4)\n",
        "# encoder_output2, state_h2, state_c2 = encoder_lstm2(encoder_output1)\n",
        "# # 인코더 LSTM3\n",
        "# encoder_lstm3 = LSTM(hidden_size, return_sequences=True, return_state=True, dropout=0.4, recurrent_dropout=0.4)\n",
        "# encoder_outputs, state_h, state_c = encoder_lstm3(encoder_output2)"
      ]
    },
    {
      "cell_type": "markdown",
      "id": "d192ff24",
      "metadata": {
        "id": "d192ff24"
      },
      "source": [
        "## 디코더 설계"
      ]
    },
    {
      "cell_type": "code",
      "execution_count": null,
      "id": "4d28c868",
      "metadata": {
        "id": "4d28c868",
        "outputId": "d9f00a19-5257-4acb-d354-62de39c8aa4b"
      },
      "outputs": [
        {
          "name": "stdout",
          "output_type": "stream",
          "text": [
            "WARNING:tensorflow:Layer lstm_3 will not use cuDNN kernels since it doesn't meet the criteria. It will use a generic GPU kernel as fallback when running on GPU.\n"
          ]
        }
      ],
      "source": [
        "# decoder_inputs = Input(shape=(None,))\n",
        "# # 디코더 임베딩\n",
        "# decoder_embed = Embedding(target_vocab, embedding_dim)\n",
        "# decoder_embed = decoder_embed(decoder_inputs)\n",
        "\n",
        "# # 디코더 LSTM\n",
        "# decoder_lstm = LSTM(hidden_size, return_sequences=True, return_state=True, dropout=0.4, recurrent_dropout=0.4)\n",
        "# decoder_outputs, _, _ = decoder_lstm(decoder_embed, initial_state=[state_h, state_c])\n",
        "\n",
        "# # 디코더 출력\n",
        "# decoder_softmax_layer = Dense(target_vocab, activation='softmax')\n",
        "# decoder_softmax_outputs = decoder_softmax_layer(decoder_outputs)"
      ]
    },
    {
      "cell_type": "code",
      "execution_count": null,
      "id": "516924ed",
      "metadata": {
        "id": "516924ed"
      },
      "outputs": [],
      "source": [
        "# model = Model([encoder_inputs,decoder_inputs],decoder_softmax_outputs)\n",
        "# model.summary()"
      ]
    },
    {
      "cell_type": "code",
      "execution_count": null,
      "id": "95dfe4d4",
      "metadata": {
        "id": "95dfe4d4"
      },
      "outputs": [],
      "source": [
        "# from tensorflow.keras.layers import AdditiveAttention\n",
        "# #어텐션 층\n",
        "# attention_layer = AdditiveAttention(name='attention_layer')\n",
        "# # 인코더, 디코더 모든 time step hidden state 어텐션 층에 전달하고 결과 리턴\n",
        "# attention_out = attention_layer([decoder_outputs, encoder_outputs])\n",
        "\n",
        "# # 어텐션 결과와 디코더 hidden state 연결\n",
        "# decoder_concat_input = Concatenate(axis=-1, name='concat_layer')([decoder_outputs, attention_out])\n",
        "\n",
        "# # 디코더 출력층\n",
        "# decoder_softmax_layer = Dense(target_vocab, activation='softmax')\n",
        "# decoder_softmax_outputs = decoder_softmax_layer(decoder_concat_input)\n",
        "\n",
        "# #모델 정의\n",
        "# model = Model([encoder_inputs, decoder_inputs], decoder_softmax_outputs)\n",
        "# model.summary()"
      ]
    },
    {
      "cell_type": "code",
      "execution_count": 48,
      "id": "5f431bc0",
      "metadata": {
        "id": "5f431bc0"
      },
      "outputs": [],
      "source": [
        "import tensorflow as tf\n",
        "EPOCH = 200\n",
        "BATCH_SIZE = 256\n",
        "optimizer = tf.keras.optimizers.Adam(learning_rate=1e-4)"
      ]
    },
    {
      "cell_type": "code",
      "source": [
        "with strategy.scope():\n",
        "    encoder_inputs = Input(shape=(text_max_len,))\n",
        "    encoder_embed = Embedding(vocab, embedding_dim)(encoder_inputs)\n",
        "    encoder_lstm1 = LSTM(hidden_size, return_sequences=True, return_state=True, dropout=0.4, recurrent_dropout=0.4)\n",
        "    encoder_output1, state_h1, state_c1 = encoder_lstm1(encoder_embed)\n",
        "    encoder_lstm2 = LSTM(hidden_size, return_sequences=True, return_state=True, dropout=0.4, recurrent_dropout=0.4)\n",
        "    encoder_output2, state_h2, state_c2 = encoder_lstm2(encoder_output1)\n",
        "    encoder_lstm3 = LSTM(hidden_size, return_sequences=True, return_state=True, dropout=0.4, recurrent_dropout=0.4)\n",
        "    encoder_outputs, state_h, state_c = encoder_lstm3(encoder_output2)\n",
        "    decoder_inputs = Input(shape=(None,))\n",
        "    decoder_embed_layer = Embedding(target_vocab, embedding_dim)\n",
        "    decoder_embed = decoder_embed_layer(decoder_inputs)\n",
        "    decoder_lstm = LSTM(hidden_size, return_sequences=True, return_state=True, dropout=0.4, recurrent_dropout=0.4)\n",
        "    decoder_outputs, _, _ = decoder_lstm(decoder_embed, initial_state=[state_h, state_c])\n",
        "    decoder_softmax_layer = Dense(target_vocab, activation='softmax')\n",
        "    decoder_softmax_outputs = decoder_softmax_layer(decoder_outputs)\n",
        "    from tensorflow.keras.layers import AdditiveAttention\n",
        "    attention_layer = AdditiveAttention(name='attention_layer')\n",
        "    attention_out = attention_layer([decoder_outputs, encoder_outputs])\n",
        "    decoder_concat_input = Concatenate(axis=-1, name='concat_layer')([decoder_outputs, attention_out])\n",
        "    decoder_softmax_layer = Dense(target_vocab, activation='softmax')\n",
        "    decoder_softmax_outputs = decoder_softmax_layer(decoder_concat_input)\n",
        "    model = Model([encoder_inputs, decoder_inputs], decoder_softmax_outputs)\n",
        "    model.compile(optimizer=optimizer, loss='sparse_categorical_crossentropy',metrics=['accuracy'])\n",
        "    early_stop = EarlyStopping(monitor='val_loss', patience=2, verbose=1)\n",
        "    history = model.fit(x=[encoder_input_train, decoder_input_train], y=decoder_output_train,\n",
        "                   validation_data=([encoder_input_test, decoder_input_test], decoder_output_test),\n",
        "                   batch_size=BATCH_SIZE, callbacks=[early_stop], epochs=EPOCH)"
      ],
      "metadata": {
        "colab": {
          "base_uri": "https://localhost:8080/"
        },
        "id": "iZFly-AqsbHo",
        "outputId": "4dbd2afe-da6b-48fd-ba52-530743d32786"
      },
      "id": "iZFly-AqsbHo",
      "execution_count": 49,
      "outputs": [
        {
          "output_type": "stream",
          "name": "stdout",
          "text": [
            "Epoch 1/200\n",
            "WARNING:tensorflow:From /usr/local/lib/python3.7/dist-packages/keras/engine/training.py:2970: StrategyBase.unwrap (from tensorflow.python.distribute.distribute_lib) is deprecated and will be removed in a future version.\n",
            "Instructions for updating:\n",
            "use `experimental_local_results` instead.\n"
          ]
        },
        {
          "output_type": "stream",
          "name": "stderr",
          "text": [
            "WARNING:tensorflow:From /usr/local/lib/python3.7/dist-packages/keras/engine/training.py:2970: StrategyBase.unwrap (from tensorflow.python.distribute.distribute_lib) is deprecated and will be removed in a future version.\n",
            "Instructions for updating:\n",
            "use `experimental_local_results` instead.\n"
          ]
        },
        {
          "output_type": "stream",
          "name": "stdout",
          "text": [
            "308/308 [==============================] - 73s 150ms/step - loss: 7.4359 - accuracy: 0.1072 - val_loss: 6.8213 - val_accuracy: 0.1283\n",
            "Epoch 2/200\n",
            "308/308 [==============================] - 24s 78ms/step - loss: 6.7727 - accuracy: 0.1267 - val_loss: 6.7592 - val_accuracy: 0.1284\n",
            "Epoch 3/200\n",
            "308/308 [==============================] - 24s 79ms/step - loss: 6.7215 - accuracy: 0.1277 - val_loss: 6.7207 - val_accuracy: 0.1285\n",
            "Epoch 4/200\n",
            "308/308 [==============================] - 24s 78ms/step - loss: 6.6958 - accuracy: 0.1280 - val_loss: 6.6963 - val_accuracy: 0.1304\n",
            "Epoch 5/200\n",
            "308/308 [==============================] - 24s 78ms/step - loss: 6.6800 - accuracy: 0.1296 - val_loss: 6.6922 - val_accuracy: 0.1298\n",
            "Epoch 6/200\n",
            "308/308 [==============================] - 24s 78ms/step - loss: 6.6696 - accuracy: 0.1307 - val_loss: 6.6804 - val_accuracy: 0.1314\n",
            "Epoch 7/200\n",
            "308/308 [==============================] - 24s 78ms/step - loss: 6.6617 - accuracy: 0.1309 - val_loss: 6.6765 - val_accuracy: 0.1315\n",
            "Epoch 8/200\n",
            "308/308 [==============================] - 24s 79ms/step - loss: 6.6549 - accuracy: 0.1310 - val_loss: 6.6720 - val_accuracy: 0.1316\n",
            "Epoch 9/200\n",
            "308/308 [==============================] - 24s 79ms/step - loss: 6.6420 - accuracy: 0.1311 - val_loss: 6.6442 - val_accuracy: 0.1320\n",
            "Epoch 10/200\n",
            "308/308 [==============================] - 24s 78ms/step - loss: 6.6020 - accuracy: 0.1313 - val_loss: 6.6010 - val_accuracy: 0.1321\n",
            "Epoch 11/200\n",
            "308/308 [==============================] - 24s 79ms/step - loss: 6.5480 - accuracy: 0.1312 - val_loss: 6.5563 - val_accuracy: 0.1323\n",
            "Epoch 12/200\n",
            "308/308 [==============================] - 24s 79ms/step - loss: 6.5023 - accuracy: 0.1319 - val_loss: 6.5125 - val_accuracy: 0.1335\n",
            "Epoch 13/200\n",
            "308/308 [==============================] - 24s 79ms/step - loss: 6.4617 - accuracy: 0.1337 - val_loss: 6.4871 - val_accuracy: 0.1346\n",
            "Epoch 14/200\n",
            "308/308 [==============================] - 24s 78ms/step - loss: 6.4189 - accuracy: 0.1349 - val_loss: 6.4365 - val_accuracy: 0.1362\n",
            "Epoch 15/200\n",
            "308/308 [==============================] - 24s 78ms/step - loss: 6.3653 - accuracy: 0.1365 - val_loss: 6.3719 - val_accuracy: 0.1381\n",
            "Epoch 16/200\n",
            "308/308 [==============================] - 24s 79ms/step - loss: 6.3001 - accuracy: 0.1388 - val_loss: 6.3159 - val_accuracy: 0.1419\n",
            "Epoch 17/200\n",
            "308/308 [==============================] - 24s 78ms/step - loss: 6.2377 - accuracy: 0.1417 - val_loss: 6.2572 - val_accuracy: 0.1441\n",
            "Epoch 18/200\n",
            "308/308 [==============================] - 24s 79ms/step - loss: 6.1703 - accuracy: 0.1440 - val_loss: 6.1876 - val_accuracy: 0.1461\n",
            "Epoch 19/200\n",
            "308/308 [==============================] - 24s 78ms/step - loss: 6.0966 - accuracy: 0.1464 - val_loss: 6.1194 - val_accuracy: 0.1490\n",
            "Epoch 20/200\n",
            "308/308 [==============================] - 24s 78ms/step - loss: 6.0221 - accuracy: 0.1499 - val_loss: 6.0465 - val_accuracy: 0.1538\n",
            "Epoch 21/200\n",
            "308/308 [==============================] - 24s 78ms/step - loss: 5.9483 - accuracy: 0.1534 - val_loss: 5.9773 - val_accuracy: 0.1574\n",
            "Epoch 22/200\n",
            "308/308 [==============================] - 24s 78ms/step - loss: 5.8794 - accuracy: 0.1569 - val_loss: 5.9159 - val_accuracy: 0.1611\n",
            "Epoch 23/200\n",
            "308/308 [==============================] - 24s 78ms/step - loss: 5.8138 - accuracy: 0.1603 - val_loss: 5.8598 - val_accuracy: 0.1643\n",
            "Epoch 24/200\n",
            "308/308 [==============================] - 24s 78ms/step - loss: 5.7483 - accuracy: 0.1646 - val_loss: 5.7941 - val_accuracy: 0.1697\n",
            "Epoch 25/200\n",
            "308/308 [==============================] - 24s 78ms/step - loss: 5.6834 - accuracy: 0.1691 - val_loss: 5.7362 - val_accuracy: 0.1738\n",
            "Epoch 26/200\n",
            "308/308 [==============================] - 24s 78ms/step - loss: 5.6197 - accuracy: 0.1745 - val_loss: 5.6788 - val_accuracy: 0.1789\n",
            "Epoch 27/200\n",
            "308/308 [==============================] - 25s 80ms/step - loss: 5.5530 - accuracy: 0.1806 - val_loss: 5.6008 - val_accuracy: 0.1888\n",
            "Epoch 28/200\n",
            "308/308 [==============================] - 24s 78ms/step - loss: 5.4839 - accuracy: 0.1879 - val_loss: 5.5349 - val_accuracy: 0.1970\n",
            "Epoch 29/200\n",
            "308/308 [==============================] - 24s 79ms/step - loss: 5.4126 - accuracy: 0.1957 - val_loss: 5.4616 - val_accuracy: 0.2060\n",
            "Epoch 30/200\n",
            "308/308 [==============================] - 24s 78ms/step - loss: 5.3380 - accuracy: 0.2039 - val_loss: 5.3838 - val_accuracy: 0.2150\n",
            "Epoch 31/200\n",
            "308/308 [==============================] - 24s 79ms/step - loss: 5.2623 - accuracy: 0.2115 - val_loss: 5.3018 - val_accuracy: 0.2246\n",
            "Epoch 32/200\n",
            "308/308 [==============================] - 24s 78ms/step - loss: 5.1846 - accuracy: 0.2200 - val_loss: 5.2281 - val_accuracy: 0.2325\n",
            "Epoch 33/200\n",
            "308/308 [==============================] - 24s 78ms/step - loss: 5.1077 - accuracy: 0.2272 - val_loss: 5.1454 - val_accuracy: 0.2417\n",
            "Epoch 34/200\n",
            "308/308 [==============================] - 24s 78ms/step - loss: 5.0292 - accuracy: 0.2348 - val_loss: 5.0636 - val_accuracy: 0.2514\n",
            "Epoch 35/200\n",
            "308/308 [==============================] - 24s 78ms/step - loss: 4.9513 - accuracy: 0.2424 - val_loss: 4.9830 - val_accuracy: 0.2596\n",
            "Epoch 36/200\n",
            "308/308 [==============================] - 24s 78ms/step - loss: 4.8729 - accuracy: 0.2499 - val_loss: 4.8926 - val_accuracy: 0.2701\n",
            "Epoch 37/200\n",
            "308/308 [==============================] - 24s 78ms/step - loss: 4.7936 - accuracy: 0.2577 - val_loss: 4.8202 - val_accuracy: 0.2789\n",
            "Epoch 38/200\n",
            "308/308 [==============================] - 24s 78ms/step - loss: 4.7115 - accuracy: 0.2667 - val_loss: 4.7367 - val_accuracy: 0.2875\n",
            "Epoch 39/200\n",
            "308/308 [==============================] - 24s 78ms/step - loss: 4.6302 - accuracy: 0.2757 - val_loss: 4.6444 - val_accuracy: 0.3001\n",
            "Epoch 40/200\n",
            "308/308 [==============================] - 24s 78ms/step - loss: 4.5479 - accuracy: 0.2849 - val_loss: 4.5523 - val_accuracy: 0.3116\n",
            "Epoch 41/200\n",
            "308/308 [==============================] - 24s 78ms/step - loss: 4.4674 - accuracy: 0.2947 - val_loss: 4.4551 - val_accuracy: 0.3245\n",
            "Epoch 42/200\n",
            "308/308 [==============================] - 24s 79ms/step - loss: 4.3865 - accuracy: 0.3040 - val_loss: 4.3786 - val_accuracy: 0.3352\n",
            "Epoch 43/200\n",
            "308/308 [==============================] - 24s 78ms/step - loss: 4.3046 - accuracy: 0.3149 - val_loss: 4.2952 - val_accuracy: 0.3475\n",
            "Epoch 44/200\n",
            "308/308 [==============================] - 24s 78ms/step - loss: 4.2232 - accuracy: 0.3248 - val_loss: 4.1912 - val_accuracy: 0.3634\n",
            "Epoch 45/200\n",
            "308/308 [==============================] - 24s 78ms/step - loss: 4.1428 - accuracy: 0.3350 - val_loss: 4.1081 - val_accuracy: 0.3740\n",
            "Epoch 46/200\n",
            "308/308 [==============================] - 24s 78ms/step - loss: 4.0614 - accuracy: 0.3457 - val_loss: 4.0238 - val_accuracy: 0.3861\n",
            "Epoch 47/200\n",
            "308/308 [==============================] - 24s 78ms/step - loss: 3.9806 - accuracy: 0.3559 - val_loss: 3.9325 - val_accuracy: 0.3982\n",
            "Epoch 48/200\n",
            "308/308 [==============================] - 24s 78ms/step - loss: 3.9011 - accuracy: 0.3663 - val_loss: 3.8423 - val_accuracy: 0.4109\n",
            "Epoch 49/200\n",
            "308/308 [==============================] - 24s 78ms/step - loss: 3.8214 - accuracy: 0.3765 - val_loss: 3.7918 - val_accuracy: 0.4166\n",
            "Epoch 50/200\n",
            "308/308 [==============================] - 24s 78ms/step - loss: 3.7400 - accuracy: 0.3870 - val_loss: 3.6781 - val_accuracy: 0.4337\n",
            "Epoch 51/200\n",
            "308/308 [==============================] - 24s 78ms/step - loss: 3.6606 - accuracy: 0.3975 - val_loss: 3.5622 - val_accuracy: 0.4508\n",
            "Epoch 52/200\n",
            "308/308 [==============================] - 25s 80ms/step - loss: 3.5762 - accuracy: 0.4089 - val_loss: 3.4609 - val_accuracy: 0.4648\n",
            "Epoch 53/200\n",
            "308/308 [==============================] - 24s 78ms/step - loss: 3.4871 - accuracy: 0.4211 - val_loss: 3.3792 - val_accuracy: 0.4763\n",
            "Epoch 54/200\n",
            "308/308 [==============================] - 24s 78ms/step - loss: 3.3962 - accuracy: 0.4345 - val_loss: 3.2358 - val_accuracy: 0.4976\n",
            "Epoch 55/200\n",
            "308/308 [==============================] - 24s 78ms/step - loss: 3.2981 - accuracy: 0.4496 - val_loss: 3.1050 - val_accuracy: 0.5171\n",
            "Epoch 56/200\n",
            "308/308 [==============================] - 24s 79ms/step - loss: 3.1984 - accuracy: 0.4643 - val_loss: 2.9694 - val_accuracy: 0.5382\n",
            "Epoch 57/200\n",
            "308/308 [==============================] - 24s 78ms/step - loss: 3.1024 - accuracy: 0.4795 - val_loss: 2.8728 - val_accuracy: 0.5523\n",
            "Epoch 58/200\n",
            "308/308 [==============================] - 24s 78ms/step - loss: 2.9974 - accuracy: 0.4958 - val_loss: 2.7632 - val_accuracy: 0.5695\n",
            "Epoch 59/200\n",
            "308/308 [==============================] - 24s 79ms/step - loss: 2.8902 - accuracy: 0.5122 - val_loss: 2.6614 - val_accuracy: 0.5854\n",
            "Epoch 60/200\n",
            "308/308 [==============================] - 24s 79ms/step - loss: 2.7996 - accuracy: 0.5262 - val_loss: 2.5882 - val_accuracy: 0.5962\n",
            "Epoch 61/200\n",
            "308/308 [==============================] - 24s 78ms/step - loss: 2.7008 - accuracy: 0.5411 - val_loss: 2.5059 - val_accuracy: 0.6093\n",
            "Epoch 62/200\n",
            "308/308 [==============================] - 24s 79ms/step - loss: 2.6053 - accuracy: 0.5558 - val_loss: 2.3938 - val_accuracy: 0.6282\n",
            "Epoch 63/200\n",
            "308/308 [==============================] - 24s 78ms/step - loss: 2.5122 - accuracy: 0.5696 - val_loss: 2.3071 - val_accuracy: 0.6422\n",
            "Epoch 64/200\n",
            "308/308 [==============================] - 24s 78ms/step - loss: 2.4205 - accuracy: 0.5830 - val_loss: 2.2362 - val_accuracy: 0.6531\n",
            "Epoch 65/200\n",
            "308/308 [==============================] - 24s 78ms/step - loss: 2.3387 - accuracy: 0.5948 - val_loss: 2.1790 - val_accuracy: 0.6638\n",
            "Epoch 66/200\n",
            "308/308 [==============================] - 24s 78ms/step - loss: 2.2613 - accuracy: 0.6063 - val_loss: 2.0882 - val_accuracy: 0.6783\n",
            "Epoch 67/200\n",
            "308/308 [==============================] - 24s 79ms/step - loss: 2.1822 - accuracy: 0.6191 - val_loss: 2.0394 - val_accuracy: 0.6857\n",
            "Epoch 68/200\n",
            "308/308 [==============================] - 24s 78ms/step - loss: 2.1166 - accuracy: 0.6294 - val_loss: 1.9696 - val_accuracy: 0.6984\n",
            "Epoch 69/200\n",
            "308/308 [==============================] - 24s 78ms/step - loss: 2.0391 - accuracy: 0.6403 - val_loss: 1.9207 - val_accuracy: 0.7050\n",
            "Epoch 70/200\n",
            "308/308 [==============================] - 24s 78ms/step - loss: 1.9865 - accuracy: 0.6486 - val_loss: 1.8460 - val_accuracy: 0.7190\n",
            "Epoch 71/200\n",
            "308/308 [==============================] - 24s 78ms/step - loss: 1.9058 - accuracy: 0.6609 - val_loss: 1.7917 - val_accuracy: 0.7274\n",
            "Epoch 72/200\n",
            "308/308 [==============================] - 24s 78ms/step - loss: 1.8452 - accuracy: 0.6704 - val_loss: 1.7493 - val_accuracy: 0.7346\n",
            "Epoch 73/200\n",
            "308/308 [==============================] - 24s 78ms/step - loss: 1.7849 - accuracy: 0.6794 - val_loss: 1.7086 - val_accuracy: 0.7412\n",
            "Epoch 74/200\n",
            "308/308 [==============================] - 24s 79ms/step - loss: 1.7313 - accuracy: 0.6881 - val_loss: 1.6515 - val_accuracy: 0.7510\n",
            "Epoch 75/200\n",
            "308/308 [==============================] - 25s 80ms/step - loss: 1.6843 - accuracy: 0.6961 - val_loss: 1.6146 - val_accuracy: 0.7572\n",
            "Epoch 76/200\n",
            "308/308 [==============================] - 24s 78ms/step - loss: 1.6354 - accuracy: 0.7037 - val_loss: 1.5818 - val_accuracy: 0.7634\n",
            "Epoch 77/200\n",
            "308/308 [==============================] - 24s 78ms/step - loss: 1.5762 - accuracy: 0.7134 - val_loss: 1.5356 - val_accuracy: 0.7706\n",
            "Epoch 78/200\n",
            "308/308 [==============================] - 24s 78ms/step - loss: 1.5309 - accuracy: 0.7196 - val_loss: 1.5110 - val_accuracy: 0.7751\n",
            "Epoch 79/200\n",
            "308/308 [==============================] - 24s 79ms/step - loss: 1.4863 - accuracy: 0.7274 - val_loss: 1.4690 - val_accuracy: 0.7816\n",
            "Epoch 80/200\n",
            "308/308 [==============================] - 25s 79ms/step - loss: 1.4423 - accuracy: 0.7341 - val_loss: 1.4472 - val_accuracy: 0.7855\n",
            "Epoch 81/200\n",
            "308/308 [==============================] - 24s 79ms/step - loss: 1.3999 - accuracy: 0.7410 - val_loss: 1.4158 - val_accuracy: 0.7914\n",
            "Epoch 82/200\n",
            "308/308 [==============================] - 24s 78ms/step - loss: 1.3629 - accuracy: 0.7475 - val_loss: 1.3836 - val_accuracy: 0.7968\n",
            "Epoch 83/200\n",
            "308/308 [==============================] - 24s 78ms/step - loss: 1.3206 - accuracy: 0.7546 - val_loss: 1.3553 - val_accuracy: 0.8023\n",
            "Epoch 84/200\n",
            "308/308 [==============================] - 24s 79ms/step - loss: 1.2932 - accuracy: 0.7590 - val_loss: 1.3225 - val_accuracy: 0.8060\n",
            "Epoch 85/200\n",
            "308/308 [==============================] - 24s 79ms/step - loss: 1.2472 - accuracy: 0.7668 - val_loss: 1.3061 - val_accuracy: 0.8093\n",
            "Epoch 86/200\n",
            "308/308 [==============================] - 24s 79ms/step - loss: 1.2100 - accuracy: 0.7733 - val_loss: 1.2783 - val_accuracy: 0.8146\n",
            "Epoch 87/200\n",
            "308/308 [==============================] - 24s 78ms/step - loss: 1.1770 - accuracy: 0.7792 - val_loss: 1.2661 - val_accuracy: 0.8176\n",
            "Epoch 88/200\n",
            "308/308 [==============================] - 24s 78ms/step - loss: 1.1539 - accuracy: 0.7833 - val_loss: 1.2394 - val_accuracy: 0.8227\n",
            "Epoch 89/200\n",
            "308/308 [==============================] - 24s 79ms/step - loss: 1.1197 - accuracy: 0.7893 - val_loss: 1.2103 - val_accuracy: 0.8276\n",
            "Epoch 90/200\n",
            "308/308 [==============================] - 24s 78ms/step - loss: 1.0909 - accuracy: 0.7943 - val_loss: 1.1869 - val_accuracy: 0.8303\n",
            "Epoch 91/200\n",
            "308/308 [==============================] - 24s 79ms/step - loss: 1.0585 - accuracy: 0.8003 - val_loss: 1.1775 - val_accuracy: 0.8334\n",
            "Epoch 92/200\n",
            "308/308 [==============================] - 24s 78ms/step - loss: 1.0338 - accuracy: 0.8051 - val_loss: 1.1547 - val_accuracy: 0.8370\n",
            "Epoch 93/200\n",
            "308/308 [==============================] - 24s 79ms/step - loss: 1.0045 - accuracy: 0.8109 - val_loss: 1.1394 - val_accuracy: 0.8402\n",
            "Epoch 94/200\n",
            "308/308 [==============================] - 24s 78ms/step - loss: 0.9790 - accuracy: 0.8156 - val_loss: 1.1250 - val_accuracy: 0.8434\n",
            "Epoch 95/200\n",
            "308/308 [==============================] - 24s 78ms/step - loss: 0.9530 - accuracy: 0.8201 - val_loss: 1.1089 - val_accuracy: 0.8457\n",
            "Epoch 96/200\n",
            "308/308 [==============================] - 24s 78ms/step - loss: 0.9266 - accuracy: 0.8250 - val_loss: 1.0927 - val_accuracy: 0.8482\n",
            "Epoch 97/200\n",
            "308/308 [==============================] - 24s 78ms/step - loss: 0.9072 - accuracy: 0.8294 - val_loss: 1.0786 - val_accuracy: 0.8505\n",
            "Epoch 98/200\n",
            "308/308 [==============================] - 24s 78ms/step - loss: 0.8832 - accuracy: 0.8339 - val_loss: 1.0698 - val_accuracy: 0.8539\n",
            "Epoch 99/200\n",
            "308/308 [==============================] - 24s 78ms/step - loss: 0.8544 - accuracy: 0.8395 - val_loss: 1.0534 - val_accuracy: 0.8564\n",
            "Epoch 100/200\n",
            "308/308 [==============================] - 25s 80ms/step - loss: 0.8353 - accuracy: 0.8430 - val_loss: 1.0352 - val_accuracy: 0.8582\n",
            "Epoch 101/200\n",
            "308/308 [==============================] - 24s 78ms/step - loss: 0.8185 - accuracy: 0.8469 - val_loss: 1.0267 - val_accuracy: 0.8601\n",
            "Epoch 102/200\n",
            "308/308 [==============================] - 24s 78ms/step - loss: 0.7953 - accuracy: 0.8512 - val_loss: 1.0134 - val_accuracy: 0.8626\n",
            "Epoch 103/200\n",
            "308/308 [==============================] - 24s 78ms/step - loss: 0.7760 - accuracy: 0.8552 - val_loss: 1.0009 - val_accuracy: 0.8650\n",
            "Epoch 104/200\n",
            "308/308 [==============================] - 24s 79ms/step - loss: 0.7559 - accuracy: 0.8593 - val_loss: 0.9908 - val_accuracy: 0.8672\n",
            "Epoch 105/200\n",
            "308/308 [==============================] - 24s 78ms/step - loss: 0.7402 - accuracy: 0.8622 - val_loss: 0.9826 - val_accuracy: 0.8683\n",
            "Epoch 106/200\n",
            "308/308 [==============================] - 24s 79ms/step - loss: 0.7187 - accuracy: 0.8666 - val_loss: 0.9684 - val_accuracy: 0.8709\n",
            "Epoch 107/200\n",
            "308/308 [==============================] - 24s 78ms/step - loss: 0.7043 - accuracy: 0.8694 - val_loss: 0.9719 - val_accuracy: 0.8706\n",
            "Epoch 108/200\n",
            "308/308 [==============================] - 24s 78ms/step - loss: 0.6909 - accuracy: 0.8720 - val_loss: 0.9535 - val_accuracy: 0.8740\n",
            "Epoch 109/200\n",
            "308/308 [==============================] - 24s 79ms/step - loss: 0.6704 - accuracy: 0.8766 - val_loss: 0.9426 - val_accuracy: 0.8759\n",
            "Epoch 110/200\n",
            "308/308 [==============================] - 24s 78ms/step - loss: 0.6531 - accuracy: 0.8799 - val_loss: 0.9429 - val_accuracy: 0.8770\n",
            "Epoch 111/200\n",
            "308/308 [==============================] - 24s 78ms/step - loss: 0.6379 - accuracy: 0.8834 - val_loss: 0.9251 - val_accuracy: 0.8796\n",
            "Epoch 112/200\n",
            "308/308 [==============================] - 24s 78ms/step - loss: 0.6252 - accuracy: 0.8860 - val_loss: 0.9179 - val_accuracy: 0.8813\n",
            "Epoch 113/200\n",
            "308/308 [==============================] - 24s 78ms/step - loss: 0.6084 - accuracy: 0.8897 - val_loss: 0.9077 - val_accuracy: 0.8829\n",
            "Epoch 114/200\n",
            "308/308 [==============================] - 24s 78ms/step - loss: 0.5943 - accuracy: 0.8926 - val_loss: 0.9058 - val_accuracy: 0.8834\n",
            "Epoch 115/200\n",
            "308/308 [==============================] - 24s 78ms/step - loss: 0.5781 - accuracy: 0.8958 - val_loss: 0.9045 - val_accuracy: 0.8847\n",
            "Epoch 116/200\n",
            "308/308 [==============================] - 24s 79ms/step - loss: 0.5664 - accuracy: 0.8981 - val_loss: 0.8957 - val_accuracy: 0.8857\n",
            "Epoch 117/200\n",
            "308/308 [==============================] - 24s 78ms/step - loss: 0.5521 - accuracy: 0.9016 - val_loss: 0.8851 - val_accuracy: 0.8881\n",
            "Epoch 118/200\n",
            "308/308 [==============================] - 24s 79ms/step - loss: 0.5427 - accuracy: 0.9034 - val_loss: 0.8761 - val_accuracy: 0.8895\n",
            "Epoch 119/200\n",
            "308/308 [==============================] - 24s 79ms/step - loss: 0.5271 - accuracy: 0.9062 - val_loss: 0.8720 - val_accuracy: 0.8899\n",
            "Epoch 120/200\n",
            "308/308 [==============================] - 24s 79ms/step - loss: 0.5158 - accuracy: 0.9090 - val_loss: 0.8664 - val_accuracy: 0.8916\n",
            "Epoch 121/200\n",
            "308/308 [==============================] - 24s 78ms/step - loss: 0.5032 - accuracy: 0.9118 - val_loss: 0.8655 - val_accuracy: 0.8924\n",
            "Epoch 122/200\n",
            "308/308 [==============================] - 24s 79ms/step - loss: 0.4975 - accuracy: 0.9127 - val_loss: 0.8530 - val_accuracy: 0.8940\n",
            "Epoch 123/200\n",
            "308/308 [==============================] - 24s 78ms/step - loss: 0.4880 - accuracy: 0.9143 - val_loss: 0.8510 - val_accuracy: 0.8947\n",
            "Epoch 124/200\n",
            "308/308 [==============================] - 24s 79ms/step - loss: 0.4709 - accuracy: 0.9182 - val_loss: 0.8454 - val_accuracy: 0.8958\n",
            "Epoch 125/200\n",
            "308/308 [==============================] - 24s 78ms/step - loss: 0.4600 - accuracy: 0.9204 - val_loss: 0.8428 - val_accuracy: 0.8969\n",
            "Epoch 126/200\n",
            "308/308 [==============================] - 24s 78ms/step - loss: 0.4498 - accuracy: 0.9226 - val_loss: 0.8358 - val_accuracy: 0.8981\n",
            "Epoch 127/200\n",
            "308/308 [==============================] - 24s 78ms/step - loss: 0.4359 - accuracy: 0.9252 - val_loss: 0.8273 - val_accuracy: 0.8994\n",
            "Epoch 128/200\n",
            "308/308 [==============================] - 24s 79ms/step - loss: 0.4241 - accuracy: 0.9279 - val_loss: 0.8227 - val_accuracy: 0.9005\n",
            "Epoch 129/200\n",
            "308/308 [==============================] - 24s 79ms/step - loss: 0.4169 - accuracy: 0.9297 - val_loss: 0.8264 - val_accuracy: 0.9004\n",
            "Epoch 130/200\n",
            "308/308 [==============================] - 24s 78ms/step - loss: 0.4077 - accuracy: 0.9312 - val_loss: 0.8208 - val_accuracy: 0.9018\n",
            "Epoch 131/200\n",
            "308/308 [==============================] - 24s 79ms/step - loss: 0.3980 - accuracy: 0.9335 - val_loss: 0.8130 - val_accuracy: 0.9030\n",
            "Epoch 132/200\n",
            "308/308 [==============================] - 24s 79ms/step - loss: 0.3894 - accuracy: 0.9351 - val_loss: 0.8068 - val_accuracy: 0.9036\n",
            "Epoch 133/200\n",
            "308/308 [==============================] - 24s 78ms/step - loss: 0.3861 - accuracy: 0.9359 - val_loss: 0.8057 - val_accuracy: 0.9041\n",
            "Epoch 134/200\n",
            "308/308 [==============================] - 24s 79ms/step - loss: 0.3720 - accuracy: 0.9386 - val_loss: 0.8020 - val_accuracy: 0.9048\n",
            "Epoch 135/200\n",
            "308/308 [==============================] - 24s 79ms/step - loss: 0.3648 - accuracy: 0.9401 - val_loss: 0.7937 - val_accuracy: 0.9061\n",
            "Epoch 136/200\n",
            "308/308 [==============================] - 24s 79ms/step - loss: 0.3596 - accuracy: 0.9412 - val_loss: 0.7940 - val_accuracy: 0.9066\n",
            "Epoch 137/200\n",
            "308/308 [==============================] - 24s 78ms/step - loss: 0.3498 - accuracy: 0.9432 - val_loss: 0.7917 - val_accuracy: 0.9074\n",
            "Epoch 138/200\n",
            "308/308 [==============================] - 24s 78ms/step - loss: 0.3388 - accuracy: 0.9453 - val_loss: 0.7828 - val_accuracy: 0.9085\n",
            "Epoch 139/200\n",
            "308/308 [==============================] - 24s 78ms/step - loss: 0.3475 - accuracy: 0.9431 - val_loss: 0.7833 - val_accuracy: 0.9086\n",
            "Epoch 140/200\n",
            "308/308 [==============================] - 24s 78ms/step - loss: 0.3382 - accuracy: 0.9447 - val_loss: 0.7793 - val_accuracy: 0.9100\n",
            "Epoch 141/200\n",
            "308/308 [==============================] - 24s 79ms/step - loss: 0.3223 - accuracy: 0.9482 - val_loss: 0.7750 - val_accuracy: 0.9104\n",
            "Epoch 142/200\n",
            "308/308 [==============================] - 24s 78ms/step - loss: 0.3142 - accuracy: 0.9496 - val_loss: 0.7712 - val_accuracy: 0.9110\n",
            "Epoch 143/200\n",
            "308/308 [==============================] - 24s 78ms/step - loss: 0.3157 - accuracy: 0.9494 - val_loss: 0.7703 - val_accuracy: 0.9116\n",
            "Epoch 144/200\n",
            "308/308 [==============================] - 24s 79ms/step - loss: 0.3000 - accuracy: 0.9524 - val_loss: 0.7665 - val_accuracy: 0.9122\n",
            "Epoch 145/200\n",
            "308/308 [==============================] - 24s 79ms/step - loss: 0.2910 - accuracy: 0.9543 - val_loss: 0.7650 - val_accuracy: 0.9126\n",
            "Epoch 146/200\n",
            "308/308 [==============================] - 24s 78ms/step - loss: 0.2991 - accuracy: 0.9524 - val_loss: 0.7639 - val_accuracy: 0.9131\n",
            "Epoch 147/200\n",
            "308/308 [==============================] - 24s 79ms/step - loss: 0.2822 - accuracy: 0.9562 - val_loss: 0.7647 - val_accuracy: 0.9132\n",
            "Epoch 148/200\n",
            "308/308 [==============================] - 24s 79ms/step - loss: 0.2752 - accuracy: 0.9576 - val_loss: 0.7630 - val_accuracy: 0.9141\n",
            "Epoch 149/200\n",
            "308/308 [==============================] - 24s 78ms/step - loss: 0.2734 - accuracy: 0.9575 - val_loss: 0.7628 - val_accuracy: 0.9146\n",
            "Epoch 150/200\n",
            "308/308 [==============================] - 25s 80ms/step - loss: 0.2685 - accuracy: 0.9587 - val_loss: 0.7602 - val_accuracy: 0.9147\n",
            "Epoch 151/200\n",
            "308/308 [==============================] - 24s 79ms/step - loss: 0.2616 - accuracy: 0.9598 - val_loss: 0.7583 - val_accuracy: 0.9155\n",
            "Epoch 152/200\n",
            "308/308 [==============================] - 24s 79ms/step - loss: 0.2544 - accuracy: 0.9614 - val_loss: 0.7509 - val_accuracy: 0.9164\n",
            "Epoch 153/200\n",
            "308/308 [==============================] - 24s 78ms/step - loss: 0.2490 - accuracy: 0.9623 - val_loss: 0.7521 - val_accuracy: 0.9163\n",
            "Epoch 154/200\n",
            "308/308 [==============================] - 24s 78ms/step - loss: 0.2420 - accuracy: 0.9636 - val_loss: 0.7517 - val_accuracy: 0.9164\n",
            "Epoch 00154: early stopping\n"
          ]
        }
      ]
    },
    {
      "cell_type": "code",
      "execution_count": 52,
      "id": "6867f6e8",
      "metadata": {
        "colab": {
          "base_uri": "https://localhost:8080/",
          "height": 573
        },
        "id": "6867f6e8",
        "outputId": "e110fc3f-c403-4119-bd8e-f70914b5fec9"
      },
      "outputs": [
        {
          "output_type": "display_data",
          "data": {
            "image/png": "[encoded data removed]",
            "text/plain": [
              "<Figure size 432x288 with 1 Axes>"
            ]
          },
          "metadata": {
            "needs_background": "light"
          }
        },
        {
          "output_type": "display_data",
          "data": {
            "image/png": "[encoded data removed]",
            "text/plain": [
              "<Figure size 432x288 with 1 Axes>"
            ]
          },
          "metadata": {
            "needs_background": "light"
          }
        }
      ],
      "source": [
        "# 훈련 과정 정확도\n",
        "import matplotlib.pyplot as plt\n",
        "plt.plot(history.history['accuracy'])\n",
        "plt.plot(history.history['val_accuracy'])\n",
        "plt.title(\"Model Accuracy\")\n",
        "plt.xlabel('Epoch')\n",
        "plt.ylabel('Accuracy')\n",
        "plt.legend(['Train', 'Test'], loc='upper left')\n",
        "plt.show()\n",
        "\n",
        "plt.plot(history.history['loss'])\n",
        "plt.plot(history.history['val_loss'])\n",
        "plt.title(\"Model Loss\")\n",
        "plt.xlabel('Epoch')\n",
        "plt.ylabel('Loss')\n",
        "plt.legend(['Train','Test'], loc='upper left')\n",
        "plt.show()"
      ]
    },
    {
      "cell_type": "markdown",
      "source": [
        "추가훈련"
      ],
      "metadata": {
        "id": "rVIDTjagiSrs"
      },
      "id": "rVIDTjagiSrs"
    },
    {
      "cell_type": "markdown",
      "source": [
        "model save"
      ],
      "metadata": {
        "id": "-lqB7CXoT65T"
      },
      "id": "-lqB7CXoT65T"
    },
    {
      "cell_type": "code",
      "source": [
        "model.save_weights(\"/content/drive/MyDrive/[E-08]/model_weight1.h5\")"
      ],
      "metadata": {
        "id": "FREqyR4kdTet"
      },
      "id": "FREqyR4kdTet",
      "execution_count": 53,
      "outputs": []
    },
    {
      "cell_type": "markdown",
      "id": "2ca5eae1",
      "metadata": {
        "id": "2ca5eae1"
      },
      "source": [
        "## 인퍼런스, 단어 시퀸스 완성"
      ]
    },
    {
      "cell_type": "code",
      "source": [
        "# 정수 행렬을 텍스트 데이터로\n",
        "index_to_word = tokenizer.index_word\n",
        "target_word_to_index = target_tokenizer.word_index\n",
        "target_index_to_word = target_tokenizer.index_word"
      ],
      "metadata": {
        "id": "3y80w9FZd2Zc"
      },
      "id": "3y80w9FZd2Zc",
      "execution_count": 54,
      "outputs": []
    },
    {
      "cell_type": "code",
      "source": [
        "# 인코더 설계\n",
        "encoder_model = Model(inputs=encoder_inputs, outputs=[encoder_outputs, state_h, state_c])\n",
        "\n",
        "# 이전 시점의 상태들을 저장하는 텐서\n",
        "decoder_state_input_h = Input(shape=(hidden_size,))\n",
        "decoder_state_input_c = Input(shape=(hidden_size,))\n",
        "\n",
        "dec_emb2 = decoder_embed_layer(decoder_inputs)\n",
        "\n",
        "# 문장의 다음 단어를 예측하기 위해서 초기 상태(initial_state)를 이전 시점의 상태로 사용. 이는 뒤의 함수 decode_sequence()에 구현\n",
        "# 훈련 과정에서와 달리 LSTM의 리턴하는 은닉 상태와 셀 상태인 state_h와 state_c를 버리지 않음.\n",
        "decoder_outputs2, state_h2, state_c2 = decoder_lstm(dec_emb2, initial_state=[decoder_state_input_h, decoder_state_input_c])\n"
      ],
      "metadata": {
        "id": "wuv9jGHju6QN"
      },
      "id": "wuv9jGHju6QN",
      "execution_count": 55,
      "outputs": []
    },
    {
      "cell_type": "code",
      "source": [
        "# 어텐션 함수\n",
        "decoder_hidden_state_input = Input(shape=(text_max_len, hidden_size))\n",
        "attn_out_inf = attention_layer([decoder_outputs2, decoder_hidden_state_input])\n",
        "decoder_inf_concat = Concatenate(axis=-1, name='concat')([decoder_outputs2, attn_out_inf])\n",
        "\n",
        "# 디코더의 출력층\n",
        "decoder_outputs2 = decoder_softmax_layer(decoder_inf_concat) \n",
        "\n",
        "# 최종 디코더 모델\n",
        "decoder_model = Model(\n",
        "    [decoder_inputs] + [decoder_hidden_state_input,decoder_state_input_h, decoder_state_input_c],\n",
        "    [decoder_outputs2] + [state_h2, state_c2])\n",
        "\n",
        "print('=3')"
      ],
      "metadata": {
        "colab": {
          "base_uri": "https://localhost:8080/"
        },
        "id": "z_6f2LvMu9fc",
        "outputId": "32f2d652-a317-463a-bd43-c773027be664"
      },
      "id": "z_6f2LvMu9fc",
      "execution_count": 56,
      "outputs": [
        {
          "output_type": "stream",
          "name": "stdout",
          "text": [
            "=3\n"
          ]
        }
      ]
    },
    {
      "cell_type": "code",
      "execution_count": 57,
      "id": "b5ace302",
      "metadata": {
        "scrolled": true,
        "id": "b5ace302"
      },
      "outputs": [],
      "source": [
        "def decode_sequence(input_seq):\n",
        "    # 입력으로부터 인코더의 상태를 얻음\n",
        "    e_out, e_h, e_c = encoder_model.predict(input_seq)\n",
        "\n",
        "     # <SOS>에 해당하는 토큰 생성\n",
        "    target_seq = np.zeros((1,1))\n",
        "    target_seq[0, 0] = target_word_to_index['sostoken']\n",
        "\n",
        "    stop_condition = False\n",
        "    decoded_sentence = ''\n",
        "    while not stop_condition: # stop_condition이 True가 될 때까지 루프 반복\n",
        "\n",
        "        output_tokens, h, c = decoder_model.predict([target_seq] + [e_out, e_h, e_c])\n",
        "        sampled_token_index = np.argmax(output_tokens[0, -1, :])\n",
        "        sampled_token = target_index_to_word[sampled_token_index]\n",
        "\n",
        "        if (sampled_token!='endtoken'):\n",
        "            decoded_sentence += ' '+sampled_token\n",
        "\n",
        "        #  <eos>에 도달하거나 최대 길이를 넘으면 중단.\n",
        "        if (sampled_token == 'endtoken'  or len(decoded_sentence.split()) >= (headline_max_len-1)):\n",
        "            stop_condition = True\n",
        "\n",
        "        # 길이가 1인 타겟 시퀀스를 업데이트\n",
        "        target_seq = np.zeros((1,1))\n",
        "        target_seq[0, 0] = sampled_token_index\n",
        "\n",
        "        # 상태를 업데이트 합니다.\n",
        "        e_h, e_c = h, c\n",
        "\n",
        "    return decoded_sentence\n",
        "# 원문의 정수 시퀀스를 텍스트 시퀀스로 변환\n",
        "def seq2text(input_seq):\n",
        "    temp=''\n",
        "    for i in input_seq:\n",
        "        if (i!=0):\n",
        "            temp = temp + index_to_word[i]+' '\n",
        "    return temp\n",
        "\n",
        "# 요약문의 정수 시퀀스를 텍스트 시퀀스로 변환\n",
        "def seq2summary(input_seq):\n",
        "    temp=''\n",
        "    for i in input_seq:\n",
        "        if ((i!=0 and i!=target_word_to_index['sostoken']) and i!=target_word_to_index['endtoken']):\n",
        "            temp = temp + target_index_to_word[i] + ' '\n",
        "    return temp"
      ]
    },
    {
      "cell_type": "code",
      "execution_count": 58,
      "id": "88d3f804",
      "metadata": {
        "colab": {
          "base_uri": "https://localhost:8080/"
        },
        "id": "88d3f804",
        "outputId": "77e61fbc-374a-4a0d-c78d-9b527c0978d2"
      },
      "outputs": [
        {
          "output_type": "stream",
          "name": "stdout",
          "text": [
            "원문 : karnataka's urban land transport directorate has proposed the introduction of 4 000 gps equipped public sharing bicycles at a cost of about ã¢ââ¹60 crore in bengaluru it also proposed setting up 350 points including four at metro stations for the bicycles this comes after chief minister siddaramaiah proposed the idea of a bicycle sharing system in his budget speech \n",
            "실제 요약 : bengaluru may get public sharing bicycles with gps \n",
            "예측 요약 :  siddaramaiah proposed the idea of a green sharing system in his budget speech\n",
            "\n",
            "\n",
            "원문 : slamming the brahmin group sarv brahmin mahasabha which claimed the film 'manikarnika' defamed rani laxmibai kangana ranaut said we cannot even think like that the kind of things they are saying what they are saying is actually defaming earlier the group had alleged that the film features a romantic scene between rani laxmibai and a british east india company agent \n",
            "실제 요약 : brahmin group is defaming rani laxmibai s memory kangana \n",
            "예측 요약 :  a romantic scene between rani serial and a british east india company agent\n",
            "\n",
            "\n",
            "원문 : following the report of sexual assault cases against uber drivers us senator richard has asked the company to immediately stop silencing sexual harassment victims by enforcing arbitration agreements in a letter to uber ceo he urged the company to end the use of these dangerous agreements against your customers which also prevents victims from joining class action suits \n",
            "실제 요약 : stop victims of sexual assault senator to uber \n",
            "예측 요약 :  air against your customers which also violate victims from joining class action suits\n",
            "\n",
            "\n",
            "원문 : the central bureau of investigation cbi has booked om prakash shukla the principal of the national defence academy nda over allegations of irregularities in appointment of the teaching faculty of the academy the agency has also booked a political science professor assistant professors of mathematics and chemistry and the head of the department of chemistry among others in the case \n",
            "실제 요약 : nda principal booked over irregularities in appointing staff \n",
            "예측 요약 :  and the head of the department of electoral among others in the case\n",
            "\n",
            "\n",
            "원문 : iran has banned all government bodies from using foreign based messaging apps to communicate with citizens iran's state media reported the banned messaging apps include telegram which is used by more than 4 crore iranians several messaging apps were used in iran to mobilise support for the anti government protests last year \n",
            "실제 요약 : iran bans govt bodies from using foreign messaging apps \n",
            "예측 요약 :  were used in iran to support for the anti government protests last year\n",
            "\n",
            "\n",
            "원문 : welsh career auctioneer richard madley has been replaced as the master by hugh for the 2019 ipl auction which will be held in jaipur on december 18 it will be the first time in 11 year history of ipl that an auction will be conducted without madley is an independent fine art classic car and charity auctioneer from uk \n",
            "실제 요약 : richard madley to not conduct ipl auction for the first time ever \n",
            "예측 요약 :  jayasuriya is an independent fine art association car and charity team's from uk\n",
            "\n",
            "\n",
            "원문 : karachi kings' shahid afridi clean bowled islamabad united's misbah ul haq in a pakistan super league match on friday to take his t20 wicket but did not celebrate out of respect for the former pakistan captain in his next over afridi clean bowled chadwick walton to become the first pakistani and overall fourth bowler to take 300 wickets in t20 cricket \n",
            "실제 요약 : afridi bowls misbah to take th t wkt does not celebrate \n",
            "예측 요약 :  first pakistani and overall fourth bowler to take 300 wickets in t20 cricket\n",
            "\n",
            "\n",
            "원문 : qatar will withdraw from the organisation of the petroleum exporting countries opec in january after nearly 60 years country's energy minister saad al said the decision to withdraw from opec came after qatar reviewed ways to enhance its role internationally and plan its long term strategy qatar is one of smallest producers but the world's largest liquefied natural gas exporter \n",
            "실제 요약 : qatar to withdraw from opec after nearly years \n",
            "예측 요약 :  is one of of producers but the world's largest global natural gas reconciliation\n",
            "\n",
            "\n",
            "원문 : the us department of justice doj has charged ohio resident philip for allegedly using a malware nicknamed to spy on users between 2003 and 2017 he reportedly stole data including chats and medical records and spied on users through webcams the doj also alleged the malware detected when users typed words associated with pornography on their devices \n",
            "실제 요약 : us man charged for using malware to spy on users for yrs \n",
            "예측 요약 :  alleged the malware uber when users words associated with pornography on their devices\n",
            "\n",
            "\n",
            "원문 : somalia based terrorist group al shabaab has mocked us president donald trump in a new video calling him a billionaire the video accuses american people of electing the most stupid president and goes on to state that trump is making the united states the greatest joke on earth this comes after the us stepped up military efforts against al shabaab in somalia \n",
            "실제 요약 : terror group al shabaab calls trump billionaire \n",
            "예측 요약 :  comes after the us stepped up military efforts against al assad in erdoãâan\n",
            "\n",
            "\n",
            "원문 : us based retail giant walmart is in talks to buy more than 40 stake of homegrown e commerce startup flipkart according to reports earlier reports suggested that flipkart's valuation may double to 20 billion if walmart invests in the company walmart might invest 5 10 billion for a substantial stake which would make it one of the largest cross border deals in india \n",
            "실제 요약 : walmart in talks to buy over stake in flipkart reports \n",
            "예측 요약 :  which would make it one of the largest cross border deals in india\n",
            "\n",
            "\n",
            "원문 : india's airport infrastructure sector will see an investment of around ã¢ââ¹1 lakh crore over the next five years the government said on wednesday the investments would be made in upgrading existing infrastructure at airports and also building new greenfield airports notably the cabinet on wednesday cleared ã¢ââ¹5 crore plan to build new terminals at guwahati chennai and lucknow airports \n",
            "실제 요약 : airport infrastructure to attract lakh cr in yrs govt \n",
            "예측 요약 :  ã¢ââ¹5 crore plan to build new institute at austria chennai and lucknow airports\n",
            "\n",
            "\n",
            "원문 : actor akshay kumar's wife twinkle khanna took to twitter to praise his new film 'toilet ek prem katha' and wrote very proud of mr k it's a highly entertaining and equally important movie the film is said to be based on pm modi's swachh bharat abhiyan directed by shree narayan singh 'toilet ek prem katha' also stars bhumi pednekar \n",
            "실제 요약 : very proud of akshay twinkle on toilet ek prem katha \n",
            "예측 요약 :  directed by shree narayan singh 'toilet ek prem katha' also stars bhumi pednekar\n",
            "\n",
            "\n",
            "원문 : claiming that rajinikanth's upcoming film 'kaala' is based on his father who was nicknamed mumbai based journalist jawahar has sought ã¢ââ¹100 crore in a defamation case against rajinikanth and director pa ranjith however he admitted that he has not seen the movie yet but said that he wants to ensure that his reputation is unharmed \n",
            "실제 요약 : journo seeks cr in defamation case against rajini kaala \n",
            "예측 요약 :  yet but said that he wants to ensure that his reputation is drunk\n",
            "\n",
            "\n",
            "원문 : jessica sister has said that she has forgiven killer manu sharma and does not object to his release from the tihar jail adding that she does not want to hold a grudge against him anymore said she has been told sharma has done charity work which is a reflection of reform \n",
            "실제 요약 : i forgive jessica killer no objection to release sister \n",
            "예측 요약 :  been told sharma has done happens work which is a failure of collection\n",
            "\n",
            "\n",
            "원문 : railways minister piyush goyal has instructed caterers at varanasi and raebareli stations to use made which were introduced 15 years ago for serving tea the move will provide huge market for local who are struggling to make ends meet officials said in 2004 former railways minister lalu prasad had introduced to boost the dying pottery industry \n",
            "실제 요약 : to return to railway stations yrs after introduction \n",
            "예측 요약 :  2004 former railways minister lalu prasad had introduced to boost the distress industry\n",
            "\n",
            "\n",
            "원문 : the house of a tribal bjp worker in madhya pradesh's bhopal where bjp national president amit shah had lunch on sunday does not have a toilet the man kamal singh uike had applied for it under the government's swachh bharat project six months ago under the scheme ã¢ââ¹12 000 is sanctioned by the district administration for construction of a toilet \n",
            "실제 요약 : no toilet in tribal man house where amit shah had lunch \n",
            "예측 요약 :  ã¢ââ¹12 000 is sanctioned by the district administration for construction of a toilet\n",
            "\n",
            "\n",
            "원문 : bank shares dropped as much as 17 to nearly 15 year low on monday after a chargesheet was filed against ex director anup prakash garg in a ã¢ââ¹5 000 crore fraud garg was allegedly paid about ã¢ââ¹1 52 crore by sterling biotech directors for facilitating bank credit sterling biotech took loans of over ã¢ââ¹5 000 crore from an andhra bank led consortium which turned into bad loans n \n",
            "실제 요약 : andhra bank shares drop to year low over cr fraud \n",
            "예측 요약 :  crore from an andhra bank led consortium which turned into bad loans loans\n",
            "\n",
            "\n",
            "원문 : us president donald trump has threatened to cut a financial aid for palestine accusing palestinians of being unwilling to talk peace with israel this comes after us ambassador nikki haley warned that her country would cut funds to the united nations' agency for palestinian refugees if palestine does not agree for the peace talks n \n",
            "실제 요약 : trump threatens to cut financial aid for palestine \n",
            "예측 요약 :  for palestinian refugees if palestine does not agree for the peace talks n\n",
            "\n",
            "\n",
            "원문 : softbank has reportedly dropped plans to invest in gurugram based foodtech startup zomato and may invest in its bengaluru based rival swiggy instead the decision was taken after swiggy raised money from chinese e commerce firm meituan dianping last year and 1 billion from south african conglomerate naspers last month reports said it added swiggy's founders have already met with softbank ceo \n",
            "실제 요약 : softbank to drop zomato invest in swiggy instead reports \n",
            "예측 요약 :  month reports said it added against founders have already met with softbank ceo\n",
            "\n",
            "\n"
          ]
        }
      ],
      "source": [
        "for i in range(20, 40):\n",
        "    print(\"원문 :\", seq2text(encoder_input_test[i]))\n",
        "    print(\"실제 요약 :\", seq2summary(decoder_input_test[i]))\n",
        "    print(\"예측 요약 :\", decode_sequence(encoder_input_test[i].reshape(1, text_max_len)))\n",
        "    print(\"\\n\")"
      ]
    },
    {
      "cell_type": "code",
      "execution_count": 59,
      "id": "3ef01b56",
      "metadata": {
        "colab": {
          "base_uri": "https://localhost:8080/"
        },
        "id": "3ef01b56",
        "outputId": "e9e4f0e7-7edb-411e-8ba5-a5381fa24469"
      },
      "outputs": [
        {
          "output_type": "stream",
          "name": "stdout",
          "text": [
            "Collecting summa\n",
            "  Downloading summa-1.2.0.tar.gz (54 kB)\n",
            "\u001b[?25l\r\u001b[K     |██████                          | 10 kB 29.5 MB/s eta 0:00:01\r\u001b[K     |████████████                    | 20 kB 33.2 MB/s eta 0:00:01\r\u001b[K     |██████████████████              | 30 kB 12.3 MB/s eta 0:00:01\r\u001b[K     |███████████████████████▉        | 40 kB 9.2 MB/s eta 0:00:01\r\u001b[K     |█████████████████████████████▉  | 51 kB 5.3 MB/s eta 0:00:01\r\u001b[K     |████████████████████████████████| 54 kB 2.1 MB/s \n",
            "\u001b[?25hRequirement already satisfied: scipy>=0.19 in /usr/local/lib/python3.7/dist-packages (from summa) (1.4.1)\n",
            "Requirement already satisfied: numpy>=1.13.3 in /usr/local/lib/python3.7/dist-packages (from scipy>=0.19->summa) (1.19.5)\n",
            "Building wheels for collected packages: summa\n",
            "  Building wheel for summa (setup.py) ... \u001b[?25l\u001b[?25hdone\n",
            "  Created wheel for summa: filename=summa-1.2.0-py3-none-any.whl size=54412 sha256=ce26aa4b90193df836f8f289242442e7e7622435cc4bb81c130d1a60bda1f63f\n",
            "  Stored in directory: /root/.cache/pip/wheels/29/64/ac/7b443477588d365ef37ada30d456bdf5f07dc5be9f6324cb6e\n",
            "Successfully built summa\n",
            "Installing collected packages: summa\n",
            "Successfully installed summa-1.2.0\n"
          ]
        }
      ],
      "source": [
        "!pip install summa"
      ]
    },
    {
      "cell_type": "code",
      "execution_count": 60,
      "id": "01aafab0",
      "metadata": {
        "id": "01aafab0"
      },
      "outputs": [],
      "source": [
        "from summa.summarizer import summarize"
      ]
    },
    {
      "cell_type": "code",
      "source": [
        "data['extractive summarize'] = data.text.apply(lambda x: summarize(x, words=8))"
      ],
      "metadata": {
        "id": "H9R9JerhkfLb"
      },
      "id": "H9R9JerhkfLb",
      "execution_count": 73,
      "outputs": []
    },
    {
      "cell_type": "code",
      "source": [
        "summarize_list = [decode_sequence(encoder_input_test[i].reshape(1, text_max_len)) for i in range(len(encoder_input_test)) ]"
      ],
      "metadata": {
        "id": "paZsaGMqkrtD"
      },
      "id": "paZsaGMqkrtD",
      "execution_count": null,
      "outputs": []
    },
    {
      "cell_type": "code",
      "source": [
        "from tqdm import tqdm"
      ],
      "metadata": {
        "id": "Ubz8BoZjysgl"
      },
      "id": "Ubz8BoZjysgl",
      "execution_count": 79,
      "outputs": []
    },
    {
      "cell_type": "code",
      "source": [
        "summarize_10 = [decode_sequence(encoder_input_test[i].reshape(1, text_max_len)) for i in tqdm(range(10)) ]"
      ],
      "metadata": {
        "colab": {
          "base_uri": "https://localhost:8080/"
        },
        "id": "wevc1jOsyqOV",
        "outputId": "de7c5082-4ff9-4684-eb67-c6f2da025016"
      },
      "id": "wevc1jOsyqOV",
      "execution_count": 80,
      "outputs": [
        {
          "output_type": "stream",
          "name": "stderr",
          "text": [
            "100%|██████████| 10/10 [00:21<00:00,  2.15s/it]\n"
          ]
        }
      ]
    },
    {
      "cell_type": "code",
      "source": [
        "data['extractive summarize'][:10]"
      ],
      "metadata": {
        "colab": {
          "base_uri": "https://localhost:8080/"
        },
        "id": "8klhW-4pw8ac",
        "outputId": "1799ab61-3c4e-47eb-f1cc-881f5266af60"
      },
      "id": "8klhW-4pw8ac",
      "execution_count": 77,
      "outputs": [
        {
          "output_type": "execute_result",
          "data": {
            "text/plain": [
              "0    upGrad's Online Power Learning has powered 3 l...\n",
              "1                                                     \n",
              "2                                                     \n",
              "3                                                     \n",
              "4                                                     \n",
              "5                                                     \n",
              "6    India's previous lowest ODI total in New Zeala...\n",
              "7                                                     \n",
              "8                                                     \n",
              "9                                                     \n",
              "Name: extractive summarize, dtype: object"
            ]
          },
          "metadata": {},
          "execution_count": 77
        }
      ]
    },
    {
      "cell_type": "code",
      "source": [
        "summarize_10[:10]"
      ],
      "metadata": {
        "colab": {
          "base_uri": "https://localhost:8080/"
        },
        "id": "-9Y-3JjmySpj",
        "outputId": "cb776e6b-9d0a-4220-8a56-32e56b6c90bb"
      },
      "id": "-9Y-3JjmySpj",
      "execution_count": 81,
      "outputs": [
        {
          "output_type": "execute_result",
          "data": {
            "text/plain": [
              "[\" sugandha mishra haven't shot for the show following kapil's karan with sunil nnn\",\n",
              " ' had arrested the accused when he came to the store to collect it',\n",
              " \" first to discover star's and lightning on a planet other than the earth\",\n",
              " ' aap had had lodged a complaint against ramdev a day after his remark',\n",
              " ' manual notably england became the third country to host a day night test',\n",
              " ' we will give a new grace to love through this film said singh',\n",
              " ' ignoring the advice of its own legal team who will diligence target next',\n",
              " ' importance of and praised on centre and states working together for the country',\n",
              " ' to split its franco railway memory unit to raise money to cover charges',\n",
              " ' the chopper to its owner who gave 100 as a driven of youth']"
            ]
          },
          "metadata": {},
          "execution_count": 81
        }
      ]
    },
    {
      "cell_type": "code",
      "source": [
        "data.headlines[:10]"
      ],
      "metadata": {
        "colab": {
          "base_uri": "https://localhost:8080/"
        },
        "id": "wgqYk74fy6TJ",
        "outputId": "1fd17f95-016b-4156-b108-c1d4ee5d0edd"
      },
      "id": "wgqYk74fy6TJ",
      "execution_count": 83,
      "outputs": [
        {
          "output_type": "execute_result",
          "data": {
            "text/plain": [
              "0    upgrad learner switches to career in ml al wit...\n",
              "1    delhi techie wins free food from swiggy for on...\n",
              "2    new zealand end rohit sharma led india match w...\n",
              "3    aegon life iterm insurance plan helps customer...\n",
              "4    have known hirani for yrs what if metoo claims...\n",
              "5    rahat fateh ali khan denies getting notice for...\n",
              "6    india get all out for their lowest odi total i...\n",
              "7    govt directs alok verma to join work day befor...\n",
              "8    called pm modi sir times to satisfy his ego an...\n",
              "9    cong wins ramgarh bypoll in rajasthan takes to...\n",
              "Name: headlines, dtype: object"
            ]
          },
          "metadata": {},
          "execution_count": 83
        }
      ]
    },
    {
      "cell_type": "code",
      "source": [
        "from transformers import pipeline\n",
        "\n",
        "summarizer = pipeline(\"summarization\", model=\"facebook/bart-large-cnn\")"
      ],
      "metadata": {
        "colab": {
          "base_uri": "https://localhost:8080/",
          "height": 176,
          "referenced_widgets": [
            "1f0b36400e7f4690adad5fe268df488f",
            "d1313d04025f4d2f96f1148b49ae0cae",
            "bac2c7fe865648518b275717771ffb88",
            "dabacaf6b96d4cf389418036163f98d8",
            "0bb94d4681bd47d1a72aa64397ae47f6",
            "4a250a5c04b44b0481a7d04a167f838f",
            "776fb8ce0afc4a1fae6ac530320fffd7",
            "dc64aea7354947e3a6dae63b96b38e78",
            "95d8d6b06f7a46f78450afa598243175",
            "433d661ec54c48a6828150a01d97e8f6",
            "56c244d273844912ab054101ae0a342f",
            "d36fbf23ab0645d0bda4a9991d7db3f1",
            "7d1e4184a9ff40ee91971a6dcfc1f8ee",
            "e125161ea4b548d0a395e5fbaafc3743",
            "6aca2d573c2442fc8e6682e73a02e7dd",
            "d7c6ceaa85f647bdbf1c2db661adc332",
            "455f618732dc49d9b68f2a66beaea752",
            "6a04a7006b83490ca575bfd6d33e5891",
            "76f35ab9dda14a51a826532f2e42035a",
            "3c540370432c43898302e010450afeb0",
            "573a5733e1f3448a89681f30f004d531",
            "0a66def35d9e472da4c8766dda2114db",
            "7ed955079bd3437f929eacf6e7d44b6d",
            "a5c326ee46644a5aa912c08bfa89a0a2",
            "16372879519743b48363649ca2621698",
            "17b56f55dcd545808812c6ccbf303870",
            "31581eb0b53f499ba80f478f7b4a0c18",
            "12edad3fe33c4dbe8cf2b4ed12059a24",
            "ce7f3c0073324f6bb3ad0f1fc3e1eb3e",
            "c2d1935d5dec4e759758b599662afea5",
            "cc03d2db97bb45abb1d5e9fe836591f5",
            "226e2dec1adc48db9e014471bd5eed25",
            "d4c722005fd844d189dad28f28d97e76",
            "f86ccb047f7d4d77a06187159fbe3dfb",
            "362d6cc44c3a4c4ab5bbf143ebd2575d",
            "2ccbb9e87d7740ee9700ab7213e4fde7",
            "ef73941a614446689f721ff25e17143b",
            "5ba4219a6b254ef980b9d4b15577e35f",
            "97c48ce7d9e44122b4f5bed523d7f17c",
            "b0ae31e218a9415b932906c82bb1379b",
            "3c2a8b907edc48d296b095986839fe77",
            "1f38b5aa963a451e9267d94e8098f628",
            "e88364479ea94d8b9678548c6d559347",
            "b4a4119518604f34a187d2719c9e7001",
            "cb2480927cd640868d110f46ed35f4dc",
            "c44c15f1cb544f80ab092f9d8b103f5f",
            "dd4d38891e9343818f7b16bf8803cd7d",
            "4124a05db7c747dd9a79168343738718",
            "4a608b19fd454657850e02390f9406c3",
            "5b67ee64fda4478b9134199e19db59a6",
            "6519941cc2524a07a89332b796b45a0b",
            "e03d0636985b484295e3dcc6415d10bb",
            "646432ea01564f43ad5c6d68669586cb",
            "13daab33ef9f4eada7a7559da3ecdbc9",
            "31e78816f0a5431d9d96f2b57ab381a3"
          ]
        },
        "id": "27EQwVrf0tbH",
        "outputId": "36cd5ab5-edcf-4fd8-df5c-b790561d8dfe"
      },
      "id": "27EQwVrf0tbH",
      "execution_count": 85,
      "outputs": [
        {
          "output_type": "display_data",
          "data": {
            "application/vnd.jupyter.widget-view+json": {
              "model_id": "1f0b36400e7f4690adad5fe268df488f",
              "version_minor": 0,
              "version_major": 2
            },
            "text/plain": [
              "Downloading:   0%|          | 0.00/1.55k [00:00<?, ?B/s]"
            ]
          },
          "metadata": {}
        },
        {
          "output_type": "display_data",
          "data": {
            "application/vnd.jupyter.widget-view+json": {
              "model_id": "d36fbf23ab0645d0bda4a9991d7db3f1",
              "version_minor": 0,
              "version_major": 2
            },
            "text/plain": [
              "Downloading:   0%|          | 0.00/1.51G [00:00<?, ?B/s]"
            ]
          },
          "metadata": {}
        },
        {
          "output_type": "display_data",
          "data": {
            "application/vnd.jupyter.widget-view+json": {
              "model_id": "7ed955079bd3437f929eacf6e7d44b6d",
              "version_minor": 0,
              "version_major": 2
            },
            "text/plain": [
              "Downloading:   0%|          | 0.00/878k [00:00<?, ?B/s]"
            ]
          },
          "metadata": {}
        },
        {
          "output_type": "display_data",
          "data": {
            "application/vnd.jupyter.widget-view+json": {
              "model_id": "f86ccb047f7d4d77a06187159fbe3dfb",
              "version_minor": 0,
              "version_major": 2
            },
            "text/plain": [
              "Downloading:   0%|          | 0.00/446k [00:00<?, ?B/s]"
            ]
          },
          "metadata": {}
        },
        {
          "output_type": "display_data",
          "data": {
            "application/vnd.jupyter.widget-view+json": {
              "model_id": "cb2480927cd640868d110f46ed35f4dc",
              "version_minor": 0,
              "version_major": 2
            },
            "text/plain": [
              "Downloading:   0%|          | 0.00/1.29M [00:00<?, ?B/s]"
            ]
          },
          "metadata": {}
        }
      ]
    },
    {
      "cell_type": "code",
      "source": [
        "bigmode_10 = [summarizer(i) for i in tqdm(data.text[:10])]"
      ],
      "metadata": {
        "colab": {
          "base_uri": "https://localhost:8080/"
        },
        "id": "snQkH2sj1OGU",
        "outputId": "dad87bae-0823-449b-da15-d9eb5b49f408"
      },
      "id": "snQkH2sj1OGU",
      "execution_count": 86,
      "outputs": [
        {
          "output_type": "stream",
          "name": "stderr",
          "text": [
            "  0%|          | 0/10 [00:00<?, ?it/s]Your max_length is set to 142, but you input_length is only 87. You might consider decreasing max_length manually, e.g. summarizer('...', max_length=43)\n",
            " 10%|█         | 1/10 [00:04<00:41,  4.58s/it]Your max_length is set to 142, but you input_length is only 95. You might consider decreasing max_length manually, e.g. summarizer('...', max_length=47)\n",
            " 20%|██        | 2/10 [00:08<00:31,  3.95s/it]Your max_length is set to 142, but you input_length is only 75. You might consider decreasing max_length manually, e.g. summarizer('...', max_length=37)\n",
            " 30%|███       | 3/10 [00:11<00:24,  3.50s/it]Your max_length is set to 142, but you input_length is only 84. You might consider decreasing max_length manually, e.g. summarizer('...', max_length=42)\n",
            " 40%|████      | 4/10 [00:13<00:19,  3.23s/it]Your max_length is set to 142, but you input_length is only 93. You might consider decreasing max_length manually, e.g. summarizer('...', max_length=46)\n",
            " 50%|█████     | 5/10 [00:17<00:17,  3.48s/it]Your max_length is set to 142, but you input_length is only 72. You might consider decreasing max_length manually, e.g. summarizer('...', max_length=36)\n",
            " 60%|██████    | 6/10 [00:20<00:13,  3.35s/it]Your max_length is set to 142, but you input_length is only 84. You might consider decreasing max_length manually, e.g. summarizer('...', max_length=42)\n",
            " 70%|███████   | 7/10 [00:23<00:09,  3.09s/it]Your max_length is set to 142, but you input_length is only 72. You might consider decreasing max_length manually, e.g. summarizer('...', max_length=36)\n",
            " 80%|████████  | 8/10 [00:26<00:06,  3.02s/it]Your max_length is set to 142, but you input_length is only 83. You might consider decreasing max_length manually, e.g. summarizer('...', max_length=41)\n",
            " 90%|█████████ | 9/10 [00:29<00:02,  2.94s/it]Your max_length is set to 142, but you input_length is only 86. You might consider decreasing max_length manually, e.g. summarizer('...', max_length=43)\n",
            "100%|██████████| 10/10 [00:32<00:00,  3.21s/it]\n"
          ]
        }
      ]
    },
    {
      "cell_type": "code",
      "source": [
        "bigmode_10[0][0]['summary_text']"
      ],
      "metadata": {
        "colab": {
          "base_uri": "https://localhost:8080/",
          "height": 91
        },
        "id": "wBlWeGaZ1xje",
        "outputId": "8ea32c6f-5c2e-4cc2-e096-fca094ec6339"
      },
      "id": "wBlWeGaZ1xje",
      "execution_count": 90,
      "outputs": [
        {
          "output_type": "execute_result",
          "data": {
            "application/vnd.google.colaboratory.intrinsic+json": {
              "type": "string"
            },
            "text/plain": [
              "\"Saurav Kant, an alumnus of upGrad and IIIT-B's PG Program in Machine learning and Artificial Intelligence, was a Sr Systems Engineer at Infosys with almost 5 years of work experience. The program and upGrad's 360-degree career support helped him transition to a Data Scientist at Tech Mahindra with 90% salary hike. UpGrad's Online Power Learning has powered 3 lakh+ careers.\""
            ]
          },
          "metadata": {},
          "execution_count": 90
        }
      ]
    },
    {
      "cell_type": "code",
      "source": [
        "data.headlines[0]"
      ],
      "metadata": {
        "colab": {
          "base_uri": "https://localhost:8080/",
          "height": 35
        },
        "id": "E1kbjFaa2Hfd",
        "outputId": "e9ec595c-f8ce-4855-a52d-f2abbf038213"
      },
      "id": "E1kbjFaa2Hfd",
      "execution_count": 91,
      "outputs": [
        {
          "output_type": "execute_result",
          "data": {
            "application/vnd.google.colaboratory.intrinsic+json": {
              "type": "string"
            },
            "text/plain": [
              "'upgrad learner switches to career in ml al with salary hike'"
            ]
          },
          "metadata": {},
          "execution_count": 91
        }
      ]
    },
    {
      "cell_type": "code",
      "source": [
        "summarize_10[0]"
      ],
      "metadata": {
        "colab": {
          "base_uri": "https://localhost:8080/",
          "height": 35
        },
        "id": "in80n2Z42Kiu",
        "outputId": "a5e12aba-3388-44d3-d47a-1312d48deabb"
      },
      "id": "in80n2Z42Kiu",
      "execution_count": 92,
      "outputs": [
        {
          "output_type": "execute_result",
          "data": {
            "application/vnd.google.colaboratory.intrinsic+json": {
              "type": "string"
            },
            "text/plain": [
              "\" sugandha mishra haven't shot for the show following kapil's karan with sunil nnn\""
            ]
          },
          "metadata": {},
          "execution_count": 92
        }
      ]
    },
    {
      "cell_type": "code",
      "source": [
        "data['extractive summarize'][0]"
      ],
      "metadata": {
        "colab": {
          "base_uri": "https://localhost:8080/",
          "height": 35
        },
        "id": "vbjcTUN02hP_",
        "outputId": "70669b79-1a40-4c21-bdd8-8cdd1e3e2d40"
      },
      "id": "vbjcTUN02hP_",
      "execution_count": 93,
      "outputs": [
        {
          "output_type": "execute_result",
          "data": {
            "application/vnd.google.colaboratory.intrinsic+json": {
              "type": "string"
            },
            "text/plain": [
              "\"upGrad's Online Power Learning has powered 3 lakh+ careers.\""
            ]
          },
          "metadata": {},
          "execution_count": 93
        }
      ]
    },
    {
      "cell_type": "markdown",
      "source": [
        "결과  \n",
        "\n",
        "최상단의 10개만 가지고 테스트하였는데 추출적 요약은 성능이 빠르게 작동하지만 어떤이유에서인지 어느정도 내용이 있어야 8개 단어를 이용한 추출적 요약이 가능한 듯 하다  \n",
        "그래서 길이가 긴 문장은 추출 요약이 작동한 반면, 조금 짧은 문장은 아예 빈 문장의 결과값을 내놓았다  \n",
        "반면에 추상적 요약은 대체로 문법적인 구조를 갖춘상태에서 요약을 시도하는데 실제 헤드라인과 비교하면 차이가 있다  \n",
        "이는 헤드라인을 작성한 사람은 더 많은 컨텍스트 데이터를 가진 상태에서 본문의 내용을 요약할 때 독자들의 관심을 끌만한 추상적인 기법을 사용하기 때문인 것으로 보인다  \n",
        "반면에 오직 이 뉴스로만 학습시킨 모델에서는 그 추상적인 기법을 흉내내기 위해 애를 쓸 것이지만 그 기술을 정확하게 이해하기 위해선 더 큰 데이터셋이나, 아니면 전이학습을 사용할 필요가 있는 것으로 보인다  \n",
        "\n",
        "회고  \n",
        "우선 TPU 사용법을 익히게 된 것이 가장 큰 수확인거 같다\n",
        "TPU사용을 통해서 체감상 3배정도의 빠른 학습을 진행할 수 있어서  이를 통해 정확도를 많이 오르는 조건을 찾고자 노력했고 모델은 자기가 배운대로 충실히 이행한 것으로 보인다\n",
        "변수를 바꾸면서 사용하다가 많은 에러를 겪었는데, 여전히 토크나이징부터해서 인코더, 디코더 활용까지 전반적인 흐름을  완전히 이해하지 못한 부분이 있다\n",
        "특히 예측을 꺼낼때에도 인코더와 디코더를 활용하는 것을 미처 생각하지 못하고 여러번 재학습 시켜야 하기도 했다\n",
        "몇번 데이터를 날리다보니 자연스럽게 전처리 과정을 거친 이후 저장하는 버릇이 생기게 되었고, 앞으로도 좋은 버릇이 될 것 같다  \n"
      ],
      "metadata": {
        "id": "eJZBJHGF2vrw"
      },
      "id": "eJZBJHGF2vrw"
    },
    {
      "cell_type": "code",
      "source": [
        ""
      ],
      "metadata": {
        "id": "h3omwYW944Hw"
      },
      "id": "h3omwYW944Hw",
      "execution_count": null,
      "outputs": []
    }
  ],
  "metadata": {
    "kernelspec": {
      "display_name": "Python 3 (ipykernel)",
      "language": "python",
      "name": "python3"
    },
    "language_info": {
      "codemirror_mode": {
        "name": "ipython",
        "version": 3
      },
      "file_extension": ".py",
      "mimetype": "text/x-python",
      "name": "python",
      "nbconvert_exporter": "python",
      "pygments_lexer": "ipython3",
      "version": "3.9.7"
    },
    "colab": {
      "name": "[E-8]Project.ipynb",
      "provenance": [],
      "machine_shape": "hm"
    },
    "accelerator": "TPU",
    "widgets": {
      "application/vnd.jupyter.widget-state+json": {
        "1f0b36400e7f4690adad5fe268df488f": {
          "model_module": "@jupyter-widgets/controls",
          "model_name": "HBoxModel",
          "model_module_version": "1.5.0",
          "state": {
            "_view_name": "HBoxView",
            "_dom_classes": [],
            "_model_name": "HBoxModel",
            "_view_module": "@jupyter-widgets/controls",
            "_model_module_version": "1.5.0",
            "_view_count": null,
            "_view_module_version": "1.5.0",
            "box_style": "",
            "layout": "IPY_MODEL_d1313d04025f4d2f96f1148b49ae0cae",
            "_model_module": "@jupyter-widgets/controls",
            "children": [
              "IPY_MODEL_bac2c7fe865648518b275717771ffb88",
              "IPY_MODEL_dabacaf6b96d4cf389418036163f98d8",
              "IPY_MODEL_0bb94d4681bd47d1a72aa64397ae47f6"
            ]
          }
        },
        "d1313d04025f4d2f96f1148b49ae0cae": {
          "model_module": "@jupyter-widgets/base",
          "model_name": "LayoutModel",
          "model_module_version": "1.2.0",
          "state": {
            "_view_name": "LayoutView",
            "grid_template_rows": null,
            "right": null,
            "justify_content": null,
            "_view_module": "@jupyter-widgets/base",
            "overflow": null,
            "_model_module_version": "1.2.0",
            "_view_count": null,
            "flex_flow": null,
            "width": null,
            "min_width": null,
            "border": null,
            "align_items": null,
            "bottom": null,
            "_model_module": "@jupyter-widgets/base",
            "top": null,
            "grid_column": null,
            "overflow_y": null,
            "overflow_x": null,
            "grid_auto_flow": null,
            "grid_area": null,
            "grid_template_columns": null,
            "flex": null,
            "_model_name": "LayoutModel",
            "justify_items": null,
            "grid_row": null,
            "max_height": null,
            "align_content": null,
            "visibility": null,
            "align_self": null,
            "height": null,
            "min_height": null,
            "padding": null,
            "grid_auto_rows": null,
            "grid_gap": null,
            "max_width": null,
            "order": null,
            "_view_module_version": "1.2.0",
            "grid_template_areas": null,
            "object_position": null,
            "object_fit": null,
            "grid_auto_columns": null,
            "margin": null,
            "display": null,
            "left": null
          }
        },
        "bac2c7fe865648518b275717771ffb88": {
          "model_module": "@jupyter-widgets/controls",
          "model_name": "HTMLModel",
          "model_module_version": "1.5.0",
          "state": {
            "_view_name": "HTMLView",
            "style": "IPY_MODEL_4a250a5c04b44b0481a7d04a167f838f",
            "_dom_classes": [],
            "description": "",
            "_model_name": "HTMLModel",
            "placeholder": "​",
            "_view_module": "@jupyter-widgets/controls",
            "_model_module_version": "1.5.0",
            "value": "Downloading: 100%",
            "_view_count": null,
            "_view_module_version": "1.5.0",
            "description_tooltip": null,
            "_model_module": "@jupyter-widgets/controls",
            "layout": "IPY_MODEL_776fb8ce0afc4a1fae6ac530320fffd7"
          }
        },
        "dabacaf6b96d4cf389418036163f98d8": {
          "model_module": "@jupyter-widgets/controls",
          "model_name": "FloatProgressModel",
          "model_module_version": "1.5.0",
          "state": {
            "_view_name": "ProgressView",
            "style": "IPY_MODEL_dc64aea7354947e3a6dae63b96b38e78",
            "_dom_classes": [],
            "description": "",
            "_model_name": "FloatProgressModel",
            "bar_style": "success",
            "max": 1585,
            "_view_module": "@jupyter-widgets/controls",
            "_model_module_version": "1.5.0",
            "value": 1585,
            "_view_count": null,
            "_view_module_version": "1.5.0",
            "orientation": "horizontal",
            "min": 0,
            "description_tooltip": null,
            "_model_module": "@jupyter-widgets/controls",
            "layout": "IPY_MODEL_95d8d6b06f7a46f78450afa598243175"
          }
        },
        "0bb94d4681bd47d1a72aa64397ae47f6": {
          "model_module": "@jupyter-widgets/controls",
          "model_name": "HTMLModel",
          "model_module_version": "1.5.0",
          "state": {
            "_view_name": "HTMLView",
            "style": "IPY_MODEL_433d661ec54c48a6828150a01d97e8f6",
            "_dom_classes": [],
            "description": "",
            "_model_name": "HTMLModel",
            "placeholder": "​",
            "_view_module": "@jupyter-widgets/controls",
            "_model_module_version": "1.5.0",
            "value": " 1.55k/1.55k [00:00&lt;00:00, 56.6kB/s]",
            "_view_count": null,
            "_view_module_version": "1.5.0",
            "description_tooltip": null,
            "_model_module": "@jupyter-widgets/controls",
            "layout": "IPY_MODEL_56c244d273844912ab054101ae0a342f"
          }
        },
        "4a250a5c04b44b0481a7d04a167f838f": {
          "model_module": "@jupyter-widgets/controls",
          "model_name": "DescriptionStyleModel",
          "model_module_version": "1.5.0",
          "state": {
            "_view_name": "StyleView",
            "_model_name": "DescriptionStyleModel",
            "description_width": "",
            "_view_module": "@jupyter-widgets/base",
            "_model_module_version": "1.5.0",
            "_view_count": null,
            "_view_module_version": "1.2.0",
            "_model_module": "@jupyter-widgets/controls"
          }
        },
        "776fb8ce0afc4a1fae6ac530320fffd7": {
          "model_module": "@jupyter-widgets/base",
          "model_name": "LayoutModel",
          "model_module_version": "1.2.0",
          "state": {
            "_view_name": "LayoutView",
            "grid_template_rows": null,
            "right": null,
            "justify_content": null,
            "_view_module": "@jupyter-widgets/base",
            "overflow": null,
            "_model_module_version": "1.2.0",
            "_view_count": null,
            "flex_flow": null,
            "width": null,
            "min_width": null,
            "border": null,
            "align_items": null,
            "bottom": null,
            "_model_module": "@jupyter-widgets/base",
            "top": null,
            "grid_column": null,
            "overflow_y": null,
            "overflow_x": null,
            "grid_auto_flow": null,
            "grid_area": null,
            "grid_template_columns": null,
            "flex": null,
            "_model_name": "LayoutModel",
            "justify_items": null,
            "grid_row": null,
            "max_height": null,
            "align_content": null,
            "visibility": null,
            "align_self": null,
            "height": null,
            "min_height": null,
            "padding": null,
            "grid_auto_rows": null,
            "grid_gap": null,
            "max_width": null,
            "order": null,
            "_view_module_version": "1.2.0",
            "grid_template_areas": null,
            "object_position": null,
            "object_fit": null,
            "grid_auto_columns": null,
            "margin": null,
            "display": null,
            "left": null
          }
        },
        "dc64aea7354947e3a6dae63b96b38e78": {
          "model_module": "@jupyter-widgets/controls",
          "model_name": "ProgressStyleModel",
          "model_module_version": "1.5.0",
          "state": {
            "_view_name": "StyleView",
            "_model_name": "ProgressStyleModel",
            "description_width": "",
            "_view_module": "@jupyter-widgets/base",
            "_model_module_version": "1.5.0",
            "_view_count": null,
            "_view_module_version": "1.2.0",
            "bar_color": null,
            "_model_module": "@jupyter-widgets/controls"
          }
        },
        "95d8d6b06f7a46f78450afa598243175": {
          "model_module": "@jupyter-widgets/base",
          "model_name": "LayoutModel",
          "model_module_version": "1.2.0",
          "state": {
            "_view_name": "LayoutView",
            "grid_template_rows": null,
            "right": null,
            "justify_content": null,
            "_view_module": "@jupyter-widgets/base",
            "overflow": null,
            "_model_module_version": "1.2.0",
            "_view_count": null,
            "flex_flow": null,
            "width": null,
            "min_width": null,
            "border": null,
            "align_items": null,
            "bottom": null,
            "_model_module": "@jupyter-widgets/base",
            "top": null,
            "grid_column": null,
            "overflow_y": null,
            "overflow_x": null,
            "grid_auto_flow": null,
            "grid_area": null,
            "grid_template_columns": null,
            "flex": null,
            "_model_name": "LayoutModel",
            "justify_items": null,
            "grid_row": null,
            "max_height": null,
            "align_content": null,
            "visibility": null,
            "align_self": null,
            "height": null,
            "min_height": null,
            "padding": null,
            "grid_auto_rows": null,
            "grid_gap": null,
            "max_width": null,
            "order": null,
            "_view_module_version": "1.2.0",
            "grid_template_areas": null,
            "object_position": null,
            "object_fit": null,
            "grid_auto_columns": null,
            "margin": null,
            "display": null,
            "left": null
          }
        },
        "433d661ec54c48a6828150a01d97e8f6": {
          "model_module": "@jupyter-widgets/controls",
          "model_name": "DescriptionStyleModel",
          "model_module_version": "1.5.0",
          "state": {
            "_view_name": "StyleView",
            "_model_name": "DescriptionStyleModel",
            "description_width": "",
            "_view_module": "@jupyter-widgets/base",
            "_model_module_version": "1.5.0",
            "_view_count": null,
            "_view_module_version": "1.2.0",
            "_model_module": "@jupyter-widgets/controls"
          }
        },
        "56c244d273844912ab054101ae0a342f": {
          "model_module": "@jupyter-widgets/base",
          "model_name": "LayoutModel",
          "model_module_version": "1.2.0",
          "state": {
            "_view_name": "LayoutView",
            "grid_template_rows": null,
            "right": null,
            "justify_content": null,
            "_view_module": "@jupyter-widgets/base",
            "overflow": null,
            "_model_module_version": "1.2.0",
            "_view_count": null,
            "flex_flow": null,
            "width": null,
            "min_width": null,
            "border": null,
            "align_items": null,
            "bottom": null,
            "_model_module": "@jupyter-widgets/base",
            "top": null,
            "grid_column": null,
            "overflow_y": null,
            "overflow_x": null,
            "grid_auto_flow": null,
            "grid_area": null,
            "grid_template_columns": null,
            "flex": null,
            "_model_name": "LayoutModel",
            "justify_items": null,
            "grid_row": null,
            "max_height": null,
            "align_content": null,
            "visibility": null,
            "align_self": null,
            "height": null,
            "min_height": null,
            "padding": null,
            "grid_auto_rows": null,
            "grid_gap": null,
            "max_width": null,
            "order": null,
            "_view_module_version": "1.2.0",
            "grid_template_areas": null,
            "object_position": null,
            "object_fit": null,
            "grid_auto_columns": null,
            "margin": null,
            "display": null,
            "left": null
          }
        },
        "d36fbf23ab0645d0bda4a9991d7db3f1": {
          "model_module": "@jupyter-widgets/controls",
          "model_name": "HBoxModel",
          "model_module_version": "1.5.0",
          "state": {
            "_view_name": "HBoxView",
            "_dom_classes": [],
            "_model_name": "HBoxModel",
            "_view_module": "@jupyter-widgets/controls",
            "_model_module_version": "1.5.0",
            "_view_count": null,
            "_view_module_version": "1.5.0",
            "box_style": "",
            "layout": "IPY_MODEL_7d1e4184a9ff40ee91971a6dcfc1f8ee",
            "_model_module": "@jupyter-widgets/controls",
            "children": [
              "IPY_MODEL_e125161ea4b548d0a395e5fbaafc3743",
              "IPY_MODEL_6aca2d573c2442fc8e6682e73a02e7dd",
              "IPY_MODEL_d7c6ceaa85f647bdbf1c2db661adc332"
            ]
          }
        },
        "7d1e4184a9ff40ee91971a6dcfc1f8ee": {
          "model_module": "@jupyter-widgets/base",
          "model_name": "LayoutModel",
          "model_module_version": "1.2.0",
          "state": {
            "_view_name": "LayoutView",
            "grid_template_rows": null,
            "right": null,
            "justify_content": null,
            "_view_module": "@jupyter-widgets/base",
            "overflow": null,
            "_model_module_version": "1.2.0",
            "_view_count": null,
            "flex_flow": null,
            "width": null,
            "min_width": null,
            "border": null,
            "align_items": null,
            "bottom": null,
            "_model_module": "@jupyter-widgets/base",
            "top": null,
            "grid_column": null,
            "overflow_y": null,
            "overflow_x": null,
            "grid_auto_flow": null,
            "grid_area": null,
            "grid_template_columns": null,
            "flex": null,
            "_model_name": "LayoutModel",
            "justify_items": null,
            "grid_row": null,
            "max_height": null,
            "align_content": null,
            "visibility": null,
            "align_self": null,
            "height": null,
            "min_height": null,
            "padding": null,
            "grid_auto_rows": null,
            "grid_gap": null,
            "max_width": null,
            "order": null,
            "_view_module_version": "1.2.0",
            "grid_template_areas": null,
            "object_position": null,
            "object_fit": null,
            "grid_auto_columns": null,
            "margin": null,
            "display": null,
            "left": null
          }
        },
        "e125161ea4b548d0a395e5fbaafc3743": {
          "model_module": "@jupyter-widgets/controls",
          "model_name": "HTMLModel",
          "model_module_version": "1.5.0",
          "state": {
            "_view_name": "HTMLView",
            "style": "IPY_MODEL_455f618732dc49d9b68f2a66beaea752",
            "_dom_classes": [],
            "description": "",
            "_model_name": "HTMLModel",
            "placeholder": "​",
            "_view_module": "@jupyter-widgets/controls",
            "_model_module_version": "1.5.0",
            "value": "Downloading: 100%",
            "_view_count": null,
            "_view_module_version": "1.5.0",
            "description_tooltip": null,
            "_model_module": "@jupyter-widgets/controls",
            "layout": "IPY_MODEL_6a04a7006b83490ca575bfd6d33e5891"
          }
        },
        "6aca2d573c2442fc8e6682e73a02e7dd": {
          "model_module": "@jupyter-widgets/controls",
          "model_name": "FloatProgressModel",
          "model_module_version": "1.5.0",
          "state": {
            "_view_name": "ProgressView",
            "style": "IPY_MODEL_76f35ab9dda14a51a826532f2e42035a",
            "_dom_classes": [],
            "description": "",
            "_model_name": "FloatProgressModel",
            "bar_style": "success",
            "max": 1625270765,
            "_view_module": "@jupyter-widgets/controls",
            "_model_module_version": "1.5.0",
            "value": 1625270765,
            "_view_count": null,
            "_view_module_version": "1.5.0",
            "orientation": "horizontal",
            "min": 0,
            "description_tooltip": null,
            "_model_module": "@jupyter-widgets/controls",
            "layout": "IPY_MODEL_3c540370432c43898302e010450afeb0"
          }
        },
        "d7c6ceaa85f647bdbf1c2db661adc332": {
          "model_module": "@jupyter-widgets/controls",
          "model_name": "HTMLModel",
          "model_module_version": "1.5.0",
          "state": {
            "_view_name": "HTMLView",
            "style": "IPY_MODEL_573a5733e1f3448a89681f30f004d531",
            "_dom_classes": [],
            "description": "",
            "_model_name": "HTMLModel",
            "placeholder": "​",
            "_view_module": "@jupyter-widgets/controls",
            "_model_module_version": "1.5.0",
            "value": " 1.51G/1.51G [00:29&lt;00:00, 55.6MB/s]",
            "_view_count": null,
            "_view_module_version": "1.5.0",
            "description_tooltip": null,
            "_model_module": "@jupyter-widgets/controls",
            "layout": "IPY_MODEL_0a66def35d9e472da4c8766dda2114db"
          }
        },
        "455f618732dc49d9b68f2a66beaea752": {
          "model_module": "@jupyter-widgets/controls",
          "model_name": "DescriptionStyleModel",
          "model_module_version": "1.5.0",
          "state": {
            "_view_name": "StyleView",
            "_model_name": "DescriptionStyleModel",
            "description_width": "",
            "_view_module": "@jupyter-widgets/base",
            "_model_module_version": "1.5.0",
            "_view_count": null,
            "_view_module_version": "1.2.0",
            "_model_module": "@jupyter-widgets/controls"
          }
        },
        "6a04a7006b83490ca575bfd6d33e5891": {
          "model_module": "@jupyter-widgets/base",
          "model_name": "LayoutModel",
          "model_module_version": "1.2.0",
          "state": {
            "_view_name": "LayoutView",
            "grid_template_rows": null,
            "right": null,
            "justify_content": null,
            "_view_module": "@jupyter-widgets/base",
            "overflow": null,
            "_model_module_version": "1.2.0",
            "_view_count": null,
            "flex_flow": null,
            "width": null,
            "min_width": null,
            "border": null,
            "align_items": null,
            "bottom": null,
            "_model_module": "@jupyter-widgets/base",
            "top": null,
            "grid_column": null,
            "overflow_y": null,
            "overflow_x": null,
            "grid_auto_flow": null,
            "grid_area": null,
            "grid_template_columns": null,
            "flex": null,
            "_model_name": "LayoutModel",
            "justify_items": null,
            "grid_row": null,
            "max_height": null,
            "align_content": null,
            "visibility": null,
            "align_self": null,
            "height": null,
            "min_height": null,
            "padding": null,
            "grid_auto_rows": null,
            "grid_gap": null,
            "max_width": null,
            "order": null,
            "_view_module_version": "1.2.0",
            "grid_template_areas": null,
            "object_position": null,
            "object_fit": null,
            "grid_auto_columns": null,
            "margin": null,
            "display": null,
            "left": null
          }
        },
        "76f35ab9dda14a51a826532f2e42035a": {
          "model_module": "@jupyter-widgets/controls",
          "model_name": "ProgressStyleModel",
          "model_module_version": "1.5.0",
          "state": {
            "_view_name": "StyleView",
            "_model_name": "ProgressStyleModel",
            "description_width": "",
            "_view_module": "@jupyter-widgets/base",
            "_model_module_version": "1.5.0",
            "_view_count": null,
            "_view_module_version": "1.2.0",
            "bar_color": null,
            "_model_module": "@jupyter-widgets/controls"
          }
        },
        "3c540370432c43898302e010450afeb0": {
          "model_module": "@jupyter-widgets/base",
          "model_name": "LayoutModel",
          "model_module_version": "1.2.0",
          "state": {
            "_view_name": "LayoutView",
            "grid_template_rows": null,
            "right": null,
            "justify_content": null,
            "_view_module": "@jupyter-widgets/base",
            "overflow": null,
            "_model_module_version": "1.2.0",
            "_view_count": null,
            "flex_flow": null,
            "width": null,
            "min_width": null,
            "border": null,
            "align_items": null,
            "bottom": null,
            "_model_module": "@jupyter-widgets/base",
            "top": null,
            "grid_column": null,
            "overflow_y": null,
            "overflow_x": null,
            "grid_auto_flow": null,
            "grid_area": null,
            "grid_template_columns": null,
            "flex": null,
            "_model_name": "LayoutModel",
            "justify_items": null,
            "grid_row": null,
            "max_height": null,
            "align_content": null,
            "visibility": null,
            "align_self": null,
            "height": null,
            "min_height": null,
            "padding": null,
            "grid_auto_rows": null,
            "grid_gap": null,
            "max_width": null,
            "order": null,
            "_view_module_version": "1.2.0",
            "grid_template_areas": null,
            "object_position": null,
            "object_fit": null,
            "grid_auto_columns": null,
            "margin": null,
            "display": null,
            "left": null
          }
        },
        "573a5733e1f3448a89681f30f004d531": {
          "model_module": "@jupyter-widgets/controls",
          "model_name": "DescriptionStyleModel",
          "model_module_version": "1.5.0",
          "state": {
            "_view_name": "StyleView",
            "_model_name": "DescriptionStyleModel",
            "description_width": "",
            "_view_module": "@jupyter-widgets/base",
            "_model_module_version": "1.5.0",
            "_view_count": null,
            "_view_module_version": "1.2.0",
            "_model_module": "@jupyter-widgets/controls"
          }
        },
        "0a66def35d9e472da4c8766dda2114db": {
          "model_module": "@jupyter-widgets/base",
          "model_name": "LayoutModel",
          "model_module_version": "1.2.0",
          "state": {
            "_view_name": "LayoutView",
            "grid_template_rows": null,
            "right": null,
            "justify_content": null,
            "_view_module": "@jupyter-widgets/base",
            "overflow": null,
            "_model_module_version": "1.2.0",
            "_view_count": null,
            "flex_flow": null,
            "width": null,
            "min_width": null,
            "border": null,
            "align_items": null,
            "bottom": null,
            "_model_module": "@jupyter-widgets/base",
            "top": null,
            "grid_column": null,
            "overflow_y": null,
            "overflow_x": null,
            "grid_auto_flow": null,
            "grid_area": null,
            "grid_template_columns": null,
            "flex": null,
            "_model_name": "LayoutModel",
            "justify_items": null,
            "grid_row": null,
            "max_height": null,
            "align_content": null,
            "visibility": null,
            "align_self": null,
            "height": null,
            "min_height": null,
            "padding": null,
            "grid_auto_rows": null,
            "grid_gap": null,
            "max_width": null,
            "order": null,
            "_view_module_version": "1.2.0",
            "grid_template_areas": null,
            "object_position": null,
            "object_fit": null,
            "grid_auto_columns": null,
            "margin": null,
            "display": null,
            "left": null
          }
        },
        "7ed955079bd3437f929eacf6e7d44b6d": {
          "model_module": "@jupyter-widgets/controls",
          "model_name": "HBoxModel",
          "model_module_version": "1.5.0",
          "state": {
            "_view_name": "HBoxView",
            "_dom_classes": [],
            "_model_name": "HBoxModel",
            "_view_module": "@jupyter-widgets/controls",
            "_model_module_version": "1.5.0",
            "_view_count": null,
            "_view_module_version": "1.5.0",
            "box_style": "",
            "layout": "IPY_MODEL_a5c326ee46644a5aa912c08bfa89a0a2",
            "_model_module": "@jupyter-widgets/controls",
            "children": [
              "IPY_MODEL_16372879519743b48363649ca2621698",
              "IPY_MODEL_17b56f55dcd545808812c6ccbf303870",
              "IPY_MODEL_31581eb0b53f499ba80f478f7b4a0c18"
            ]
          }
        },
        "a5c326ee46644a5aa912c08bfa89a0a2": {
          "model_module": "@jupyter-widgets/base",
          "model_name": "LayoutModel",
          "model_module_version": "1.2.0",
          "state": {
            "_view_name": "LayoutView",
            "grid_template_rows": null,
            "right": null,
            "justify_content": null,
            "_view_module": "@jupyter-widgets/base",
            "overflow": null,
            "_model_module_version": "1.2.0",
            "_view_count": null,
            "flex_flow": null,
            "width": null,
            "min_width": null,
            "border": null,
            "align_items": null,
            "bottom": null,
            "_model_module": "@jupyter-widgets/base",
            "top": null,
            "grid_column": null,
            "overflow_y": null,
            "overflow_x": null,
            "grid_auto_flow": null,
            "grid_area": null,
            "grid_template_columns": null,
            "flex": null,
            "_model_name": "LayoutModel",
            "justify_items": null,
            "grid_row": null,
            "max_height": null,
            "align_content": null,
            "visibility": null,
            "align_self": null,
            "height": null,
            "min_height": null,
            "padding": null,
            "grid_auto_rows": null,
            "grid_gap": null,
            "max_width": null,
            "order": null,
            "_view_module_version": "1.2.0",
            "grid_template_areas": null,
            "object_position": null,
            "object_fit": null,
            "grid_auto_columns": null,
            "margin": null,
            "display": null,
            "left": null
          }
        },
        "16372879519743b48363649ca2621698": {
          "model_module": "@jupyter-widgets/controls",
          "model_name": "HTMLModel",
          "model_module_version": "1.5.0",
          "state": {
            "_view_name": "HTMLView",
            "style": "IPY_MODEL_12edad3fe33c4dbe8cf2b4ed12059a24",
            "_dom_classes": [],
            "description": "",
            "_model_name": "HTMLModel",
            "placeholder": "​",
            "_view_module": "@jupyter-widgets/controls",
            "_model_module_version": "1.5.0",
            "value": "Downloading: 100%",
            "_view_count": null,
            "_view_module_version": "1.5.0",
            "description_tooltip": null,
            "_model_module": "@jupyter-widgets/controls",
            "layout": "IPY_MODEL_ce7f3c0073324f6bb3ad0f1fc3e1eb3e"
          }
        },
        "17b56f55dcd545808812c6ccbf303870": {
          "model_module": "@jupyter-widgets/controls",
          "model_name": "FloatProgressModel",
          "model_module_version": "1.5.0",
          "state": {
            "_view_name": "ProgressView",
            "style": "IPY_MODEL_c2d1935d5dec4e759758b599662afea5",
            "_dom_classes": [],
            "description": "",
            "_model_name": "FloatProgressModel",
            "bar_style": "success",
            "max": 898823,
            "_view_module": "@jupyter-widgets/controls",
            "_model_module_version": "1.5.0",
            "value": 898823,
            "_view_count": null,
            "_view_module_version": "1.5.0",
            "orientation": "horizontal",
            "min": 0,
            "description_tooltip": null,
            "_model_module": "@jupyter-widgets/controls",
            "layout": "IPY_MODEL_cc03d2db97bb45abb1d5e9fe836591f5"
          }
        },
        "31581eb0b53f499ba80f478f7b4a0c18": {
          "model_module": "@jupyter-widgets/controls",
          "model_name": "HTMLModel",
          "model_module_version": "1.5.0",
          "state": {
            "_view_name": "HTMLView",
            "style": "IPY_MODEL_226e2dec1adc48db9e014471bd5eed25",
            "_dom_classes": [],
            "description": "",
            "_model_name": "HTMLModel",
            "placeholder": "​",
            "_view_module": "@jupyter-widgets/controls",
            "_model_module_version": "1.5.0",
            "value": " 878k/878k [00:00&lt;00:00, 1.33MB/s]",
            "_view_count": null,
            "_view_module_version": "1.5.0",
            "description_tooltip": null,
            "_model_module": "@jupyter-widgets/controls",
            "layout": "IPY_MODEL_d4c722005fd844d189dad28f28d97e76"
          }
        },
        "12edad3fe33c4dbe8cf2b4ed12059a24": {
          "model_module": "@jupyter-widgets/controls",
          "model_name": "DescriptionStyleModel",
          "model_module_version": "1.5.0",
          "state": {
            "_view_name": "StyleView",
            "_model_name": "DescriptionStyleModel",
            "description_width": "",
            "_view_module": "@jupyter-widgets/base",
            "_model_module_version": "1.5.0",
            "_view_count": null,
            "_view_module_version": "1.2.0",
            "_model_module": "@jupyter-widgets/controls"
          }
        },
        "ce7f3c0073324f6bb3ad0f1fc3e1eb3e": {
          "model_module": "@jupyter-widgets/base",
          "model_name": "LayoutModel",
          "model_module_version": "1.2.0",
          "state": {
            "_view_name": "LayoutView",
            "grid_template_rows": null,
            "right": null,
            "justify_content": null,
            "_view_module": "@jupyter-widgets/base",
            "overflow": null,
            "_model_module_version": "1.2.0",
            "_view_count": null,
            "flex_flow": null,
            "width": null,
            "min_width": null,
            "border": null,
            "align_items": null,
            "bottom": null,
            "_model_module": "@jupyter-widgets/base",
            "top": null,
            "grid_column": null,
            "overflow_y": null,
            "overflow_x": null,
            "grid_auto_flow": null,
            "grid_area": null,
            "grid_template_columns": null,
            "flex": null,
            "_model_name": "LayoutModel",
            "justify_items": null,
            "grid_row": null,
            "max_height": null,
            "align_content": null,
            "visibility": null,
            "align_self": null,
            "height": null,
            "min_height": null,
            "padding": null,
            "grid_auto_rows": null,
            "grid_gap": null,
            "max_width": null,
            "order": null,
            "_view_module_version": "1.2.0",
            "grid_template_areas": null,
            "object_position": null,
            "object_fit": null,
            "grid_auto_columns": null,
            "margin": null,
            "display": null,
            "left": null
          }
        },
        "c2d1935d5dec4e759758b599662afea5": {
          "model_module": "@jupyter-widgets/controls",
          "model_name": "ProgressStyleModel",
          "model_module_version": "1.5.0",
          "state": {
            "_view_name": "StyleView",
            "_model_name": "ProgressStyleModel",
            "description_width": "",
            "_view_module": "@jupyter-widgets/base",
            "_model_module_version": "1.5.0",
            "_view_count": null,
            "_view_module_version": "1.2.0",
            "bar_color": null,
            "_model_module": "@jupyter-widgets/controls"
          }
        },
        "cc03d2db97bb45abb1d5e9fe836591f5": {
          "model_module": "@jupyter-widgets/base",
          "model_name": "LayoutModel",
          "model_module_version": "1.2.0",
          "state": {
            "_view_name": "LayoutView",
            "grid_template_rows": null,
            "right": null,
            "justify_content": null,
            "_view_module": "@jupyter-widgets/base",
            "overflow": null,
            "_model_module_version": "1.2.0",
            "_view_count": null,
            "flex_flow": null,
            "width": null,
            "min_width": null,
            "border": null,
            "align_items": null,
            "bottom": null,
            "_model_module": "@jupyter-widgets/base",
            "top": null,
            "grid_column": null,
            "overflow_y": null,
            "overflow_x": null,
            "grid_auto_flow": null,
            "grid_area": null,
            "grid_template_columns": null,
            "flex": null,
            "_model_name": "LayoutModel",
            "justify_items": null,
            "grid_row": null,
            "max_height": null,
            "align_content": null,
            "visibility": null,
            "align_self": null,
            "height": null,
            "min_height": null,
            "padding": null,
            "grid_auto_rows": null,
            "grid_gap": null,
            "max_width": null,
            "order": null,
            "_view_module_version": "1.2.0",
            "grid_template_areas": null,
            "object_position": null,
            "object_fit": null,
            "grid_auto_columns": null,
            "margin": null,
            "display": null,
            "left": null
          }
        },
        "226e2dec1adc48db9e014471bd5eed25": {
          "model_module": "@jupyter-widgets/controls",
          "model_name": "DescriptionStyleModel",
          "model_module_version": "1.5.0",
          "state": {
            "_view_name": "StyleView",
            "_model_name": "DescriptionStyleModel",
            "description_width": "",
            "_view_module": "@jupyter-widgets/base",
            "_model_module_version": "1.5.0",
            "_view_count": null,
            "_view_module_version": "1.2.0",
            "_model_module": "@jupyter-widgets/controls"
          }
        },
        "d4c722005fd844d189dad28f28d97e76": {
          "model_module": "@jupyter-widgets/base",
          "model_name": "LayoutModel",
          "model_module_version": "1.2.0",
          "state": {
            "_view_name": "LayoutView",
            "grid_template_rows": null,
            "right": null,
            "justify_content": null,
            "_view_module": "@jupyter-widgets/base",
            "overflow": null,
            "_model_module_version": "1.2.0",
            "_view_count": null,
            "flex_flow": null,
            "width": null,
            "min_width": null,
            "border": null,
            "align_items": null,
            "bottom": null,
            "_model_module": "@jupyter-widgets/base",
            "top": null,
            "grid_column": null,
            "overflow_y": null,
            "overflow_x": null,
            "grid_auto_flow": null,
            "grid_area": null,
            "grid_template_columns": null,
            "flex": null,
            "_model_name": "LayoutModel",
            "justify_items": null,
            "grid_row": null,
            "max_height": null,
            "align_content": null,
            "visibility": null,
            "align_self": null,
            "height": null,
            "min_height": null,
            "padding": null,
            "grid_auto_rows": null,
            "grid_gap": null,
            "max_width": null,
            "order": null,
            "_view_module_version": "1.2.0",
            "grid_template_areas": null,
            "object_position": null,
            "object_fit": null,
            "grid_auto_columns": null,
            "margin": null,
            "display": null,
            "left": null
          }
        },
        "f86ccb047f7d4d77a06187159fbe3dfb": {
          "model_module": "@jupyter-widgets/controls",
          "model_name": "HBoxModel",
          "model_module_version": "1.5.0",
          "state": {
            "_view_name": "HBoxView",
            "_dom_classes": [],
            "_model_name": "HBoxModel",
            "_view_module": "@jupyter-widgets/controls",
            "_model_module_version": "1.5.0",
            "_view_count": null,
            "_view_module_version": "1.5.0",
            "box_style": "",
            "layout": "IPY_MODEL_362d6cc44c3a4c4ab5bbf143ebd2575d",
            "_model_module": "@jupyter-widgets/controls",
            "children": [
              "IPY_MODEL_2ccbb9e87d7740ee9700ab7213e4fde7",
              "IPY_MODEL_ef73941a614446689f721ff25e17143b",
              "IPY_MODEL_5ba4219a6b254ef980b9d4b15577e35f"
            ]
          }
        },
        "362d6cc44c3a4c4ab5bbf143ebd2575d": {
          "model_module": "@jupyter-widgets/base",
          "model_name": "LayoutModel",
          "model_module_version": "1.2.0",
          "state": {
            "_view_name": "LayoutView",
            "grid_template_rows": null,
            "right": null,
            "justify_content": null,
            "_view_module": "@jupyter-widgets/base",
            "overflow": null,
            "_model_module_version": "1.2.0",
            "_view_count": null,
            "flex_flow": null,
            "width": null,
            "min_width": null,
            "border": null,
            "align_items": null,
            "bottom": null,
            "_model_module": "@jupyter-widgets/base",
            "top": null,
            "grid_column": null,
            "overflow_y": null,
            "overflow_x": null,
            "grid_auto_flow": null,
            "grid_area": null,
            "grid_template_columns": null,
            "flex": null,
            "_model_name": "LayoutModel",
            "justify_items": null,
            "grid_row": null,
            "max_height": null,
            "align_content": null,
            "visibility": null,
            "align_self": null,
            "height": null,
            "min_height": null,
            "padding": null,
            "grid_auto_rows": null,
            "grid_gap": null,
            "max_width": null,
            "order": null,
            "_view_module_version": "1.2.0",
            "grid_template_areas": null,
            "object_position": null,
            "object_fit": null,
            "grid_auto_columns": null,
            "margin": null,
            "display": null,
            "left": null
          }
        },
        "2ccbb9e87d7740ee9700ab7213e4fde7": {
          "model_module": "@jupyter-widgets/controls",
          "model_name": "HTMLModel",
          "model_module_version": "1.5.0",
          "state": {
            "_view_name": "HTMLView",
            "style": "IPY_MODEL_97c48ce7d9e44122b4f5bed523d7f17c",
            "_dom_classes": [],
            "description": "",
            "_model_name": "HTMLModel",
            "placeholder": "​",
            "_view_module": "@jupyter-widgets/controls",
            "_model_module_version": "1.5.0",
            "value": "Downloading: 100%",
            "_view_count": null,
            "_view_module_version": "1.5.0",
            "description_tooltip": null,
            "_model_module": "@jupyter-widgets/controls",
            "layout": "IPY_MODEL_b0ae31e218a9415b932906c82bb1379b"
          }
        },
        "ef73941a614446689f721ff25e17143b": {
          "model_module": "@jupyter-widgets/controls",
          "model_name": "FloatProgressModel",
          "model_module_version": "1.5.0",
          "state": {
            "_view_name": "ProgressView",
            "style": "IPY_MODEL_3c2a8b907edc48d296b095986839fe77",
            "_dom_classes": [],
            "description": "",
            "_model_name": "FloatProgressModel",
            "bar_style": "success",
            "max": 456318,
            "_view_module": "@jupyter-widgets/controls",
            "_model_module_version": "1.5.0",
            "value": 456318,
            "_view_count": null,
            "_view_module_version": "1.5.0",
            "orientation": "horizontal",
            "min": 0,
            "description_tooltip": null,
            "_model_module": "@jupyter-widgets/controls",
            "layout": "IPY_MODEL_1f38b5aa963a451e9267d94e8098f628"
          }
        },
        "5ba4219a6b254ef980b9d4b15577e35f": {
          "model_module": "@jupyter-widgets/controls",
          "model_name": "HTMLModel",
          "model_module_version": "1.5.0",
          "state": {
            "_view_name": "HTMLView",
            "style": "IPY_MODEL_e88364479ea94d8b9678548c6d559347",
            "_dom_classes": [],
            "description": "",
            "_model_name": "HTMLModel",
            "placeholder": "​",
            "_view_module": "@jupyter-widgets/controls",
            "_model_module_version": "1.5.0",
            "value": " 446k/446k [00:00&lt;00:00, 1.67MB/s]",
            "_view_count": null,
            "_view_module_version": "1.5.0",
            "description_tooltip": null,
            "_model_module": "@jupyter-widgets/controls",
            "layout": "IPY_MODEL_b4a4119518604f34a187d2719c9e7001"
          }
        },
        "97c48ce7d9e44122b4f5bed523d7f17c": {
          "model_module": "@jupyter-widgets/controls",
          "model_name": "DescriptionStyleModel",
          "model_module_version": "1.5.0",
          "state": {
            "_view_name": "StyleView",
            "_model_name": "DescriptionStyleModel",
            "description_width": "",
            "_view_module": "@jupyter-widgets/base",
            "_model_module_version": "1.5.0",
            "_view_count": null,
            "_view_module_version": "1.2.0",
            "_model_module": "@jupyter-widgets/controls"
          }
        },
        "b0ae31e218a9415b932906c82bb1379b": {
          "model_module": "@jupyter-widgets/base",
          "model_name": "LayoutModel",
          "model_module_version": "1.2.0",
          "state": {
            "_view_name": "LayoutView",
            "grid_template_rows": null,
            "right": null,
            "justify_content": null,
            "_view_module": "@jupyter-widgets/base",
            "overflow": null,
            "_model_module_version": "1.2.0",
            "_view_count": null,
            "flex_flow": null,
            "width": null,
            "min_width": null,
            "border": null,
            "align_items": null,
            "bottom": null,
            "_model_module": "@jupyter-widgets/base",
            "top": null,
            "grid_column": null,
            "overflow_y": null,
            "overflow_x": null,
            "grid_auto_flow": null,
            "grid_area": null,
            "grid_template_columns": null,
            "flex": null,
            "_model_name": "LayoutModel",
            "justify_items": null,
            "grid_row": null,
            "max_height": null,
            "align_content": null,
            "visibility": null,
            "align_self": null,
            "height": null,
            "min_height": null,
            "padding": null,
            "grid_auto_rows": null,
            "grid_gap": null,
            "max_width": null,
            "order": null,
            "_view_module_version": "1.2.0",
            "grid_template_areas": null,
            "object_position": null,
            "object_fit": null,
            "grid_auto_columns": null,
            "margin": null,
            "display": null,
            "left": null
          }
        },
        "3c2a8b907edc48d296b095986839fe77": {
          "model_module": "@jupyter-widgets/controls",
          "model_name": "ProgressStyleModel",
          "model_module_version": "1.5.0",
          "state": {
            "_view_name": "StyleView",
            "_model_name": "ProgressStyleModel",
            "description_width": "",
            "_view_module": "@jupyter-widgets/base",
            "_model_module_version": "1.5.0",
            "_view_count": null,
            "_view_module_version": "1.2.0",
            "bar_color": null,
            "_model_module": "@jupyter-widgets/controls"
          }
        },
        "1f38b5aa963a451e9267d94e8098f628": {
          "model_module": "@jupyter-widgets/base",
          "model_name": "LayoutModel",
          "model_module_version": "1.2.0",
          "state": {
            "_view_name": "LayoutView",
            "grid_template_rows": null,
            "right": null,
            "justify_content": null,
            "_view_module": "@jupyter-widgets/base",
            "overflow": null,
            "_model_module_version": "1.2.0",
            "_view_count": null,
            "flex_flow": null,
            "width": null,
            "min_width": null,
            "border": null,
            "align_items": null,
            "bottom": null,
            "_model_module": "@jupyter-widgets/base",
            "top": null,
            "grid_column": null,
            "overflow_y": null,
            "overflow_x": null,
            "grid_auto_flow": null,
            "grid_area": null,
            "grid_template_columns": null,
            "flex": null,
            "_model_name": "LayoutModel",
            "justify_items": null,
            "grid_row": null,
            "max_height": null,
            "align_content": null,
            "visibility": null,
            "align_self": null,
            "height": null,
            "min_height": null,
            "padding": null,
            "grid_auto_rows": null,
            "grid_gap": null,
            "max_width": null,
            "order": null,
            "_view_module_version": "1.2.0",
            "grid_template_areas": null,
            "object_position": null,
            "object_fit": null,
            "grid_auto_columns": null,
            "margin": null,
            "display": null,
            "left": null
          }
        },
        "e88364479ea94d8b9678548c6d559347": {
          "model_module": "@jupyter-widgets/controls",
          "model_name": "DescriptionStyleModel",
          "model_module_version": "1.5.0",
          "state": {
            "_view_name": "StyleView",
            "_model_name": "DescriptionStyleModel",
            "description_width": "",
            "_view_module": "@jupyter-widgets/base",
            "_model_module_version": "1.5.0",
            "_view_count": null,
            "_view_module_version": "1.2.0",
            "_model_module": "@jupyter-widgets/controls"
          }
        },
        "b4a4119518604f34a187d2719c9e7001": {
          "model_module": "@jupyter-widgets/base",
          "model_name": "LayoutModel",
          "model_module_version": "1.2.0",
          "state": {
            "_view_name": "LayoutView",
            "grid_template_rows": null,
            "right": null,
            "justify_content": null,
            "_view_module": "@jupyter-widgets/base",
            "overflow": null,
            "_model_module_version": "1.2.0",
            "_view_count": null,
            "flex_flow": null,
            "width": null,
            "min_width": null,
            "border": null,
            "align_items": null,
            "bottom": null,
            "_model_module": "@jupyter-widgets/base",
            "top": null,
            "grid_column": null,
            "overflow_y": null,
            "overflow_x": null,
            "grid_auto_flow": null,
            "grid_area": null,
            "grid_template_columns": null,
            "flex": null,
            "_model_name": "LayoutModel",
            "justify_items": null,
            "grid_row": null,
            "max_height": null,
            "align_content": null,
            "visibility": null,
            "align_self": null,
            "height": null,
            "min_height": null,
            "padding": null,
            "grid_auto_rows": null,
            "grid_gap": null,
            "max_width": null,
            "order": null,
            "_view_module_version": "1.2.0",
            "grid_template_areas": null,
            "object_position": null,
            "object_fit": null,
            "grid_auto_columns": null,
            "margin": null,
            "display": null,
            "left": null
          }
        },
        "cb2480927cd640868d110f46ed35f4dc": {
          "model_module": "@jupyter-widgets/controls",
          "model_name": "HBoxModel",
          "model_module_version": "1.5.0",
          "state": {
            "_view_name": "HBoxView",
            "_dom_classes": [],
            "_model_name": "HBoxModel",
            "_view_module": "@jupyter-widgets/controls",
            "_model_module_version": "1.5.0",
            "_view_count": null,
            "_view_module_version": "1.5.0",
            "box_style": "",
            "layout": "IPY_MODEL_c44c15f1cb544f80ab092f9d8b103f5f",
            "_model_module": "@jupyter-widgets/controls",
            "children": [
              "IPY_MODEL_dd4d38891e9343818f7b16bf8803cd7d",
              "IPY_MODEL_4124a05db7c747dd9a79168343738718",
              "IPY_MODEL_4a608b19fd454657850e02390f9406c3"
            ]
          }
        },
        "c44c15f1cb544f80ab092f9d8b103f5f": {
          "model_module": "@jupyter-widgets/base",
          "model_name": "LayoutModel",
          "model_module_version": "1.2.0",
          "state": {
            "_view_name": "LayoutView",
            "grid_template_rows": null,
            "right": null,
            "justify_content": null,
            "_view_module": "@jupyter-widgets/base",
            "overflow": null,
            "_model_module_version": "1.2.0",
            "_view_count": null,
            "flex_flow": null,
            "width": null,
            "min_width": null,
            "border": null,
            "align_items": null,
            "bottom": null,
            "_model_module": "@jupyter-widgets/base",
            "top": null,
            "grid_column": null,
            "overflow_y": null,
            "overflow_x": null,
            "grid_auto_flow": null,
            "grid_area": null,
            "grid_template_columns": null,
            "flex": null,
            "_model_name": "LayoutModel",
            "justify_items": null,
            "grid_row": null,
            "max_height": null,
            "align_content": null,
            "visibility": null,
            "align_self": null,
            "height": null,
            "min_height": null,
            "padding": null,
            "grid_auto_rows": null,
            "grid_gap": null,
            "max_width": null,
            "order": null,
            "_view_module_version": "1.2.0",
            "grid_template_areas": null,
            "object_position": null,
            "object_fit": null,
            "grid_auto_columns": null,
            "margin": null,
            "display": null,
            "left": null
          }
        },
        "dd4d38891e9343818f7b16bf8803cd7d": {
          "model_module": "@jupyter-widgets/controls",
          "model_name": "HTMLModel",
          "model_module_version": "1.5.0",
          "state": {
            "_view_name": "HTMLView",
            "style": "IPY_MODEL_5b67ee64fda4478b9134199e19db59a6",
            "_dom_classes": [],
            "description": "",
            "_model_name": "HTMLModel",
            "placeholder": "​",
            "_view_module": "@jupyter-widgets/controls",
            "_model_module_version": "1.5.0",
            "value": "Downloading: 100%",
            "_view_count": null,
            "_view_module_version": "1.5.0",
            "description_tooltip": null,
            "_model_module": "@jupyter-widgets/controls",
            "layout": "IPY_MODEL_6519941cc2524a07a89332b796b45a0b"
          }
        },
        "4124a05db7c747dd9a79168343738718": {
          "model_module": "@jupyter-widgets/controls",
          "model_name": "FloatProgressModel",
          "model_module_version": "1.5.0",
          "state": {
            "_view_name": "ProgressView",
            "style": "IPY_MODEL_e03d0636985b484295e3dcc6415d10bb",
            "_dom_classes": [],
            "description": "",
            "_model_name": "FloatProgressModel",
            "bar_style": "success",
            "max": 1355863,
            "_view_module": "@jupyter-widgets/controls",
            "_model_module_version": "1.5.0",
            "value": 1355863,
            "_view_count": null,
            "_view_module_version": "1.5.0",
            "orientation": "horizontal",
            "min": 0,
            "description_tooltip": null,
            "_model_module": "@jupyter-widgets/controls",
            "layout": "IPY_MODEL_646432ea01564f43ad5c6d68669586cb"
          }
        },
        "4a608b19fd454657850e02390f9406c3": {
          "model_module": "@jupyter-widgets/controls",
          "model_name": "HTMLModel",
          "model_module_version": "1.5.0",
          "state": {
            "_view_name": "HTMLView",
            "style": "IPY_MODEL_13daab33ef9f4eada7a7559da3ecdbc9",
            "_dom_classes": [],
            "description": "",
            "_model_name": "HTMLModel",
            "placeholder": "​",
            "_view_module": "@jupyter-widgets/controls",
            "_model_module_version": "1.5.0",
            "value": " 1.29M/1.29M [00:00&lt;00:00, 1.68MB/s]",
            "_view_count": null,
            "_view_module_version": "1.5.0",
            "description_tooltip": null,
            "_model_module": "@jupyter-widgets/controls",
            "layout": "IPY_MODEL_31e78816f0a5431d9d96f2b57ab381a3"
          }
        },
        "5b67ee64fda4478b9134199e19db59a6": {
          "model_module": "@jupyter-widgets/controls",
          "model_name": "DescriptionStyleModel",
          "model_module_version": "1.5.0",
          "state": {
            "_view_name": "StyleView",
            "_model_name": "DescriptionStyleModel",
            "description_width": "",
            "_view_module": "@jupyter-widgets/base",
            "_model_module_version": "1.5.0",
            "_view_count": null,
            "_view_module_version": "1.2.0",
            "_model_module": "@jupyter-widgets/controls"
          }
        },
        "6519941cc2524a07a89332b796b45a0b": {
          "model_module": "@jupyter-widgets/base",
          "model_name": "LayoutModel",
          "model_module_version": "1.2.0",
          "state": {
            "_view_name": "LayoutView",
            "grid_template_rows": null,
            "right": null,
            "justify_content": null,
            "_view_module": "@jupyter-widgets/base",
            "overflow": null,
            "_model_module_version": "1.2.0",
            "_view_count": null,
            "flex_flow": null,
            "width": null,
            "min_width": null,
            "border": null,
            "align_items": null,
            "bottom": null,
            "_model_module": "@jupyter-widgets/base",
            "top": null,
            "grid_column": null,
            "overflow_y": null,
            "overflow_x": null,
            "grid_auto_flow": null,
            "grid_area": null,
            "grid_template_columns": null,
            "flex": null,
            "_model_name": "LayoutModel",
            "justify_items": null,
            "grid_row": null,
            "max_height": null,
            "align_content": null,
            "visibility": null,
            "align_self": null,
            "height": null,
            "min_height": null,
            "padding": null,
            "grid_auto_rows": null,
            "grid_gap": null,
            "max_width": null,
            "order": null,
            "_view_module_version": "1.2.0",
            "grid_template_areas": null,
            "object_position": null,
            "object_fit": null,
            "grid_auto_columns": null,
            "margin": null,
            "display": null,
            "left": null
          }
        },
        "e03d0636985b484295e3dcc6415d10bb": {
          "model_module": "@jupyter-widgets/controls",
          "model_name": "ProgressStyleModel",
          "model_module_version": "1.5.0",
          "state": {
            "_view_name": "StyleView",
            "_model_name": "ProgressStyleModel",
            "description_width": "",
            "_view_module": "@jupyter-widgets/base",
            "_model_module_version": "1.5.0",
            "_view_count": null,
            "_view_module_version": "1.2.0",
            "bar_color": null,
            "_model_module": "@jupyter-widgets/controls"
          }
        },
        "646432ea01564f43ad5c6d68669586cb": {
          "model_module": "@jupyter-widgets/base",
          "model_name": "LayoutModel",
          "model_module_version": "1.2.0",
          "state": {
            "_view_name": "LayoutView",
            "grid_template_rows": null,
            "right": null,
            "justify_content": null,
            "_view_module": "@jupyter-widgets/base",
            "overflow": null,
            "_model_module_version": "1.2.0",
            "_view_count": null,
            "flex_flow": null,
            "width": null,
            "min_width": null,
            "border": null,
            "align_items": null,
            "bottom": null,
            "_model_module": "@jupyter-widgets/base",
            "top": null,
            "grid_column": null,
            "overflow_y": null,
            "overflow_x": null,
            "grid_auto_flow": null,
            "grid_area": null,
            "grid_template_columns": null,
            "flex": null,
            "_model_name": "LayoutModel",
            "justify_items": null,
            "grid_row": null,
            "max_height": null,
            "align_content": null,
            "visibility": null,
            "align_self": null,
            "height": null,
            "min_height": null,
            "padding": null,
            "grid_auto_rows": null,
            "grid_gap": null,
            "max_width": null,
            "order": null,
            "_view_module_version": "1.2.0",
            "grid_template_areas": null,
            "object_position": null,
            "object_fit": null,
            "grid_auto_columns": null,
            "margin": null,
            "display": null,
            "left": null
          }
        },
        "13daab33ef9f4eada7a7559da3ecdbc9": {
          "model_module": "@jupyter-widgets/controls",
          "model_name": "DescriptionStyleModel",
          "model_module_version": "1.5.0",
          "state": {
            "_view_name": "StyleView",
            "_model_name": "DescriptionStyleModel",
            "description_width": "",
            "_view_module": "@jupyter-widgets/base",
            "_model_module_version": "1.5.0",
            "_view_count": null,
            "_view_module_version": "1.2.0",
            "_model_module": "@jupyter-widgets/controls"
          }
        },
        "31e78816f0a5431d9d96f2b57ab381a3": {
          "model_module": "@jupyter-widgets/base",
          "model_name": "LayoutModel",
          "model_module_version": "1.2.0",
          "state": {
            "_view_name": "LayoutView",
            "grid_template_rows": null,
            "right": null,
            "justify_content": null,
            "_view_module": "@jupyter-widgets/base",
            "overflow": null,
            "_model_module_version": "1.2.0",
            "_view_count": null,
            "flex_flow": null,
            "width": null,
            "min_width": null,
            "border": null,
            "align_items": null,
            "bottom": null,
            "_model_module": "@jupyter-widgets/base",
            "top": null,
            "grid_column": null,
            "overflow_y": null,
            "overflow_x": null,
            "grid_auto_flow": null,
            "grid_area": null,
            "grid_template_columns": null,
            "flex": null,
            "_model_name": "LayoutModel",
            "justify_items": null,
            "grid_row": null,
            "max_height": null,
            "align_content": null,
            "visibility": null,
            "align_self": null,
            "height": null,
            "min_height": null,
            "padding": null,
            "grid_auto_rows": null,
            "grid_gap": null,
            "max_width": null,
            "order": null,
            "_view_module_version": "1.2.0",
            "grid_template_areas": null,
            "object_position": null,
            "object_fit": null,
            "grid_auto_columns": null,
            "margin": null,
            "display": null,
            "left": null
          }
        }
      }
    }
  },
  "nbformat": 4,
  "nbformat_minor": 5
}